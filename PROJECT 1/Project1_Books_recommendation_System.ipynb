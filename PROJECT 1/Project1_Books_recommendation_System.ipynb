{
  "metadata": {
    "kernelspec": {
      "language": "python",
      "display_name": "Python 3",
      "name": "python3"
    },
    "language_info": {
      "name": "python",
      "version": "3.7.12",
      "mimetype": "text/x-python",
      "codemirror_mode": {
        "name": "ipython",
        "version": 3
      },
      "pygments_lexer": "ipython3",
      "nbconvert_exporter": "python",
      "file_extension": ".py"
    },
    "colab": {
      "provenance": [],
      "collapsed_sections": [
        "tXGEKTwZww_F",
        "y2IgU9jZww_H",
        "LmeNvHCtww_I",
        "5dE-9CgDww_J",
        "G2tLGk-Gww_J",
        "qwUaFeeeww_K",
        "051Zww-Aww_K",
        "9c-wt5x7ww_L",
        "AcfBKWmwww_M",
        "9XXfjZthww_N",
        "pmXSDpWvww_N",
        "BAJup2_4ww_q",
        "lJNdEuc-ww_r",
        "6m8wvLOMww_r",
        "mzy908T1ww_w",
        "9VcM51Rqww_0"
      ]
    }
  },
  "nbformat_minor": 0,
  "nbformat": 4,
  "cells": [
    {
      "cell_type": "markdown",
      "source": [
        "#**1. IMPORTING LIBRARIES**"
      ],
      "metadata": {
        "id": "tXGEKTwZww_F"
      }
    },
    {
      "cell_type": "code",
      "source": [
        "!pip install country_converter\n",
        "\n",
        "import numpy as np\n",
        "import pandas as pd\n",
        "from matplotlib import pyplot as plt\n",
        "import country_converter as coco\n",
        "\n",
        "import seaborn as sns\n",
        "import missingno as msno\n",
        "import plotly.express as px\n",
        "import plotly.graph_objects as go\n",
        "from plotly.subplots import make_subplots\n",
        "from plotly.offline import iplot\n",
        "from PIL import Image\n",
        "import requests\n",
        "\n",
        "from sklearn.metrics.pairwise import cosine_similarity\n",
        "from sklearn.feature_extraction.text import CountVectorizer\n",
        "\n",
        "import warnings\n",
        "warnings.filterwarnings('ignore')"
      ],
      "metadata": {
        "_uuid": "8f2839f25d086af736a60e9eeb907d3b93b6e0e5",
        "_cell_guid": "b1076dfc-b9ad-4769-8c92-a6c4dae69d19",
        "execution": {
          "iopub.status.busy": "2023-04-26T00:00:36.833455Z",
          "iopub.execute_input": "2023-04-26T00:00:36.835014Z",
          "iopub.status.idle": "2023-04-26T00:00:53.655813Z",
          "shell.execute_reply.started": "2023-04-26T00:00:36.834959Z",
          "shell.execute_reply": "2023-04-26T00:00:53.654428Z"
        },
        "trusted": true,
        "colab": {
          "base_uri": "https://localhost:8080/"
        },
        "id": "meI3MZpkww_G",
        "outputId": "983c8cd1-83f6-4453-cdfb-8d9d96c12ae1"
      },
      "execution_count": 1,
      "outputs": [
        {
          "output_type": "stream",
          "name": "stdout",
          "text": [
            "Looking in indexes: https://pypi.org/simple, https://us-python.pkg.dev/colab-wheels/public/simple/\n",
            "Collecting country_converter\n",
            "  Downloading country_converter-1.0.0-py3-none-any.whl (44 kB)\n",
            "\u001b[2K     \u001b[90m━━━━━━━━━━━━━━━━━━━━━━━━━━━━━━━━━━━━━━━━\u001b[0m \u001b[32m44.5/44.5 kB\u001b[0m \u001b[31m2.4 MB/s\u001b[0m eta \u001b[36m0:00:00\u001b[0m\n",
            "\u001b[?25hRequirement already satisfied: pandas>=1.0 in /usr/local/lib/python3.10/dist-packages (from country_converter) (1.5.3)\n",
            "Requirement already satisfied: python-dateutil>=2.8.1 in /usr/local/lib/python3.10/dist-packages (from pandas>=1.0->country_converter) (2.8.2)\n",
            "Requirement already satisfied: pytz>=2020.1 in /usr/local/lib/python3.10/dist-packages (from pandas>=1.0->country_converter) (2022.7.1)\n",
            "Requirement already satisfied: numpy>=1.21.0 in /usr/local/lib/python3.10/dist-packages (from pandas>=1.0->country_converter) (1.22.4)\n",
            "Requirement already satisfied: six>=1.5 in /usr/local/lib/python3.10/dist-packages (from python-dateutil>=2.8.1->pandas>=1.0->country_converter) (1.16.0)\n",
            "Installing collected packages: country_converter\n",
            "Successfully installed country_converter-1.0.0\n"
          ]
        }
      ]
    },
    {
      "cell_type": "markdown",
      "source": [
        "# **2. EDA**"
      ],
      "metadata": {
        "id": "eFAVv3ixww_H"
      }
    },
    {
      "cell_type": "markdown",
      "source": [
        "\n",
        "### **2.1 Extract information about the dataframes**"
      ],
      "metadata": {
        "id": "y2IgU9jZww_H"
      }
    },
    {
      "cell_type": "markdown",
      "source": [
        "\n",
        "#### **2.1.1 Reading datasets**\n"
      ],
      "metadata": {
        "id": "LmeNvHCtww_I"
      }
    },
    {
      "cell_type": "code",
      "source": [
        "url1=\"https://raw.githubusercontent.com/AvantikaJalote/Summer_Internship/main/PROJECT%201/Books.csv\"\n",
        "url2=\"https://raw.githubusercontent.com/AvantikaJalote/Summer_Internship/main/PROJECT%201/Ratings.csv\"\n",
        "url3=\"https://raw.githubusercontent.com/AvantikaJalote/Summer_Internship/main/PROJECT%201/Users.csv\""
      ],
      "metadata": {
        "id": "yg1MkgD_xjpV"
      },
      "execution_count": 2,
      "outputs": []
    },
    {
      "cell_type": "code",
      "source": [
        "books=pd.read_csv(url1)\n",
        "ratings=pd.read_csv(url2)\n",
        "users=pd.read_csv(url3)"
      ],
      "metadata": {
        "execution": {
          "iopub.status.busy": "2023-04-26T00:00:53.658474Z",
          "iopub.execute_input": "2023-04-26T00:00:53.658978Z",
          "iopub.status.idle": "2023-04-26T00:00:57.805670Z",
          "shell.execute_reply.started": "2023-04-26T00:00:53.658924Z",
          "shell.execute_reply": "2023-04-26T00:00:57.804246Z"
        },
        "trusted": true,
        "id": "tvCJuLtMww_I"
      },
      "execution_count": 3,
      "outputs": []
    },
    {
      "cell_type": "code",
      "source": [
        "books.head()"
      ],
      "metadata": {
        "execution": {
          "iopub.status.busy": "2023-04-26T00:00:57.808195Z",
          "iopub.execute_input": "2023-04-26T00:00:57.808586Z",
          "iopub.status.idle": "2023-04-26T00:00:57.848016Z",
          "shell.execute_reply.started": "2023-04-26T00:00:57.808546Z",
          "shell.execute_reply": "2023-04-26T00:00:57.846846Z"
        },
        "trusted": true,
        "colab": {
          "base_uri": "https://localhost:8080/",
          "height": 0
        },
        "id": "1MQNSs8Bww_I",
        "outputId": "c127be42-945d-4a1a-879f-f809ad5fc60e"
      },
      "execution_count": 4,
      "outputs": [
        {
          "output_type": "execute_result",
          "data": {
            "text/plain": [
              "         ISBN                                         Book-Title  \\\n",
              "0  0195153448                                Classical Mythology   \n",
              "1  0002005018                                       Clara Callan   \n",
              "2  0060973129                               Decision in Normandy   \n",
              "3  0374157065  Flu: The Story of the Great Influenza Pandemic...   \n",
              "4  0393045218                             The Mummies of Urumchi   \n",
              "\n",
              "            Book-Author Year-Of-Publication                   Publisher  \\\n",
              "0    Mark P. O. Morford                2002     Oxford University Press   \n",
              "1  Richard Bruce Wright                2001       HarperFlamingo Canada   \n",
              "2          Carlo D'Este                1991             HarperPerennial   \n",
              "3      Gina Bari Kolata                1999        Farrar Straus Giroux   \n",
              "4       E. J. W. Barber                1999  W. W. Norton &amp; Company   \n",
              "\n",
              "                                         Image-URL-S  \\\n",
              "0  http://images.amazon.com/images/P/0195153448.0...   \n",
              "1  http://images.amazon.com/images/P/0002005018.0...   \n",
              "2  http://images.amazon.com/images/P/0060973129.0...   \n",
              "3  http://images.amazon.com/images/P/0374157065.0...   \n",
              "4  http://images.amazon.com/images/P/0393045218.0...   \n",
              "\n",
              "                                         Image-URL-M  \\\n",
              "0  http://images.amazon.com/images/P/0195153448.0...   \n",
              "1  http://images.amazon.com/images/P/0002005018.0...   \n",
              "2  http://images.amazon.com/images/P/0060973129.0...   \n",
              "3  http://images.amazon.com/images/P/0374157065.0...   \n",
              "4  http://images.amazon.com/images/P/0393045218.0...   \n",
              "\n",
              "                                         Image-URL-L  \n",
              "0  http://images.amazon.com/images/P/0195153448.0...  \n",
              "1  http://images.amazon.com/images/P/0002005018.0...  \n",
              "2  http://images.amazon.com/images/P/0060973129.0...  \n",
              "3  http://images.amazon.com/images/P/0374157065.0...  \n",
              "4  http://images.amazon.com/images/P/0393045218.0...  "
            ],
            "text/html": [
              "\n",
              "  <div id=\"df-27471f77-0f56-4d47-b429-ff19dad81bc0\">\n",
              "    <div class=\"colab-df-container\">\n",
              "      <div>\n",
              "<style scoped>\n",
              "    .dataframe tbody tr th:only-of-type {\n",
              "        vertical-align: middle;\n",
              "    }\n",
              "\n",
              "    .dataframe tbody tr th {\n",
              "        vertical-align: top;\n",
              "    }\n",
              "\n",
              "    .dataframe thead th {\n",
              "        text-align: right;\n",
              "    }\n",
              "</style>\n",
              "<table border=\"1\" class=\"dataframe\">\n",
              "  <thead>\n",
              "    <tr style=\"text-align: right;\">\n",
              "      <th></th>\n",
              "      <th>ISBN</th>\n",
              "      <th>Book-Title</th>\n",
              "      <th>Book-Author</th>\n",
              "      <th>Year-Of-Publication</th>\n",
              "      <th>Publisher</th>\n",
              "      <th>Image-URL-S</th>\n",
              "      <th>Image-URL-M</th>\n",
              "      <th>Image-URL-L</th>\n",
              "    </tr>\n",
              "  </thead>\n",
              "  <tbody>\n",
              "    <tr>\n",
              "      <th>0</th>\n",
              "      <td>0195153448</td>\n",
              "      <td>Classical Mythology</td>\n",
              "      <td>Mark P. O. Morford</td>\n",
              "      <td>2002</td>\n",
              "      <td>Oxford University Press</td>\n",
              "      <td>http://images.amazon.com/images/P/0195153448.0...</td>\n",
              "      <td>http://images.amazon.com/images/P/0195153448.0...</td>\n",
              "      <td>http://images.amazon.com/images/P/0195153448.0...</td>\n",
              "    </tr>\n",
              "    <tr>\n",
              "      <th>1</th>\n",
              "      <td>0002005018</td>\n",
              "      <td>Clara Callan</td>\n",
              "      <td>Richard Bruce Wright</td>\n",
              "      <td>2001</td>\n",
              "      <td>HarperFlamingo Canada</td>\n",
              "      <td>http://images.amazon.com/images/P/0002005018.0...</td>\n",
              "      <td>http://images.amazon.com/images/P/0002005018.0...</td>\n",
              "      <td>http://images.amazon.com/images/P/0002005018.0...</td>\n",
              "    </tr>\n",
              "    <tr>\n",
              "      <th>2</th>\n",
              "      <td>0060973129</td>\n",
              "      <td>Decision in Normandy</td>\n",
              "      <td>Carlo D'Este</td>\n",
              "      <td>1991</td>\n",
              "      <td>HarperPerennial</td>\n",
              "      <td>http://images.amazon.com/images/P/0060973129.0...</td>\n",
              "      <td>http://images.amazon.com/images/P/0060973129.0...</td>\n",
              "      <td>http://images.amazon.com/images/P/0060973129.0...</td>\n",
              "    </tr>\n",
              "    <tr>\n",
              "      <th>3</th>\n",
              "      <td>0374157065</td>\n",
              "      <td>Flu: The Story of the Great Influenza Pandemic...</td>\n",
              "      <td>Gina Bari Kolata</td>\n",
              "      <td>1999</td>\n",
              "      <td>Farrar Straus Giroux</td>\n",
              "      <td>http://images.amazon.com/images/P/0374157065.0...</td>\n",
              "      <td>http://images.amazon.com/images/P/0374157065.0...</td>\n",
              "      <td>http://images.amazon.com/images/P/0374157065.0...</td>\n",
              "    </tr>\n",
              "    <tr>\n",
              "      <th>4</th>\n",
              "      <td>0393045218</td>\n",
              "      <td>The Mummies of Urumchi</td>\n",
              "      <td>E. J. W. Barber</td>\n",
              "      <td>1999</td>\n",
              "      <td>W. W. Norton &amp;amp; Company</td>\n",
              "      <td>http://images.amazon.com/images/P/0393045218.0...</td>\n",
              "      <td>http://images.amazon.com/images/P/0393045218.0...</td>\n",
              "      <td>http://images.amazon.com/images/P/0393045218.0...</td>\n",
              "    </tr>\n",
              "  </tbody>\n",
              "</table>\n",
              "</div>\n",
              "      <button class=\"colab-df-convert\" onclick=\"convertToInteractive('df-27471f77-0f56-4d47-b429-ff19dad81bc0')\"\n",
              "              title=\"Convert this dataframe to an interactive table.\"\n",
              "              style=\"display:none;\">\n",
              "        \n",
              "  <svg xmlns=\"http://www.w3.org/2000/svg\" height=\"24px\"viewBox=\"0 0 24 24\"\n",
              "       width=\"24px\">\n",
              "    <path d=\"M0 0h24v24H0V0z\" fill=\"none\"/>\n",
              "    <path d=\"M18.56 5.44l.94 2.06.94-2.06 2.06-.94-2.06-.94-.94-2.06-.94 2.06-2.06.94zm-11 1L8.5 8.5l.94-2.06 2.06-.94-2.06-.94L8.5 2.5l-.94 2.06-2.06.94zm10 10l.94 2.06.94-2.06 2.06-.94-2.06-.94-.94-2.06-.94 2.06-2.06.94z\"/><path d=\"M17.41 7.96l-1.37-1.37c-.4-.4-.92-.59-1.43-.59-.52 0-1.04.2-1.43.59L10.3 9.45l-7.72 7.72c-.78.78-.78 2.05 0 2.83L4 21.41c.39.39.9.59 1.41.59.51 0 1.02-.2 1.41-.59l7.78-7.78 2.81-2.81c.8-.78.8-2.07 0-2.86zM5.41 20L4 18.59l7.72-7.72 1.47 1.35L5.41 20z\"/>\n",
              "  </svg>\n",
              "      </button>\n",
              "      \n",
              "  <style>\n",
              "    .colab-df-container {\n",
              "      display:flex;\n",
              "      flex-wrap:wrap;\n",
              "      gap: 12px;\n",
              "    }\n",
              "\n",
              "    .colab-df-convert {\n",
              "      background-color: #E8F0FE;\n",
              "      border: none;\n",
              "      border-radius: 50%;\n",
              "      cursor: pointer;\n",
              "      display: none;\n",
              "      fill: #1967D2;\n",
              "      height: 32px;\n",
              "      padding: 0 0 0 0;\n",
              "      width: 32px;\n",
              "    }\n",
              "\n",
              "    .colab-df-convert:hover {\n",
              "      background-color: #E2EBFA;\n",
              "      box-shadow: 0px 1px 2px rgba(60, 64, 67, 0.3), 0px 1px 3px 1px rgba(60, 64, 67, 0.15);\n",
              "      fill: #174EA6;\n",
              "    }\n",
              "\n",
              "    [theme=dark] .colab-df-convert {\n",
              "      background-color: #3B4455;\n",
              "      fill: #D2E3FC;\n",
              "    }\n",
              "\n",
              "    [theme=dark] .colab-df-convert:hover {\n",
              "      background-color: #434B5C;\n",
              "      box-shadow: 0px 1px 3px 1px rgba(0, 0, 0, 0.15);\n",
              "      filter: drop-shadow(0px 1px 2px rgba(0, 0, 0, 0.3));\n",
              "      fill: #FFFFFF;\n",
              "    }\n",
              "  </style>\n",
              "\n",
              "      <script>\n",
              "        const buttonEl =\n",
              "          document.querySelector('#df-27471f77-0f56-4d47-b429-ff19dad81bc0 button.colab-df-convert');\n",
              "        buttonEl.style.display =\n",
              "          google.colab.kernel.accessAllowed ? 'block' : 'none';\n",
              "\n",
              "        async function convertToInteractive(key) {\n",
              "          const element = document.querySelector('#df-27471f77-0f56-4d47-b429-ff19dad81bc0');\n",
              "          const dataTable =\n",
              "            await google.colab.kernel.invokeFunction('convertToInteractive',\n",
              "                                                     [key], {});\n",
              "          if (!dataTable) return;\n",
              "\n",
              "          const docLinkHtml = 'Like what you see? Visit the ' +\n",
              "            '<a target=\"_blank\" href=https://colab.research.google.com/notebooks/data_table.ipynb>data table notebook</a>'\n",
              "            + ' to learn more about interactive tables.';\n",
              "          element.innerHTML = '';\n",
              "          dataTable['output_type'] = 'display_data';\n",
              "          await google.colab.output.renderOutput(dataTable, element);\n",
              "          const docLink = document.createElement('div');\n",
              "          docLink.innerHTML = docLinkHtml;\n",
              "          element.appendChild(docLink);\n",
              "        }\n",
              "      </script>\n",
              "    </div>\n",
              "  </div>\n",
              "  "
            ]
          },
          "metadata": {},
          "execution_count": 4
        }
      ]
    },
    {
      "cell_type": "code",
      "source": [
        "ratings.head()"
      ],
      "metadata": {
        "execution": {
          "iopub.status.busy": "2023-04-26T00:00:57.852034Z",
          "iopub.execute_input": "2023-04-26T00:00:57.852445Z",
          "iopub.status.idle": "2023-04-26T00:00:57.864333Z",
          "shell.execute_reply.started": "2023-04-26T00:00:57.852406Z",
          "shell.execute_reply": "2023-04-26T00:00:57.862984Z"
        },
        "trusted": true,
        "colab": {
          "base_uri": "https://localhost:8080/",
          "height": 0
        },
        "id": "le1US5DAww_I",
        "outputId": "4d21110f-6b9d-4ac2-ba45-48a6d345ba2d"
      },
      "execution_count": 5,
      "outputs": [
        {
          "output_type": "execute_result",
          "data": {
            "text/plain": [
              "   User-ID        ISBN  Book-Rating\n",
              "0   276725  034545104X            0\n",
              "1   276726  0155061224            5\n",
              "2   276727  0446520802            0\n",
              "3   276729  052165615X            3\n",
              "4   276729  0521795028            6"
            ],
            "text/html": [
              "\n",
              "  <div id=\"df-bf29f4ae-a6e0-4c8d-b97c-cc8db1e16841\">\n",
              "    <div class=\"colab-df-container\">\n",
              "      <div>\n",
              "<style scoped>\n",
              "    .dataframe tbody tr th:only-of-type {\n",
              "        vertical-align: middle;\n",
              "    }\n",
              "\n",
              "    .dataframe tbody tr th {\n",
              "        vertical-align: top;\n",
              "    }\n",
              "\n",
              "    .dataframe thead th {\n",
              "        text-align: right;\n",
              "    }\n",
              "</style>\n",
              "<table border=\"1\" class=\"dataframe\">\n",
              "  <thead>\n",
              "    <tr style=\"text-align: right;\">\n",
              "      <th></th>\n",
              "      <th>User-ID</th>\n",
              "      <th>ISBN</th>\n",
              "      <th>Book-Rating</th>\n",
              "    </tr>\n",
              "  </thead>\n",
              "  <tbody>\n",
              "    <tr>\n",
              "      <th>0</th>\n",
              "      <td>276725</td>\n",
              "      <td>034545104X</td>\n",
              "      <td>0</td>\n",
              "    </tr>\n",
              "    <tr>\n",
              "      <th>1</th>\n",
              "      <td>276726</td>\n",
              "      <td>0155061224</td>\n",
              "      <td>5</td>\n",
              "    </tr>\n",
              "    <tr>\n",
              "      <th>2</th>\n",
              "      <td>276727</td>\n",
              "      <td>0446520802</td>\n",
              "      <td>0</td>\n",
              "    </tr>\n",
              "    <tr>\n",
              "      <th>3</th>\n",
              "      <td>276729</td>\n",
              "      <td>052165615X</td>\n",
              "      <td>3</td>\n",
              "    </tr>\n",
              "    <tr>\n",
              "      <th>4</th>\n",
              "      <td>276729</td>\n",
              "      <td>0521795028</td>\n",
              "      <td>6</td>\n",
              "    </tr>\n",
              "  </tbody>\n",
              "</table>\n",
              "</div>\n",
              "      <button class=\"colab-df-convert\" onclick=\"convertToInteractive('df-bf29f4ae-a6e0-4c8d-b97c-cc8db1e16841')\"\n",
              "              title=\"Convert this dataframe to an interactive table.\"\n",
              "              style=\"display:none;\">\n",
              "        \n",
              "  <svg xmlns=\"http://www.w3.org/2000/svg\" height=\"24px\"viewBox=\"0 0 24 24\"\n",
              "       width=\"24px\">\n",
              "    <path d=\"M0 0h24v24H0V0z\" fill=\"none\"/>\n",
              "    <path d=\"M18.56 5.44l.94 2.06.94-2.06 2.06-.94-2.06-.94-.94-2.06-.94 2.06-2.06.94zm-11 1L8.5 8.5l.94-2.06 2.06-.94-2.06-.94L8.5 2.5l-.94 2.06-2.06.94zm10 10l.94 2.06.94-2.06 2.06-.94-2.06-.94-.94-2.06-.94 2.06-2.06.94z\"/><path d=\"M17.41 7.96l-1.37-1.37c-.4-.4-.92-.59-1.43-.59-.52 0-1.04.2-1.43.59L10.3 9.45l-7.72 7.72c-.78.78-.78 2.05 0 2.83L4 21.41c.39.39.9.59 1.41.59.51 0 1.02-.2 1.41-.59l7.78-7.78 2.81-2.81c.8-.78.8-2.07 0-2.86zM5.41 20L4 18.59l7.72-7.72 1.47 1.35L5.41 20z\"/>\n",
              "  </svg>\n",
              "      </button>\n",
              "      \n",
              "  <style>\n",
              "    .colab-df-container {\n",
              "      display:flex;\n",
              "      flex-wrap:wrap;\n",
              "      gap: 12px;\n",
              "    }\n",
              "\n",
              "    .colab-df-convert {\n",
              "      background-color: #E8F0FE;\n",
              "      border: none;\n",
              "      border-radius: 50%;\n",
              "      cursor: pointer;\n",
              "      display: none;\n",
              "      fill: #1967D2;\n",
              "      height: 32px;\n",
              "      padding: 0 0 0 0;\n",
              "      width: 32px;\n",
              "    }\n",
              "\n",
              "    .colab-df-convert:hover {\n",
              "      background-color: #E2EBFA;\n",
              "      box-shadow: 0px 1px 2px rgba(60, 64, 67, 0.3), 0px 1px 3px 1px rgba(60, 64, 67, 0.15);\n",
              "      fill: #174EA6;\n",
              "    }\n",
              "\n",
              "    [theme=dark] .colab-df-convert {\n",
              "      background-color: #3B4455;\n",
              "      fill: #D2E3FC;\n",
              "    }\n",
              "\n",
              "    [theme=dark] .colab-df-convert:hover {\n",
              "      background-color: #434B5C;\n",
              "      box-shadow: 0px 1px 3px 1px rgba(0, 0, 0, 0.15);\n",
              "      filter: drop-shadow(0px 1px 2px rgba(0, 0, 0, 0.3));\n",
              "      fill: #FFFFFF;\n",
              "    }\n",
              "  </style>\n",
              "\n",
              "      <script>\n",
              "        const buttonEl =\n",
              "          document.querySelector('#df-bf29f4ae-a6e0-4c8d-b97c-cc8db1e16841 button.colab-df-convert');\n",
              "        buttonEl.style.display =\n",
              "          google.colab.kernel.accessAllowed ? 'block' : 'none';\n",
              "\n",
              "        async function convertToInteractive(key) {\n",
              "          const element = document.querySelector('#df-bf29f4ae-a6e0-4c8d-b97c-cc8db1e16841');\n",
              "          const dataTable =\n",
              "            await google.colab.kernel.invokeFunction('convertToInteractive',\n",
              "                                                     [key], {});\n",
              "          if (!dataTable) return;\n",
              "\n",
              "          const docLinkHtml = 'Like what you see? Visit the ' +\n",
              "            '<a target=\"_blank\" href=https://colab.research.google.com/notebooks/data_table.ipynb>data table notebook</a>'\n",
              "            + ' to learn more about interactive tables.';\n",
              "          element.innerHTML = '';\n",
              "          dataTable['output_type'] = 'display_data';\n",
              "          await google.colab.output.renderOutput(dataTable, element);\n",
              "          const docLink = document.createElement('div');\n",
              "          docLink.innerHTML = docLinkHtml;\n",
              "          element.appendChild(docLink);\n",
              "        }\n",
              "      </script>\n",
              "    </div>\n",
              "  </div>\n",
              "  "
            ]
          },
          "metadata": {},
          "execution_count": 5
        }
      ]
    },
    {
      "cell_type": "code",
      "source": [
        "users.head()"
      ],
      "metadata": {
        "execution": {
          "iopub.status.busy": "2023-04-26T00:00:57.866220Z",
          "iopub.execute_input": "2023-04-26T00:00:57.866720Z",
          "iopub.status.idle": "2023-04-26T00:00:57.885065Z",
          "shell.execute_reply.started": "2023-04-26T00:00:57.866666Z",
          "shell.execute_reply": "2023-04-26T00:00:57.883268Z"
        },
        "trusted": true,
        "colab": {
          "base_uri": "https://localhost:8080/",
          "height": 0
        },
        "id": "7vP-y7B0ww_I",
        "outputId": "bcee5eb8-9f54-4da4-a9e5-e946f80f9f1a"
      },
      "execution_count": 6,
      "outputs": [
        {
          "output_type": "execute_result",
          "data": {
            "text/plain": [
              "   User-ID                            Location   Age\n",
              "0        1                  nyc, new york, usa   NaN\n",
              "1        2           stockton, california, usa  18.0\n",
              "2        3     moscow, yukon territory, russia   NaN\n",
              "3        4           porto, v.n.gaia, portugal  17.0\n",
              "4        5  farnborough, hants, united kingdom   NaN"
            ],
            "text/html": [
              "\n",
              "  <div id=\"df-a79ba5d8-de47-4623-b4e4-7e723d421dfe\">\n",
              "    <div class=\"colab-df-container\">\n",
              "      <div>\n",
              "<style scoped>\n",
              "    .dataframe tbody tr th:only-of-type {\n",
              "        vertical-align: middle;\n",
              "    }\n",
              "\n",
              "    .dataframe tbody tr th {\n",
              "        vertical-align: top;\n",
              "    }\n",
              "\n",
              "    .dataframe thead th {\n",
              "        text-align: right;\n",
              "    }\n",
              "</style>\n",
              "<table border=\"1\" class=\"dataframe\">\n",
              "  <thead>\n",
              "    <tr style=\"text-align: right;\">\n",
              "      <th></th>\n",
              "      <th>User-ID</th>\n",
              "      <th>Location</th>\n",
              "      <th>Age</th>\n",
              "    </tr>\n",
              "  </thead>\n",
              "  <tbody>\n",
              "    <tr>\n",
              "      <th>0</th>\n",
              "      <td>1</td>\n",
              "      <td>nyc, new york, usa</td>\n",
              "      <td>NaN</td>\n",
              "    </tr>\n",
              "    <tr>\n",
              "      <th>1</th>\n",
              "      <td>2</td>\n",
              "      <td>stockton, california, usa</td>\n",
              "      <td>18.0</td>\n",
              "    </tr>\n",
              "    <tr>\n",
              "      <th>2</th>\n",
              "      <td>3</td>\n",
              "      <td>moscow, yukon territory, russia</td>\n",
              "      <td>NaN</td>\n",
              "    </tr>\n",
              "    <tr>\n",
              "      <th>3</th>\n",
              "      <td>4</td>\n",
              "      <td>porto, v.n.gaia, portugal</td>\n",
              "      <td>17.0</td>\n",
              "    </tr>\n",
              "    <tr>\n",
              "      <th>4</th>\n",
              "      <td>5</td>\n",
              "      <td>farnborough, hants, united kingdom</td>\n",
              "      <td>NaN</td>\n",
              "    </tr>\n",
              "  </tbody>\n",
              "</table>\n",
              "</div>\n",
              "      <button class=\"colab-df-convert\" onclick=\"convertToInteractive('df-a79ba5d8-de47-4623-b4e4-7e723d421dfe')\"\n",
              "              title=\"Convert this dataframe to an interactive table.\"\n",
              "              style=\"display:none;\">\n",
              "        \n",
              "  <svg xmlns=\"http://www.w3.org/2000/svg\" height=\"24px\"viewBox=\"0 0 24 24\"\n",
              "       width=\"24px\">\n",
              "    <path d=\"M0 0h24v24H0V0z\" fill=\"none\"/>\n",
              "    <path d=\"M18.56 5.44l.94 2.06.94-2.06 2.06-.94-2.06-.94-.94-2.06-.94 2.06-2.06.94zm-11 1L8.5 8.5l.94-2.06 2.06-.94-2.06-.94L8.5 2.5l-.94 2.06-2.06.94zm10 10l.94 2.06.94-2.06 2.06-.94-2.06-.94-.94-2.06-.94 2.06-2.06.94z\"/><path d=\"M17.41 7.96l-1.37-1.37c-.4-.4-.92-.59-1.43-.59-.52 0-1.04.2-1.43.59L10.3 9.45l-7.72 7.72c-.78.78-.78 2.05 0 2.83L4 21.41c.39.39.9.59 1.41.59.51 0 1.02-.2 1.41-.59l7.78-7.78 2.81-2.81c.8-.78.8-2.07 0-2.86zM5.41 20L4 18.59l7.72-7.72 1.47 1.35L5.41 20z\"/>\n",
              "  </svg>\n",
              "      </button>\n",
              "      \n",
              "  <style>\n",
              "    .colab-df-container {\n",
              "      display:flex;\n",
              "      flex-wrap:wrap;\n",
              "      gap: 12px;\n",
              "    }\n",
              "\n",
              "    .colab-df-convert {\n",
              "      background-color: #E8F0FE;\n",
              "      border: none;\n",
              "      border-radius: 50%;\n",
              "      cursor: pointer;\n",
              "      display: none;\n",
              "      fill: #1967D2;\n",
              "      height: 32px;\n",
              "      padding: 0 0 0 0;\n",
              "      width: 32px;\n",
              "    }\n",
              "\n",
              "    .colab-df-convert:hover {\n",
              "      background-color: #E2EBFA;\n",
              "      box-shadow: 0px 1px 2px rgba(60, 64, 67, 0.3), 0px 1px 3px 1px rgba(60, 64, 67, 0.15);\n",
              "      fill: #174EA6;\n",
              "    }\n",
              "\n",
              "    [theme=dark] .colab-df-convert {\n",
              "      background-color: #3B4455;\n",
              "      fill: #D2E3FC;\n",
              "    }\n",
              "\n",
              "    [theme=dark] .colab-df-convert:hover {\n",
              "      background-color: #434B5C;\n",
              "      box-shadow: 0px 1px 3px 1px rgba(0, 0, 0, 0.15);\n",
              "      filter: drop-shadow(0px 1px 2px rgba(0, 0, 0, 0.3));\n",
              "      fill: #FFFFFF;\n",
              "    }\n",
              "  </style>\n",
              "\n",
              "      <script>\n",
              "        const buttonEl =\n",
              "          document.querySelector('#df-a79ba5d8-de47-4623-b4e4-7e723d421dfe button.colab-df-convert');\n",
              "        buttonEl.style.display =\n",
              "          google.colab.kernel.accessAllowed ? 'block' : 'none';\n",
              "\n",
              "        async function convertToInteractive(key) {\n",
              "          const element = document.querySelector('#df-a79ba5d8-de47-4623-b4e4-7e723d421dfe');\n",
              "          const dataTable =\n",
              "            await google.colab.kernel.invokeFunction('convertToInteractive',\n",
              "                                                     [key], {});\n",
              "          if (!dataTable) return;\n",
              "\n",
              "          const docLinkHtml = 'Like what you see? Visit the ' +\n",
              "            '<a target=\"_blank\" href=https://colab.research.google.com/notebooks/data_table.ipynb>data table notebook</a>'\n",
              "            + ' to learn more about interactive tables.';\n",
              "          element.innerHTML = '';\n",
              "          dataTable['output_type'] = 'display_data';\n",
              "          await google.colab.output.renderOutput(dataTable, element);\n",
              "          const docLink = document.createElement('div');\n",
              "          docLink.innerHTML = docLinkHtml;\n",
              "          element.appendChild(docLink);\n",
              "        }\n",
              "      </script>\n",
              "    </div>\n",
              "  </div>\n",
              "  "
            ]
          },
          "metadata": {},
          "execution_count": 6
        }
      ]
    },
    {
      "cell_type": "markdown",
      "source": [
        "\n",
        "#### **2.1.2 Display the shape of the dataframes**"
      ],
      "metadata": {
        "id": "5dE-9CgDww_J"
      }
    },
    {
      "cell_type": "code",
      "source": [
        "def shape_of_dataset(df, dataset_name=\"df\"):\n",
        "    \n",
        "    print(f\"{dataset_name} dataset has {df.shape[0]} rows and {df.shape[1]} columns\")\n",
        "    return df.shape[0], df.shape[1]"
      ],
      "metadata": {
        "execution": {
          "iopub.status.busy": "2023-04-26T00:00:57.886732Z",
          "iopub.execute_input": "2023-04-26T00:00:57.887517Z",
          "iopub.status.idle": "2023-04-26T00:00:57.897807Z",
          "shell.execute_reply.started": "2023-04-26T00:00:57.887455Z",
          "shell.execute_reply": "2023-04-26T00:00:57.896787Z"
        },
        "trusted": true,
        "id": "d4p14o3Oww_J"
      },
      "execution_count": 7,
      "outputs": []
    },
    {
      "cell_type": "code",
      "source": [
        "books_r, books_c = shape_of_dataset(books, \"Books\")\n",
        "ratings_r, ratings_c = shape_of_dataset(ratings, \"Ratings\")\n",
        "users_r, users_c = shape_of_dataset(users, \"Users\")"
      ],
      "metadata": {
        "execution": {
          "iopub.status.busy": "2023-04-26T00:00:57.899749Z",
          "iopub.execute_input": "2023-04-26T00:00:57.900985Z",
          "iopub.status.idle": "2023-04-26T00:00:57.914870Z",
          "shell.execute_reply.started": "2023-04-26T00:00:57.900934Z",
          "shell.execute_reply": "2023-04-26T00:00:57.913176Z"
        },
        "trusted": true,
        "colab": {
          "base_uri": "https://localhost:8080/"
        },
        "id": "_5yIzhT0ww_J",
        "outputId": "b642ca0c-abc8-4ef7-fe83-6b680344ea8d"
      },
      "execution_count": 8,
      "outputs": [
        {
          "output_type": "stream",
          "name": "stdout",
          "text": [
            "Books dataset has 271360 rows and 8 columns\n",
            "Ratings dataset has 1149780 rows and 3 columns\n",
            "Users dataset has 278858 rows and 3 columns\n"
          ]
        }
      ]
    },
    {
      "cell_type": "markdown",
      "source": [
        "\n",
        "#### **2.1.3 Displaying the total number of null values in dataframes**"
      ],
      "metadata": {
        "id": "G2tLGk-Gww_J"
      }
    },
    {
      "cell_type": "code",
      "source": [
        "def count_null_values(df, dataset_name):\n",
        "    \n",
        "    num_of_total_null_values = sum(df.isnull().sum().values)\n",
        "    print(f\"{dataset_name} dataset has {num_of_total_null_values} null values\")\n",
        "    return num_of_total_null_values"
      ],
      "metadata": {
        "execution": {
          "iopub.status.busy": "2023-04-26T00:00:57.918442Z",
          "iopub.execute_input": "2023-04-26T00:00:57.919010Z",
          "iopub.status.idle": "2023-04-26T00:00:57.929134Z",
          "shell.execute_reply.started": "2023-04-26T00:00:57.918955Z",
          "shell.execute_reply": "2023-04-26T00:00:57.927960Z"
        },
        "trusted": true,
        "id": "7MspnS4Qww_J"
      },
      "execution_count": 9,
      "outputs": []
    },
    {
      "cell_type": "code",
      "source": [
        "books_null = count_null_values(books, \"Books\")\n",
        "ratings_null = count_null_values(ratings, \"Ratings\")\n",
        "users_null = count_null_values(users, \"Users\")"
      ],
      "metadata": {
        "execution": {
          "iopub.status.busy": "2023-04-26T00:00:57.931013Z",
          "iopub.execute_input": "2023-04-26T00:00:57.931745Z",
          "iopub.status.idle": "2023-04-26T00:00:58.166926Z",
          "shell.execute_reply.started": "2023-04-26T00:00:57.931704Z",
          "shell.execute_reply": "2023-04-26T00:00:58.165601Z"
        },
        "trusted": true,
        "colab": {
          "base_uri": "https://localhost:8080/"
        },
        "id": "KvJvoVHbww_J",
        "outputId": "f242a0e4-07cf-407d-cb16-258ccbc029bb"
      },
      "execution_count": 10,
      "outputs": [
        {
          "output_type": "stream",
          "name": "stdout",
          "text": [
            "Books dataset has 6 null values\n",
            "Ratings dataset has 0 null values\n",
            "Users dataset has 110762 null values\n"
          ]
        }
      ]
    },
    {
      "cell_type": "markdown",
      "source": [
        "\n",
        "#### **2.1.4 Detecting the null cols in the dataframes**"
      ],
      "metadata": {
        "id": "qwUaFeeeww_K"
      }
    },
    {
      "cell_type": "code",
      "source": [
        "def detect_null_columns(df, dataset_name):\n",
        "    \n",
        "    col = []\n",
        "    s = df.isnull().sum()\n",
        "    for x in range(len(s)):\n",
        "        if s[x] > 0:\n",
        "            col.append(s.index[x])\n",
        "    tot_cols = len(col)\n",
        "    if tot_cols == 0:\n",
        "        print(f\"{dataset_name} dataset has no null columns\")\n",
        "        print(\"=\"*50)\n",
        "    else:\n",
        "        print(f\"{dataset_name} dataset has {tot_cols} null columns and they are:\")\n",
        "        for x in col:\n",
        "            print(x, end=',')\n",
        "        print()\n",
        "        print(\"=\"*50)\n",
        "    return col, len(col)"
      ],
      "metadata": {
        "execution": {
          "iopub.status.busy": "2023-04-26T00:00:58.172430Z",
          "iopub.execute_input": "2023-04-26T00:00:58.172854Z",
          "iopub.status.idle": "2023-04-26T00:00:58.180970Z",
          "shell.execute_reply.started": "2023-04-26T00:00:58.172807Z",
          "shell.execute_reply": "2023-04-26T00:00:58.179722Z"
        },
        "trusted": true,
        "id": "nRQf2tV9ww_K"
      },
      "execution_count": 11,
      "outputs": []
    },
    {
      "cell_type": "code",
      "source": [
        "total_books_null_cols, books_null_cols = detect_null_columns(books, \"Books\")\n",
        "total_ratings_null_cols, ratings_null_cols = detect_null_columns(ratings, \"Ratings\")\n",
        "total_users_null_cols, users_null_cols = detect_null_columns(users, \"Users\")"
      ],
      "metadata": {
        "execution": {
          "iopub.status.busy": "2023-04-26T00:00:58.182762Z",
          "iopub.execute_input": "2023-04-26T00:00:58.183833Z",
          "iopub.status.idle": "2023-04-26T00:00:58.422186Z",
          "shell.execute_reply.started": "2023-04-26T00:00:58.183773Z",
          "shell.execute_reply": "2023-04-26T00:00:58.420841Z"
        },
        "trusted": true,
        "colab": {
          "base_uri": "https://localhost:8080/"
        },
        "id": "hwRmIqc0ww_K",
        "outputId": "fcce573b-6993-4ff2-a9e5-aecb131ea9eb"
      },
      "execution_count": 12,
      "outputs": [
        {
          "output_type": "stream",
          "name": "stdout",
          "text": [
            "Books dataset has 3 null columns and they are:\n",
            "Book-Author,Publisher,Image-URL-L,\n",
            "==================================================\n",
            "Ratings dataset has no null columns\n",
            "==================================================\n",
            "Users dataset has 1 null columns and they are:\n",
            "Age,\n",
            "==================================================\n"
          ]
        }
      ]
    },
    {
      "cell_type": "markdown",
      "source": [
        "\n",
        "#### **2.1.5 Creating the comparison dataframe**"
      ],
      "metadata": {
        "id": "051Zww-Aww_K"
      }
    },
    {
      "cell_type": "code",
      "source": [
        "detailed_db = pd.DataFrame({\n",
        "    'dataset' : [],\n",
        "    'nrows' : [],\n",
        "    'ncols' :[],\n",
        "    'null_amount' : [],\n",
        "    'names_of_null_cols' : [],\n",
        "    'num_null_cols' : []\n",
        "})"
      ],
      "metadata": {
        "execution": {
          "iopub.status.busy": "2023-04-26T00:00:58.423923Z",
          "iopub.execute_input": "2023-04-26T00:00:58.424358Z",
          "iopub.status.idle": "2023-04-26T00:00:58.432812Z",
          "shell.execute_reply.started": "2023-04-26T00:00:58.424316Z",
          "shell.execute_reply": "2023-04-26T00:00:58.430857Z"
        },
        "trusted": true,
        "id": "JWdAneqbww_L"
      },
      "execution_count": 13,
      "outputs": []
    },
    {
      "cell_type": "code",
      "source": [
        "def fill_db_dataset(dataset_name, nrows, ncols, null_amount, name_null_cols, num_null_cols):\n",
        "    detailed_db.loc[len(detailed_db.index)] = [dataset_name, nrows, ncols, null_amount, ', '.join(name_null_cols), int(num_null_cols)]"
      ],
      "metadata": {
        "execution": {
          "iopub.status.busy": "2023-04-26T00:00:58.434478Z",
          "iopub.execute_input": "2023-04-26T00:00:58.434971Z",
          "iopub.status.idle": "2023-04-26T00:00:58.445388Z",
          "shell.execute_reply.started": "2023-04-26T00:00:58.434884Z",
          "shell.execute_reply": "2023-04-26T00:00:58.443876Z"
        },
        "trusted": true,
        "id": "SQ3OXkIpww_L"
      },
      "execution_count": 14,
      "outputs": []
    },
    {
      "cell_type": "code",
      "source": [
        "fill_db_dataset('Books', books_r, books_c, books_null, total_books_null_cols, books_null_cols)\n",
        "fill_db_dataset('Ratings', ratings_r, ratings_c, ratings_null, total_ratings_null_cols, ratings_null_cols)\n",
        "fill_db_dataset('Users', users_r, users_c, users_null, total_users_null_cols, users_null_cols)"
      ],
      "metadata": {
        "execution": {
          "iopub.status.busy": "2023-04-26T00:00:58.447312Z",
          "iopub.execute_input": "2023-04-26T00:00:58.447836Z",
          "iopub.status.idle": "2023-04-26T00:00:58.480988Z",
          "shell.execute_reply.started": "2023-04-26T00:00:58.447783Z",
          "shell.execute_reply": "2023-04-26T00:00:58.479513Z"
        },
        "trusted": true,
        "id": "h6rl9DBmww_L"
      },
      "execution_count": 15,
      "outputs": []
    },
    {
      "cell_type": "code",
      "source": [
        "detailed_db"
      ],
      "metadata": {
        "execution": {
          "iopub.status.busy": "2023-04-26T00:00:58.482178Z",
          "iopub.execute_input": "2023-04-26T00:00:58.482524Z",
          "iopub.status.idle": "2023-04-26T00:00:58.499343Z",
          "shell.execute_reply.started": "2023-04-26T00:00:58.482492Z",
          "shell.execute_reply": "2023-04-26T00:00:58.497606Z"
        },
        "trusted": true,
        "colab": {
          "base_uri": "https://localhost:8080/",
          "height": 0
        },
        "id": "GuVWIRB5ww_L",
        "outputId": "fffef14a-178f-41d8-a686-ada4d86aec9d"
      },
      "execution_count": 16,
      "outputs": [
        {
          "output_type": "execute_result",
          "data": {
            "text/plain": [
              "   dataset    nrows  ncols  null_amount                   names_of_null_cols  \\\n",
              "0    Books   271360      8            6  Book-Author, Publisher, Image-URL-L   \n",
              "1  Ratings  1149780      3            0                                        \n",
              "2    Users   278858      3       110762                                  Age   \n",
              "\n",
              "   num_null_cols  \n",
              "0              3  \n",
              "1              0  \n",
              "2              1  "
            ],
            "text/html": [
              "\n",
              "  <div id=\"df-5426bba4-ba93-4da6-97db-897d5352036d\">\n",
              "    <div class=\"colab-df-container\">\n",
              "      <div>\n",
              "<style scoped>\n",
              "    .dataframe tbody tr th:only-of-type {\n",
              "        vertical-align: middle;\n",
              "    }\n",
              "\n",
              "    .dataframe tbody tr th {\n",
              "        vertical-align: top;\n",
              "    }\n",
              "\n",
              "    .dataframe thead th {\n",
              "        text-align: right;\n",
              "    }\n",
              "</style>\n",
              "<table border=\"1\" class=\"dataframe\">\n",
              "  <thead>\n",
              "    <tr style=\"text-align: right;\">\n",
              "      <th></th>\n",
              "      <th>dataset</th>\n",
              "      <th>nrows</th>\n",
              "      <th>ncols</th>\n",
              "      <th>null_amount</th>\n",
              "      <th>names_of_null_cols</th>\n",
              "      <th>num_null_cols</th>\n",
              "    </tr>\n",
              "  </thead>\n",
              "  <tbody>\n",
              "    <tr>\n",
              "      <th>0</th>\n",
              "      <td>Books</td>\n",
              "      <td>271360</td>\n",
              "      <td>8</td>\n",
              "      <td>6</td>\n",
              "      <td>Book-Author, Publisher, Image-URL-L</td>\n",
              "      <td>3</td>\n",
              "    </tr>\n",
              "    <tr>\n",
              "      <th>1</th>\n",
              "      <td>Ratings</td>\n",
              "      <td>1149780</td>\n",
              "      <td>3</td>\n",
              "      <td>0</td>\n",
              "      <td></td>\n",
              "      <td>0</td>\n",
              "    </tr>\n",
              "    <tr>\n",
              "      <th>2</th>\n",
              "      <td>Users</td>\n",
              "      <td>278858</td>\n",
              "      <td>3</td>\n",
              "      <td>110762</td>\n",
              "      <td>Age</td>\n",
              "      <td>1</td>\n",
              "    </tr>\n",
              "  </tbody>\n",
              "</table>\n",
              "</div>\n",
              "      <button class=\"colab-df-convert\" onclick=\"convertToInteractive('df-5426bba4-ba93-4da6-97db-897d5352036d')\"\n",
              "              title=\"Convert this dataframe to an interactive table.\"\n",
              "              style=\"display:none;\">\n",
              "        \n",
              "  <svg xmlns=\"http://www.w3.org/2000/svg\" height=\"24px\"viewBox=\"0 0 24 24\"\n",
              "       width=\"24px\">\n",
              "    <path d=\"M0 0h24v24H0V0z\" fill=\"none\"/>\n",
              "    <path d=\"M18.56 5.44l.94 2.06.94-2.06 2.06-.94-2.06-.94-.94-2.06-.94 2.06-2.06.94zm-11 1L8.5 8.5l.94-2.06 2.06-.94-2.06-.94L8.5 2.5l-.94 2.06-2.06.94zm10 10l.94 2.06.94-2.06 2.06-.94-2.06-.94-.94-2.06-.94 2.06-2.06.94z\"/><path d=\"M17.41 7.96l-1.37-1.37c-.4-.4-.92-.59-1.43-.59-.52 0-1.04.2-1.43.59L10.3 9.45l-7.72 7.72c-.78.78-.78 2.05 0 2.83L4 21.41c.39.39.9.59 1.41.59.51 0 1.02-.2 1.41-.59l7.78-7.78 2.81-2.81c.8-.78.8-2.07 0-2.86zM5.41 20L4 18.59l7.72-7.72 1.47 1.35L5.41 20z\"/>\n",
              "  </svg>\n",
              "      </button>\n",
              "      \n",
              "  <style>\n",
              "    .colab-df-container {\n",
              "      display:flex;\n",
              "      flex-wrap:wrap;\n",
              "      gap: 12px;\n",
              "    }\n",
              "\n",
              "    .colab-df-convert {\n",
              "      background-color: #E8F0FE;\n",
              "      border: none;\n",
              "      border-radius: 50%;\n",
              "      cursor: pointer;\n",
              "      display: none;\n",
              "      fill: #1967D2;\n",
              "      height: 32px;\n",
              "      padding: 0 0 0 0;\n",
              "      width: 32px;\n",
              "    }\n",
              "\n",
              "    .colab-df-convert:hover {\n",
              "      background-color: #E2EBFA;\n",
              "      box-shadow: 0px 1px 2px rgba(60, 64, 67, 0.3), 0px 1px 3px 1px rgba(60, 64, 67, 0.15);\n",
              "      fill: #174EA6;\n",
              "    }\n",
              "\n",
              "    [theme=dark] .colab-df-convert {\n",
              "      background-color: #3B4455;\n",
              "      fill: #D2E3FC;\n",
              "    }\n",
              "\n",
              "    [theme=dark] .colab-df-convert:hover {\n",
              "      background-color: #434B5C;\n",
              "      box-shadow: 0px 1px 3px 1px rgba(0, 0, 0, 0.15);\n",
              "      filter: drop-shadow(0px 1px 2px rgba(0, 0, 0, 0.3));\n",
              "      fill: #FFFFFF;\n",
              "    }\n",
              "  </style>\n",
              "\n",
              "      <script>\n",
              "        const buttonEl =\n",
              "          document.querySelector('#df-5426bba4-ba93-4da6-97db-897d5352036d button.colab-df-convert');\n",
              "        buttonEl.style.display =\n",
              "          google.colab.kernel.accessAllowed ? 'block' : 'none';\n",
              "\n",
              "        async function convertToInteractive(key) {\n",
              "          const element = document.querySelector('#df-5426bba4-ba93-4da6-97db-897d5352036d');\n",
              "          const dataTable =\n",
              "            await google.colab.kernel.invokeFunction('convertToInteractive',\n",
              "                                                     [key], {});\n",
              "          if (!dataTable) return;\n",
              "\n",
              "          const docLinkHtml = 'Like what you see? Visit the ' +\n",
              "            '<a target=\"_blank\" href=https://colab.research.google.com/notebooks/data_table.ipynb>data table notebook</a>'\n",
              "            + ' to learn more about interactive tables.';\n",
              "          element.innerHTML = '';\n",
              "          dataTable['output_type'] = 'display_data';\n",
              "          await google.colab.output.renderOutput(dataTable, element);\n",
              "          const docLink = document.createElement('div');\n",
              "          docLink.innerHTML = docLinkHtml;\n",
              "          element.appendChild(docLink);\n",
              "        }\n",
              "      </script>\n",
              "    </div>\n",
              "  </div>\n",
              "  "
            ]
          },
          "metadata": {},
          "execution_count": 16
        }
      ]
    },
    {
      "cell_type": "markdown",
      "source": [
        "\n",
        "#### **2.1.6 Displaying information about dataframes**"
      ],
      "metadata": {
        "id": "9c-wt5x7ww_L"
      }
    },
    {
      "cell_type": "code",
      "source": [
        "def print_info_about_ds(df, name_of_the_ds = \"df\"):\n",
        "    print(f\"Info about the {name_of_the_ds} dataset: \")\n",
        "    dash_sep()\n",
        "    print(df.info())\n",
        "    \n",
        "def dash_sep(num=50):\n",
        "    print(\"_\"*num)\n",
        "\n",
        "def double_fs_sep(num=40):\n",
        "    print(\"**\"*num)"
      ],
      "metadata": {
        "execution": {
          "iopub.status.busy": "2023-04-26T00:00:58.500711Z",
          "iopub.execute_input": "2023-04-26T00:00:58.501088Z",
          "iopub.status.idle": "2023-04-26T00:00:58.511215Z",
          "shell.execute_reply.started": "2023-04-26T00:00:58.501045Z",
          "shell.execute_reply": "2023-04-26T00:00:58.509918Z"
        },
        "trusted": true,
        "id": "BWI4SHiPww_M"
      },
      "execution_count": 17,
      "outputs": []
    },
    {
      "cell_type": "code",
      "source": [
        "print_info_about_ds(books, \"Books\")\n",
        "print(\"\\n\")\n",
        "double_fs_sep()\n",
        "print(\"\\n\")\n",
        "\n",
        "print_info_about_ds(ratings, \"Ratings\")\n",
        "print(\"\\n\")\n",
        "double_fs_sep()\n",
        "print(\"\\n\")\n",
        "\n",
        "print_info_about_ds(users, \"Users\")"
      ],
      "metadata": {
        "execution": {
          "iopub.status.busy": "2023-04-26T00:00:58.513007Z",
          "iopub.execute_input": "2023-04-26T00:00:58.513496Z",
          "iopub.status.idle": "2023-04-26T00:00:58.766966Z",
          "shell.execute_reply.started": "2023-04-26T00:00:58.513444Z",
          "shell.execute_reply": "2023-04-26T00:00:58.765958Z"
        },
        "trusted": true,
        "colab": {
          "base_uri": "https://localhost:8080/"
        },
        "id": "vpBw8ASoww_M",
        "outputId": "0f70b68b-84ad-449e-e21b-c6c997c5cc7a"
      },
      "execution_count": 18,
      "outputs": [
        {
          "output_type": "stream",
          "name": "stdout",
          "text": [
            "Info about the Books dataset: \n",
            "__________________________________________________\n",
            "<class 'pandas.core.frame.DataFrame'>\n",
            "RangeIndex: 271360 entries, 0 to 271359\n",
            "Data columns (total 8 columns):\n",
            " #   Column               Non-Null Count   Dtype \n",
            "---  ------               --------------   ----- \n",
            " 0   ISBN                 271360 non-null  object\n",
            " 1   Book-Title           271360 non-null  object\n",
            " 2   Book-Author          271359 non-null  object\n",
            " 3   Year-Of-Publication  271360 non-null  object\n",
            " 4   Publisher            271358 non-null  object\n",
            " 5   Image-URL-S          271360 non-null  object\n",
            " 6   Image-URL-M          271360 non-null  object\n",
            " 7   Image-URL-L          271357 non-null  object\n",
            "dtypes: object(8)\n",
            "memory usage: 16.6+ MB\n",
            "None\n",
            "\n",
            "\n",
            "********************************************************************************\n",
            "\n",
            "\n",
            "Info about the Ratings dataset: \n",
            "__________________________________________________\n",
            "<class 'pandas.core.frame.DataFrame'>\n",
            "RangeIndex: 1149780 entries, 0 to 1149779\n",
            "Data columns (total 3 columns):\n",
            " #   Column       Non-Null Count    Dtype \n",
            "---  ------       --------------    ----- \n",
            " 0   User-ID      1149780 non-null  int64 \n",
            " 1   ISBN         1149780 non-null  object\n",
            " 2   Book-Rating  1149780 non-null  int64 \n",
            "dtypes: int64(2), object(1)\n",
            "memory usage: 26.3+ MB\n",
            "None\n",
            "\n",
            "\n",
            "********************************************************************************\n",
            "\n",
            "\n",
            "Info about the Users dataset: \n",
            "__________________________________________________\n",
            "<class 'pandas.core.frame.DataFrame'>\n",
            "RangeIndex: 278858 entries, 0 to 278857\n",
            "Data columns (total 3 columns):\n",
            " #   Column    Non-Null Count   Dtype  \n",
            "---  ------    --------------   -----  \n",
            " 0   User-ID   278858 non-null  int64  \n",
            " 1   Location  278858 non-null  object \n",
            " 2   Age       168096 non-null  float64\n",
            "dtypes: float64(1), int64(1), object(1)\n",
            "memory usage: 6.4+ MB\n",
            "None\n"
          ]
        }
      ]
    },
    {
      "cell_type": "markdown",
      "source": [
        "\n",
        "#### **2.1.7 Displaying the number of unique values in each column in the dataframes**"
      ],
      "metadata": {
        "id": "AcfBKWmwww_M"
      }
    },
    {
      "cell_type": "code",
      "source": [
        "def print_nunique_vals(df, ds_name = 'df'):\n",
        "    print(f\"number of unique values in each column in the {ds_name} dataset:\")\n",
        "    dash_sep(75)\n",
        "    print(df.nunique())"
      ],
      "metadata": {
        "execution": {
          "iopub.status.busy": "2023-04-26T00:00:58.768351Z",
          "iopub.execute_input": "2023-04-26T00:00:58.768694Z",
          "iopub.status.idle": "2023-04-26T00:00:58.774379Z",
          "shell.execute_reply.started": "2023-04-26T00:00:58.768652Z",
          "shell.execute_reply": "2023-04-26T00:00:58.773043Z"
        },
        "trusted": true,
        "id": "jug3V1w5ww_M"
      },
      "execution_count": 19,
      "outputs": []
    },
    {
      "cell_type": "code",
      "source": [
        "print_nunique_vals(books, 'Books')\n",
        "print(\"\\n\")\n",
        "double_fs_sep()\n",
        "print(\"\\n\")\n",
        "\n",
        "print_nunique_vals(ratings, 'Ratings')\n",
        "print(\"\\n\")\n",
        "double_fs_sep()\n",
        "print(\"\\n\")\n",
        "\n",
        "print_nunique_vals(users, 'Users')"
      ],
      "metadata": {
        "execution": {
          "iopub.status.busy": "2023-04-26T00:00:58.776508Z",
          "iopub.execute_input": "2023-04-26T00:00:58.777051Z",
          "iopub.status.idle": "2023-04-26T00:00:59.795938Z",
          "shell.execute_reply.started": "2023-04-26T00:00:58.777008Z",
          "shell.execute_reply": "2023-04-26T00:00:59.794457Z"
        },
        "trusted": true,
        "colab": {
          "base_uri": "https://localhost:8080/"
        },
        "id": "A8jhcJuxww_N",
        "outputId": "5a3f5748-9b75-4bed-8830-494c354646e7"
      },
      "execution_count": 20,
      "outputs": [
        {
          "output_type": "stream",
          "name": "stdout",
          "text": [
            "number of unique values in each column in the Books dataset:\n",
            "___________________________________________________________________________\n",
            "ISBN                   271360\n",
            "Book-Title             242135\n",
            "Book-Author            102023\n",
            "Year-Of-Publication       202\n",
            "Publisher               16807\n",
            "Image-URL-S            271044\n",
            "Image-URL-M            271044\n",
            "Image-URL-L            271041\n",
            "dtype: int64\n",
            "\n",
            "\n",
            "********************************************************************************\n",
            "\n",
            "\n",
            "number of unique values in each column in the Ratings dataset:\n",
            "___________________________________________________________________________\n",
            "User-ID        105283\n",
            "ISBN           340556\n",
            "Book-Rating        11\n",
            "dtype: int64\n",
            "\n",
            "\n",
            "********************************************************************************\n",
            "\n",
            "\n",
            "number of unique values in each column in the Users dataset:\n",
            "___________________________________________________________________________\n",
            "User-ID     278858\n",
            "Location     57339\n",
            "Age            165\n",
            "dtype: int64\n"
          ]
        }
      ]
    },
    {
      "cell_type": "markdown",
      "source": [
        "\n",
        "#### **2.1.8 Ploting the distrbution of Missing values in the dataframes**"
      ],
      "metadata": {
        "id": "9XXfjZthww_N"
      }
    },
    {
      "cell_type": "code",
      "source": [
        "def plot_miss_vals(df, ds_name):\n",
        "    msno.matrix(df)\n",
        "    plt.title(f'Distribution of Missing Values in {ds_name} dataset', fontsize=30, fontstyle='oblique')\n",
        "    plt.show()"
      ],
      "metadata": {
        "execution": {
          "iopub.status.busy": "2023-04-26T00:00:59.797710Z",
          "iopub.execute_input": "2023-04-26T00:00:59.798242Z",
          "iopub.status.idle": "2023-04-26T00:00:59.806364Z",
          "shell.execute_reply.started": "2023-04-26T00:00:59.798189Z",
          "shell.execute_reply": "2023-04-26T00:00:59.804723Z"
        },
        "trusted": true,
        "id": "LIo5zdoRww_N"
      },
      "execution_count": 21,
      "outputs": []
    },
    {
      "cell_type": "code",
      "source": [
        "plot_miss_vals(books, \"Books\")\n",
        "plot_miss_vals(ratings, \"Ratings\")\n",
        "plot_miss_vals(users, \"Users\")"
      ],
      "metadata": {
        "execution": {
          "iopub.status.busy": "2023-04-26T00:00:59.808050Z",
          "iopub.execute_input": "2023-04-26T00:00:59.809348Z",
          "iopub.status.idle": "2023-04-26T00:01:04.192259Z",
          "shell.execute_reply.started": "2023-04-26T00:00:59.809158Z",
          "shell.execute_reply": "2023-04-26T00:01:04.190935Z"
        },
        "trusted": true,
        "colab": {
          "base_uri": "https://localhost:8080/",
          "height": 0
        },
        "id": "Mc4ksEBlww_N",
        "outputId": "33852701-cecf-4ac2-fad1-15b45c3896f8"
      },
      "execution_count": 22,
      "outputs": [
        {
          "output_type": "display_data",
          "data": {
            "text/plain": [
              "<Figure size 2500x1000 with 2 Axes>"
            ],
            "image/png": "[encoded data removed]"
          },
          "metadata": {}
        },
        {
          "output_type": "display_data",
          "data": {
            "text/plain": [
              "<Figure size 2500x1000 with 2 Axes>"
            ],
            "image/png": "[encoded data removed]"
          },
          "metadata": {}
        },
        {
          "output_type": "display_data",
          "data": {
            "text/plain": [
              "<Figure size 2500x1000 with 2 Axes>"
            ],
            "image/png": "[encoded data removed]"
          },
          "metadata": {}
        }
      ]
    },
    {
      "cell_type": "markdown",
      "source": [
        "\n",
        "#### **2.1.9 Displaying the data types of the dataframes**"
      ],
      "metadata": {
        "id": "pmXSDpWvww_N"
      }
    },
    {
      "cell_type": "code",
      "source": [
        "def print_dtype_of_df(df, ds_name = 'df'):\n",
        "    print(f\"data type of each column in the {ds_name} dataset:\")\n",
        "    dash_sep(75)\n",
        "    print(df.dtypes)"
      ],
      "metadata": {
        "execution": {
          "iopub.status.busy": "2023-04-26T00:01:04.193824Z",
          "iopub.execute_input": "2023-04-26T00:01:04.194345Z",
          "iopub.status.idle": "2023-04-26T00:01:04.201204Z",
          "shell.execute_reply.started": "2023-04-26T00:01:04.194280Z",
          "shell.execute_reply": "2023-04-26T00:01:04.199828Z"
        },
        "trusted": true,
        "id": "VIpSgiwFww_O"
      },
      "execution_count": 23,
      "outputs": []
    },
    {
      "cell_type": "code",
      "source": [
        "print_dtype_of_df(books, 'Books')\n",
        "double_fs_sep()\n",
        "\n",
        "print_dtype_of_df(ratings, 'Ratings')\n",
        "double_fs_sep()\n",
        "\n",
        "print_dtype_of_df(users, 'Users')"
      ],
      "metadata": {
        "execution": {
          "iopub.status.busy": "2023-04-26T00:01:04.202954Z",
          "iopub.execute_input": "2023-04-26T00:01:04.203889Z",
          "iopub.status.idle": "2023-04-26T00:01:04.222884Z",
          "shell.execute_reply.started": "2023-04-26T00:01:04.203828Z",
          "shell.execute_reply": "2023-04-26T00:01:04.221334Z"
        },
        "trusted": true,
        "colab": {
          "base_uri": "https://localhost:8080/"
        },
        "id": "vd1ARj_Jww_Z",
        "outputId": "7e3f98a4-ed9b-4b33-c79d-8fde7a6200fe"
      },
      "execution_count": 24,
      "outputs": [
        {
          "output_type": "stream",
          "name": "stdout",
          "text": [
            "data type of each column in the Books dataset:\n",
            "___________________________________________________________________________\n",
            "ISBN                   object\n",
            "Book-Title             object\n",
            "Book-Author            object\n",
            "Year-Of-Publication    object\n",
            "Publisher              object\n",
            "Image-URL-S            object\n",
            "Image-URL-M            object\n",
            "Image-URL-L            object\n",
            "dtype: object\n",
            "********************************************************************************\n",
            "data type of each column in the Ratings dataset:\n",
            "___________________________________________________________________________\n",
            "User-ID         int64\n",
            "ISBN           object\n",
            "Book-Rating     int64\n",
            "dtype: object\n",
            "********************************************************************************\n",
            "data type of each column in the Users dataset:\n",
            "___________________________________________________________________________\n",
            "User-ID       int64\n",
            "Location     object\n",
            "Age         float64\n",
            "dtype: object\n"
          ]
        }
      ]
    },
    {
      "cell_type": "markdown",
      "source": [
        "\n",
        "### **2.2 Visualizaation and Preprocessing**"
      ],
      "metadata": {
        "id": "ydMsIE4gww_a"
      }
    },
    {
      "cell_type": "code",
      "source": [
        "def plot_top20(df, column, title, x_label, y_label, top=20, template = 'plotly_dark'):\n",
        "    \n",
        "    pl = df[column].value_counts().head(top)\n",
        "    fig = px.bar(y=pl.values, \n",
        "                 x=pl.index, \n",
        "                 color_discrete_sequence=px.colors.sequential.PuBuGn,\n",
        "                 text=pl.values,\n",
        "                 title= title,\n",
        "                 template= template)\n",
        "    fig.update_layout(\n",
        "        xaxis_title=x_label,\n",
        "        yaxis_title=y_label,\n",
        "        font = dict(size=15,family=\"Franklin Gothic\"))\n",
        "    fig.show()"
      ],
      "metadata": {
        "execution": {
          "iopub.status.busy": "2023-04-26T00:01:04.224601Z",
          "iopub.execute_input": "2023-04-26T00:01:04.225056Z",
          "iopub.status.idle": "2023-04-26T00:01:04.235012Z",
          "shell.execute_reply.started": "2023-04-26T00:01:04.225011Z",
          "shell.execute_reply": "2023-04-26T00:01:04.233564Z"
        },
        "trusted": true,
        "id": "BX_AzOyJww_a"
      },
      "execution_count": 25,
      "outputs": []
    },
    {
      "cell_type": "markdown",
      "source": [
        "We will see top years in which books were published"
      ],
      "metadata": {
        "id": "RlzVX3Ryww_a"
      }
    },
    {
      "cell_type": "markdown",
      "source": [
        "There is an error in the Year Of Publication column when converting its data type to int"
      ],
      "metadata": {
        "id": "LH3pKqOJww_a"
      }
    },
    {
      "cell_type": "code",
      "source": [
        "books['Year-Of-Publication'].astype('int32')"
      ],
      "metadata": {
        "execution": {
          "iopub.status.busy": "2023-04-26T00:01:24.967409Z",
          "iopub.execute_input": "2023-04-26T00:01:24.967826Z",
          "iopub.status.idle": "2023-04-26T00:01:25.166817Z",
          "shell.execute_reply.started": "2023-04-26T00:01:24.967787Z",
          "shell.execute_reply": "2023-04-26T00:01:25.164669Z"
        },
        "trusted": true,
        "colab": {
          "base_uri": "https://localhost:8080/",
          "height": 311
        },
        "id": "bHvPi9MKww_a",
        "outputId": "b035e7cb-35eb-4426-9e87-130fed8e4f1e"
      },
      "execution_count": 26,
      "outputs": [
        {
          "output_type": "error",
          "ename": "ValueError",
          "evalue": "ignored",
          "traceback": [
            "\u001b[0;31m---------------------------------------------------------------------------\u001b[0m",
            "\u001b[0;31mValueError\u001b[0m                                Traceback (most recent call last)",
            "\u001b[0;32m<ipython-input-26-5713fe23c671>\u001b[0m in \u001b[0;36m<cell line: 1>\u001b[0;34m()\u001b[0m\n\u001b[0;32m----> 1\u001b[0;31m \u001b[0mbooks\u001b[0m\u001b[0;34m[\u001b[0m\u001b[0;34m'Year-Of-Publication'\u001b[0m\u001b[0;34m]\u001b[0m\u001b[0;34m.\u001b[0m\u001b[0mastype\u001b[0m\u001b[0;34m(\u001b[0m\u001b[0;34m'int32'\u001b[0m\u001b[0;34m)\u001b[0m\u001b[0;34m\u001b[0m\u001b[0;34m\u001b[0m\u001b[0m\n\u001b[0m",
            "\u001b[0;32m/usr/local/lib/python3.10/dist-packages/pandas/core/generic.py\u001b[0m in \u001b[0;36mastype\u001b[0;34m(self, dtype, copy, errors)\u001b[0m\n\u001b[1;32m   6238\u001b[0m         \u001b[0;32melse\u001b[0m\u001b[0;34m:\u001b[0m\u001b[0;34m\u001b[0m\u001b[0;34m\u001b[0m\u001b[0m\n\u001b[1;32m   6239\u001b[0m             \u001b[0;31m# else, only a single dtype is given\u001b[0m\u001b[0;34m\u001b[0m\u001b[0;34m\u001b[0m\u001b[0m\n\u001b[0;32m-> 6240\u001b[0;31m             \u001b[0mnew_data\u001b[0m \u001b[0;34m=\u001b[0m \u001b[0mself\u001b[0m\u001b[0;34m.\u001b[0m\u001b[0m_mgr\u001b[0m\u001b[0;34m.\u001b[0m\u001b[0mastype\u001b[0m\u001b[0;34m(\u001b[0m\u001b[0mdtype\u001b[0m\u001b[0;34m=\u001b[0m\u001b[0mdtype\u001b[0m\u001b[0;34m,\u001b[0m \u001b[0mcopy\u001b[0m\u001b[0;34m=\u001b[0m\u001b[0mcopy\u001b[0m\u001b[0;34m,\u001b[0m \u001b[0merrors\u001b[0m\u001b[0;34m=\u001b[0m\u001b[0merrors\u001b[0m\u001b[0;34m)\u001b[0m\u001b[0;34m\u001b[0m\u001b[0;34m\u001b[0m\u001b[0m\n\u001b[0m\u001b[1;32m   6241\u001b[0m             \u001b[0;32mreturn\u001b[0m \u001b[0mself\u001b[0m\u001b[0;34m.\u001b[0m\u001b[0m_constructor\u001b[0m\u001b[0;34m(\u001b[0m\u001b[0mnew_data\u001b[0m\u001b[0;34m)\u001b[0m\u001b[0;34m.\u001b[0m\u001b[0m__finalize__\u001b[0m\u001b[0;34m(\u001b[0m\u001b[0mself\u001b[0m\u001b[0;34m,\u001b[0m \u001b[0mmethod\u001b[0m\u001b[0;34m=\u001b[0m\u001b[0;34m\"astype\"\u001b[0m\u001b[0;34m)\u001b[0m\u001b[0;34m\u001b[0m\u001b[0;34m\u001b[0m\u001b[0m\n\u001b[1;32m   6242\u001b[0m \u001b[0;34m\u001b[0m\u001b[0m\n",
            "\u001b[0;32m/usr/local/lib/python3.10/dist-packages/pandas/core/internals/managers.py\u001b[0m in \u001b[0;36mastype\u001b[0;34m(self, dtype, copy, errors)\u001b[0m\n\u001b[1;32m    446\u001b[0m \u001b[0;34m\u001b[0m\u001b[0m\n\u001b[1;32m    447\u001b[0m     \u001b[0;32mdef\u001b[0m \u001b[0mastype\u001b[0m\u001b[0;34m(\u001b[0m\u001b[0mself\u001b[0m\u001b[0;34m:\u001b[0m \u001b[0mT\u001b[0m\u001b[0;34m,\u001b[0m \u001b[0mdtype\u001b[0m\u001b[0;34m,\u001b[0m \u001b[0mcopy\u001b[0m\u001b[0;34m:\u001b[0m \u001b[0mbool\u001b[0m \u001b[0;34m=\u001b[0m \u001b[0;32mFalse\u001b[0m\u001b[0;34m,\u001b[0m \u001b[0merrors\u001b[0m\u001b[0;34m:\u001b[0m \u001b[0mstr\u001b[0m \u001b[0;34m=\u001b[0m \u001b[0;34m\"raise\"\u001b[0m\u001b[0;34m)\u001b[0m \u001b[0;34m->\u001b[0m \u001b[0mT\u001b[0m\u001b[0;34m:\u001b[0m\u001b[0;34m\u001b[0m\u001b[0;34m\u001b[0m\u001b[0m\n\u001b[0;32m--> 448\u001b[0;31m         \u001b[0;32mreturn\u001b[0m \u001b[0mself\u001b[0m\u001b[0;34m.\u001b[0m\u001b[0mapply\u001b[0m\u001b[0;34m(\u001b[0m\u001b[0;34m\"astype\"\u001b[0m\u001b[0;34m,\u001b[0m \u001b[0mdtype\u001b[0m\u001b[0;34m=\u001b[0m\u001b[0mdtype\u001b[0m\u001b[0;34m,\u001b[0m \u001b[0mcopy\u001b[0m\u001b[0;34m=\u001b[0m\u001b[0mcopy\u001b[0m\u001b[0;34m,\u001b[0m \u001b[0merrors\u001b[0m\u001b[0;34m=\u001b[0m\u001b[0merrors\u001b[0m\u001b[0;34m)\u001b[0m\u001b[0;34m\u001b[0m\u001b[0;34m\u001b[0m\u001b[0m\n\u001b[0m\u001b[1;32m    449\u001b[0m \u001b[0;34m\u001b[0m\u001b[0m\n\u001b[1;32m    450\u001b[0m     def convert(\n",
            "\u001b[0;32m/usr/local/lib/python3.10/dist-packages/pandas/core/internals/managers.py\u001b[0m in \u001b[0;36mapply\u001b[0;34m(self, f, align_keys, ignore_failures, **kwargs)\u001b[0m\n\u001b[1;32m    350\u001b[0m                     \u001b[0mapplied\u001b[0m \u001b[0;34m=\u001b[0m \u001b[0mb\u001b[0m\u001b[0;34m.\u001b[0m\u001b[0mapply\u001b[0m\u001b[0;34m(\u001b[0m\u001b[0mf\u001b[0m\u001b[0;34m,\u001b[0m \u001b[0;34m**\u001b[0m\u001b[0mkwargs\u001b[0m\u001b[0;34m)\u001b[0m\u001b[0;34m\u001b[0m\u001b[0;34m\u001b[0m\u001b[0m\n\u001b[1;32m    351\u001b[0m                 \u001b[0;32melse\u001b[0m\u001b[0;34m:\u001b[0m\u001b[0;34m\u001b[0m\u001b[0;34m\u001b[0m\u001b[0m\n\u001b[0;32m--> 352\u001b[0;31m                     \u001b[0mapplied\u001b[0m \u001b[0;34m=\u001b[0m \u001b[0mgetattr\u001b[0m\u001b[0;34m(\u001b[0m\u001b[0mb\u001b[0m\u001b[0;34m,\u001b[0m \u001b[0mf\u001b[0m\u001b[0;34m)\u001b[0m\u001b[0;34m(\u001b[0m\u001b[0;34m**\u001b[0m\u001b[0mkwargs\u001b[0m\u001b[0;34m)\u001b[0m\u001b[0;34m\u001b[0m\u001b[0;34m\u001b[0m\u001b[0m\n\u001b[0m\u001b[1;32m    353\u001b[0m             \u001b[0;32mexcept\u001b[0m \u001b[0;34m(\u001b[0m\u001b[0mTypeError\u001b[0m\u001b[0;34m,\u001b[0m \u001b[0mNotImplementedError\u001b[0m\u001b[0;34m)\u001b[0m\u001b[0;34m:\u001b[0m\u001b[0;34m\u001b[0m\u001b[0;34m\u001b[0m\u001b[0m\n\u001b[1;32m    354\u001b[0m                 \u001b[0;32mif\u001b[0m \u001b[0;32mnot\u001b[0m \u001b[0mignore_failures\u001b[0m\u001b[0;34m:\u001b[0m\u001b[0;34m\u001b[0m\u001b[0;34m\u001b[0m\u001b[0m\n",
            "\u001b[0;32m/usr/local/lib/python3.10/dist-packages/pandas/core/internals/blocks.py\u001b[0m in \u001b[0;36mastype\u001b[0;34m(self, dtype, copy, errors)\u001b[0m\n\u001b[1;32m    524\u001b[0m         \u001b[0mvalues\u001b[0m \u001b[0;34m=\u001b[0m \u001b[0mself\u001b[0m\u001b[0;34m.\u001b[0m\u001b[0mvalues\u001b[0m\u001b[0;34m\u001b[0m\u001b[0;34m\u001b[0m\u001b[0m\n\u001b[1;32m    525\u001b[0m \u001b[0;34m\u001b[0m\u001b[0m\n\u001b[0;32m--> 526\u001b[0;31m         \u001b[0mnew_values\u001b[0m \u001b[0;34m=\u001b[0m \u001b[0mastype_array_safe\u001b[0m\u001b[0;34m(\u001b[0m\u001b[0mvalues\u001b[0m\u001b[0;34m,\u001b[0m \u001b[0mdtype\u001b[0m\u001b[0;34m,\u001b[0m \u001b[0mcopy\u001b[0m\u001b[0;34m=\u001b[0m\u001b[0mcopy\u001b[0m\u001b[0;34m,\u001b[0m \u001b[0merrors\u001b[0m\u001b[0;34m=\u001b[0m\u001b[0merrors\u001b[0m\u001b[0;34m)\u001b[0m\u001b[0;34m\u001b[0m\u001b[0;34m\u001b[0m\u001b[0m\n\u001b[0m\u001b[1;32m    527\u001b[0m \u001b[0;34m\u001b[0m\u001b[0m\n\u001b[1;32m    528\u001b[0m         \u001b[0mnew_values\u001b[0m \u001b[0;34m=\u001b[0m \u001b[0mmaybe_coerce_values\u001b[0m\u001b[0;34m(\u001b[0m\u001b[0mnew_values\u001b[0m\u001b[0;34m)\u001b[0m\u001b[0;34m\u001b[0m\u001b[0;34m\u001b[0m\u001b[0m\n",
            "\u001b[0;32m/usr/local/lib/python3.10/dist-packages/pandas/core/dtypes/astype.py\u001b[0m in \u001b[0;36mastype_array_safe\u001b[0;34m(values, dtype, copy, errors)\u001b[0m\n\u001b[1;32m    297\u001b[0m \u001b[0;34m\u001b[0m\u001b[0m\n\u001b[1;32m    298\u001b[0m     \u001b[0;32mtry\u001b[0m\u001b[0;34m:\u001b[0m\u001b[0;34m\u001b[0m\u001b[0;34m\u001b[0m\u001b[0m\n\u001b[0;32m--> 299\u001b[0;31m         \u001b[0mnew_values\u001b[0m \u001b[0;34m=\u001b[0m \u001b[0mastype_array\u001b[0m\u001b[0;34m(\u001b[0m\u001b[0mvalues\u001b[0m\u001b[0;34m,\u001b[0m \u001b[0mdtype\u001b[0m\u001b[0;34m,\u001b[0m \u001b[0mcopy\u001b[0m\u001b[0;34m=\u001b[0m\u001b[0mcopy\u001b[0m\u001b[0;34m)\u001b[0m\u001b[0;34m\u001b[0m\u001b[0;34m\u001b[0m\u001b[0m\n\u001b[0m\u001b[1;32m    300\u001b[0m     \u001b[0;32mexcept\u001b[0m \u001b[0;34m(\u001b[0m\u001b[0mValueError\u001b[0m\u001b[0;34m,\u001b[0m \u001b[0mTypeError\u001b[0m\u001b[0;34m)\u001b[0m\u001b[0;34m:\u001b[0m\u001b[0;34m\u001b[0m\u001b[0;34m\u001b[0m\u001b[0m\n\u001b[1;32m    301\u001b[0m         \u001b[0;31m# e.g. astype_nansafe can fail on object-dtype of strings\u001b[0m\u001b[0;34m\u001b[0m\u001b[0;34m\u001b[0m\u001b[0m\n",
            "\u001b[0;32m/usr/local/lib/python3.10/dist-packages/pandas/core/dtypes/astype.py\u001b[0m in \u001b[0;36mastype_array\u001b[0;34m(values, dtype, copy)\u001b[0m\n\u001b[1;32m    228\u001b[0m \u001b[0;34m\u001b[0m\u001b[0m\n\u001b[1;32m    229\u001b[0m     \u001b[0;32melse\u001b[0m\u001b[0;34m:\u001b[0m\u001b[0;34m\u001b[0m\u001b[0;34m\u001b[0m\u001b[0m\n\u001b[0;32m--> 230\u001b[0;31m         \u001b[0mvalues\u001b[0m \u001b[0;34m=\u001b[0m \u001b[0mastype_nansafe\u001b[0m\u001b[0;34m(\u001b[0m\u001b[0mvalues\u001b[0m\u001b[0;34m,\u001b[0m \u001b[0mdtype\u001b[0m\u001b[0;34m,\u001b[0m \u001b[0mcopy\u001b[0m\u001b[0;34m=\u001b[0m\u001b[0mcopy\u001b[0m\u001b[0;34m)\u001b[0m\u001b[0;34m\u001b[0m\u001b[0;34m\u001b[0m\u001b[0m\n\u001b[0m\u001b[1;32m    231\u001b[0m \u001b[0;34m\u001b[0m\u001b[0m\n\u001b[1;32m    232\u001b[0m     \u001b[0;31m# in pandas we don't store numpy str dtypes, so convert to object\u001b[0m\u001b[0;34m\u001b[0m\u001b[0;34m\u001b[0m\u001b[0m\n",
            "\u001b[0;32m/usr/local/lib/python3.10/dist-packages/pandas/core/dtypes/astype.py\u001b[0m in \u001b[0;36mastype_nansafe\u001b[0;34m(arr, dtype, copy, skipna)\u001b[0m\n\u001b[1;32m    168\u001b[0m     \u001b[0;32mif\u001b[0m \u001b[0mcopy\u001b[0m \u001b[0;32mor\u001b[0m \u001b[0mis_object_dtype\u001b[0m\u001b[0;34m(\u001b[0m\u001b[0marr\u001b[0m\u001b[0;34m.\u001b[0m\u001b[0mdtype\u001b[0m\u001b[0;34m)\u001b[0m \u001b[0;32mor\u001b[0m \u001b[0mis_object_dtype\u001b[0m\u001b[0;34m(\u001b[0m\u001b[0mdtype\u001b[0m\u001b[0;34m)\u001b[0m\u001b[0;34m:\u001b[0m\u001b[0;34m\u001b[0m\u001b[0;34m\u001b[0m\u001b[0m\n\u001b[1;32m    169\u001b[0m         \u001b[0;31m# Explicit copy, or required since NumPy can't view from / to object.\u001b[0m\u001b[0;34m\u001b[0m\u001b[0;34m\u001b[0m\u001b[0m\n\u001b[0;32m--> 170\u001b[0;31m         \u001b[0;32mreturn\u001b[0m \u001b[0marr\u001b[0m\u001b[0;34m.\u001b[0m\u001b[0mastype\u001b[0m\u001b[0;34m(\u001b[0m\u001b[0mdtype\u001b[0m\u001b[0;34m,\u001b[0m \u001b[0mcopy\u001b[0m\u001b[0;34m=\u001b[0m\u001b[0;32mTrue\u001b[0m\u001b[0;34m)\u001b[0m\u001b[0;34m\u001b[0m\u001b[0;34m\u001b[0m\u001b[0m\n\u001b[0m\u001b[1;32m    171\u001b[0m \u001b[0;34m\u001b[0m\u001b[0m\n\u001b[1;32m    172\u001b[0m     \u001b[0;32mreturn\u001b[0m \u001b[0marr\u001b[0m\u001b[0;34m.\u001b[0m\u001b[0mastype\u001b[0m\u001b[0;34m(\u001b[0m\u001b[0mdtype\u001b[0m\u001b[0;34m,\u001b[0m \u001b[0mcopy\u001b[0m\u001b[0;34m=\u001b[0m\u001b[0mcopy\u001b[0m\u001b[0;34m)\u001b[0m\u001b[0;34m\u001b[0m\u001b[0;34m\u001b[0m\u001b[0m\n",
            "\u001b[0;31mValueError\u001b[0m: invalid literal for int() with base 10: 'DK Publishing Inc'"
          ]
        }
      ]
    },
    {
      "cell_type": "markdown",
      "source": [
        "In the year of publication column there is an error in which the column contains string value 'DK Publishing Inc' and that is a data entry error. A year column has all integers."
      ],
      "metadata": {
        "id": "k5gfA49dww_b"
      }
    },
    {
      "cell_type": "code",
      "source": [
        "books[(books['Year-Of-Publication'] == 'DK Publishing Inc') | (books['Year-Of-Publication'] == 'Gallimard')]"
      ],
      "metadata": {
        "execution": {
          "iopub.status.busy": "2023-04-26T00:01:27.420870Z",
          "iopub.execute_input": "2023-04-26T00:01:27.421445Z",
          "iopub.status.idle": "2023-04-26T00:01:27.481265Z",
          "shell.execute_reply.started": "2023-04-26T00:01:27.421396Z",
          "shell.execute_reply": "2023-04-26T00:01:27.479631Z"
        },
        "trusted": true,
        "colab": {
          "base_uri": "https://localhost:8080/",
          "height": 381
        },
        "id": "FFB_-GZwww_b",
        "outputId": "492d1db7-d7dd-4908-ecfb-52dfcfeb04cb"
      },
      "execution_count": 27,
      "outputs": [
        {
          "output_type": "execute_result",
          "data": {
            "text/plain": [
              "              ISBN                                         Book-Title  \\\n",
              "209538  078946697X  DK Readers: Creating the X-Men, How It All Beg...   \n",
              "220731  2070426769  Peuple du ciel, suivi de 'Les Bergers\\\";Jean-M...   \n",
              "221678  0789466953  DK Readers: Creating the X-Men, How Comic Book...   \n",
              "\n",
              "       Book-Author Year-Of-Publication  \\\n",
              "209538        2000   DK Publishing Inc   \n",
              "220731        2003           Gallimard   \n",
              "221678        2000   DK Publishing Inc   \n",
              "\n",
              "                                                Publisher  \\\n",
              "209538  http://images.amazon.com/images/P/078946697X.0...   \n",
              "220731  http://images.amazon.com/images/P/2070426769.0...   \n",
              "221678  http://images.amazon.com/images/P/0789466953.0...   \n",
              "\n",
              "                                              Image-URL-S  \\\n",
              "209538  http://images.amazon.com/images/P/078946697X.0...   \n",
              "220731  http://images.amazon.com/images/P/2070426769.0...   \n",
              "221678  http://images.amazon.com/images/P/0789466953.0...   \n",
              "\n",
              "                                              Image-URL-M Image-URL-L  \n",
              "209538  http://images.amazon.com/images/P/078946697X.0...         NaN  \n",
              "220731  http://images.amazon.com/images/P/2070426769.0...         NaN  \n",
              "221678  http://images.amazon.com/images/P/0789466953.0...         NaN  "
            ],
            "text/html": [
              "\n",
              "  <div id=\"df-4bb026dc-238a-4cdf-ad79-e149f7d3ccab\">\n",
              "    <div class=\"colab-df-container\">\n",
              "      <div>\n",
              "<style scoped>\n",
              "    .dataframe tbody tr th:only-of-type {\n",
              "        vertical-align: middle;\n",
              "    }\n",
              "\n",
              "    .dataframe tbody tr th {\n",
              "        vertical-align: top;\n",
              "    }\n",
              "\n",
              "    .dataframe thead th {\n",
              "        text-align: right;\n",
              "    }\n",
              "</style>\n",
              "<table border=\"1\" class=\"dataframe\">\n",
              "  <thead>\n",
              "    <tr style=\"text-align: right;\">\n",
              "      <th></th>\n",
              "      <th>ISBN</th>\n",
              "      <th>Book-Title</th>\n",
              "      <th>Book-Author</th>\n",
              "      <th>Year-Of-Publication</th>\n",
              "      <th>Publisher</th>\n",
              "      <th>Image-URL-S</th>\n",
              "      <th>Image-URL-M</th>\n",
              "      <th>Image-URL-L</th>\n",
              "    </tr>\n",
              "  </thead>\n",
              "  <tbody>\n",
              "    <tr>\n",
              "      <th>209538</th>\n",
              "      <td>078946697X</td>\n",
              "      <td>DK Readers: Creating the X-Men, How It All Beg...</td>\n",
              "      <td>2000</td>\n",
              "      <td>DK Publishing Inc</td>\n",
              "      <td>http://images.amazon.com/images/P/078946697X.0...</td>\n",
              "      <td>http://images.amazon.com/images/P/078946697X.0...</td>\n",
              "      <td>http://images.amazon.com/images/P/078946697X.0...</td>\n",
              "      <td>NaN</td>\n",
              "    </tr>\n",
              "    <tr>\n",
              "      <th>220731</th>\n",
              "      <td>2070426769</td>\n",
              "      <td>Peuple du ciel, suivi de 'Les Bergers\\\";Jean-M...</td>\n",
              "      <td>2003</td>\n",
              "      <td>Gallimard</td>\n",
              "      <td>http://images.amazon.com/images/P/2070426769.0...</td>\n",
              "      <td>http://images.amazon.com/images/P/2070426769.0...</td>\n",
              "      <td>http://images.amazon.com/images/P/2070426769.0...</td>\n",
              "      <td>NaN</td>\n",
              "    </tr>\n",
              "    <tr>\n",
              "      <th>221678</th>\n",
              "      <td>0789466953</td>\n",
              "      <td>DK Readers: Creating the X-Men, How Comic Book...</td>\n",
              "      <td>2000</td>\n",
              "      <td>DK Publishing Inc</td>\n",
              "      <td>http://images.amazon.com/images/P/0789466953.0...</td>\n",
              "      <td>http://images.amazon.com/images/P/0789466953.0...</td>\n",
              "      <td>http://images.amazon.com/images/P/0789466953.0...</td>\n",
              "      <td>NaN</td>\n",
              "    </tr>\n",
              "  </tbody>\n",
              "</table>\n",
              "</div>\n",
              "      <button class=\"colab-df-convert\" onclick=\"convertToInteractive('df-4bb026dc-238a-4cdf-ad79-e149f7d3ccab')\"\n",
              "              title=\"Convert this dataframe to an interactive table.\"\n",
              "              style=\"display:none;\">\n",
              "        \n",
              "  <svg xmlns=\"http://www.w3.org/2000/svg\" height=\"24px\"viewBox=\"0 0 24 24\"\n",
              "       width=\"24px\">\n",
              "    <path d=\"M0 0h24v24H0V0z\" fill=\"none\"/>\n",
              "    <path d=\"M18.56 5.44l.94 2.06.94-2.06 2.06-.94-2.06-.94-.94-2.06-.94 2.06-2.06.94zm-11 1L8.5 8.5l.94-2.06 2.06-.94-2.06-.94L8.5 2.5l-.94 2.06-2.06.94zm10 10l.94 2.06.94-2.06 2.06-.94-2.06-.94-.94-2.06-.94 2.06-2.06.94z\"/><path d=\"M17.41 7.96l-1.37-1.37c-.4-.4-.92-.59-1.43-.59-.52 0-1.04.2-1.43.59L10.3 9.45l-7.72 7.72c-.78.78-.78 2.05 0 2.83L4 21.41c.39.39.9.59 1.41.59.51 0 1.02-.2 1.41-.59l7.78-7.78 2.81-2.81c.8-.78.8-2.07 0-2.86zM5.41 20L4 18.59l7.72-7.72 1.47 1.35L5.41 20z\"/>\n",
              "  </svg>\n",
              "      </button>\n",
              "      \n",
              "  <style>\n",
              "    .colab-df-container {\n",
              "      display:flex;\n",
              "      flex-wrap:wrap;\n",
              "      gap: 12px;\n",
              "    }\n",
              "\n",
              "    .colab-df-convert {\n",
              "      background-color: #E8F0FE;\n",
              "      border: none;\n",
              "      border-radius: 50%;\n",
              "      cursor: pointer;\n",
              "      display: none;\n",
              "      fill: #1967D2;\n",
              "      height: 32px;\n",
              "      padding: 0 0 0 0;\n",
              "      width: 32px;\n",
              "    }\n",
              "\n",
              "    .colab-df-convert:hover {\n",
              "      background-color: #E2EBFA;\n",
              "      box-shadow: 0px 1px 2px rgba(60, 64, 67, 0.3), 0px 1px 3px 1px rgba(60, 64, 67, 0.15);\n",
              "      fill: #174EA6;\n",
              "    }\n",
              "\n",
              "    [theme=dark] .colab-df-convert {\n",
              "      background-color: #3B4455;\n",
              "      fill: #D2E3FC;\n",
              "    }\n",
              "\n",
              "    [theme=dark] .colab-df-convert:hover {\n",
              "      background-color: #434B5C;\n",
              "      box-shadow: 0px 1px 3px 1px rgba(0, 0, 0, 0.15);\n",
              "      filter: drop-shadow(0px 1px 2px rgba(0, 0, 0, 0.3));\n",
              "      fill: #FFFFFF;\n",
              "    }\n",
              "  </style>\n",
              "\n",
              "      <script>\n",
              "        const buttonEl =\n",
              "          document.querySelector('#df-4bb026dc-238a-4cdf-ad79-e149f7d3ccab button.colab-df-convert');\n",
              "        buttonEl.style.display =\n",
              "          google.colab.kernel.accessAllowed ? 'block' : 'none';\n",
              "\n",
              "        async function convertToInteractive(key) {\n",
              "          const element = document.querySelector('#df-4bb026dc-238a-4cdf-ad79-e149f7d3ccab');\n",
              "          const dataTable =\n",
              "            await google.colab.kernel.invokeFunction('convertToInteractive',\n",
              "                                                     [key], {});\n",
              "          if (!dataTable) return;\n",
              "\n",
              "          const docLinkHtml = 'Like what you see? Visit the ' +\n",
              "            '<a target=\"_blank\" href=https://colab.research.google.com/notebooks/data_table.ipynb>data table notebook</a>'\n",
              "            + ' to learn more about interactive tables.';\n",
              "          element.innerHTML = '';\n",
              "          dataTable['output_type'] = 'display_data';\n",
              "          await google.colab.output.renderOutput(dataTable, element);\n",
              "          const docLink = document.createElement('div');\n",
              "          docLink.innerHTML = docLinkHtml;\n",
              "          element.appendChild(docLink);\n",
              "        }\n",
              "      </script>\n",
              "    </div>\n",
              "  </div>\n",
              "  "
            ]
          },
          "metadata": {},
          "execution_count": 27
        }
      ]
    },
    {
      "cell_type": "markdown",
      "source": [
        "In these 2 rows, the value of the year is value in Book author, and the value of Year of Publication should be in the publisher, so, values need to be shifted"
      ],
      "metadata": {
        "id": "T_BJmHcGww_b"
      }
    },
    {
      "cell_type": "code",
      "source": [
        "temp = books[(books['Year-Of-Publication'] == 'DK Publishing Inc') | (books['Year-Of-Publication'] == 'Gallimard')]"
      ],
      "metadata": {
        "execution": {
          "iopub.status.busy": "2023-04-26T00:01:28.657515Z",
          "iopub.execute_input": "2023-04-26T00:01:28.657984Z",
          "iopub.status.idle": "2023-04-26T00:01:28.703816Z",
          "shell.execute_reply.started": "2023-04-26T00:01:28.657935Z",
          "shell.execute_reply": "2023-04-26T00:01:28.702487Z"
        },
        "trusted": true,
        "id": "6HJe9Qypww_b"
      },
      "execution_count": 28,
      "outputs": []
    },
    {
      "cell_type": "code",
      "source": [
        "temp[temp['Book-Author'] == temp['Book-Author'][209538]]['Book-Title'].values[0]"
      ],
      "metadata": {
        "execution": {
          "iopub.status.busy": "2023-04-26T00:01:28.946379Z",
          "iopub.execute_input": "2023-04-26T00:01:28.946797Z",
          "iopub.status.idle": "2023-04-26T00:01:28.957010Z",
          "shell.execute_reply.started": "2023-04-26T00:01:28.946753Z",
          "shell.execute_reply": "2023-04-26T00:01:28.955303Z"
        },
        "trusted": true,
        "colab": {
          "base_uri": "https://localhost:8080/",
          "height": 36
        },
        "id": "y_U4ZtK-ww_b",
        "outputId": "b63c6efd-e454-42ea-bfb6-0105981d433f"
      },
      "execution_count": 29,
      "outputs": [
        {
          "output_type": "execute_result",
          "data": {
            "text/plain": [
              "'DK Readers: Creating the X-Men, How It All Began (Level 4: Proficient Readers)\\\\\";Michael Teitelbaum\"'"
            ],
            "application/vnd.google.colaboratory.intrinsic+json": {
              "type": "string"
            }
          },
          "metadata": {},
          "execution_count": 29
        }
      ]
    },
    {
      "cell_type": "code",
      "source": [
        "temp[temp['Book-Author'] == temp['Book-Author'][209538]]['Book-Title'].values[1]"
      ],
      "metadata": {
        "execution": {
          "iopub.status.busy": "2023-04-26T00:01:29.202405Z",
          "iopub.execute_input": "2023-04-26T00:01:29.202829Z",
          "iopub.status.idle": "2023-04-26T00:01:29.212603Z",
          "shell.execute_reply.started": "2023-04-26T00:01:29.202790Z",
          "shell.execute_reply": "2023-04-26T00:01:29.211179Z"
        },
        "trusted": true,
        "colab": {
          "base_uri": "https://localhost:8080/",
          "height": 36
        },
        "id": "n5Lj4pv3ww_c",
        "outputId": "d5cbaf7b-fde7-47c6-a126-3770609bc4b8"
      },
      "execution_count": 30,
      "outputs": [
        {
          "output_type": "execute_result",
          "data": {
            "text/plain": [
              "'DK Readers: Creating the X-Men, How Comic Books Come to Life (Level 4: Proficient Readers)\\\\\";James Buckley\"'"
            ],
            "application/vnd.google.colaboratory.intrinsic+json": {
              "type": "string"
            }
          },
          "metadata": {},
          "execution_count": 30
        }
      ]
    },
    {
      "cell_type": "markdown",
      "source": [
        "The name of the authors are concatenated with the Book title so we need to seperate them"
      ],
      "metadata": {
        "id": "vBNOxr68ww_c"
      }
    },
    {
      "cell_type": "code",
      "source": [
        "authors = []\n",
        "books_titles = []\n",
        "\n",
        "for title in temp['Book-Title']:\n",
        "    \n",
        "    author = title.split(';')[-1].split('\"')[0]\n",
        "    book = title.split(';')[0].split('\\\\')[0]\n",
        "\n",
        "    authors.append(author)\n",
        "    books_titles.append(book)"
      ],
      "metadata": {
        "execution": {
          "iopub.status.busy": "2023-04-26T00:01:30.728227Z",
          "iopub.execute_input": "2023-04-26T00:01:30.728722Z",
          "iopub.status.idle": "2023-04-26T00:01:30.736192Z",
          "shell.execute_reply.started": "2023-04-26T00:01:30.728671Z",
          "shell.execute_reply": "2023-04-26T00:01:30.734701Z"
        },
        "trusted": true,
        "id": "JHwfwk_Vww_c"
      },
      "execution_count": 31,
      "outputs": []
    },
    {
      "cell_type": "code",
      "source": [
        "authors"
      ],
      "metadata": {
        "execution": {
          "iopub.status.busy": "2023-04-26T00:01:31.000221Z",
          "iopub.execute_input": "2023-04-26T00:01:31.001283Z",
          "iopub.status.idle": "2023-04-26T00:01:31.007506Z",
          "shell.execute_reply.started": "2023-04-26T00:01:31.001225Z",
          "shell.execute_reply": "2023-04-26T00:01:31.006626Z"
        },
        "trusted": true,
        "colab": {
          "base_uri": "https://localhost:8080/"
        },
        "id": "F04ywNG4ww_c",
        "outputId": "32c204e8-19d7-4321-86e7-89f9699b849d"
      },
      "execution_count": 32,
      "outputs": [
        {
          "output_type": "execute_result",
          "data": {
            "text/plain": [
              "['Michael Teitelbaum', 'Jean-Marie Gustave Le ClÃ?Â©zio', 'James Buckley']"
            ]
          },
          "metadata": {},
          "execution_count": 32
        }
      ]
    },
    {
      "cell_type": "code",
      "source": [
        "books_titles"
      ],
      "metadata": {
        "execution": {
          "iopub.status.busy": "2023-04-26T00:01:31.350414Z",
          "iopub.execute_input": "2023-04-26T00:01:31.351657Z",
          "iopub.status.idle": "2023-04-26T00:01:31.360716Z",
          "shell.execute_reply.started": "2023-04-26T00:01:31.351591Z",
          "shell.execute_reply": "2023-04-26T00:01:31.359002Z"
        },
        "trusted": true,
        "colab": {
          "base_uri": "https://localhost:8080/"
        },
        "id": "IB9q-c8bww_c",
        "outputId": "5c71418e-bdef-4ccb-be62-10510a925cf1"
      },
      "execution_count": 33,
      "outputs": [
        {
          "output_type": "execute_result",
          "data": {
            "text/plain": [
              "['DK Readers: Creating the X-Men, How It All Began (Level 4: Proficient Readers)',\n",
              " \"Peuple du ciel, suivi de 'Les Bergers\",\n",
              " 'DK Readers: Creating the X-Men, How Comic Books Come to Life (Level 4: Proficient Readers)']"
            ]
          },
          "metadata": {},
          "execution_count": 33
        }
      ]
    },
    {
      "cell_type": "markdown",
      "source": [
        "Now we have separated the book titles and the authors, let's shift the values and assign the new ones"
      ],
      "metadata": {
        "id": "Gy0J9L-bww_c"
      }
    },
    {
      "cell_type": "code",
      "source": [
        "cols_to_shift = books.columns[1:]\n",
        "cols_to_shift"
      ],
      "metadata": {
        "execution": {
          "iopub.status.busy": "2023-04-26T00:01:32.248564Z",
          "iopub.execute_input": "2023-04-26T00:01:32.249058Z",
          "iopub.status.idle": "2023-04-26T00:01:32.257973Z",
          "shell.execute_reply.started": "2023-04-26T00:01:32.249012Z",
          "shell.execute_reply": "2023-04-26T00:01:32.256388Z"
        },
        "trusted": true,
        "colab": {
          "base_uri": "https://localhost:8080/"
        },
        "id": "yrRte-bGww_d",
        "outputId": "26c4468b-d7b8-41d2-ec01-942fbd6c2ab4"
      },
      "execution_count": 34,
      "outputs": [
        {
          "output_type": "execute_result",
          "data": {
            "text/plain": [
              "Index(['Book-Title', 'Book-Author', 'Year-Of-Publication', 'Publisher',\n",
              "       'Image-URL-S', 'Image-URL-M', 'Image-URL-L'],\n",
              "      dtype='object')"
            ]
          },
          "metadata": {},
          "execution_count": 34
        }
      ]
    },
    {
      "cell_type": "code",
      "source": [
        "temp = pd.concat([temp['ISBN'].to_frame(), temp[cols_to_shift].shift(periods = 1, axis = 1)], axis=1)\n",
        "temp"
      ],
      "metadata": {
        "execution": {
          "iopub.status.busy": "2023-04-26T00:01:32.562037Z",
          "iopub.execute_input": "2023-04-26T00:01:32.562776Z",
          "iopub.status.idle": "2023-04-26T00:01:32.585097Z",
          "shell.execute_reply.started": "2023-04-26T00:01:32.562731Z",
          "shell.execute_reply": "2023-04-26T00:01:32.583218Z"
        },
        "trusted": true,
        "colab": {
          "base_uri": "https://localhost:8080/",
          "height": 381
        },
        "id": "fEIuiXhJww_d",
        "outputId": "d731254c-25af-46d8-b422-0b7906d7d8c5"
      },
      "execution_count": 35,
      "outputs": [
        {
          "output_type": "execute_result",
          "data": {
            "text/plain": [
              "              ISBN Book-Title  \\\n",
              "209538  078946697X       None   \n",
              "220731  2070426769       None   \n",
              "221678  0789466953       None   \n",
              "\n",
              "                                              Book-Author Year-Of-Publication  \\\n",
              "209538  DK Readers: Creating the X-Men, How It All Beg...                2000   \n",
              "220731  Peuple du ciel, suivi de 'Les Bergers\\\";Jean-M...                2003   \n",
              "221678  DK Readers: Creating the X-Men, How Comic Book...                2000   \n",
              "\n",
              "                Publisher                                        Image-URL-S  \\\n",
              "209538  DK Publishing Inc  http://images.amazon.com/images/P/078946697X.0...   \n",
              "220731          Gallimard  http://images.amazon.com/images/P/2070426769.0...   \n",
              "221678  DK Publishing Inc  http://images.amazon.com/images/P/0789466953.0...   \n",
              "\n",
              "                                              Image-URL-M  \\\n",
              "209538  http://images.amazon.com/images/P/078946697X.0...   \n",
              "220731  http://images.amazon.com/images/P/2070426769.0...   \n",
              "221678  http://images.amazon.com/images/P/0789466953.0...   \n",
              "\n",
              "                                              Image-URL-L  \n",
              "209538  http://images.amazon.com/images/P/078946697X.0...  \n",
              "220731  http://images.amazon.com/images/P/2070426769.0...  \n",
              "221678  http://images.amazon.com/images/P/0789466953.0...  "
            ],
            "text/html": [
              "\n",
              "  <div id=\"df-958d81bc-d4a3-41cd-95f5-8a94e71be049\">\n",
              "    <div class=\"colab-df-container\">\n",
              "      <div>\n",
              "<style scoped>\n",
              "    .dataframe tbody tr th:only-of-type {\n",
              "        vertical-align: middle;\n",
              "    }\n",
              "\n",
              "    .dataframe tbody tr th {\n",
              "        vertical-align: top;\n",
              "    }\n",
              "\n",
              "    .dataframe thead th {\n",
              "        text-align: right;\n",
              "    }\n",
              "</style>\n",
              "<table border=\"1\" class=\"dataframe\">\n",
              "  <thead>\n",
              "    <tr style=\"text-align: right;\">\n",
              "      <th></th>\n",
              "      <th>ISBN</th>\n",
              "      <th>Book-Title</th>\n",
              "      <th>Book-Author</th>\n",
              "      <th>Year-Of-Publication</th>\n",
              "      <th>Publisher</th>\n",
              "      <th>Image-URL-S</th>\n",
              "      <th>Image-URL-M</th>\n",
              "      <th>Image-URL-L</th>\n",
              "    </tr>\n",
              "  </thead>\n",
              "  <tbody>\n",
              "    <tr>\n",
              "      <th>209538</th>\n",
              "      <td>078946697X</td>\n",
              "      <td>None</td>\n",
              "      <td>DK Readers: Creating the X-Men, How It All Beg...</td>\n",
              "      <td>2000</td>\n",
              "      <td>DK Publishing Inc</td>\n",
              "      <td>http://images.amazon.com/images/P/078946697X.0...</td>\n",
              "      <td>http://images.amazon.com/images/P/078946697X.0...</td>\n",
              "      <td>http://images.amazon.com/images/P/078946697X.0...</td>\n",
              "    </tr>\n",
              "    <tr>\n",
              "      <th>220731</th>\n",
              "      <td>2070426769</td>\n",
              "      <td>None</td>\n",
              "      <td>Peuple du ciel, suivi de 'Les Bergers\\\";Jean-M...</td>\n",
              "      <td>2003</td>\n",
              "      <td>Gallimard</td>\n",
              "      <td>http://images.amazon.com/images/P/2070426769.0...</td>\n",
              "      <td>http://images.amazon.com/images/P/2070426769.0...</td>\n",
              "      <td>http://images.amazon.com/images/P/2070426769.0...</td>\n",
              "    </tr>\n",
              "    <tr>\n",
              "      <th>221678</th>\n",
              "      <td>0789466953</td>\n",
              "      <td>None</td>\n",
              "      <td>DK Readers: Creating the X-Men, How Comic Book...</td>\n",
              "      <td>2000</td>\n",
              "      <td>DK Publishing Inc</td>\n",
              "      <td>http://images.amazon.com/images/P/0789466953.0...</td>\n",
              "      <td>http://images.amazon.com/images/P/0789466953.0...</td>\n",
              "      <td>http://images.amazon.com/images/P/0789466953.0...</td>\n",
              "    </tr>\n",
              "  </tbody>\n",
              "</table>\n",
              "</div>\n",
              "      <button class=\"colab-df-convert\" onclick=\"convertToInteractive('df-958d81bc-d4a3-41cd-95f5-8a94e71be049')\"\n",
              "              title=\"Convert this dataframe to an interactive table.\"\n",
              "              style=\"display:none;\">\n",
              "        \n",
              "  <svg xmlns=\"http://www.w3.org/2000/svg\" height=\"24px\"viewBox=\"0 0 24 24\"\n",
              "       width=\"24px\">\n",
              "    <path d=\"M0 0h24v24H0V0z\" fill=\"none\"/>\n",
              "    <path d=\"M18.56 5.44l.94 2.06.94-2.06 2.06-.94-2.06-.94-.94-2.06-.94 2.06-2.06.94zm-11 1L8.5 8.5l.94-2.06 2.06-.94-2.06-.94L8.5 2.5l-.94 2.06-2.06.94zm10 10l.94 2.06.94-2.06 2.06-.94-2.06-.94-.94-2.06-.94 2.06-2.06.94z\"/><path d=\"M17.41 7.96l-1.37-1.37c-.4-.4-.92-.59-1.43-.59-.52 0-1.04.2-1.43.59L10.3 9.45l-7.72 7.72c-.78.78-.78 2.05 0 2.83L4 21.41c.39.39.9.59 1.41.59.51 0 1.02-.2 1.41-.59l7.78-7.78 2.81-2.81c.8-.78.8-2.07 0-2.86zM5.41 20L4 18.59l7.72-7.72 1.47 1.35L5.41 20z\"/>\n",
              "  </svg>\n",
              "      </button>\n",
              "      \n",
              "  <style>\n",
              "    .colab-df-container {\n",
              "      display:flex;\n",
              "      flex-wrap:wrap;\n",
              "      gap: 12px;\n",
              "    }\n",
              "\n",
              "    .colab-df-convert {\n",
              "      background-color: #E8F0FE;\n",
              "      border: none;\n",
              "      border-radius: 50%;\n",
              "      cursor: pointer;\n",
              "      display: none;\n",
              "      fill: #1967D2;\n",
              "      height: 32px;\n",
              "      padding: 0 0 0 0;\n",
              "      width: 32px;\n",
              "    }\n",
              "\n",
              "    .colab-df-convert:hover {\n",
              "      background-color: #E2EBFA;\n",
              "      box-shadow: 0px 1px 2px rgba(60, 64, 67, 0.3), 0px 1px 3px 1px rgba(60, 64, 67, 0.15);\n",
              "      fill: #174EA6;\n",
              "    }\n",
              "\n",
              "    [theme=dark] .colab-df-convert {\n",
              "      background-color: #3B4455;\n",
              "      fill: #D2E3FC;\n",
              "    }\n",
              "\n",
              "    [theme=dark] .colab-df-convert:hover {\n",
              "      background-color: #434B5C;\n",
              "      box-shadow: 0px 1px 3px 1px rgba(0, 0, 0, 0.15);\n",
              "      filter: drop-shadow(0px 1px 2px rgba(0, 0, 0, 0.3));\n",
              "      fill: #FFFFFF;\n",
              "    }\n",
              "  </style>\n",
              "\n",
              "      <script>\n",
              "        const buttonEl =\n",
              "          document.querySelector('#df-958d81bc-d4a3-41cd-95f5-8a94e71be049 button.colab-df-convert');\n",
              "        buttonEl.style.display =\n",
              "          google.colab.kernel.accessAllowed ? 'block' : 'none';\n",
              "\n",
              "        async function convertToInteractive(key) {\n",
              "          const element = document.querySelector('#df-958d81bc-d4a3-41cd-95f5-8a94e71be049');\n",
              "          const dataTable =\n",
              "            await google.colab.kernel.invokeFunction('convertToInteractive',\n",
              "                                                     [key], {});\n",
              "          if (!dataTable) return;\n",
              "\n",
              "          const docLinkHtml = 'Like what you see? Visit the ' +\n",
              "            '<a target=\"_blank\" href=https://colab.research.google.com/notebooks/data_table.ipynb>data table notebook</a>'\n",
              "            + ' to learn more about interactive tables.';\n",
              "          element.innerHTML = '';\n",
              "          dataTable['output_type'] = 'display_data';\n",
              "          await google.colab.output.renderOutput(dataTable, element);\n",
              "          const docLink = document.createElement('div');\n",
              "          docLink.innerHTML = docLinkHtml;\n",
              "          element.appendChild(docLink);\n",
              "        }\n",
              "      </script>\n",
              "    </div>\n",
              "  </div>\n",
              "  "
            ]
          },
          "metadata": {},
          "execution_count": 35
        }
      ]
    },
    {
      "cell_type": "markdown",
      "source": [
        "Shifted the value, assigning the new ones."
      ],
      "metadata": {
        "id": "Tz0_1cHYww_d"
      }
    },
    {
      "cell_type": "code",
      "source": [
        "temp['Book-Title'] = books_titles\n",
        "temp['Book-Author'] = authors"
      ],
      "metadata": {
        "execution": {
          "iopub.status.busy": "2023-04-26T00:01:34.108517Z",
          "iopub.execute_input": "2023-04-26T00:01:34.109236Z",
          "iopub.status.idle": "2023-04-26T00:01:34.115183Z",
          "shell.execute_reply.started": "2023-04-26T00:01:34.109184Z",
          "shell.execute_reply": "2023-04-26T00:01:34.113382Z"
        },
        "trusted": true,
        "id": "TAvJRdz3ww_d"
      },
      "execution_count": 36,
      "outputs": []
    },
    {
      "cell_type": "code",
      "source": [
        "temp"
      ],
      "metadata": {
        "execution": {
          "iopub.status.busy": "2023-04-26T00:01:34.229270Z",
          "iopub.execute_input": "2023-04-26T00:01:34.229707Z",
          "iopub.status.idle": "2023-04-26T00:01:34.247135Z",
          "shell.execute_reply.started": "2023-04-26T00:01:34.229664Z",
          "shell.execute_reply": "2023-04-26T00:01:34.245699Z"
        },
        "trusted": true,
        "colab": {
          "base_uri": "https://localhost:8080/",
          "height": 520
        },
        "id": "jVEJsiduww_d",
        "outputId": "e9e7b90b-dfe9-4928-aec9-9d48a429469e"
      },
      "execution_count": 37,
      "outputs": [
        {
          "output_type": "execute_result",
          "data": {
            "text/plain": [
              "              ISBN                                         Book-Title  \\\n",
              "209538  078946697X  DK Readers: Creating the X-Men, How It All Beg...   \n",
              "220731  2070426769              Peuple du ciel, suivi de 'Les Bergers   \n",
              "221678  0789466953  DK Readers: Creating the X-Men, How Comic Book...   \n",
              "\n",
              "                            Book-Author Year-Of-Publication  \\\n",
              "209538               Michael Teitelbaum                2000   \n",
              "220731  Jean-Marie Gustave Le ClÃ?Â©zio                2003   \n",
              "221678                    James Buckley                2000   \n",
              "\n",
              "                Publisher                                        Image-URL-S  \\\n",
              "209538  DK Publishing Inc  http://images.amazon.com/images/P/078946697X.0...   \n",
              "220731          Gallimard  http://images.amazon.com/images/P/2070426769.0...   \n",
              "221678  DK Publishing Inc  http://images.amazon.com/images/P/0789466953.0...   \n",
              "\n",
              "                                              Image-URL-M  \\\n",
              "209538  http://images.amazon.com/images/P/078946697X.0...   \n",
              "220731  http://images.amazon.com/images/P/2070426769.0...   \n",
              "221678  http://images.amazon.com/images/P/0789466953.0...   \n",
              "\n",
              "                                              Image-URL-L  \n",
              "209538  http://images.amazon.com/images/P/078946697X.0...  \n",
              "220731  http://images.amazon.com/images/P/2070426769.0...  \n",
              "221678  http://images.amazon.com/images/P/0789466953.0...  "
            ],
            "text/html": [
              "\n",
              "  <div id=\"df-a778f0f8-a97b-4600-8fc8-66549981288b\">\n",
              "    <div class=\"colab-df-container\">\n",
              "      <div>\n",
              "<style scoped>\n",
              "    .dataframe tbody tr th:only-of-type {\n",
              "        vertical-align: middle;\n",
              "    }\n",
              "\n",
              "    .dataframe tbody tr th {\n",
              "        vertical-align: top;\n",
              "    }\n",
              "\n",
              "    .dataframe thead th {\n",
              "        text-align: right;\n",
              "    }\n",
              "</style>\n",
              "<table border=\"1\" class=\"dataframe\">\n",
              "  <thead>\n",
              "    <tr style=\"text-align: right;\">\n",
              "      <th></th>\n",
              "      <th>ISBN</th>\n",
              "      <th>Book-Title</th>\n",
              "      <th>Book-Author</th>\n",
              "      <th>Year-Of-Publication</th>\n",
              "      <th>Publisher</th>\n",
              "      <th>Image-URL-S</th>\n",
              "      <th>Image-URL-M</th>\n",
              "      <th>Image-URL-L</th>\n",
              "    </tr>\n",
              "  </thead>\n",
              "  <tbody>\n",
              "    <tr>\n",
              "      <th>209538</th>\n",
              "      <td>078946697X</td>\n",
              "      <td>DK Readers: Creating the X-Men, How It All Beg...</td>\n",
              "      <td>Michael Teitelbaum</td>\n",
              "      <td>2000</td>\n",
              "      <td>DK Publishing Inc</td>\n",
              "      <td>http://images.amazon.com/images/P/078946697X.0...</td>\n",
              "      <td>http://images.amazon.com/images/P/078946697X.0...</td>\n",
              "      <td>http://images.amazon.com/images/P/078946697X.0...</td>\n",
              "    </tr>\n",
              "    <tr>\n",
              "      <th>220731</th>\n",
              "      <td>2070426769</td>\n",
              "      <td>Peuple du ciel, suivi de 'Les Bergers</td>\n",
              "      <td>Jean-Marie Gustave Le ClÃ?Â©zio</td>\n",
              "      <td>2003</td>\n",
              "      <td>Gallimard</td>\n",
              "      <td>http://images.amazon.com/images/P/2070426769.0...</td>\n",
              "      <td>http://images.amazon.com/images/P/2070426769.0...</td>\n",
              "      <td>http://images.amazon.com/images/P/2070426769.0...</td>\n",
              "    </tr>\n",
              "    <tr>\n",
              "      <th>221678</th>\n",
              "      <td>0789466953</td>\n",
              "      <td>DK Readers: Creating the X-Men, How Comic Book...</td>\n",
              "      <td>James Buckley</td>\n",
              "      <td>2000</td>\n",
              "      <td>DK Publishing Inc</td>\n",
              "      <td>http://images.amazon.com/images/P/0789466953.0...</td>\n",
              "      <td>http://images.amazon.com/images/P/0789466953.0...</td>\n",
              "      <td>http://images.amazon.com/images/P/0789466953.0...</td>\n",
              "    </tr>\n",
              "  </tbody>\n",
              "</table>\n",
              "</div>\n",
              "      <button class=\"colab-df-convert\" onclick=\"convertToInteractive('df-a778f0f8-a97b-4600-8fc8-66549981288b')\"\n",
              "              title=\"Convert this dataframe to an interactive table.\"\n",
              "              style=\"display:none;\">\n",
              "        \n",
              "  <svg xmlns=\"http://www.w3.org/2000/svg\" height=\"24px\"viewBox=\"0 0 24 24\"\n",
              "       width=\"24px\">\n",
              "    <path d=\"M0 0h24v24H0V0z\" fill=\"none\"/>\n",
              "    <path d=\"M18.56 5.44l.94 2.06.94-2.06 2.06-.94-2.06-.94-.94-2.06-.94 2.06-2.06.94zm-11 1L8.5 8.5l.94-2.06 2.06-.94-2.06-.94L8.5 2.5l-.94 2.06-2.06.94zm10 10l.94 2.06.94-2.06 2.06-.94-2.06-.94-.94-2.06-.94 2.06-2.06.94z\"/><path d=\"M17.41 7.96l-1.37-1.37c-.4-.4-.92-.59-1.43-.59-.52 0-1.04.2-1.43.59L10.3 9.45l-7.72 7.72c-.78.78-.78 2.05 0 2.83L4 21.41c.39.39.9.59 1.41.59.51 0 1.02-.2 1.41-.59l7.78-7.78 2.81-2.81c.8-.78.8-2.07 0-2.86zM5.41 20L4 18.59l7.72-7.72 1.47 1.35L5.41 20z\"/>\n",
              "  </svg>\n",
              "      </button>\n",
              "      \n",
              "  <style>\n",
              "    .colab-df-container {\n",
              "      display:flex;\n",
              "      flex-wrap:wrap;\n",
              "      gap: 12px;\n",
              "    }\n",
              "\n",
              "    .colab-df-convert {\n",
              "      background-color: #E8F0FE;\n",
              "      border: none;\n",
              "      border-radius: 50%;\n",
              "      cursor: pointer;\n",
              "      display: none;\n",
              "      fill: #1967D2;\n",
              "      height: 32px;\n",
              "      padding: 0 0 0 0;\n",
              "      width: 32px;\n",
              "    }\n",
              "\n",
              "    .colab-df-convert:hover {\n",
              "      background-color: #E2EBFA;\n",
              "      box-shadow: 0px 1px 2px rgba(60, 64, 67, 0.3), 0px 1px 3px 1px rgba(60, 64, 67, 0.15);\n",
              "      fill: #174EA6;\n",
              "    }\n",
              "\n",
              "    [theme=dark] .colab-df-convert {\n",
              "      background-color: #3B4455;\n",
              "      fill: #D2E3FC;\n",
              "    }\n",
              "\n",
              "    [theme=dark] .colab-df-convert:hover {\n",
              "      background-color: #434B5C;\n",
              "      box-shadow: 0px 1px 3px 1px rgba(0, 0, 0, 0.15);\n",
              "      filter: drop-shadow(0px 1px 2px rgba(0, 0, 0, 0.3));\n",
              "      fill: #FFFFFF;\n",
              "    }\n",
              "  </style>\n",
              "\n",
              "      <script>\n",
              "        const buttonEl =\n",
              "          document.querySelector('#df-a778f0f8-a97b-4600-8fc8-66549981288b button.colab-df-convert');\n",
              "        buttonEl.style.display =\n",
              "          google.colab.kernel.accessAllowed ? 'block' : 'none';\n",
              "\n",
              "        async function convertToInteractive(key) {\n",
              "          const element = document.querySelector('#df-a778f0f8-a97b-4600-8fc8-66549981288b');\n",
              "          const dataTable =\n",
              "            await google.colab.kernel.invokeFunction('convertToInteractive',\n",
              "                                                     [key], {});\n",
              "          if (!dataTable) return;\n",
              "\n",
              "          const docLinkHtml = 'Like what you see? Visit the ' +\n",
              "            '<a target=\"_blank\" href=https://colab.research.google.com/notebooks/data_table.ipynb>data table notebook</a>'\n",
              "            + ' to learn more about interactive tables.';\n",
              "          element.innerHTML = '';\n",
              "          dataTable['output_type'] = 'display_data';\n",
              "          await google.colab.output.renderOutput(dataTable, element);\n",
              "          const docLink = document.createElement('div');\n",
              "          docLink.innerHTML = docLinkHtml;\n",
              "          element.appendChild(docLink);\n",
              "        }\n",
              "      </script>\n",
              "    </div>\n",
              "  </div>\n",
              "  "
            ]
          },
          "metadata": {},
          "execution_count": 37
        }
      ]
    },
    {
      "cell_type": "markdown",
      "source": [
        "Assigning the new rows to the original books data"
      ],
      "metadata": {
        "id": "KNXpuk03ww_d"
      }
    },
    {
      "cell_type": "code",
      "source": [
        "rows_to_rem = list(temp.index)\n",
        "rows_to_rem"
      ],
      "metadata": {
        "execution": {
          "iopub.status.busy": "2023-04-26T00:01:35.039305Z",
          "iopub.execute_input": "2023-04-26T00:01:35.040558Z",
          "iopub.status.idle": "2023-04-26T00:01:35.049586Z",
          "shell.execute_reply.started": "2023-04-26T00:01:35.040492Z",
          "shell.execute_reply": "2023-04-26T00:01:35.048260Z"
        },
        "trusted": true,
        "colab": {
          "base_uri": "https://localhost:8080/"
        },
        "id": "3YVsQ302ww_e",
        "outputId": "0b9ea1f2-d427-4196-dfcf-5283288efc4d"
      },
      "execution_count": 38,
      "outputs": [
        {
          "output_type": "execute_result",
          "data": {
            "text/plain": [
              "[209538, 220731, 221678]"
            ]
          },
          "metadata": {},
          "execution_count": 38
        }
      ]
    },
    {
      "cell_type": "code",
      "source": [
        "books.shape"
      ],
      "metadata": {
        "execution": {
          "iopub.status.busy": "2023-04-26T00:01:35.603400Z",
          "iopub.execute_input": "2023-04-26T00:01:35.603820Z",
          "iopub.status.idle": "2023-04-26T00:01:35.612059Z",
          "shell.execute_reply.started": "2023-04-26T00:01:35.603774Z",
          "shell.execute_reply": "2023-04-26T00:01:35.610595Z"
        },
        "trusted": true,
        "colab": {
          "base_uri": "https://localhost:8080/"
        },
        "id": "uy90d-Xeww_e",
        "outputId": "1b3d2766-f858-48fa-a223-ce7a559e5432"
      },
      "execution_count": 39,
      "outputs": [
        {
          "output_type": "execute_result",
          "data": {
            "text/plain": [
              "(271360, 8)"
            ]
          },
          "metadata": {},
          "execution_count": 39
        }
      ]
    },
    {
      "cell_type": "code",
      "source": [
        "books.drop(rows_to_rem, axis=0, inplace=True)"
      ],
      "metadata": {
        "execution": {
          "iopub.status.busy": "2023-04-26T00:01:36.147352Z",
          "iopub.execute_input": "2023-04-26T00:01:36.148770Z",
          "iopub.status.idle": "2023-04-26T00:01:36.197060Z",
          "shell.execute_reply.started": "2023-04-26T00:01:36.148713Z",
          "shell.execute_reply": "2023-04-26T00:01:36.195864Z"
        },
        "trusted": true,
        "id": "kVhwxRZMww_e"
      },
      "execution_count": 40,
      "outputs": []
    },
    {
      "cell_type": "code",
      "source": [
        "books.shape"
      ],
      "metadata": {
        "execution": {
          "iopub.status.busy": "2023-04-26T00:01:36.691536Z",
          "iopub.execute_input": "2023-04-26T00:01:36.692228Z",
          "iopub.status.idle": "2023-04-26T00:01:36.699764Z",
          "shell.execute_reply.started": "2023-04-26T00:01:36.692187Z",
          "shell.execute_reply": "2023-04-26T00:01:36.698413Z"
        },
        "trusted": true,
        "colab": {
          "base_uri": "https://localhost:8080/"
        },
        "id": "0Jlp4X7www_e",
        "outputId": "4ce55056-9ff7-494f-bb53-8cd073c24cb6"
      },
      "execution_count": 41,
      "outputs": [
        {
          "output_type": "execute_result",
          "data": {
            "text/plain": [
              "(271357, 8)"
            ]
          },
          "metadata": {},
          "execution_count": 41
        }
      ]
    },
    {
      "cell_type": "markdown",
      "source": [
        "Removed the dirty rows, adding the new cleaned ones"
      ],
      "metadata": {
        "id": "UvueZ0orww_e"
      }
    },
    {
      "cell_type": "code",
      "source": [
        "for ind in rows_to_rem:\n",
        "    \n",
        "    books.loc[ind] = list(temp.loc[ind].values)"
      ],
      "metadata": {
        "execution": {
          "iopub.status.busy": "2023-04-26T00:01:37.948231Z",
          "iopub.execute_input": "2023-04-26T00:01:37.948677Z",
          "iopub.status.idle": "2023-04-26T00:01:38.150940Z",
          "shell.execute_reply.started": "2023-04-26T00:01:37.948638Z",
          "shell.execute_reply": "2023-04-26T00:01:38.149467Z"
        },
        "trusted": true,
        "id": "OcrAoDD5ww_e"
      },
      "execution_count": 42,
      "outputs": []
    },
    {
      "cell_type": "code",
      "source": [
        "books.shape"
      ],
      "metadata": {
        "execution": {
          "iopub.status.busy": "2023-04-26T00:01:38.153347Z",
          "iopub.execute_input": "2023-04-26T00:01:38.153729Z",
          "iopub.status.idle": "2023-04-26T00:01:38.160841Z",
          "shell.execute_reply.started": "2023-04-26T00:01:38.153689Z",
          "shell.execute_reply": "2023-04-26T00:01:38.159622Z"
        },
        "trusted": true,
        "colab": {
          "base_uri": "https://localhost:8080/"
        },
        "id": "l8WbA1UCww_e",
        "outputId": "46135492-56a0-418d-aa99-20cd33ef4aab"
      },
      "execution_count": 43,
      "outputs": [
        {
          "output_type": "execute_result",
          "data": {
            "text/plain": [
              "(271360, 8)"
            ]
          },
          "metadata": {},
          "execution_count": 43
        }
      ]
    },
    {
      "cell_type": "code",
      "source": [
        "books['Year-Of-Publication'] = books['Year-Of-Publication'].astype('int32')"
      ],
      "metadata": {
        "execution": {
          "iopub.status.busy": "2023-04-26T00:01:38.313434Z",
          "iopub.execute_input": "2023-04-26T00:01:38.313926Z",
          "iopub.status.idle": "2023-04-26T00:01:38.377367Z",
          "shell.execute_reply.started": "2023-04-26T00:01:38.313862Z",
          "shell.execute_reply": "2023-04-26T00:01:38.375960Z"
        },
        "trusted": true,
        "id": "Ur8h_f30ww_f"
      },
      "execution_count": 44,
      "outputs": []
    },
    {
      "cell_type": "code",
      "source": [
        "books.dtypes"
      ],
      "metadata": {
        "execution": {
          "iopub.status.busy": "2023-04-26T00:01:38.671443Z",
          "iopub.execute_input": "2023-04-26T00:01:38.671894Z",
          "iopub.status.idle": "2023-04-26T00:01:38.682223Z",
          "shell.execute_reply.started": "2023-04-26T00:01:38.671854Z",
          "shell.execute_reply": "2023-04-26T00:01:38.680789Z"
        },
        "trusted": true,
        "colab": {
          "base_uri": "https://localhost:8080/"
        },
        "id": "JeMav-Vdww_f",
        "outputId": "1dcaa958-0431-4fc5-8bc9-2e8335f087b8"
      },
      "execution_count": 45,
      "outputs": [
        {
          "output_type": "execute_result",
          "data": {
            "text/plain": [
              "ISBN                   object\n",
              "Book-Title             object\n",
              "Book-Author            object\n",
              "Year-Of-Publication     int32\n",
              "Publisher              object\n",
              "Image-URL-S            object\n",
              "Image-URL-M            object\n",
              "Image-URL-L            object\n",
              "dtype: object"
            ]
          },
          "metadata": {},
          "execution_count": 45
        }
      ]
    },
    {
      "cell_type": "markdown",
      "source": [
        "The year column had been fixed"
      ],
      "metadata": {
        "id": "WyNnIgIWww_f"
      }
    },
    {
      "cell_type": "code",
      "source": [
        "plot_top20(books, 'Year-Of-Publication', 'Top 20 years in which books were published in terms of count', \"Year\", \"Count\")"
      ],
      "metadata": {
        "execution": {
          "iopub.status.busy": "2023-04-26T00:01:39.470373Z",
          "iopub.execute_input": "2023-04-26T00:01:39.471134Z",
          "iopub.status.idle": "2023-04-26T00:01:41.312508Z",
          "shell.execute_reply.started": "2023-04-26T00:01:39.471087Z",
          "shell.execute_reply": "2023-04-26T00:01:41.311152Z"
        },
        "trusted": true,
        "colab": {
          "base_uri": "https://localhost:8080/",
          "height": 0
        },
        "id": "JEj5yY0lww_f",
        "outputId": "9c09bbb9-e25d-4cf3-ea91-933bc512e5fa"
      },
      "execution_count": 46,
      "outputs": [
        {
          "output_type": "display_data",
          "data": {
            "text/html": [
              "<html>\n",
              "<head><meta charset=\"utf-8\" /></head>\n",
              "<body>\n",
              "    <div>            <script src=\"https://cdnjs.cloudflare.com/ajax/libs/mathjax/2.7.5/MathJax.js?config=TeX-AMS-MML_SVG\"></script><script type=\"text/javascript\">if (window.MathJax && window.MathJax.Hub && window.MathJax.Hub.Config) {window.MathJax.Hub.Config({SVG: {font: \"STIX-Web\"}});}</script>                <script type=\"text/javascript\">window.PlotlyConfig = {MathJaxConfig: 'local'};</script>\n",
              "        <script src=\"https://cdn.plot.ly/plotly-2.18.2.min.js\"></script>                <div id=\"e0656725-e6fb-4e4e-95e5-ea797dfb9d35\" class=\"plotly-graph-div\" style=\"height:525px; width:100%;\"></div>            <script type=\"text/javascript\">                                    window.PLOTLYENV=window.PLOTLYENV || {};                                    if (document.getElementById(\"e0656725-e6fb-4e4e-95e5-ea797dfb9d35\")) {                    Plotly.newPlot(                        \"e0656725-e6fb-4e4e-95e5-ea797dfb9d35\",                        [{\"alignmentgroup\":\"True\",\"hovertemplate\":\"x=%{x}<br>y=%{y}<br>text=%{text}<extra></extra>\",\"legendgroup\":\"\",\"marker\":{\"color\":\"rgb(255,247,251)\",\"pattern\":{\"shape\":\"\"}},\"name\":\"\",\"offsetgroup\":\"\",\"orientation\":\"v\",\"showlegend\":false,\"text\":[17627.0,17431.0,17359.0,17234.0,15766.0,14890.0,14359.0,14030.0,13546.0,11796.0,10602.0,9906.0,9389.0,8660.0,7936.0,7492.0,6529.0,5841.0,5839.0,5343.0],\"textposition\":\"auto\",\"x\":[2002,1999,2001,2000,1998,1997,2003,1996,1995,1994,1993,1992,1991,1990,1989,1988,1987,1986,2004,1985],\"xaxis\":\"x\",\"y\":[17627,17431,17359,17234,15766,14890,14359,14030,13546,11796,10602,9906,9389,8660,7936,7492,6529,5841,5839,5343],\"yaxis\":\"y\",\"type\":\"bar\"}],                        {\"template\":{\"data\":{\"barpolar\":[{\"marker\":{\"line\":{\"color\":\"rgb(17,17,17)\",\"width\":0.5},\"pattern\":{\"fillmode\":\"overlay\",\"size\":10,\"solidity\":0.2}},\"type\":\"barpolar\"}],\"bar\":[{\"error_x\":{\"color\":\"#f2f5fa\"},\"error_y\":{\"color\":\"#f2f5fa\"},\"marker\":{\"line\":{\"color\":\"rgb(17,17,17)\",\"width\":0.5},\"pattern\":{\"fillmode\":\"overlay\",\"size\":10,\"solidity\":0.2}},\"type\":\"bar\"}],\"carpet\":[{\"aaxis\":{\"endlinecolor\":\"#A2B1C6\",\"gridcolor\":\"#506784\",\"linecolor\":\"#506784\",\"minorgridcolor\":\"#506784\",\"startlinecolor\":\"#A2B1C6\"},\"baxis\":{\"endlinecolor\":\"#A2B1C6\",\"gridcolor\":\"#506784\",\"linecolor\":\"#506784\",\"minorgridcolor\":\"#506784\",\"startlinecolor\":\"#A2B1C6\"},\"type\":\"carpet\"}],\"choropleth\":[{\"colorbar\":{\"outlinewidth\":0,\"ticks\":\"\"},\"type\":\"choropleth\"}],\"contourcarpet\":[{\"colorbar\":{\"outlinewidth\":0,\"ticks\":\"\"},\"type\":\"contourcarpet\"}],\"contour\":[{\"colorbar\":{\"outlinewidth\":0,\"ticks\":\"\"},\"colorscale\":[[0.0,\"#0d0887\"],[0.1111111111111111,\"#46039f\"],[0.2222222222222222,\"#7201a8\"],[0.3333333333333333,\"#9c179e\"],[0.4444444444444444,\"#bd3786\"],[0.5555555555555556,\"#d8576b\"],[0.6666666666666666,\"#ed7953\"],[0.7777777777777778,\"#fb9f3a\"],[0.8888888888888888,\"#fdca26\"],[1.0,\"#f0f921\"]],\"type\":\"contour\"}],\"heatmapgl\":[{\"colorbar\":{\"outlinewidth\":0,\"ticks\":\"\"},\"colorscale\":[[0.0,\"#0d0887\"],[0.1111111111111111,\"#46039f\"],[0.2222222222222222,\"#7201a8\"],[0.3333333333333333,\"#9c179e\"],[0.4444444444444444,\"#bd3786\"],[0.5555555555555556,\"#d8576b\"],[0.6666666666666666,\"#ed7953\"],[0.7777777777777778,\"#fb9f3a\"],[0.8888888888888888,\"#fdca26\"],[1.0,\"#f0f921\"]],\"type\":\"heatmapgl\"}],\"heatmap\":[{\"colorbar\":{\"outlinewidth\":0,\"ticks\":\"\"},\"colorscale\":[[0.0,\"#0d0887\"],[0.1111111111111111,\"#46039f\"],[0.2222222222222222,\"#7201a8\"],[0.3333333333333333,\"#9c179e\"],[0.4444444444444444,\"#bd3786\"],[0.5555555555555556,\"#d8576b\"],[0.6666666666666666,\"#ed7953\"],[0.7777777777777778,\"#fb9f3a\"],[0.8888888888888888,\"#fdca26\"],[1.0,\"#f0f921\"]],\"type\":\"heatmap\"}],\"histogram2dcontour\":[{\"colorbar\":{\"outlinewidth\":0,\"ticks\":\"\"},\"colorscale\":[[0.0,\"#0d0887\"],[0.1111111111111111,\"#46039f\"],[0.2222222222222222,\"#7201a8\"],[0.3333333333333333,\"#9c179e\"],[0.4444444444444444,\"#bd3786\"],[0.5555555555555556,\"#d8576b\"],[0.6666666666666666,\"#ed7953\"],[0.7777777777777778,\"#fb9f3a\"],[0.8888888888888888,\"#fdca26\"],[1.0,\"#f0f921\"]],\"type\":\"histogram2dcontour\"}],\"histogram2d\":[{\"colorbar\":{\"outlinewidth\":0,\"ticks\":\"\"},\"colorscale\":[[0.0,\"#0d0887\"],[0.1111111111111111,\"#46039f\"],[0.2222222222222222,\"#7201a8\"],[0.3333333333333333,\"#9c179e\"],[0.4444444444444444,\"#bd3786\"],[0.5555555555555556,\"#d8576b\"],[0.6666666666666666,\"#ed7953\"],[0.7777777777777778,\"#fb9f3a\"],[0.8888888888888888,\"#fdca26\"],[1.0,\"#f0f921\"]],\"type\":\"histogram2d\"}],\"histogram\":[{\"marker\":{\"pattern\":{\"fillmode\":\"overlay\",\"size\":10,\"solidity\":0.2}},\"type\":\"histogram\"}],\"mesh3d\":[{\"colorbar\":{\"outlinewidth\":0,\"ticks\":\"\"},\"type\":\"mesh3d\"}],\"parcoords\":[{\"line\":{\"colorbar\":{\"outlinewidth\":0,\"ticks\":\"\"}},\"type\":\"parcoords\"}],\"pie\":[{\"automargin\":true,\"type\":\"pie\"}],\"scatter3d\":[{\"line\":{\"colorbar\":{\"outlinewidth\":0,\"ticks\":\"\"}},\"marker\":{\"colorbar\":{\"outlinewidth\":0,\"ticks\":\"\"}},\"type\":\"scatter3d\"}],\"scattercarpet\":[{\"marker\":{\"colorbar\":{\"outlinewidth\":0,\"ticks\":\"\"}},\"type\":\"scattercarpet\"}],\"scattergeo\":[{\"marker\":{\"colorbar\":{\"outlinewidth\":0,\"ticks\":\"\"}},\"type\":\"scattergeo\"}],\"scattergl\":[{\"marker\":{\"line\":{\"color\":\"#283442\"}},\"type\":\"scattergl\"}],\"scattermapbox\":[{\"marker\":{\"colorbar\":{\"outlinewidth\":0,\"ticks\":\"\"}},\"type\":\"scattermapbox\"}],\"scatterpolargl\":[{\"marker\":{\"colorbar\":{\"outlinewidth\":0,\"ticks\":\"\"}},\"type\":\"scatterpolargl\"}],\"scatterpolar\":[{\"marker\":{\"colorbar\":{\"outlinewidth\":0,\"ticks\":\"\"}},\"type\":\"scatterpolar\"}],\"scatter\":[{\"marker\":{\"line\":{\"color\":\"#283442\"}},\"type\":\"scatter\"}],\"scatterternary\":[{\"marker\":{\"colorbar\":{\"outlinewidth\":0,\"ticks\":\"\"}},\"type\":\"scatterternary\"}],\"surface\":[{\"colorbar\":{\"outlinewidth\":0,\"ticks\":\"\"},\"colorscale\":[[0.0,\"#0d0887\"],[0.1111111111111111,\"#46039f\"],[0.2222222222222222,\"#7201a8\"],[0.3333333333333333,\"#9c179e\"],[0.4444444444444444,\"#bd3786\"],[0.5555555555555556,\"#d8576b\"],[0.6666666666666666,\"#ed7953\"],[0.7777777777777778,\"#fb9f3a\"],[0.8888888888888888,\"#fdca26\"],[1.0,\"#f0f921\"]],\"type\":\"surface\"}],\"table\":[{\"cells\":{\"fill\":{\"color\":\"#506784\"},\"line\":{\"color\":\"rgb(17,17,17)\"}},\"header\":{\"fill\":{\"color\":\"#2a3f5f\"},\"line\":{\"color\":\"rgb(17,17,17)\"}},\"type\":\"table\"}]},\"layout\":{\"annotationdefaults\":{\"arrowcolor\":\"#f2f5fa\",\"arrowhead\":0,\"arrowwidth\":1},\"autotypenumbers\":\"strict\",\"coloraxis\":{\"colorbar\":{\"outlinewidth\":0,\"ticks\":\"\"}},\"colorscale\":{\"diverging\":[[0,\"#8e0152\"],[0.1,\"#c51b7d\"],[0.2,\"#de77ae\"],[0.3,\"#f1b6da\"],[0.4,\"#fde0ef\"],[0.5,\"#f7f7f7\"],[0.6,\"#e6f5d0\"],[0.7,\"#b8e186\"],[0.8,\"#7fbc41\"],[0.9,\"#4d9221\"],[1,\"#276419\"]],\"sequential\":[[0.0,\"#0d0887\"],[0.1111111111111111,\"#46039f\"],[0.2222222222222222,\"#7201a8\"],[0.3333333333333333,\"#9c179e\"],[0.4444444444444444,\"#bd3786\"],[0.5555555555555556,\"#d8576b\"],[0.6666666666666666,\"#ed7953\"],[0.7777777777777778,\"#fb9f3a\"],[0.8888888888888888,\"#fdca26\"],[1.0,\"#f0f921\"]],\"sequentialminus\":[[0.0,\"#0d0887\"],[0.1111111111111111,\"#46039f\"],[0.2222222222222222,\"#7201a8\"],[0.3333333333333333,\"#9c179e\"],[0.4444444444444444,\"#bd3786\"],[0.5555555555555556,\"#d8576b\"],[0.6666666666666666,\"#ed7953\"],[0.7777777777777778,\"#fb9f3a\"],[0.8888888888888888,\"#fdca26\"],[1.0,\"#f0f921\"]]},\"colorway\":[\"#636efa\",\"#EF553B\",\"#00cc96\",\"#ab63fa\",\"#FFA15A\",\"#19d3f3\",\"#FF6692\",\"#B6E880\",\"#FF97FF\",\"#FECB52\"],\"font\":{\"color\":\"#f2f5fa\"},\"geo\":{\"bgcolor\":\"rgb(17,17,17)\",\"lakecolor\":\"rgb(17,17,17)\",\"landcolor\":\"rgb(17,17,17)\",\"showlakes\":true,\"showland\":true,\"subunitcolor\":\"#506784\"},\"hoverlabel\":{\"align\":\"left\"},\"hovermode\":\"closest\",\"mapbox\":{\"style\":\"dark\"},\"paper_bgcolor\":\"rgb(17,17,17)\",\"plot_bgcolor\":\"rgb(17,17,17)\",\"polar\":{\"angularaxis\":{\"gridcolor\":\"#506784\",\"linecolor\":\"#506784\",\"ticks\":\"\"},\"bgcolor\":\"rgb(17,17,17)\",\"radialaxis\":{\"gridcolor\":\"#506784\",\"linecolor\":\"#506784\",\"ticks\":\"\"}},\"scene\":{\"xaxis\":{\"backgroundcolor\":\"rgb(17,17,17)\",\"gridcolor\":\"#506784\",\"gridwidth\":2,\"linecolor\":\"#506784\",\"showbackground\":true,\"ticks\":\"\",\"zerolinecolor\":\"#C8D4E3\"},\"yaxis\":{\"backgroundcolor\":\"rgb(17,17,17)\",\"gridcolor\":\"#506784\",\"gridwidth\":2,\"linecolor\":\"#506784\",\"showbackground\":true,\"ticks\":\"\",\"zerolinecolor\":\"#C8D4E3\"},\"zaxis\":{\"backgroundcolor\":\"rgb(17,17,17)\",\"gridcolor\":\"#506784\",\"gridwidth\":2,\"linecolor\":\"#506784\",\"showbackground\":true,\"ticks\":\"\",\"zerolinecolor\":\"#C8D4E3\"}},\"shapedefaults\":{\"line\":{\"color\":\"#f2f5fa\"}},\"sliderdefaults\":{\"bgcolor\":\"#C8D4E3\",\"bordercolor\":\"rgb(17,17,17)\",\"borderwidth\":1,\"tickwidth\":0},\"ternary\":{\"aaxis\":{\"gridcolor\":\"#506784\",\"linecolor\":\"#506784\",\"ticks\":\"\"},\"baxis\":{\"gridcolor\":\"#506784\",\"linecolor\":\"#506784\",\"ticks\":\"\"},\"bgcolor\":\"rgb(17,17,17)\",\"caxis\":{\"gridcolor\":\"#506784\",\"linecolor\":\"#506784\",\"ticks\":\"\"}},\"title\":{\"x\":0.05},\"updatemenudefaults\":{\"bgcolor\":\"#506784\",\"borderwidth\":0},\"xaxis\":{\"automargin\":true,\"gridcolor\":\"#283442\",\"linecolor\":\"#506784\",\"ticks\":\"\",\"title\":{\"standoff\":15},\"zerolinecolor\":\"#283442\",\"zerolinewidth\":2},\"yaxis\":{\"automargin\":true,\"gridcolor\":\"#283442\",\"linecolor\":\"#506784\",\"ticks\":\"\",\"title\":{\"standoff\":15},\"zerolinecolor\":\"#283442\",\"zerolinewidth\":2}}},\"xaxis\":{\"anchor\":\"y\",\"domain\":[0.0,1.0],\"title\":{\"text\":\"Year\"}},\"yaxis\":{\"anchor\":\"x\",\"domain\":[0.0,1.0],\"title\":{\"text\":\"Count\"}},\"legend\":{\"tracegroupgap\":0},\"title\":{\"text\":\"Top 20 years in which books were published in terms of count\"},\"barmode\":\"relative\",\"font\":{\"size\":15,\"family\":\"Franklin Gothic\"}},                        {\"responsive\": true}                    ).then(function(){\n",
              "                            \n",
              "var gd = document.getElementById('e0656725-e6fb-4e4e-95e5-ea797dfb9d35');\n",
              "var x = new MutationObserver(function (mutations, observer) {{\n",
              "        var display = window.getComputedStyle(gd).display;\n",
              "        if (!display || display === 'none') {{\n",
              "            console.log([gd, 'removed!']);\n",
              "            Plotly.purge(gd);\n",
              "            observer.disconnect();\n",
              "        }}\n",
              "}});\n",
              "\n",
              "// Listen for the removal of the full notebook cells\n",
              "var notebookContainer = gd.closest('#notebook-container');\n",
              "if (notebookContainer) {{\n",
              "    x.observe(notebookContainer, {childList: true});\n",
              "}}\n",
              "\n",
              "// Listen for the clearing of the current output cell\n",
              "var outputEl = gd.closest('.output');\n",
              "if (outputEl) {{\n",
              "    x.observe(outputEl, {childList: true});\n",
              "}}\n",
              "\n",
              "                        })                };                            </script>        </div>\n",
              "</body>\n",
              "</html>"
            ]
          },
          "metadata": {}
        }
      ]
    },
    {
      "cell_type": "code",
      "source": [
        "year_count=books['Year-Of-Publication'].value_counts()\n",
        "year_count=pd.DataFrame(year_count)\n",
        "\n",
        "plt.figure(figsize=(10, 9))\n",
        "sns.lineplot(data=year_count)\n",
        "plt.title('Year of Publication count (1950 - 2010)')\n",
        "plt.xlim(1950, 2011)\n",
        "plt.xlabel('Year')\n",
        "plt.ylabel('Total Books Published')\n",
        "plt.show()"
      ],
      "metadata": {
        "execution": {
          "iopub.status.busy": "2023-04-26T00:01:41.315152Z",
          "iopub.execute_input": "2023-04-26T00:01:41.315967Z",
          "iopub.status.idle": "2023-04-26T00:01:41.682377Z",
          "shell.execute_reply.started": "2023-04-26T00:01:41.315889Z",
          "shell.execute_reply": "2023-04-26T00:01:41.679683Z"
        },
        "trusted": true,
        "colab": {
          "base_uri": "https://localhost:8080/",
          "height": 0
        },
        "id": "VktHn_fLww_f",
        "outputId": "7464b555-5359-41e5-c333-cc69ddd59221"
      },
      "execution_count": 47,
      "outputs": [
        {
          "output_type": "display_data",
          "data": {
            "text/plain": [
              "<Figure size 1000x900 with 1 Axes>"
            ],
            "image/png": "[encoded data removed]"
          },
          "metadata": {}
        }
      ]
    },
    {
      "cell_type": "markdown",
      "source": [
        "The years 1999-2002 are the years in which most books were published."
      ],
      "metadata": {
        "id": "50g-i5Ocww_g"
      }
    },
    {
      "cell_type": "markdown",
      "source": [
        "Top 20 authors with books in this data:"
      ],
      "metadata": {
        "id": "xrS7uNNNww_g"
      }
    },
    {
      "cell_type": "code",
      "source": [
        "plot_top20(books, 'Book-Author', \"Top 20 Authors authored books by count\", \"Author name\", \"Count\")"
      ],
      "metadata": {
        "execution": {
          "iopub.status.busy": "2023-04-26T00:01:41.683810Z",
          "iopub.execute_input": "2023-04-26T00:01:41.684389Z",
          "iopub.status.idle": "2023-04-26T00:01:41.871981Z",
          "shell.execute_reply.started": "2023-04-26T00:01:41.684333Z",
          "shell.execute_reply": "2023-04-26T00:01:41.870448Z"
        },
        "trusted": true,
        "colab": {
          "base_uri": "https://localhost:8080/",
          "height": 0
        },
        "id": "a7B0Fxv7ww_g",
        "outputId": "3260cd59-a567-45d2-a8e6-af225e07df46"
      },
      "execution_count": 48,
      "outputs": [
        {
          "output_type": "display_data",
          "data": {
            "text/html": [
              "<html>\n",
              "<head><meta charset=\"utf-8\" /></head>\n",
              "<body>\n",
              "    <div>            <script src=\"https://cdnjs.cloudflare.com/ajax/libs/mathjax/2.7.5/MathJax.js?config=TeX-AMS-MML_SVG\"></script><script type=\"text/javascript\">if (window.MathJax && window.MathJax.Hub && window.MathJax.Hub.Config) {window.MathJax.Hub.Config({SVG: {font: \"STIX-Web\"}});}</script>                <script type=\"text/javascript\">window.PlotlyConfig = {MathJaxConfig: 'local'};</script>\n",
              "        <script src=\"https://cdn.plot.ly/plotly-2.18.2.min.js\"></script>                <div id=\"5d1552bd-a39c-415d-b495-91cc5af7e3b3\" class=\"plotly-graph-div\" style=\"height:525px; width:100%;\"></div>            <script type=\"text/javascript\">                                    window.PLOTLYENV=window.PLOTLYENV || {};                                    if (document.getElementById(\"5d1552bd-a39c-415d-b495-91cc5af7e3b3\")) {                    Plotly.newPlot(                        \"5d1552bd-a39c-415d-b495-91cc5af7e3b3\",                        [{\"alignmentgroup\":\"True\",\"hovertemplate\":\"x=%{x}<br>y=%{y}<br>text=%{text}<extra></extra>\",\"legendgroup\":\"\",\"marker\":{\"color\":\"rgb(255,247,251)\",\"pattern\":{\"shape\":\"\"}},\"name\":\"\",\"offsetgroup\":\"\",\"orientation\":\"v\",\"showlegend\":false,\"text\":[632.0,567.0,524.0,423.0,373.0,372.0,330.0,315.0,307.0,302.0,286.0,282.0,231.0,223.0,220.0,218.0,217.0,216.0,214.0,204.0],\"textposition\":\"auto\",\"x\":[\"Agatha Christie\",\"William Shakespeare\",\"Stephen King\",\"Ann M. Martin\",\"Carolyn Keene\",\"Francine Pascal\",\"Isaac Asimov\",\"Nora Roberts\",\"Barbara Cartland\",\"Charles Dickens\",\"Not Applicable (Na )\",\"R. L. Stine\",\"Mark Twain\",\"Jane Austen\",\"Terry Pratchett\",\"Mary Higgins Clark\",\"Piers Anthony\",\"Marion Zimmer Bradley\",\"Janet Dailey\",\"Franklin W. Dixon\"],\"xaxis\":\"x\",\"y\":[632,567,524,423,373,372,330,315,307,302,286,282,231,223,220,218,217,216,214,204],\"yaxis\":\"y\",\"type\":\"bar\"}],                        {\"template\":{\"data\":{\"barpolar\":[{\"marker\":{\"line\":{\"color\":\"rgb(17,17,17)\",\"width\":0.5},\"pattern\":{\"fillmode\":\"overlay\",\"size\":10,\"solidity\":0.2}},\"type\":\"barpolar\"}],\"bar\":[{\"error_x\":{\"color\":\"#f2f5fa\"},\"error_y\":{\"color\":\"#f2f5fa\"},\"marker\":{\"line\":{\"color\":\"rgb(17,17,17)\",\"width\":0.5},\"pattern\":{\"fillmode\":\"overlay\",\"size\":10,\"solidity\":0.2}},\"type\":\"bar\"}],\"carpet\":[{\"aaxis\":{\"endlinecolor\":\"#A2B1C6\",\"gridcolor\":\"#506784\",\"linecolor\":\"#506784\",\"minorgridcolor\":\"#506784\",\"startlinecolor\":\"#A2B1C6\"},\"baxis\":{\"endlinecolor\":\"#A2B1C6\",\"gridcolor\":\"#506784\",\"linecolor\":\"#506784\",\"minorgridcolor\":\"#506784\",\"startlinecolor\":\"#A2B1C6\"},\"type\":\"carpet\"}],\"choropleth\":[{\"colorbar\":{\"outlinewidth\":0,\"ticks\":\"\"},\"type\":\"choropleth\"}],\"contourcarpet\":[{\"colorbar\":{\"outlinewidth\":0,\"ticks\":\"\"},\"type\":\"contourcarpet\"}],\"contour\":[{\"colorbar\":{\"outlinewidth\":0,\"ticks\":\"\"},\"colorscale\":[[0.0,\"#0d0887\"],[0.1111111111111111,\"#46039f\"],[0.2222222222222222,\"#7201a8\"],[0.3333333333333333,\"#9c179e\"],[0.4444444444444444,\"#bd3786\"],[0.5555555555555556,\"#d8576b\"],[0.6666666666666666,\"#ed7953\"],[0.7777777777777778,\"#fb9f3a\"],[0.8888888888888888,\"#fdca26\"],[1.0,\"#f0f921\"]],\"type\":\"contour\"}],\"heatmapgl\":[{\"colorbar\":{\"outlinewidth\":0,\"ticks\":\"\"},\"colorscale\":[[0.0,\"#0d0887\"],[0.1111111111111111,\"#46039f\"],[0.2222222222222222,\"#7201a8\"],[0.3333333333333333,\"#9c179e\"],[0.4444444444444444,\"#bd3786\"],[0.5555555555555556,\"#d8576b\"],[0.6666666666666666,\"#ed7953\"],[0.7777777777777778,\"#fb9f3a\"],[0.8888888888888888,\"#fdca26\"],[1.0,\"#f0f921\"]],\"type\":\"heatmapgl\"}],\"heatmap\":[{\"colorbar\":{\"outlinewidth\":0,\"ticks\":\"\"},\"colorscale\":[[0.0,\"#0d0887\"],[0.1111111111111111,\"#46039f\"],[0.2222222222222222,\"#7201a8\"],[0.3333333333333333,\"#9c179e\"],[0.4444444444444444,\"#bd3786\"],[0.5555555555555556,\"#d8576b\"],[0.6666666666666666,\"#ed7953\"],[0.7777777777777778,\"#fb9f3a\"],[0.8888888888888888,\"#fdca26\"],[1.0,\"#f0f921\"]],\"type\":\"heatmap\"}],\"histogram2dcontour\":[{\"colorbar\":{\"outlinewidth\":0,\"ticks\":\"\"},\"colorscale\":[[0.0,\"#0d0887\"],[0.1111111111111111,\"#46039f\"],[0.2222222222222222,\"#7201a8\"],[0.3333333333333333,\"#9c179e\"],[0.4444444444444444,\"#bd3786\"],[0.5555555555555556,\"#d8576b\"],[0.6666666666666666,\"#ed7953\"],[0.7777777777777778,\"#fb9f3a\"],[0.8888888888888888,\"#fdca26\"],[1.0,\"#f0f921\"]],\"type\":\"histogram2dcontour\"}],\"histogram2d\":[{\"colorbar\":{\"outlinewidth\":0,\"ticks\":\"\"},\"colorscale\":[[0.0,\"#0d0887\"],[0.1111111111111111,\"#46039f\"],[0.2222222222222222,\"#7201a8\"],[0.3333333333333333,\"#9c179e\"],[0.4444444444444444,\"#bd3786\"],[0.5555555555555556,\"#d8576b\"],[0.6666666666666666,\"#ed7953\"],[0.7777777777777778,\"#fb9f3a\"],[0.8888888888888888,\"#fdca26\"],[1.0,\"#f0f921\"]],\"type\":\"histogram2d\"}],\"histogram\":[{\"marker\":{\"pattern\":{\"fillmode\":\"overlay\",\"size\":10,\"solidity\":0.2}},\"type\":\"histogram\"}],\"mesh3d\":[{\"colorbar\":{\"outlinewidth\":0,\"ticks\":\"\"},\"type\":\"mesh3d\"}],\"parcoords\":[{\"line\":{\"colorbar\":{\"outlinewidth\":0,\"ticks\":\"\"}},\"type\":\"parcoords\"}],\"pie\":[{\"automargin\":true,\"type\":\"pie\"}],\"scatter3d\":[{\"line\":{\"colorbar\":{\"outlinewidth\":0,\"ticks\":\"\"}},\"marker\":{\"colorbar\":{\"outlinewidth\":0,\"ticks\":\"\"}},\"type\":\"scatter3d\"}],\"scattercarpet\":[{\"marker\":{\"colorbar\":{\"outlinewidth\":0,\"ticks\":\"\"}},\"type\":\"scattercarpet\"}],\"scattergeo\":[{\"marker\":{\"colorbar\":{\"outlinewidth\":0,\"ticks\":\"\"}},\"type\":\"scattergeo\"}],\"scattergl\":[{\"marker\":{\"line\":{\"color\":\"#283442\"}},\"type\":\"scattergl\"}],\"scattermapbox\":[{\"marker\":{\"colorbar\":{\"outlinewidth\":0,\"ticks\":\"\"}},\"type\":\"scattermapbox\"}],\"scatterpolargl\":[{\"marker\":{\"colorbar\":{\"outlinewidth\":0,\"ticks\":\"\"}},\"type\":\"scatterpolargl\"}],\"scatterpolar\":[{\"marker\":{\"colorbar\":{\"outlinewidth\":0,\"ticks\":\"\"}},\"type\":\"scatterpolar\"}],\"scatter\":[{\"marker\":{\"line\":{\"color\":\"#283442\"}},\"type\":\"scatter\"}],\"scatterternary\":[{\"marker\":{\"colorbar\":{\"outlinewidth\":0,\"ticks\":\"\"}},\"type\":\"scatterternary\"}],\"surface\":[{\"colorbar\":{\"outlinewidth\":0,\"ticks\":\"\"},\"colorscale\":[[0.0,\"#0d0887\"],[0.1111111111111111,\"#46039f\"],[0.2222222222222222,\"#7201a8\"],[0.3333333333333333,\"#9c179e\"],[0.4444444444444444,\"#bd3786\"],[0.5555555555555556,\"#d8576b\"],[0.6666666666666666,\"#ed7953\"],[0.7777777777777778,\"#fb9f3a\"],[0.8888888888888888,\"#fdca26\"],[1.0,\"#f0f921\"]],\"type\":\"surface\"}],\"table\":[{\"cells\":{\"fill\":{\"color\":\"#506784\"},\"line\":{\"color\":\"rgb(17,17,17)\"}},\"header\":{\"fill\":{\"color\":\"#2a3f5f\"},\"line\":{\"color\":\"rgb(17,17,17)\"}},\"type\":\"table\"}]},\"layout\":{\"annotationdefaults\":{\"arrowcolor\":\"#f2f5fa\",\"arrowhead\":0,\"arrowwidth\":1},\"autotypenumbers\":\"strict\",\"coloraxis\":{\"colorbar\":{\"outlinewidth\":0,\"ticks\":\"\"}},\"colorscale\":{\"diverging\":[[0,\"#8e0152\"],[0.1,\"#c51b7d\"],[0.2,\"#de77ae\"],[0.3,\"#f1b6da\"],[0.4,\"#fde0ef\"],[0.5,\"#f7f7f7\"],[0.6,\"#e6f5d0\"],[0.7,\"#b8e186\"],[0.8,\"#7fbc41\"],[0.9,\"#4d9221\"],[1,\"#276419\"]],\"sequential\":[[0.0,\"#0d0887\"],[0.1111111111111111,\"#46039f\"],[0.2222222222222222,\"#7201a8\"],[0.3333333333333333,\"#9c179e\"],[0.4444444444444444,\"#bd3786\"],[0.5555555555555556,\"#d8576b\"],[0.6666666666666666,\"#ed7953\"],[0.7777777777777778,\"#fb9f3a\"],[0.8888888888888888,\"#fdca26\"],[1.0,\"#f0f921\"]],\"sequentialminus\":[[0.0,\"#0d0887\"],[0.1111111111111111,\"#46039f\"],[0.2222222222222222,\"#7201a8\"],[0.3333333333333333,\"#9c179e\"],[0.4444444444444444,\"#bd3786\"],[0.5555555555555556,\"#d8576b\"],[0.6666666666666666,\"#ed7953\"],[0.7777777777777778,\"#fb9f3a\"],[0.8888888888888888,\"#fdca26\"],[1.0,\"#f0f921\"]]},\"colorway\":[\"#636efa\",\"#EF553B\",\"#00cc96\",\"#ab63fa\",\"#FFA15A\",\"#19d3f3\",\"#FF6692\",\"#B6E880\",\"#FF97FF\",\"#FECB52\"],\"font\":{\"color\":\"#f2f5fa\"},\"geo\":{\"bgcolor\":\"rgb(17,17,17)\",\"lakecolor\":\"rgb(17,17,17)\",\"landcolor\":\"rgb(17,17,17)\",\"showlakes\":true,\"showland\":true,\"subunitcolor\":\"#506784\"},\"hoverlabel\":{\"align\":\"left\"},\"hovermode\":\"closest\",\"mapbox\":{\"style\":\"dark\"},\"paper_bgcolor\":\"rgb(17,17,17)\",\"plot_bgcolor\":\"rgb(17,17,17)\",\"polar\":{\"angularaxis\":{\"gridcolor\":\"#506784\",\"linecolor\":\"#506784\",\"ticks\":\"\"},\"bgcolor\":\"rgb(17,17,17)\",\"radialaxis\":{\"gridcolor\":\"#506784\",\"linecolor\":\"#506784\",\"ticks\":\"\"}},\"scene\":{\"xaxis\":{\"backgroundcolor\":\"rgb(17,17,17)\",\"gridcolor\":\"#506784\",\"gridwidth\":2,\"linecolor\":\"#506784\",\"showbackground\":true,\"ticks\":\"\",\"zerolinecolor\":\"#C8D4E3\"},\"yaxis\":{\"backgroundcolor\":\"rgb(17,17,17)\",\"gridcolor\":\"#506784\",\"gridwidth\":2,\"linecolor\":\"#506784\",\"showbackground\":true,\"ticks\":\"\",\"zerolinecolor\":\"#C8D4E3\"},\"zaxis\":{\"backgroundcolor\":\"rgb(17,17,17)\",\"gridcolor\":\"#506784\",\"gridwidth\":2,\"linecolor\":\"#506784\",\"showbackground\":true,\"ticks\":\"\",\"zerolinecolor\":\"#C8D4E3\"}},\"shapedefaults\":{\"line\":{\"color\":\"#f2f5fa\"}},\"sliderdefaults\":{\"bgcolor\":\"#C8D4E3\",\"bordercolor\":\"rgb(17,17,17)\",\"borderwidth\":1,\"tickwidth\":0},\"ternary\":{\"aaxis\":{\"gridcolor\":\"#506784\",\"linecolor\":\"#506784\",\"ticks\":\"\"},\"baxis\":{\"gridcolor\":\"#506784\",\"linecolor\":\"#506784\",\"ticks\":\"\"},\"bgcolor\":\"rgb(17,17,17)\",\"caxis\":{\"gridcolor\":\"#506784\",\"linecolor\":\"#506784\",\"ticks\":\"\"}},\"title\":{\"x\":0.05},\"updatemenudefaults\":{\"bgcolor\":\"#506784\",\"borderwidth\":0},\"xaxis\":{\"automargin\":true,\"gridcolor\":\"#283442\",\"linecolor\":\"#506784\",\"ticks\":\"\",\"title\":{\"standoff\":15},\"zerolinecolor\":\"#283442\",\"zerolinewidth\":2},\"yaxis\":{\"automargin\":true,\"gridcolor\":\"#283442\",\"linecolor\":\"#506784\",\"ticks\":\"\",\"title\":{\"standoff\":15},\"zerolinecolor\":\"#283442\",\"zerolinewidth\":2}}},\"xaxis\":{\"anchor\":\"y\",\"domain\":[0.0,1.0],\"title\":{\"text\":\"Author name\"}},\"yaxis\":{\"anchor\":\"x\",\"domain\":[0.0,1.0],\"title\":{\"text\":\"Count\"}},\"legend\":{\"tracegroupgap\":0},\"title\":{\"text\":\"Top 20 Authors authored books by count\"},\"barmode\":\"relative\",\"font\":{\"size\":15,\"family\":\"Franklin Gothic\"}},                        {\"responsive\": true}                    ).then(function(){\n",
              "                            \n",
              "var gd = document.getElementById('5d1552bd-a39c-415d-b495-91cc5af7e3b3');\n",
              "var x = new MutationObserver(function (mutations, observer) {{\n",
              "        var display = window.getComputedStyle(gd).display;\n",
              "        if (!display || display === 'none') {{\n",
              "            console.log([gd, 'removed!']);\n",
              "            Plotly.purge(gd);\n",
              "            observer.disconnect();\n",
              "        }}\n",
              "}});\n",
              "\n",
              "// Listen for the removal of the full notebook cells\n",
              "var notebookContainer = gd.closest('#notebook-container');\n",
              "if (notebookContainer) {{\n",
              "    x.observe(notebookContainer, {childList: true});\n",
              "}}\n",
              "\n",
              "// Listen for the clearing of the current output cell\n",
              "var outputEl = gd.closest('.output');\n",
              "if (outputEl) {{\n",
              "    x.observe(outputEl, {childList: true});\n",
              "}}\n",
              "\n",
              "                        })                };                            </script>        </div>\n",
              "</body>\n",
              "</html>"
            ]
          },
          "metadata": {}
        }
      ]
    },
    {
      "cell_type": "markdown",
      "source": [
        "Agatha Christie is the top author with 632 books in the dataset"
      ],
      "metadata": {
        "id": "lpAr5cuBww_g"
      }
    },
    {
      "cell_type": "markdown",
      "source": [
        "Top 20 Publishers who have publisbed books in this data:"
      ],
      "metadata": {
        "id": "6AFtviINww_g"
      }
    },
    {
      "cell_type": "code",
      "source": [
        "plot_top20(books, 'Publisher', \"Top 20 Publishers who have published books\", \"Publisher name\", \"Count\")"
      ],
      "metadata": {
        "execution": {
          "iopub.status.busy": "2023-04-26T00:01:42.355246Z",
          "iopub.execute_input": "2023-04-26T00:01:42.355674Z",
          "iopub.status.idle": "2023-04-26T00:01:42.446512Z",
          "shell.execute_reply.started": "2023-04-26T00:01:42.355623Z",
          "shell.execute_reply": "2023-04-26T00:01:42.445232Z"
        },
        "trusted": true,
        "colab": {
          "base_uri": "https://localhost:8080/",
          "height": 0
        },
        "id": "BdDQRfy7ww_g",
        "outputId": "cda6c84e-5f6d-4e20-94e4-f651a282bdd6"
      },
      "execution_count": 49,
      "outputs": [
        {
          "output_type": "display_data",
          "data": {
            "text/html": [
              "<html>\n",
              "<head><meta charset=\"utf-8\" /></head>\n",
              "<body>\n",
              "    <div>            <script src=\"https://cdnjs.cloudflare.com/ajax/libs/mathjax/2.7.5/MathJax.js?config=TeX-AMS-MML_SVG\"></script><script type=\"text/javascript\">if (window.MathJax && window.MathJax.Hub && window.MathJax.Hub.Config) {window.MathJax.Hub.Config({SVG: {font: \"STIX-Web\"}});}</script>                <script type=\"text/javascript\">window.PlotlyConfig = {MathJaxConfig: 'local'};</script>\n",
              "        <script src=\"https://cdn.plot.ly/plotly-2.18.2.min.js\"></script>                <div id=\"7a8aa99d-7f11-46d4-b352-6e82bd73d376\" class=\"plotly-graph-div\" style=\"height:525px; width:100%;\"></div>            <script type=\"text/javascript\">                                    window.PLOTLYENV=window.PLOTLYENV || {};                                    if (document.getElementById(\"7a8aa99d-7f11-46d4-b352-6e82bd73d376\")) {                    Plotly.newPlot(                        \"7a8aa99d-7f11-46d4-b352-6e82bd73d376\",                        [{\"alignmentgroup\":\"True\",\"hovertemplate\":\"x=%{x}<br>y=%{y}<br>text=%{text}<extra></extra>\",\"legendgroup\":\"\",\"marker\":{\"color\":\"rgb(255,247,251)\",\"pattern\":{\"shape\":\"\"}},\"name\":\"\",\"offsetgroup\":\"\",\"orientation\":\"v\",\"showlegend\":false,\"text\":[7535.0,4220.0,3905.0,3783.0,3646.0,3160.0,2971.0,2844.0,2771.0,2727.0,2717.0,2525.0,2258.0,2070.0,2045.0,1953.0,1783.0,1704.0,1700.0,1694.0],\"textposition\":\"auto\",\"x\":[\"Harlequin\",\"Silhouette\",\"Pocket\",\"Ballantine Books\",\"Bantam Books\",\"Scholastic\",\"Simon &amp; Schuster\",\"Penguin Books\",\"Berkley Publishing Group\",\"Warner Books\",\"Penguin USA\",\"Harpercollins\",\"Fawcett Books\",\"Signet Book\",\"Random House Inc\",\"St Martins Pr\",\"St. Martin's Press\",\"Tor Books\",\"HarperCollins Publishers\",\"Zebra Books\"],\"xaxis\":\"x\",\"y\":[7535,4220,3905,3783,3646,3160,2971,2844,2771,2727,2717,2525,2258,2070,2045,1953,1783,1704,1700,1694],\"yaxis\":\"y\",\"type\":\"bar\"}],                        {\"template\":{\"data\":{\"barpolar\":[{\"marker\":{\"line\":{\"color\":\"rgb(17,17,17)\",\"width\":0.5},\"pattern\":{\"fillmode\":\"overlay\",\"size\":10,\"solidity\":0.2}},\"type\":\"barpolar\"}],\"bar\":[{\"error_x\":{\"color\":\"#f2f5fa\"},\"error_y\":{\"color\":\"#f2f5fa\"},\"marker\":{\"line\":{\"color\":\"rgb(17,17,17)\",\"width\":0.5},\"pattern\":{\"fillmode\":\"overlay\",\"size\":10,\"solidity\":0.2}},\"type\":\"bar\"}],\"carpet\":[{\"aaxis\":{\"endlinecolor\":\"#A2B1C6\",\"gridcolor\":\"#506784\",\"linecolor\":\"#506784\",\"minorgridcolor\":\"#506784\",\"startlinecolor\":\"#A2B1C6\"},\"baxis\":{\"endlinecolor\":\"#A2B1C6\",\"gridcolor\":\"#506784\",\"linecolor\":\"#506784\",\"minorgridcolor\":\"#506784\",\"startlinecolor\":\"#A2B1C6\"},\"type\":\"carpet\"}],\"choropleth\":[{\"colorbar\":{\"outlinewidth\":0,\"ticks\":\"\"},\"type\":\"choropleth\"}],\"contourcarpet\":[{\"colorbar\":{\"outlinewidth\":0,\"ticks\":\"\"},\"type\":\"contourcarpet\"}],\"contour\":[{\"colorbar\":{\"outlinewidth\":0,\"ticks\":\"\"},\"colorscale\":[[0.0,\"#0d0887\"],[0.1111111111111111,\"#46039f\"],[0.2222222222222222,\"#7201a8\"],[0.3333333333333333,\"#9c179e\"],[0.4444444444444444,\"#bd3786\"],[0.5555555555555556,\"#d8576b\"],[0.6666666666666666,\"#ed7953\"],[0.7777777777777778,\"#fb9f3a\"],[0.8888888888888888,\"#fdca26\"],[1.0,\"#f0f921\"]],\"type\":\"contour\"}],\"heatmapgl\":[{\"colorbar\":{\"outlinewidth\":0,\"ticks\":\"\"},\"colorscale\":[[0.0,\"#0d0887\"],[0.1111111111111111,\"#46039f\"],[0.2222222222222222,\"#7201a8\"],[0.3333333333333333,\"#9c179e\"],[0.4444444444444444,\"#bd3786\"],[0.5555555555555556,\"#d8576b\"],[0.6666666666666666,\"#ed7953\"],[0.7777777777777778,\"#fb9f3a\"],[0.8888888888888888,\"#fdca26\"],[1.0,\"#f0f921\"]],\"type\":\"heatmapgl\"}],\"heatmap\":[{\"colorbar\":{\"outlinewidth\":0,\"ticks\":\"\"},\"colorscale\":[[0.0,\"#0d0887\"],[0.1111111111111111,\"#46039f\"],[0.2222222222222222,\"#7201a8\"],[0.3333333333333333,\"#9c179e\"],[0.4444444444444444,\"#bd3786\"],[0.5555555555555556,\"#d8576b\"],[0.6666666666666666,\"#ed7953\"],[0.7777777777777778,\"#fb9f3a\"],[0.8888888888888888,\"#fdca26\"],[1.0,\"#f0f921\"]],\"type\":\"heatmap\"}],\"histogram2dcontour\":[{\"colorbar\":{\"outlinewidth\":0,\"ticks\":\"\"},\"colorscale\":[[0.0,\"#0d0887\"],[0.1111111111111111,\"#46039f\"],[0.2222222222222222,\"#7201a8\"],[0.3333333333333333,\"#9c179e\"],[0.4444444444444444,\"#bd3786\"],[0.5555555555555556,\"#d8576b\"],[0.6666666666666666,\"#ed7953\"],[0.7777777777777778,\"#fb9f3a\"],[0.8888888888888888,\"#fdca26\"],[1.0,\"#f0f921\"]],\"type\":\"histogram2dcontour\"}],\"histogram2d\":[{\"colorbar\":{\"outlinewidth\":0,\"ticks\":\"\"},\"colorscale\":[[0.0,\"#0d0887\"],[0.1111111111111111,\"#46039f\"],[0.2222222222222222,\"#7201a8\"],[0.3333333333333333,\"#9c179e\"],[0.4444444444444444,\"#bd3786\"],[0.5555555555555556,\"#d8576b\"],[0.6666666666666666,\"#ed7953\"],[0.7777777777777778,\"#fb9f3a\"],[0.8888888888888888,\"#fdca26\"],[1.0,\"#f0f921\"]],\"type\":\"histogram2d\"}],\"histogram\":[{\"marker\":{\"pattern\":{\"fillmode\":\"overlay\",\"size\":10,\"solidity\":0.2}},\"type\":\"histogram\"}],\"mesh3d\":[{\"colorbar\":{\"outlinewidth\":0,\"ticks\":\"\"},\"type\":\"mesh3d\"}],\"parcoords\":[{\"line\":{\"colorbar\":{\"outlinewidth\":0,\"ticks\":\"\"}},\"type\":\"parcoords\"}],\"pie\":[{\"automargin\":true,\"type\":\"pie\"}],\"scatter3d\":[{\"line\":{\"colorbar\":{\"outlinewidth\":0,\"ticks\":\"\"}},\"marker\":{\"colorbar\":{\"outlinewidth\":0,\"ticks\":\"\"}},\"type\":\"scatter3d\"}],\"scattercarpet\":[{\"marker\":{\"colorbar\":{\"outlinewidth\":0,\"ticks\":\"\"}},\"type\":\"scattercarpet\"}],\"scattergeo\":[{\"marker\":{\"colorbar\":{\"outlinewidth\":0,\"ticks\":\"\"}},\"type\":\"scattergeo\"}],\"scattergl\":[{\"marker\":{\"line\":{\"color\":\"#283442\"}},\"type\":\"scattergl\"}],\"scattermapbox\":[{\"marker\":{\"colorbar\":{\"outlinewidth\":0,\"ticks\":\"\"}},\"type\":\"scattermapbox\"}],\"scatterpolargl\":[{\"marker\":{\"colorbar\":{\"outlinewidth\":0,\"ticks\":\"\"}},\"type\":\"scatterpolargl\"}],\"scatterpolar\":[{\"marker\":{\"colorbar\":{\"outlinewidth\":0,\"ticks\":\"\"}},\"type\":\"scatterpolar\"}],\"scatter\":[{\"marker\":{\"line\":{\"color\":\"#283442\"}},\"type\":\"scatter\"}],\"scatterternary\":[{\"marker\":{\"colorbar\":{\"outlinewidth\":0,\"ticks\":\"\"}},\"type\":\"scatterternary\"}],\"surface\":[{\"colorbar\":{\"outlinewidth\":0,\"ticks\":\"\"},\"colorscale\":[[0.0,\"#0d0887\"],[0.1111111111111111,\"#46039f\"],[0.2222222222222222,\"#7201a8\"],[0.3333333333333333,\"#9c179e\"],[0.4444444444444444,\"#bd3786\"],[0.5555555555555556,\"#d8576b\"],[0.6666666666666666,\"#ed7953\"],[0.7777777777777778,\"#fb9f3a\"],[0.8888888888888888,\"#fdca26\"],[1.0,\"#f0f921\"]],\"type\":\"surface\"}],\"table\":[{\"cells\":{\"fill\":{\"color\":\"#506784\"},\"line\":{\"color\":\"rgb(17,17,17)\"}},\"header\":{\"fill\":{\"color\":\"#2a3f5f\"},\"line\":{\"color\":\"rgb(17,17,17)\"}},\"type\":\"table\"}]},\"layout\":{\"annotationdefaults\":{\"arrowcolor\":\"#f2f5fa\",\"arrowhead\":0,\"arrowwidth\":1},\"autotypenumbers\":\"strict\",\"coloraxis\":{\"colorbar\":{\"outlinewidth\":0,\"ticks\":\"\"}},\"colorscale\":{\"diverging\":[[0,\"#8e0152\"],[0.1,\"#c51b7d\"],[0.2,\"#de77ae\"],[0.3,\"#f1b6da\"],[0.4,\"#fde0ef\"],[0.5,\"#f7f7f7\"],[0.6,\"#e6f5d0\"],[0.7,\"#b8e186\"],[0.8,\"#7fbc41\"],[0.9,\"#4d9221\"],[1,\"#276419\"]],\"sequential\":[[0.0,\"#0d0887\"],[0.1111111111111111,\"#46039f\"],[0.2222222222222222,\"#7201a8\"],[0.3333333333333333,\"#9c179e\"],[0.4444444444444444,\"#bd3786\"],[0.5555555555555556,\"#d8576b\"],[0.6666666666666666,\"#ed7953\"],[0.7777777777777778,\"#fb9f3a\"],[0.8888888888888888,\"#fdca26\"],[1.0,\"#f0f921\"]],\"sequentialminus\":[[0.0,\"#0d0887\"],[0.1111111111111111,\"#46039f\"],[0.2222222222222222,\"#7201a8\"],[0.3333333333333333,\"#9c179e\"],[0.4444444444444444,\"#bd3786\"],[0.5555555555555556,\"#d8576b\"],[0.6666666666666666,\"#ed7953\"],[0.7777777777777778,\"#fb9f3a\"],[0.8888888888888888,\"#fdca26\"],[1.0,\"#f0f921\"]]},\"colorway\":[\"#636efa\",\"#EF553B\",\"#00cc96\",\"#ab63fa\",\"#FFA15A\",\"#19d3f3\",\"#FF6692\",\"#B6E880\",\"#FF97FF\",\"#FECB52\"],\"font\":{\"color\":\"#f2f5fa\"},\"geo\":{\"bgcolor\":\"rgb(17,17,17)\",\"lakecolor\":\"rgb(17,17,17)\",\"landcolor\":\"rgb(17,17,17)\",\"showlakes\":true,\"showland\":true,\"subunitcolor\":\"#506784\"},\"hoverlabel\":{\"align\":\"left\"},\"hovermode\":\"closest\",\"mapbox\":{\"style\":\"dark\"},\"paper_bgcolor\":\"rgb(17,17,17)\",\"plot_bgcolor\":\"rgb(17,17,17)\",\"polar\":{\"angularaxis\":{\"gridcolor\":\"#506784\",\"linecolor\":\"#506784\",\"ticks\":\"\"},\"bgcolor\":\"rgb(17,17,17)\",\"radialaxis\":{\"gridcolor\":\"#506784\",\"linecolor\":\"#506784\",\"ticks\":\"\"}},\"scene\":{\"xaxis\":{\"backgroundcolor\":\"rgb(17,17,17)\",\"gridcolor\":\"#506784\",\"gridwidth\":2,\"linecolor\":\"#506784\",\"showbackground\":true,\"ticks\":\"\",\"zerolinecolor\":\"#C8D4E3\"},\"yaxis\":{\"backgroundcolor\":\"rgb(17,17,17)\",\"gridcolor\":\"#506784\",\"gridwidth\":2,\"linecolor\":\"#506784\",\"showbackground\":true,\"ticks\":\"\",\"zerolinecolor\":\"#C8D4E3\"},\"zaxis\":{\"backgroundcolor\":\"rgb(17,17,17)\",\"gridcolor\":\"#506784\",\"gridwidth\":2,\"linecolor\":\"#506784\",\"showbackground\":true,\"ticks\":\"\",\"zerolinecolor\":\"#C8D4E3\"}},\"shapedefaults\":{\"line\":{\"color\":\"#f2f5fa\"}},\"sliderdefaults\":{\"bgcolor\":\"#C8D4E3\",\"bordercolor\":\"rgb(17,17,17)\",\"borderwidth\":1,\"tickwidth\":0},\"ternary\":{\"aaxis\":{\"gridcolor\":\"#506784\",\"linecolor\":\"#506784\",\"ticks\":\"\"},\"baxis\":{\"gridcolor\":\"#506784\",\"linecolor\":\"#506784\",\"ticks\":\"\"},\"bgcolor\":\"rgb(17,17,17)\",\"caxis\":{\"gridcolor\":\"#506784\",\"linecolor\":\"#506784\",\"ticks\":\"\"}},\"title\":{\"x\":0.05},\"updatemenudefaults\":{\"bgcolor\":\"#506784\",\"borderwidth\":0},\"xaxis\":{\"automargin\":true,\"gridcolor\":\"#283442\",\"linecolor\":\"#506784\",\"ticks\":\"\",\"title\":{\"standoff\":15},\"zerolinecolor\":\"#283442\",\"zerolinewidth\":2},\"yaxis\":{\"automargin\":true,\"gridcolor\":\"#283442\",\"linecolor\":\"#506784\",\"ticks\":\"\",\"title\":{\"standoff\":15},\"zerolinecolor\":\"#283442\",\"zerolinewidth\":2}}},\"xaxis\":{\"anchor\":\"y\",\"domain\":[0.0,1.0],\"title\":{\"text\":\"Publisher name\"}},\"yaxis\":{\"anchor\":\"x\",\"domain\":[0.0,1.0],\"title\":{\"text\":\"Count\"}},\"legend\":{\"tracegroupgap\":0},\"title\":{\"text\":\"Top 20 Publishers who have published books\"},\"barmode\":\"relative\",\"font\":{\"size\":15,\"family\":\"Franklin Gothic\"}},                        {\"responsive\": true}                    ).then(function(){\n",
              "                            \n",
              "var gd = document.getElementById('7a8aa99d-7f11-46d4-b352-6e82bd73d376');\n",
              "var x = new MutationObserver(function (mutations, observer) {{\n",
              "        var display = window.getComputedStyle(gd).display;\n",
              "        if (!display || display === 'none') {{\n",
              "            console.log([gd, 'removed!']);\n",
              "            Plotly.purge(gd);\n",
              "            observer.disconnect();\n",
              "        }}\n",
              "}});\n",
              "\n",
              "// Listen for the removal of the full notebook cells\n",
              "var notebookContainer = gd.closest('#notebook-container');\n",
              "if (notebookContainer) {{\n",
              "    x.observe(notebookContainer, {childList: true});\n",
              "}}\n",
              "\n",
              "// Listen for the clearing of the current output cell\n",
              "var outputEl = gd.closest('.output');\n",
              "if (outputEl) {{\n",
              "    x.observe(outputEl, {childList: true});\n",
              "}}\n",
              "\n",
              "                        })                };                            </script>        </div>\n",
              "</body>\n",
              "</html>"
            ]
          },
          "metadata": {}
        }
      ]
    },
    {
      "cell_type": "markdown",
      "source": [
        "Merging books with ratings"
      ],
      "metadata": {
        "id": "508a1E7Jww_i"
      }
    },
    {
      "cell_type": "code",
      "source": [
        "books_with_ratings = pd.merge(books, ratings, on='ISBN')"
      ],
      "metadata": {
        "execution": {
          "iopub.status.busy": "2023-04-26T00:04:08.796046Z",
          "iopub.execute_input": "2023-04-26T00:04:08.797202Z",
          "iopub.status.idle": "2023-04-26T00:04:09.759417Z",
          "shell.execute_reply.started": "2023-04-26T00:04:08.797157Z",
          "shell.execute_reply": "2023-04-26T00:04:09.758045Z"
        },
        "trusted": true,
        "id": "gTaYlcHBww_i"
      },
      "execution_count": 50,
      "outputs": []
    },
    {
      "cell_type": "code",
      "source": [
        "books_with_ratings.head()"
      ],
      "metadata": {
        "execution": {
          "iopub.status.busy": "2023-04-26T00:04:09.762144Z",
          "iopub.execute_input": "2023-04-26T00:04:09.762542Z",
          "iopub.status.idle": "2023-04-26T00:04:09.780409Z",
          "shell.execute_reply.started": "2023-04-26T00:04:09.762498Z",
          "shell.execute_reply": "2023-04-26T00:04:09.779127Z"
        },
        "trusted": true,
        "id": "zVnEfNvlww_i",
        "colab": {
          "base_uri": "https://localhost:8080/",
          "height": 0
        },
        "outputId": "e26d97d4-e121-4a4a-c2fe-be49658b92b7"
      },
      "execution_count": 51,
      "outputs": [
        {
          "output_type": "execute_result",
          "data": {
            "text/plain": [
              "         ISBN           Book-Title           Book-Author  Year-Of-Publication  \\\n",
              "0  0195153448  Classical Mythology    Mark P. O. Morford                 2002   \n",
              "1  0002005018         Clara Callan  Richard Bruce Wright                 2001   \n",
              "2  0002005018         Clara Callan  Richard Bruce Wright                 2001   \n",
              "3  0002005018         Clara Callan  Richard Bruce Wright                 2001   \n",
              "4  0002005018         Clara Callan  Richard Bruce Wright                 2001   \n",
              "\n",
              "                 Publisher                                        Image-URL-S  \\\n",
              "0  Oxford University Press  http://images.amazon.com/images/P/0195153448.0...   \n",
              "1    HarperFlamingo Canada  http://images.amazon.com/images/P/0002005018.0...   \n",
              "2    HarperFlamingo Canada  http://images.amazon.com/images/P/0002005018.0...   \n",
              "3    HarperFlamingo Canada  http://images.amazon.com/images/P/0002005018.0...   \n",
              "4    HarperFlamingo Canada  http://images.amazon.com/images/P/0002005018.0...   \n",
              "\n",
              "                                         Image-URL-M  \\\n",
              "0  http://images.amazon.com/images/P/0195153448.0...   \n",
              "1  http://images.amazon.com/images/P/0002005018.0...   \n",
              "2  http://images.amazon.com/images/P/0002005018.0...   \n",
              "3  http://images.amazon.com/images/P/0002005018.0...   \n",
              "4  http://images.amazon.com/images/P/0002005018.0...   \n",
              "\n",
              "                                         Image-URL-L  User-ID  Book-Rating  \n",
              "0  http://images.amazon.com/images/P/0195153448.0...        2            0  \n",
              "1  http://images.amazon.com/images/P/0002005018.0...        8            5  \n",
              "2  http://images.amazon.com/images/P/0002005018.0...    11400            0  \n",
              "3  http://images.amazon.com/images/P/0002005018.0...    11676            8  \n",
              "4  http://images.amazon.com/images/P/0002005018.0...    41385            0  "
            ],
            "text/html": [
              "\n",
              "  <div id=\"df-c302ccca-a353-4ac8-8aed-110fd4070f09\">\n",
              "    <div class=\"colab-df-container\">\n",
              "      <div>\n",
              "<style scoped>\n",
              "    .dataframe tbody tr th:only-of-type {\n",
              "        vertical-align: middle;\n",
              "    }\n",
              "\n",
              "    .dataframe tbody tr th {\n",
              "        vertical-align: top;\n",
              "    }\n",
              "\n",
              "    .dataframe thead th {\n",
              "        text-align: right;\n",
              "    }\n",
              "</style>\n",
              "<table border=\"1\" class=\"dataframe\">\n",
              "  <thead>\n",
              "    <tr style=\"text-align: right;\">\n",
              "      <th></th>\n",
              "      <th>ISBN</th>\n",
              "      <th>Book-Title</th>\n",
              "      <th>Book-Author</th>\n",
              "      <th>Year-Of-Publication</th>\n",
              "      <th>Publisher</th>\n",
              "      <th>Image-URL-S</th>\n",
              "      <th>Image-URL-M</th>\n",
              "      <th>Image-URL-L</th>\n",
              "      <th>User-ID</th>\n",
              "      <th>Book-Rating</th>\n",
              "    </tr>\n",
              "  </thead>\n",
              "  <tbody>\n",
              "    <tr>\n",
              "      <th>0</th>\n",
              "      <td>0195153448</td>\n",
              "      <td>Classical Mythology</td>\n",
              "      <td>Mark P. O. Morford</td>\n",
              "      <td>2002</td>\n",
              "      <td>Oxford University Press</td>\n",
              "      <td>http://images.amazon.com/images/P/0195153448.0...</td>\n",
              "      <td>http://images.amazon.com/images/P/0195153448.0...</td>\n",
              "      <td>http://images.amazon.com/images/P/0195153448.0...</td>\n",
              "      <td>2</td>\n",
              "      <td>0</td>\n",
              "    </tr>\n",
              "    <tr>\n",
              "      <th>1</th>\n",
              "      <td>0002005018</td>\n",
              "      <td>Clara Callan</td>\n",
              "      <td>Richard Bruce Wright</td>\n",
              "      <td>2001</td>\n",
              "      <td>HarperFlamingo Canada</td>\n",
              "      <td>http://images.amazon.com/images/P/0002005018.0...</td>\n",
              "      <td>http://images.amazon.com/images/P/0002005018.0...</td>\n",
              "      <td>http://images.amazon.com/images/P/0002005018.0...</td>\n",
              "      <td>8</td>\n",
              "      <td>5</td>\n",
              "    </tr>\n",
              "    <tr>\n",
              "      <th>2</th>\n",
              "      <td>0002005018</td>\n",
              "      <td>Clara Callan</td>\n",
              "      <td>Richard Bruce Wright</td>\n",
              "      <td>2001</td>\n",
              "      <td>HarperFlamingo Canada</td>\n",
              "      <td>http://images.amazon.com/images/P/0002005018.0...</td>\n",
              "      <td>http://images.amazon.com/images/P/0002005018.0...</td>\n",
              "      <td>http://images.amazon.com/images/P/0002005018.0...</td>\n",
              "      <td>11400</td>\n",
              "      <td>0</td>\n",
              "    </tr>\n",
              "    <tr>\n",
              "      <th>3</th>\n",
              "      <td>0002005018</td>\n",
              "      <td>Clara Callan</td>\n",
              "      <td>Richard Bruce Wright</td>\n",
              "      <td>2001</td>\n",
              "      <td>HarperFlamingo Canada</td>\n",
              "      <td>http://images.amazon.com/images/P/0002005018.0...</td>\n",
              "      <td>http://images.amazon.com/images/P/0002005018.0...</td>\n",
              "      <td>http://images.amazon.com/images/P/0002005018.0...</td>\n",
              "      <td>11676</td>\n",
              "      <td>8</td>\n",
              "    </tr>\n",
              "    <tr>\n",
              "      <th>4</th>\n",
              "      <td>0002005018</td>\n",
              "      <td>Clara Callan</td>\n",
              "      <td>Richard Bruce Wright</td>\n",
              "      <td>2001</td>\n",
              "      <td>HarperFlamingo Canada</td>\n",
              "      <td>http://images.amazon.com/images/P/0002005018.0...</td>\n",
              "      <td>http://images.amazon.com/images/P/0002005018.0...</td>\n",
              "      <td>http://images.amazon.com/images/P/0002005018.0...</td>\n",
              "      <td>41385</td>\n",
              "      <td>0</td>\n",
              "    </tr>\n",
              "  </tbody>\n",
              "</table>\n",
              "</div>\n",
              "      <button class=\"colab-df-convert\" onclick=\"convertToInteractive('df-c302ccca-a353-4ac8-8aed-110fd4070f09')\"\n",
              "              title=\"Convert this dataframe to an interactive table.\"\n",
              "              style=\"display:none;\">\n",
              "        \n",
              "  <svg xmlns=\"http://www.w3.org/2000/svg\" height=\"24px\"viewBox=\"0 0 24 24\"\n",
              "       width=\"24px\">\n",
              "    <path d=\"M0 0h24v24H0V0z\" fill=\"none\"/>\n",
              "    <path d=\"M18.56 5.44l.94 2.06.94-2.06 2.06-.94-2.06-.94-.94-2.06-.94 2.06-2.06.94zm-11 1L8.5 8.5l.94-2.06 2.06-.94-2.06-.94L8.5 2.5l-.94 2.06-2.06.94zm10 10l.94 2.06.94-2.06 2.06-.94-2.06-.94-.94-2.06-.94 2.06-2.06.94z\"/><path d=\"M17.41 7.96l-1.37-1.37c-.4-.4-.92-.59-1.43-.59-.52 0-1.04.2-1.43.59L10.3 9.45l-7.72 7.72c-.78.78-.78 2.05 0 2.83L4 21.41c.39.39.9.59 1.41.59.51 0 1.02-.2 1.41-.59l7.78-7.78 2.81-2.81c.8-.78.8-2.07 0-2.86zM5.41 20L4 18.59l7.72-7.72 1.47 1.35L5.41 20z\"/>\n",
              "  </svg>\n",
              "      </button>\n",
              "      \n",
              "  <style>\n",
              "    .colab-df-container {\n",
              "      display:flex;\n",
              "      flex-wrap:wrap;\n",
              "      gap: 12px;\n",
              "    }\n",
              "\n",
              "    .colab-df-convert {\n",
              "      background-color: #E8F0FE;\n",
              "      border: none;\n",
              "      border-radius: 50%;\n",
              "      cursor: pointer;\n",
              "      display: none;\n",
              "      fill: #1967D2;\n",
              "      height: 32px;\n",
              "      padding: 0 0 0 0;\n",
              "      width: 32px;\n",
              "    }\n",
              "\n",
              "    .colab-df-convert:hover {\n",
              "      background-color: #E2EBFA;\n",
              "      box-shadow: 0px 1px 2px rgba(60, 64, 67, 0.3), 0px 1px 3px 1px rgba(60, 64, 67, 0.15);\n",
              "      fill: #174EA6;\n",
              "    }\n",
              "\n",
              "    [theme=dark] .colab-df-convert {\n",
              "      background-color: #3B4455;\n",
              "      fill: #D2E3FC;\n",
              "    }\n",
              "\n",
              "    [theme=dark] .colab-df-convert:hover {\n",
              "      background-color: #434B5C;\n",
              "      box-shadow: 0px 1px 3px 1px rgba(0, 0, 0, 0.15);\n",
              "      filter: drop-shadow(0px 1px 2px rgba(0, 0, 0, 0.3));\n",
              "      fill: #FFFFFF;\n",
              "    }\n",
              "  </style>\n",
              "\n",
              "      <script>\n",
              "        const buttonEl =\n",
              "          document.querySelector('#df-c302ccca-a353-4ac8-8aed-110fd4070f09 button.colab-df-convert');\n",
              "        buttonEl.style.display =\n",
              "          google.colab.kernel.accessAllowed ? 'block' : 'none';\n",
              "\n",
              "        async function convertToInteractive(key) {\n",
              "          const element = document.querySelector('#df-c302ccca-a353-4ac8-8aed-110fd4070f09');\n",
              "          const dataTable =\n",
              "            await google.colab.kernel.invokeFunction('convertToInteractive',\n",
              "                                                     [key], {});\n",
              "          if (!dataTable) return;\n",
              "\n",
              "          const docLinkHtml = 'Like what you see? Visit the ' +\n",
              "            '<a target=\"_blank\" href=https://colab.research.google.com/notebooks/data_table.ipynb>data table notebook</a>'\n",
              "            + ' to learn more about interactive tables.';\n",
              "          element.innerHTML = '';\n",
              "          dataTable['output_type'] = 'display_data';\n",
              "          await google.colab.output.renderOutput(dataTable, element);\n",
              "          const docLink = document.createElement('div');\n",
              "          docLink.innerHTML = docLinkHtml;\n",
              "          element.appendChild(docLink);\n",
              "        }\n",
              "      </script>\n",
              "    </div>\n",
              "  </div>\n",
              "  "
            ]
          },
          "metadata": {},
          "execution_count": 51
        }
      ]
    },
    {
      "cell_type": "code",
      "source": [
        "def cat_summary_with_graph(dataframe, col_name):\n",
        "    fig = make_subplots(rows=1, cols=2,\n",
        "                        subplot_titles=('Countplot', 'Percentages'),\n",
        "                        specs=[[{\"type\": \"xy\"}, {'type': 'domain'}]])\n",
        "\n",
        "    fig.add_trace(go.Bar(y=dataframe[col_name].value_counts().values.tolist(),\n",
        "                         x=[str(i) for i in dataframe[col_name].value_counts().index],\n",
        "                         text=dataframe[col_name].value_counts().values.tolist(),\n",
        "                         textfont=dict(size=15),\n",
        "                         name=col_name,\n",
        "                         textposition='auto',\n",
        "                         showlegend=False,\n",
        "                         marker=dict(color=colors,\n",
        "                                     line=dict(color='#DBE6EC',\n",
        "                                               width=1))),\n",
        "                  row=1, col=1)\n",
        "\n",
        "    fig.add_trace(go.Pie(labels=dataframe[col_name].value_counts().keys(),\n",
        "                         values=dataframe[col_name].value_counts().values,\n",
        "                         textfont=dict(size=10),\n",
        "                         textposition='auto',\n",
        "                         showlegend=False,\n",
        "                         name=col_name,\n",
        "                         marker=dict(colors=colors)),\n",
        "                  row=1, col=2)\n",
        "\n",
        "    fig.update_layout(title={'text': col_name,\n",
        "                             'y': 0.9,\n",
        "                             'x': 0.5,\n",
        "                             'xanchor': 'center',\n",
        "                             'yanchor': 'top'},\n",
        "                      template='plotly_white')\n",
        "\n",
        "    iplot(fig)"
      ],
      "metadata": {
        "execution": {
          "iopub.status.busy": "2023-04-26T00:04:09.782585Z",
          "iopub.execute_input": "2023-04-26T00:04:09.783089Z",
          "iopub.status.idle": "2023-04-26T00:04:09.798850Z",
          "shell.execute_reply.started": "2023-04-26T00:04:09.783036Z",
          "shell.execute_reply": "2023-04-26T00:04:09.797190Z"
        },
        "trusted": true,
        "id": "F79Nof2cww_i"
      },
      "execution_count": 52,
      "outputs": []
    },
    {
      "cell_type": "code",
      "source": [
        "colors = ['#494BD3', '#E28AE2', '#F1F481', '#79DB80', '#DF5F5F',\n",
        "              '#69DADE', '#C2E37D', '#E26580', '#D39F49', '#B96FE3']"
      ],
      "metadata": {
        "execution": {
          "iopub.status.busy": "2023-04-26T00:04:09.800913Z",
          "iopub.execute_input": "2023-04-26T00:04:09.801422Z",
          "iopub.status.idle": "2023-04-26T00:04:09.809442Z",
          "shell.execute_reply.started": "2023-04-26T00:04:09.801379Z",
          "shell.execute_reply": "2023-04-26T00:04:09.808231Z"
        },
        "trusted": true,
        "id": "9MhkwZ0vww_j"
      },
      "execution_count": 53,
      "outputs": []
    },
    {
      "cell_type": "code",
      "source": [
        "cat_summary_with_graph(books_with_ratings, 'Book-Rating')"
      ],
      "metadata": {
        "execution": {
          "iopub.status.busy": "2023-04-26T00:04:09.810849Z",
          "iopub.execute_input": "2023-04-26T00:04:09.811280Z",
          "iopub.status.idle": "2023-04-26T00:04:10.038375Z",
          "shell.execute_reply.started": "2023-04-26T00:04:09.811243Z",
          "shell.execute_reply": "2023-04-26T00:04:10.036988Z"
        },
        "trusted": true,
        "id": "FtLvx0p0ww_j",
        "colab": {
          "base_uri": "https://localhost:8080/",
          "height": 0
        },
        "outputId": "a7c6b58e-e016-4c06-804a-1e69b0b07929"
      },
      "execution_count": 54,
      "outputs": [
        {
          "output_type": "display_data",
          "data": {
            "text/html": [
              "<html>\n",
              "<head><meta charset=\"utf-8\" /></head>\n",
              "<body>\n",
              "    <div>            <script src=\"https://cdnjs.cloudflare.com/ajax/libs/mathjax/2.7.5/MathJax.js?config=TeX-AMS-MML_SVG\"></script><script type=\"text/javascript\">if (window.MathJax && window.MathJax.Hub && window.MathJax.Hub.Config) {window.MathJax.Hub.Config({SVG: {font: \"STIX-Web\"}});}</script>                <script type=\"text/javascript\">window.PlotlyConfig = {MathJaxConfig: 'local'};</script>\n",
              "        <script src=\"https://cdn.plot.ly/plotly-2.18.2.min.js\"></script>                <div id=\"df59989a-ac02-4baf-8546-efdf3f17c958\" class=\"plotly-graph-div\" style=\"height:525px; width:100%;\"></div>            <script type=\"text/javascript\">                                    window.PLOTLYENV=window.PLOTLYENV || {};                                    if (document.getElementById(\"df59989a-ac02-4baf-8546-efdf3f17c958\")) {                    Plotly.newPlot(                        \"df59989a-ac02-4baf-8546-efdf3f17c958\",                        [{\"marker\":{\"color\":[\"#494BD3\",\"#E28AE2\",\"#F1F481\",\"#79DB80\",\"#DF5F5F\",\"#69DADE\",\"#C2E37D\",\"#E26580\",\"#D39F49\",\"#B96FE3\"],\"line\":{\"color\":\"#DBE6EC\",\"width\":1}},\"name\":\"Book-Rating\",\"showlegend\":false,\"text\":[\"647294\",\"91804\",\"71225\",\"66402\",\"60778\",\"45355\",\"31687\",\"7617\",\"5118\",\"2375\",\"1481\"],\"textfont\":{\"size\":15},\"textposition\":\"auto\",\"x\":[\"0\",\"8\",\"10\",\"7\",\"9\",\"5\",\"6\",\"4\",\"3\",\"2\",\"1\"],\"xaxis\":\"x\",\"y\":[647294,91804,71225,66402,60778,45355,31687,7617,5118,2375,1481],\"yaxis\":\"y\",\"type\":\"bar\"},{\"domain\":{\"x\":[0.55,1.0],\"y\":[0.0,1.0]},\"labels\":[0,8,10,7,9,5,6,4,3,2,1],\"marker\":{\"colors\":[\"#494BD3\",\"#E28AE2\",\"#F1F481\",\"#79DB80\",\"#DF5F5F\",\"#69DADE\",\"#C2E37D\",\"#E26580\",\"#D39F49\",\"#B96FE3\"]},\"name\":\"Book-Rating\",\"showlegend\":false,\"textfont\":{\"size\":10},\"textposition\":\"auto\",\"values\":[647294,91804,71225,66402,60778,45355,31687,7617,5118,2375,1481],\"type\":\"pie\"}],                        {\"annotations\":[{\"font\":{\"size\":16},\"showarrow\":false,\"text\":\"Countplot\",\"x\":0.225,\"xanchor\":\"center\",\"xref\":\"paper\",\"y\":1.0,\"yanchor\":\"bottom\",\"yref\":\"paper\"},{\"font\":{\"size\":16},\"showarrow\":false,\"text\":\"Percentages\",\"x\":0.775,\"xanchor\":\"center\",\"xref\":\"paper\",\"y\":1.0,\"yanchor\":\"bottom\",\"yref\":\"paper\"}],\"template\":{\"data\":{\"barpolar\":[{\"marker\":{\"line\":{\"color\":\"white\",\"width\":0.5},\"pattern\":{\"fillmode\":\"overlay\",\"size\":10,\"solidity\":0.2}},\"type\":\"barpolar\"}],\"bar\":[{\"error_x\":{\"color\":\"#2a3f5f\"},\"error_y\":{\"color\":\"#2a3f5f\"},\"marker\":{\"line\":{\"color\":\"white\",\"width\":0.5},\"pattern\":{\"fillmode\":\"overlay\",\"size\":10,\"solidity\":0.2}},\"type\":\"bar\"}],\"carpet\":[{\"aaxis\":{\"endlinecolor\":\"#2a3f5f\",\"gridcolor\":\"#C8D4E3\",\"linecolor\":\"#C8D4E3\",\"minorgridcolor\":\"#C8D4E3\",\"startlinecolor\":\"#2a3f5f\"},\"baxis\":{\"endlinecolor\":\"#2a3f5f\",\"gridcolor\":\"#C8D4E3\",\"linecolor\":\"#C8D4E3\",\"minorgridcolor\":\"#C8D4E3\",\"startlinecolor\":\"#2a3f5f\"},\"type\":\"carpet\"}],\"choropleth\":[{\"colorbar\":{\"outlinewidth\":0,\"ticks\":\"\"},\"type\":\"choropleth\"}],\"contourcarpet\":[{\"colorbar\":{\"outlinewidth\":0,\"ticks\":\"\"},\"type\":\"contourcarpet\"}],\"contour\":[{\"colorbar\":{\"outlinewidth\":0,\"ticks\":\"\"},\"colorscale\":[[0.0,\"#0d0887\"],[0.1111111111111111,\"#46039f\"],[0.2222222222222222,\"#7201a8\"],[0.3333333333333333,\"#9c179e\"],[0.4444444444444444,\"#bd3786\"],[0.5555555555555556,\"#d8576b\"],[0.6666666666666666,\"#ed7953\"],[0.7777777777777778,\"#fb9f3a\"],[0.8888888888888888,\"#fdca26\"],[1.0,\"#f0f921\"]],\"type\":\"contour\"}],\"heatmapgl\":[{\"colorbar\":{\"outlinewidth\":0,\"ticks\":\"\"},\"colorscale\":[[0.0,\"#0d0887\"],[0.1111111111111111,\"#46039f\"],[0.2222222222222222,\"#7201a8\"],[0.3333333333333333,\"#9c179e\"],[0.4444444444444444,\"#bd3786\"],[0.5555555555555556,\"#d8576b\"],[0.6666666666666666,\"#ed7953\"],[0.7777777777777778,\"#fb9f3a\"],[0.8888888888888888,\"#fdca26\"],[1.0,\"#f0f921\"]],\"type\":\"heatmapgl\"}],\"heatmap\":[{\"colorbar\":{\"outlinewidth\":0,\"ticks\":\"\"},\"colorscale\":[[0.0,\"#0d0887\"],[0.1111111111111111,\"#46039f\"],[0.2222222222222222,\"#7201a8\"],[0.3333333333333333,\"#9c179e\"],[0.4444444444444444,\"#bd3786\"],[0.5555555555555556,\"#d8576b\"],[0.6666666666666666,\"#ed7953\"],[0.7777777777777778,\"#fb9f3a\"],[0.8888888888888888,\"#fdca26\"],[1.0,\"#f0f921\"]],\"type\":\"heatmap\"}],\"histogram2dcontour\":[{\"colorbar\":{\"outlinewidth\":0,\"ticks\":\"\"},\"colorscale\":[[0.0,\"#0d0887\"],[0.1111111111111111,\"#46039f\"],[0.2222222222222222,\"#7201a8\"],[0.3333333333333333,\"#9c179e\"],[0.4444444444444444,\"#bd3786\"],[0.5555555555555556,\"#d8576b\"],[0.6666666666666666,\"#ed7953\"],[0.7777777777777778,\"#fb9f3a\"],[0.8888888888888888,\"#fdca26\"],[1.0,\"#f0f921\"]],\"type\":\"histogram2dcontour\"}],\"histogram2d\":[{\"colorbar\":{\"outlinewidth\":0,\"ticks\":\"\"},\"colorscale\":[[0.0,\"#0d0887\"],[0.1111111111111111,\"#46039f\"],[0.2222222222222222,\"#7201a8\"],[0.3333333333333333,\"#9c179e\"],[0.4444444444444444,\"#bd3786\"],[0.5555555555555556,\"#d8576b\"],[0.6666666666666666,\"#ed7953\"],[0.7777777777777778,\"#fb9f3a\"],[0.8888888888888888,\"#fdca26\"],[1.0,\"#f0f921\"]],\"type\":\"histogram2d\"}],\"histogram\":[{\"marker\":{\"pattern\":{\"fillmode\":\"overlay\",\"size\":10,\"solidity\":0.2}},\"type\":\"histogram\"}],\"mesh3d\":[{\"colorbar\":{\"outlinewidth\":0,\"ticks\":\"\"},\"type\":\"mesh3d\"}],\"parcoords\":[{\"line\":{\"colorbar\":{\"outlinewidth\":0,\"ticks\":\"\"}},\"type\":\"parcoords\"}],\"pie\":[{\"automargin\":true,\"type\":\"pie\"}],\"scatter3d\":[{\"line\":{\"colorbar\":{\"outlinewidth\":0,\"ticks\":\"\"}},\"marker\":{\"colorbar\":{\"outlinewidth\":0,\"ticks\":\"\"}},\"type\":\"scatter3d\"}],\"scattercarpet\":[{\"marker\":{\"colorbar\":{\"outlinewidth\":0,\"ticks\":\"\"}},\"type\":\"scattercarpet\"}],\"scattergeo\":[{\"marker\":{\"colorbar\":{\"outlinewidth\":0,\"ticks\":\"\"}},\"type\":\"scattergeo\"}],\"scattergl\":[{\"marker\":{\"colorbar\":{\"outlinewidth\":0,\"ticks\":\"\"}},\"type\":\"scattergl\"}],\"scattermapbox\":[{\"marker\":{\"colorbar\":{\"outlinewidth\":0,\"ticks\":\"\"}},\"type\":\"scattermapbox\"}],\"scatterpolargl\":[{\"marker\":{\"colorbar\":{\"outlinewidth\":0,\"ticks\":\"\"}},\"type\":\"scatterpolargl\"}],\"scatterpolar\":[{\"marker\":{\"colorbar\":{\"outlinewidth\":0,\"ticks\":\"\"}},\"type\":\"scatterpolar\"}],\"scatter\":[{\"fillpattern\":{\"fillmode\":\"overlay\",\"size\":10,\"solidity\":0.2},\"type\":\"scatter\"}],\"scatterternary\":[{\"marker\":{\"colorbar\":{\"outlinewidth\":0,\"ticks\":\"\"}},\"type\":\"scatterternary\"}],\"surface\":[{\"colorbar\":{\"outlinewidth\":0,\"ticks\":\"\"},\"colorscale\":[[0.0,\"#0d0887\"],[0.1111111111111111,\"#46039f\"],[0.2222222222222222,\"#7201a8\"],[0.3333333333333333,\"#9c179e\"],[0.4444444444444444,\"#bd3786\"],[0.5555555555555556,\"#d8576b\"],[0.6666666666666666,\"#ed7953\"],[0.7777777777777778,\"#fb9f3a\"],[0.8888888888888888,\"#fdca26\"],[1.0,\"#f0f921\"]],\"type\":\"surface\"}],\"table\":[{\"cells\":{\"fill\":{\"color\":\"#EBF0F8\"},\"line\":{\"color\":\"white\"}},\"header\":{\"fill\":{\"color\":\"#C8D4E3\"},\"line\":{\"color\":\"white\"}},\"type\":\"table\"}]},\"layout\":{\"annotationdefaults\":{\"arrowcolor\":\"#2a3f5f\",\"arrowhead\":0,\"arrowwidth\":1},\"autotypenumbers\":\"strict\",\"coloraxis\":{\"colorbar\":{\"outlinewidth\":0,\"ticks\":\"\"}},\"colorscale\":{\"diverging\":[[0,\"#8e0152\"],[0.1,\"#c51b7d\"],[0.2,\"#de77ae\"],[0.3,\"#f1b6da\"],[0.4,\"#fde0ef\"],[0.5,\"#f7f7f7\"],[0.6,\"#e6f5d0\"],[0.7,\"#b8e186\"],[0.8,\"#7fbc41\"],[0.9,\"#4d9221\"],[1,\"#276419\"]],\"sequential\":[[0.0,\"#0d0887\"],[0.1111111111111111,\"#46039f\"],[0.2222222222222222,\"#7201a8\"],[0.3333333333333333,\"#9c179e\"],[0.4444444444444444,\"#bd3786\"],[0.5555555555555556,\"#d8576b\"],[0.6666666666666666,\"#ed7953\"],[0.7777777777777778,\"#fb9f3a\"],[0.8888888888888888,\"#fdca26\"],[1.0,\"#f0f921\"]],\"sequentialminus\":[[0.0,\"#0d0887\"],[0.1111111111111111,\"#46039f\"],[0.2222222222222222,\"#7201a8\"],[0.3333333333333333,\"#9c179e\"],[0.4444444444444444,\"#bd3786\"],[0.5555555555555556,\"#d8576b\"],[0.6666666666666666,\"#ed7953\"],[0.7777777777777778,\"#fb9f3a\"],[0.8888888888888888,\"#fdca26\"],[1.0,\"#f0f921\"]]},\"colorway\":[\"#636efa\",\"#EF553B\",\"#00cc96\",\"#ab63fa\",\"#FFA15A\",\"#19d3f3\",\"#FF6692\",\"#B6E880\",\"#FF97FF\",\"#FECB52\"],\"font\":{\"color\":\"#2a3f5f\"},\"geo\":{\"bgcolor\":\"white\",\"lakecolor\":\"white\",\"landcolor\":\"white\",\"showlakes\":true,\"showland\":true,\"subunitcolor\":\"#C8D4E3\"},\"hoverlabel\":{\"align\":\"left\"},\"hovermode\":\"closest\",\"mapbox\":{\"style\":\"light\"},\"paper_bgcolor\":\"white\",\"plot_bgcolor\":\"white\",\"polar\":{\"angularaxis\":{\"gridcolor\":\"#EBF0F8\",\"linecolor\":\"#EBF0F8\",\"ticks\":\"\"},\"bgcolor\":\"white\",\"radialaxis\":{\"gridcolor\":\"#EBF0F8\",\"linecolor\":\"#EBF0F8\",\"ticks\":\"\"}},\"scene\":{\"xaxis\":{\"backgroundcolor\":\"white\",\"gridcolor\":\"#DFE8F3\",\"gridwidth\":2,\"linecolor\":\"#EBF0F8\",\"showbackground\":true,\"ticks\":\"\",\"zerolinecolor\":\"#EBF0F8\"},\"yaxis\":{\"backgroundcolor\":\"white\",\"gridcolor\":\"#DFE8F3\",\"gridwidth\":2,\"linecolor\":\"#EBF0F8\",\"showbackground\":true,\"ticks\":\"\",\"zerolinecolor\":\"#EBF0F8\"},\"zaxis\":{\"backgroundcolor\":\"white\",\"gridcolor\":\"#DFE8F3\",\"gridwidth\":2,\"linecolor\":\"#EBF0F8\",\"showbackground\":true,\"ticks\":\"\",\"zerolinecolor\":\"#EBF0F8\"}},\"shapedefaults\":{\"line\":{\"color\":\"#2a3f5f\"}},\"ternary\":{\"aaxis\":{\"gridcolor\":\"#DFE8F3\",\"linecolor\":\"#A2B1C6\",\"ticks\":\"\"},\"baxis\":{\"gridcolor\":\"#DFE8F3\",\"linecolor\":\"#A2B1C6\",\"ticks\":\"\"},\"bgcolor\":\"white\",\"caxis\":{\"gridcolor\":\"#DFE8F3\",\"linecolor\":\"#A2B1C6\",\"ticks\":\"\"}},\"title\":{\"x\":0.05},\"xaxis\":{\"automargin\":true,\"gridcolor\":\"#EBF0F8\",\"linecolor\":\"#EBF0F8\",\"ticks\":\"\",\"title\":{\"standoff\":15},\"zerolinecolor\":\"#EBF0F8\",\"zerolinewidth\":2},\"yaxis\":{\"automargin\":true,\"gridcolor\":\"#EBF0F8\",\"linecolor\":\"#EBF0F8\",\"ticks\":\"\",\"title\":{\"standoff\":15},\"zerolinecolor\":\"#EBF0F8\",\"zerolinewidth\":2}}},\"title\":{\"text\":\"Book-Rating\",\"x\":0.5,\"xanchor\":\"center\",\"y\":0.9,\"yanchor\":\"top\"},\"xaxis\":{\"anchor\":\"y\",\"domain\":[0.0,0.45]},\"yaxis\":{\"anchor\":\"x\",\"domain\":[0.0,1.0]}},                        {\"responsive\": true}                    ).then(function(){\n",
              "                            \n",
              "var gd = document.getElementById('df59989a-ac02-4baf-8546-efdf3f17c958');\n",
              "var x = new MutationObserver(function (mutations, observer) {{\n",
              "        var display = window.getComputedStyle(gd).display;\n",
              "        if (!display || display === 'none') {{\n",
              "            console.log([gd, 'removed!']);\n",
              "            Plotly.purge(gd);\n",
              "            observer.disconnect();\n",
              "        }}\n",
              "}});\n",
              "\n",
              "// Listen for the removal of the full notebook cells\n",
              "var notebookContainer = gd.closest('#notebook-container');\n",
              "if (notebookContainer) {{\n",
              "    x.observe(notebookContainer, {childList: true});\n",
              "}}\n",
              "\n",
              "// Listen for the clearing of the current output cell\n",
              "var outputEl = gd.closest('.output');\n",
              "if (outputEl) {{\n",
              "    x.observe(outputEl, {childList: true});\n",
              "}}\n",
              "\n",
              "                        })                };                            </script>        </div>\n",
              "</body>\n",
              "</html>"
            ]
          },
          "metadata": {}
        }
      ]
    },
    {
      "cell_type": "markdown",
      "source": [
        "Average rating of the books of the top 20 authors:"
      ],
      "metadata": {
        "id": "Udyqpa2-ww_j"
      }
    },
    {
      "cell_type": "markdown",
      "source": [
        "Top 20 authors in the data:"
      ],
      "metadata": {
        "id": "Cs7w6f4iww_j"
      }
    },
    {
      "cell_type": "code",
      "source": [
        "authors_top20 = books['Book-Author'].value_counts().head(20)\n",
        "authors_top20 = list(authors_top20.index)"
      ],
      "metadata": {
        "execution": {
          "iopub.status.busy": "2023-04-26T00:04:10.040204Z",
          "iopub.execute_input": "2023-04-26T00:04:10.040675Z",
          "iopub.status.idle": "2023-04-26T00:04:10.155228Z",
          "shell.execute_reply.started": "2023-04-26T00:04:10.040613Z",
          "shell.execute_reply": "2023-04-26T00:04:10.153702Z"
        },
        "trusted": true,
        "id": "2Sj2FArfww_j"
      },
      "execution_count": 55,
      "outputs": []
    },
    {
      "cell_type": "markdown",
      "source": [
        "Droping the null values"
      ],
      "metadata": {
        "id": "ez59bzLoww_k"
      }
    },
    {
      "cell_type": "code",
      "source": [
        "books_with_ratings.dropna(inplace=True)"
      ],
      "metadata": {
        "execution": {
          "iopub.status.busy": "2023-04-26T00:04:10.157009Z",
          "iopub.execute_input": "2023-04-26T00:04:10.157374Z",
          "iopub.status.idle": "2023-04-26T00:04:10.973373Z",
          "shell.execute_reply.started": "2023-04-26T00:04:10.157336Z",
          "shell.execute_reply": "2023-04-26T00:04:10.972176Z"
        },
        "trusted": true,
        "id": "8m1JQneWww_k"
      },
      "execution_count": 56,
      "outputs": []
    },
    {
      "cell_type": "code",
      "source": [
        "top20_authors = pd.DataFrame(columns = books_with_ratings.columns)\n",
        "\n",
        "for author in authors_top20:\n",
        "    \n",
        "    cond_df = books_with_ratings[books_with_ratings['Book-Author'] == author]\n",
        "    \n",
        "    top20_authors =  pd.concat([top20_authors, cond_df], axis=0)\n",
        "    \n",
        "    "
      ],
      "metadata": {
        "execution": {
          "iopub.status.busy": "2023-04-26T00:04:10.977406Z",
          "iopub.execute_input": "2023-04-26T00:04:10.977808Z",
          "iopub.status.idle": "2023-04-26T00:04:12.563835Z",
          "shell.execute_reply.started": "2023-04-26T00:04:10.977765Z",
          "shell.execute_reply": "2023-04-26T00:04:12.562453Z"
        },
        "trusted": true,
        "id": "yK_sy4Ytww_l"
      },
      "execution_count": 57,
      "outputs": []
    },
    {
      "cell_type": "code",
      "source": [
        "top20_authors.shape"
      ],
      "metadata": {
        "execution": {
          "iopub.status.busy": "2023-04-26T00:04:12.565243Z",
          "iopub.execute_input": "2023-04-26T00:04:12.565582Z",
          "iopub.status.idle": "2023-04-26T00:04:12.574237Z",
          "shell.execute_reply.started": "2023-04-26T00:04:12.565546Z",
          "shell.execute_reply": "2023-04-26T00:04:12.572996Z"
        },
        "trusted": true,
        "id": "3ldBeCj9ww_m",
        "colab": {
          "base_uri": "https://localhost:8080/"
        },
        "outputId": "b79ff6b6-d6a8-4d44-895e-f7f44d08fae9"
      },
      "execution_count": 58,
      "outputs": [
        {
          "output_type": "execute_result",
          "data": {
            "text/plain": [
              "(45234, 10)"
            ]
          },
          "metadata": {},
          "execution_count": 58
        }
      ]
    },
    {
      "cell_type": "markdown",
      "source": [
        "There is no 0 rating, ratings is from 1-10 scale, then 0 means the book is not rated that it is not rated. So, excluding the zero rating."
      ],
      "metadata": {
        "id": "W8CUHuuJww_m"
      }
    },
    {
      "cell_type": "code",
      "source": [
        "top20_author = top20_authors[top20_authors['Book-Rating'] != 0]"
      ],
      "metadata": {
        "execution": {
          "iopub.status.busy": "2023-04-26T00:04:12.576006Z",
          "iopub.execute_input": "2023-04-26T00:04:12.576489Z",
          "iopub.status.idle": "2023-04-26T00:04:12.607735Z",
          "shell.execute_reply.started": "2023-04-26T00:04:12.576433Z",
          "shell.execute_reply": "2023-04-26T00:04:12.606707Z"
        },
        "trusted": true,
        "id": "qyI3XZEEww_m"
      },
      "execution_count": 59,
      "outputs": []
    },
    {
      "cell_type": "code",
      "source": [
        "top20_author.shape"
      ],
      "metadata": {
        "execution": {
          "iopub.status.busy": "2023-04-26T00:04:12.609630Z",
          "iopub.execute_input": "2023-04-26T00:04:12.609996Z",
          "iopub.status.idle": "2023-04-26T00:04:12.618542Z",
          "shell.execute_reply.started": "2023-04-26T00:04:12.609961Z",
          "shell.execute_reply": "2023-04-26T00:04:12.617175Z"
        },
        "trusted": true,
        "id": "1W6y4OLoww_m",
        "colab": {
          "base_uri": "https://localhost:8080/"
        },
        "outputId": "3ecb8c34-2ad0-437d-8219-077acb3a62ec"
      },
      "execution_count": 60,
      "outputs": [
        {
          "output_type": "execute_result",
          "data": {
            "text/plain": [
              "(16871, 10)"
            ]
          },
          "metadata": {},
          "execution_count": 60
        }
      ]
    },
    {
      "cell_type": "markdown",
      "source": [
        "Mean rating of all the 20 authors:"
      ],
      "metadata": {
        "id": "oiwTlpcMww_n"
      }
    },
    {
      "cell_type": "code",
      "source": [
        "top20_author = top20_author.groupby('Book-Author')['Book-Rating'].agg('mean').reset_index().sort_values(by='Book-Rating', ascending=False)\n",
        "top20_author"
      ],
      "metadata": {
        "execution": {
          "iopub.status.busy": "2023-04-26T00:04:12.620806Z",
          "iopub.execute_input": "2023-04-26T00:04:12.625194Z",
          "iopub.status.idle": "2023-04-26T00:04:12.653771Z",
          "shell.execute_reply.started": "2023-04-26T00:04:12.625138Z",
          "shell.execute_reply": "2023-04-26T00:04:12.652842Z"
        },
        "trusted": true,
        "id": "iUsPNoPcww_n",
        "colab": {
          "base_uri": "https://localhost:8080/",
          "height": 0
        },
        "outputId": "ddab65b7-085d-4bc5-e89f-1645da9b2db5"
      },
      "execution_count": 61,
      "outputs": [
        {
          "output_type": "execute_result",
          "data": {
            "text/plain": [
              "              Book-Author  Book-Rating\n",
              "19    William Shakespeare     8.303357\n",
              "11             Mark Twain     8.284507\n",
              "8             Jane Austen     8.187595\n",
              "18        Terry Pratchett     8.151177\n",
              "14   Not Applicable (Na )     8.094340\n",
              "7            Isaac Asimov     7.915167\n",
              "3           Carolyn Keene     7.823529\n",
              "17           Stephen King     7.815046\n",
              "0         Agatha Christie     7.792102\n",
              "4         Charles Dickens     7.762836\n",
              "15          Piers Anthony     7.642570\n",
              "10  Marion Zimmer Bradley     7.635371\n",
              "13           Nora Roberts     7.629680\n",
              "12     Mary Higgins Clark     7.503280\n",
              "9            Janet Dailey     7.371429\n",
              "6       Franklin W. Dixon     7.038462\n",
              "16            R. L. Stine     6.859259\n",
              "1           Ann M. Martin     6.708333\n",
              "5         Francine Pascal     6.659091\n",
              "2        Barbara Cartland     5.041812"
            ],
            "text/html": [
              "\n",
              "  <div id=\"df-aac02c0a-48d5-4a24-b1ed-1446d9f82fef\">\n",
              "    <div class=\"colab-df-container\">\n",
              "      <div>\n",
              "<style scoped>\n",
              "    .dataframe tbody tr th:only-of-type {\n",
              "        vertical-align: middle;\n",
              "    }\n",
              "\n",
              "    .dataframe tbody tr th {\n",
              "        vertical-align: top;\n",
              "    }\n",
              "\n",
              "    .dataframe thead th {\n",
              "        text-align: right;\n",
              "    }\n",
              "</style>\n",
              "<table border=\"1\" class=\"dataframe\">\n",
              "  <thead>\n",
              "    <tr style=\"text-align: right;\">\n",
              "      <th></th>\n",
              "      <th>Book-Author</th>\n",
              "      <th>Book-Rating</th>\n",
              "    </tr>\n",
              "  </thead>\n",
              "  <tbody>\n",
              "    <tr>\n",
              "      <th>19</th>\n",
              "      <td>William Shakespeare</td>\n",
              "      <td>8.303357</td>\n",
              "    </tr>\n",
              "    <tr>\n",
              "      <th>11</th>\n",
              "      <td>Mark Twain</td>\n",
              "      <td>8.284507</td>\n",
              "    </tr>\n",
              "    <tr>\n",
              "      <th>8</th>\n",
              "      <td>Jane Austen</td>\n",
              "      <td>8.187595</td>\n",
              "    </tr>\n",
              "    <tr>\n",
              "      <th>18</th>\n",
              "      <td>Terry Pratchett</td>\n",
              "      <td>8.151177</td>\n",
              "    </tr>\n",
              "    <tr>\n",
              "      <th>14</th>\n",
              "      <td>Not Applicable (Na )</td>\n",
              "      <td>8.094340</td>\n",
              "    </tr>\n",
              "    <tr>\n",
              "      <th>7</th>\n",
              "      <td>Isaac Asimov</td>\n",
              "      <td>7.915167</td>\n",
              "    </tr>\n",
              "    <tr>\n",
              "      <th>3</th>\n",
              "      <td>Carolyn Keene</td>\n",
              "      <td>7.823529</td>\n",
              "    </tr>\n",
              "    <tr>\n",
              "      <th>17</th>\n",
              "      <td>Stephen King</td>\n",
              "      <td>7.815046</td>\n",
              "    </tr>\n",
              "    <tr>\n",
              "      <th>0</th>\n",
              "      <td>Agatha Christie</td>\n",
              "      <td>7.792102</td>\n",
              "    </tr>\n",
              "    <tr>\n",
              "      <th>4</th>\n",
              "      <td>Charles Dickens</td>\n",
              "      <td>7.762836</td>\n",
              "    </tr>\n",
              "    <tr>\n",
              "      <th>15</th>\n",
              "      <td>Piers Anthony</td>\n",
              "      <td>7.642570</td>\n",
              "    </tr>\n",
              "    <tr>\n",
              "      <th>10</th>\n",
              "      <td>Marion Zimmer Bradley</td>\n",
              "      <td>7.635371</td>\n",
              "    </tr>\n",
              "    <tr>\n",
              "      <th>13</th>\n",
              "      <td>Nora Roberts</td>\n",
              "      <td>7.629680</td>\n",
              "    </tr>\n",
              "    <tr>\n",
              "      <th>12</th>\n",
              "      <td>Mary Higgins Clark</td>\n",
              "      <td>7.503280</td>\n",
              "    </tr>\n",
              "    <tr>\n",
              "      <th>9</th>\n",
              "      <td>Janet Dailey</td>\n",
              "      <td>7.371429</td>\n",
              "    </tr>\n",
              "    <tr>\n",
              "      <th>6</th>\n",
              "      <td>Franklin W. Dixon</td>\n",
              "      <td>7.038462</td>\n",
              "    </tr>\n",
              "    <tr>\n",
              "      <th>16</th>\n",
              "      <td>R. L. Stine</td>\n",
              "      <td>6.859259</td>\n",
              "    </tr>\n",
              "    <tr>\n",
              "      <th>1</th>\n",
              "      <td>Ann M. Martin</td>\n",
              "      <td>6.708333</td>\n",
              "    </tr>\n",
              "    <tr>\n",
              "      <th>5</th>\n",
              "      <td>Francine Pascal</td>\n",
              "      <td>6.659091</td>\n",
              "    </tr>\n",
              "    <tr>\n",
              "      <th>2</th>\n",
              "      <td>Barbara Cartland</td>\n",
              "      <td>5.041812</td>\n",
              "    </tr>\n",
              "  </tbody>\n",
              "</table>\n",
              "</div>\n",
              "      <button class=\"colab-df-convert\" onclick=\"convertToInteractive('df-aac02c0a-48d5-4a24-b1ed-1446d9f82fef')\"\n",
              "              title=\"Convert this dataframe to an interactive table.\"\n",
              "              style=\"display:none;\">\n",
              "        \n",
              "  <svg xmlns=\"http://www.w3.org/2000/svg\" height=\"24px\"viewBox=\"0 0 24 24\"\n",
              "       width=\"24px\">\n",
              "    <path d=\"M0 0h24v24H0V0z\" fill=\"none\"/>\n",
              "    <path d=\"M18.56 5.44l.94 2.06.94-2.06 2.06-.94-2.06-.94-.94-2.06-.94 2.06-2.06.94zm-11 1L8.5 8.5l.94-2.06 2.06-.94-2.06-.94L8.5 2.5l-.94 2.06-2.06.94zm10 10l.94 2.06.94-2.06 2.06-.94-2.06-.94-.94-2.06-.94 2.06-2.06.94z\"/><path d=\"M17.41 7.96l-1.37-1.37c-.4-.4-.92-.59-1.43-.59-.52 0-1.04.2-1.43.59L10.3 9.45l-7.72 7.72c-.78.78-.78 2.05 0 2.83L4 21.41c.39.39.9.59 1.41.59.51 0 1.02-.2 1.41-.59l7.78-7.78 2.81-2.81c.8-.78.8-2.07 0-2.86zM5.41 20L4 18.59l7.72-7.72 1.47 1.35L5.41 20z\"/>\n",
              "  </svg>\n",
              "      </button>\n",
              "      \n",
              "  <style>\n",
              "    .colab-df-container {\n",
              "      display:flex;\n",
              "      flex-wrap:wrap;\n",
              "      gap: 12px;\n",
              "    }\n",
              "\n",
              "    .colab-df-convert {\n",
              "      background-color: #E8F0FE;\n",
              "      border: none;\n",
              "      border-radius: 50%;\n",
              "      cursor: pointer;\n",
              "      display: none;\n",
              "      fill: #1967D2;\n",
              "      height: 32px;\n",
              "      padding: 0 0 0 0;\n",
              "      width: 32px;\n",
              "    }\n",
              "\n",
              "    .colab-df-convert:hover {\n",
              "      background-color: #E2EBFA;\n",
              "      box-shadow: 0px 1px 2px rgba(60, 64, 67, 0.3), 0px 1px 3px 1px rgba(60, 64, 67, 0.15);\n",
              "      fill: #174EA6;\n",
              "    }\n",
              "\n",
              "    [theme=dark] .colab-df-convert {\n",
              "      background-color: #3B4455;\n",
              "      fill: #D2E3FC;\n",
              "    }\n",
              "\n",
              "    [theme=dark] .colab-df-convert:hover {\n",
              "      background-color: #434B5C;\n",
              "      box-shadow: 0px 1px 3px 1px rgba(0, 0, 0, 0.15);\n",
              "      filter: drop-shadow(0px 1px 2px rgba(0, 0, 0, 0.3));\n",
              "      fill: #FFFFFF;\n",
              "    }\n",
              "  </style>\n",
              "\n",
              "      <script>\n",
              "        const buttonEl =\n",
              "          document.querySelector('#df-aac02c0a-48d5-4a24-b1ed-1446d9f82fef button.colab-df-convert');\n",
              "        buttonEl.style.display =\n",
              "          google.colab.kernel.accessAllowed ? 'block' : 'none';\n",
              "\n",
              "        async function convertToInteractive(key) {\n",
              "          const element = document.querySelector('#df-aac02c0a-48d5-4a24-b1ed-1446d9f82fef');\n",
              "          const dataTable =\n",
              "            await google.colab.kernel.invokeFunction('convertToInteractive',\n",
              "                                                     [key], {});\n",
              "          if (!dataTable) return;\n",
              "\n",
              "          const docLinkHtml = 'Like what you see? Visit the ' +\n",
              "            '<a target=\"_blank\" href=https://colab.research.google.com/notebooks/data_table.ipynb>data table notebook</a>'\n",
              "            + ' to learn more about interactive tables.';\n",
              "          element.innerHTML = '';\n",
              "          dataTable['output_type'] = 'display_data';\n",
              "          await google.colab.output.renderOutput(dataTable, element);\n",
              "          const docLink = document.createElement('div');\n",
              "          docLink.innerHTML = docLinkHtml;\n",
              "          element.appendChild(docLink);\n",
              "        }\n",
              "      </script>\n",
              "    </div>\n",
              "  </div>\n",
              "  "
            ]
          },
          "metadata": {},
          "execution_count": 61
        }
      ]
    },
    {
      "cell_type": "code",
      "source": [
        "fig = px.bar(y=top20_author['Book-Rating'], \n",
        "             x=top20_author['Book-Author'], \n",
        "             color_discrete_sequence=px.colors.sequential.PuBuGn,\n",
        "             text=round(top20_author['Book-Rating'],2),\n",
        "             title= \"Average ratings of the books of the Top 20 authors\",\n",
        "             template= 'plotly_dark')\n",
        "fig.update_layout(\n",
        "    xaxis_title=\"author name\",\n",
        "    yaxis_title=\"average rating\",\n",
        "    font = dict(size=15,family=\"Franklin Gothic\"))\n",
        "fig.show()"
      ],
      "metadata": {
        "execution": {
          "iopub.status.busy": "2023-04-26T00:04:12.655478Z",
          "iopub.execute_input": "2023-04-26T00:04:12.655961Z",
          "iopub.status.idle": "2023-04-26T00:04:12.725793Z",
          "shell.execute_reply.started": "2023-04-26T00:04:12.655892Z",
          "shell.execute_reply": "2023-04-26T00:04:12.724365Z"
        },
        "trusted": true,
        "id": "0nUAQXDfww_n",
        "colab": {
          "base_uri": "https://localhost:8080/",
          "height": 0
        },
        "outputId": "b9ec5a2c-91a3-4a57-bcd9-a328c797f6af"
      },
      "execution_count": 62,
      "outputs": [
        {
          "output_type": "display_data",
          "data": {
            "text/html": [
              "<html>\n",
              "<head><meta charset=\"utf-8\" /></head>\n",
              "<body>\n",
              "    <div>            <script src=\"https://cdnjs.cloudflare.com/ajax/libs/mathjax/2.7.5/MathJax.js?config=TeX-AMS-MML_SVG\"></script><script type=\"text/javascript\">if (window.MathJax && window.MathJax.Hub && window.MathJax.Hub.Config) {window.MathJax.Hub.Config({SVG: {font: \"STIX-Web\"}});}</script>                <script type=\"text/javascript\">window.PlotlyConfig = {MathJaxConfig: 'local'};</script>\n",
              "        <script src=\"https://cdn.plot.ly/plotly-2.18.2.min.js\"></script>                <div id=\"05586fc1-b0f9-4480-8d5a-b3c00b65388a\" class=\"plotly-graph-div\" style=\"height:525px; width:100%;\"></div>            <script type=\"text/javascript\">                                    window.PLOTLYENV=window.PLOTLYENV || {};                                    if (document.getElementById(\"05586fc1-b0f9-4480-8d5a-b3c00b65388a\")) {                    Plotly.newPlot(                        \"05586fc1-b0f9-4480-8d5a-b3c00b65388a\",                        [{\"alignmentgroup\":\"True\",\"hovertemplate\":\"x=%{x}<br>y=%{y}<br>text=%{text}<extra></extra>\",\"legendgroup\":\"\",\"marker\":{\"color\":\"rgb(255,247,251)\",\"pattern\":{\"shape\":\"\"}},\"name\":\"\",\"offsetgroup\":\"\",\"orientation\":\"v\",\"showlegend\":false,\"text\":[8.3,8.28,8.19,8.15,8.09,7.92,7.82,7.82,7.79,7.76,7.64,7.64,7.63,7.5,7.37,7.04,6.86,6.71,6.66,5.04],\"textposition\":\"auto\",\"x\":[\"William Shakespeare\",\"Mark Twain\",\"Jane Austen\",\"Terry Pratchett\",\"Not Applicable (Na )\",\"Isaac Asimov\",\"Carolyn Keene\",\"Stephen King\",\"Agatha Christie\",\"Charles Dickens\",\"Piers Anthony\",\"Marion Zimmer Bradley\",\"Nora Roberts\",\"Mary Higgins Clark\",\"Janet Dailey\",\"Franklin W. Dixon\",\"R. L. Stine\",\"Ann M. Martin\",\"Francine Pascal\",\"Barbara Cartland\"],\"xaxis\":\"x\",\"y\":[8.30335731414868,8.284507042253521,8.187594553706505,8.151177199504337,8.09433962264151,7.915167095115681,7.823529411764706,7.815046346195301,7.792102206736353,7.762836185819071,7.642570281124498,7.635371179039302,7.629680054458816,7.503279666070363,7.371428571428571,7.038461538461538,6.859259259259259,6.708333333333333,6.659090909090909,5.041811846689895],\"yaxis\":\"y\",\"type\":\"bar\"}],                        {\"template\":{\"data\":{\"barpolar\":[{\"marker\":{\"line\":{\"color\":\"rgb(17,17,17)\",\"width\":0.5},\"pattern\":{\"fillmode\":\"overlay\",\"size\":10,\"solidity\":0.2}},\"type\":\"barpolar\"}],\"bar\":[{\"error_x\":{\"color\":\"#f2f5fa\"},\"error_y\":{\"color\":\"#f2f5fa\"},\"marker\":{\"line\":{\"color\":\"rgb(17,17,17)\",\"width\":0.5},\"pattern\":{\"fillmode\":\"overlay\",\"size\":10,\"solidity\":0.2}},\"type\":\"bar\"}],\"carpet\":[{\"aaxis\":{\"endlinecolor\":\"#A2B1C6\",\"gridcolor\":\"#506784\",\"linecolor\":\"#506784\",\"minorgridcolor\":\"#506784\",\"startlinecolor\":\"#A2B1C6\"},\"baxis\":{\"endlinecolor\":\"#A2B1C6\",\"gridcolor\":\"#506784\",\"linecolor\":\"#506784\",\"minorgridcolor\":\"#506784\",\"startlinecolor\":\"#A2B1C6\"},\"type\":\"carpet\"}],\"choropleth\":[{\"colorbar\":{\"outlinewidth\":0,\"ticks\":\"\"},\"type\":\"choropleth\"}],\"contourcarpet\":[{\"colorbar\":{\"outlinewidth\":0,\"ticks\":\"\"},\"type\":\"contourcarpet\"}],\"contour\":[{\"colorbar\":{\"outlinewidth\":0,\"ticks\":\"\"},\"colorscale\":[[0.0,\"#0d0887\"],[0.1111111111111111,\"#46039f\"],[0.2222222222222222,\"#7201a8\"],[0.3333333333333333,\"#9c179e\"],[0.4444444444444444,\"#bd3786\"],[0.5555555555555556,\"#d8576b\"],[0.6666666666666666,\"#ed7953\"],[0.7777777777777778,\"#fb9f3a\"],[0.8888888888888888,\"#fdca26\"],[1.0,\"#f0f921\"]],\"type\":\"contour\"}],\"heatmapgl\":[{\"colorbar\":{\"outlinewidth\":0,\"ticks\":\"\"},\"colorscale\":[[0.0,\"#0d0887\"],[0.1111111111111111,\"#46039f\"],[0.2222222222222222,\"#7201a8\"],[0.3333333333333333,\"#9c179e\"],[0.4444444444444444,\"#bd3786\"],[0.5555555555555556,\"#d8576b\"],[0.6666666666666666,\"#ed7953\"],[0.7777777777777778,\"#fb9f3a\"],[0.8888888888888888,\"#fdca26\"],[1.0,\"#f0f921\"]],\"type\":\"heatmapgl\"}],\"heatmap\":[{\"colorbar\":{\"outlinewidth\":0,\"ticks\":\"\"},\"colorscale\":[[0.0,\"#0d0887\"],[0.1111111111111111,\"#46039f\"],[0.2222222222222222,\"#7201a8\"],[0.3333333333333333,\"#9c179e\"],[0.4444444444444444,\"#bd3786\"],[0.5555555555555556,\"#d8576b\"],[0.6666666666666666,\"#ed7953\"],[0.7777777777777778,\"#fb9f3a\"],[0.8888888888888888,\"#fdca26\"],[1.0,\"#f0f921\"]],\"type\":\"heatmap\"}],\"histogram2dcontour\":[{\"colorbar\":{\"outlinewidth\":0,\"ticks\":\"\"},\"colorscale\":[[0.0,\"#0d0887\"],[0.1111111111111111,\"#46039f\"],[0.2222222222222222,\"#7201a8\"],[0.3333333333333333,\"#9c179e\"],[0.4444444444444444,\"#bd3786\"],[0.5555555555555556,\"#d8576b\"],[0.6666666666666666,\"#ed7953\"],[0.7777777777777778,\"#fb9f3a\"],[0.8888888888888888,\"#fdca26\"],[1.0,\"#f0f921\"]],\"type\":\"histogram2dcontour\"}],\"histogram2d\":[{\"colorbar\":{\"outlinewidth\":0,\"ticks\":\"\"},\"colorscale\":[[0.0,\"#0d0887\"],[0.1111111111111111,\"#46039f\"],[0.2222222222222222,\"#7201a8\"],[0.3333333333333333,\"#9c179e\"],[0.4444444444444444,\"#bd3786\"],[0.5555555555555556,\"#d8576b\"],[0.6666666666666666,\"#ed7953\"],[0.7777777777777778,\"#fb9f3a\"],[0.8888888888888888,\"#fdca26\"],[1.0,\"#f0f921\"]],\"type\":\"histogram2d\"}],\"histogram\":[{\"marker\":{\"pattern\":{\"fillmode\":\"overlay\",\"size\":10,\"solidity\":0.2}},\"type\":\"histogram\"}],\"mesh3d\":[{\"colorbar\":{\"outlinewidth\":0,\"ticks\":\"\"},\"type\":\"mesh3d\"}],\"parcoords\":[{\"line\":{\"colorbar\":{\"outlinewidth\":0,\"ticks\":\"\"}},\"type\":\"parcoords\"}],\"pie\":[{\"automargin\":true,\"type\":\"pie\"}],\"scatter3d\":[{\"line\":{\"colorbar\":{\"outlinewidth\":0,\"ticks\":\"\"}},\"marker\":{\"colorbar\":{\"outlinewidth\":0,\"ticks\":\"\"}},\"type\":\"scatter3d\"}],\"scattercarpet\":[{\"marker\":{\"colorbar\":{\"outlinewidth\":0,\"ticks\":\"\"}},\"type\":\"scattercarpet\"}],\"scattergeo\":[{\"marker\":{\"colorbar\":{\"outlinewidth\":0,\"ticks\":\"\"}},\"type\":\"scattergeo\"}],\"scattergl\":[{\"marker\":{\"line\":{\"color\":\"#283442\"}},\"type\":\"scattergl\"}],\"scattermapbox\":[{\"marker\":{\"colorbar\":{\"outlinewidth\":0,\"ticks\":\"\"}},\"type\":\"scattermapbox\"}],\"scatterpolargl\":[{\"marker\":{\"colorbar\":{\"outlinewidth\":0,\"ticks\":\"\"}},\"type\":\"scatterpolargl\"}],\"scatterpolar\":[{\"marker\":{\"colorbar\":{\"outlinewidth\":0,\"ticks\":\"\"}},\"type\":\"scatterpolar\"}],\"scatter\":[{\"marker\":{\"line\":{\"color\":\"#283442\"}},\"type\":\"scatter\"}],\"scatterternary\":[{\"marker\":{\"colorbar\":{\"outlinewidth\":0,\"ticks\":\"\"}},\"type\":\"scatterternary\"}],\"surface\":[{\"colorbar\":{\"outlinewidth\":0,\"ticks\":\"\"},\"colorscale\":[[0.0,\"#0d0887\"],[0.1111111111111111,\"#46039f\"],[0.2222222222222222,\"#7201a8\"],[0.3333333333333333,\"#9c179e\"],[0.4444444444444444,\"#bd3786\"],[0.5555555555555556,\"#d8576b\"],[0.6666666666666666,\"#ed7953\"],[0.7777777777777778,\"#fb9f3a\"],[0.8888888888888888,\"#fdca26\"],[1.0,\"#f0f921\"]],\"type\":\"surface\"}],\"table\":[{\"cells\":{\"fill\":{\"color\":\"#506784\"},\"line\":{\"color\":\"rgb(17,17,17)\"}},\"header\":{\"fill\":{\"color\":\"#2a3f5f\"},\"line\":{\"color\":\"rgb(17,17,17)\"}},\"type\":\"table\"}]},\"layout\":{\"annotationdefaults\":{\"arrowcolor\":\"#f2f5fa\",\"arrowhead\":0,\"arrowwidth\":1},\"autotypenumbers\":\"strict\",\"coloraxis\":{\"colorbar\":{\"outlinewidth\":0,\"ticks\":\"\"}},\"colorscale\":{\"diverging\":[[0,\"#8e0152\"],[0.1,\"#c51b7d\"],[0.2,\"#de77ae\"],[0.3,\"#f1b6da\"],[0.4,\"#fde0ef\"],[0.5,\"#f7f7f7\"],[0.6,\"#e6f5d0\"],[0.7,\"#b8e186\"],[0.8,\"#7fbc41\"],[0.9,\"#4d9221\"],[1,\"#276419\"]],\"sequential\":[[0.0,\"#0d0887\"],[0.1111111111111111,\"#46039f\"],[0.2222222222222222,\"#7201a8\"],[0.3333333333333333,\"#9c179e\"],[0.4444444444444444,\"#bd3786\"],[0.5555555555555556,\"#d8576b\"],[0.6666666666666666,\"#ed7953\"],[0.7777777777777778,\"#fb9f3a\"],[0.8888888888888888,\"#fdca26\"],[1.0,\"#f0f921\"]],\"sequentialminus\":[[0.0,\"#0d0887\"],[0.1111111111111111,\"#46039f\"],[0.2222222222222222,\"#7201a8\"],[0.3333333333333333,\"#9c179e\"],[0.4444444444444444,\"#bd3786\"],[0.5555555555555556,\"#d8576b\"],[0.6666666666666666,\"#ed7953\"],[0.7777777777777778,\"#fb9f3a\"],[0.8888888888888888,\"#fdca26\"],[1.0,\"#f0f921\"]]},\"colorway\":[\"#636efa\",\"#EF553B\",\"#00cc96\",\"#ab63fa\",\"#FFA15A\",\"#19d3f3\",\"#FF6692\",\"#B6E880\",\"#FF97FF\",\"#FECB52\"],\"font\":{\"color\":\"#f2f5fa\"},\"geo\":{\"bgcolor\":\"rgb(17,17,17)\",\"lakecolor\":\"rgb(17,17,17)\",\"landcolor\":\"rgb(17,17,17)\",\"showlakes\":true,\"showland\":true,\"subunitcolor\":\"#506784\"},\"hoverlabel\":{\"align\":\"left\"},\"hovermode\":\"closest\",\"mapbox\":{\"style\":\"dark\"},\"paper_bgcolor\":\"rgb(17,17,17)\",\"plot_bgcolor\":\"rgb(17,17,17)\",\"polar\":{\"angularaxis\":{\"gridcolor\":\"#506784\",\"linecolor\":\"#506784\",\"ticks\":\"\"},\"bgcolor\":\"rgb(17,17,17)\",\"radialaxis\":{\"gridcolor\":\"#506784\",\"linecolor\":\"#506784\",\"ticks\":\"\"}},\"scene\":{\"xaxis\":{\"backgroundcolor\":\"rgb(17,17,17)\",\"gridcolor\":\"#506784\",\"gridwidth\":2,\"linecolor\":\"#506784\",\"showbackground\":true,\"ticks\":\"\",\"zerolinecolor\":\"#C8D4E3\"},\"yaxis\":{\"backgroundcolor\":\"rgb(17,17,17)\",\"gridcolor\":\"#506784\",\"gridwidth\":2,\"linecolor\":\"#506784\",\"showbackground\":true,\"ticks\":\"\",\"zerolinecolor\":\"#C8D4E3\"},\"zaxis\":{\"backgroundcolor\":\"rgb(17,17,17)\",\"gridcolor\":\"#506784\",\"gridwidth\":2,\"linecolor\":\"#506784\",\"showbackground\":true,\"ticks\":\"\",\"zerolinecolor\":\"#C8D4E3\"}},\"shapedefaults\":{\"line\":{\"color\":\"#f2f5fa\"}},\"sliderdefaults\":{\"bgcolor\":\"#C8D4E3\",\"bordercolor\":\"rgb(17,17,17)\",\"borderwidth\":1,\"tickwidth\":0},\"ternary\":{\"aaxis\":{\"gridcolor\":\"#506784\",\"linecolor\":\"#506784\",\"ticks\":\"\"},\"baxis\":{\"gridcolor\":\"#506784\",\"linecolor\":\"#506784\",\"ticks\":\"\"},\"bgcolor\":\"rgb(17,17,17)\",\"caxis\":{\"gridcolor\":\"#506784\",\"linecolor\":\"#506784\",\"ticks\":\"\"}},\"title\":{\"x\":0.05},\"updatemenudefaults\":{\"bgcolor\":\"#506784\",\"borderwidth\":0},\"xaxis\":{\"automargin\":true,\"gridcolor\":\"#283442\",\"linecolor\":\"#506784\",\"ticks\":\"\",\"title\":{\"standoff\":15},\"zerolinecolor\":\"#283442\",\"zerolinewidth\":2},\"yaxis\":{\"automargin\":true,\"gridcolor\":\"#283442\",\"linecolor\":\"#506784\",\"ticks\":\"\",\"title\":{\"standoff\":15},\"zerolinecolor\":\"#283442\",\"zerolinewidth\":2}}},\"xaxis\":{\"anchor\":\"y\",\"domain\":[0.0,1.0],\"title\":{\"text\":\"author name\"}},\"yaxis\":{\"anchor\":\"x\",\"domain\":[0.0,1.0],\"title\":{\"text\":\"average rating\"}},\"legend\":{\"tracegroupgap\":0},\"title\":{\"text\":\"Average ratings of the books of the Top 20 authors\"},\"barmode\":\"relative\",\"font\":{\"size\":15,\"family\":\"Franklin Gothic\"}},                        {\"responsive\": true}                    ).then(function(){\n",
              "                            \n",
              "var gd = document.getElementById('05586fc1-b0f9-4480-8d5a-b3c00b65388a');\n",
              "var x = new MutationObserver(function (mutations, observer) {{\n",
              "        var display = window.getComputedStyle(gd).display;\n",
              "        if (!display || display === 'none') {{\n",
              "            console.log([gd, 'removed!']);\n",
              "            Plotly.purge(gd);\n",
              "            observer.disconnect();\n",
              "        }}\n",
              "}});\n",
              "\n",
              "// Listen for the removal of the full notebook cells\n",
              "var notebookContainer = gd.closest('#notebook-container');\n",
              "if (notebookContainer) {{\n",
              "    x.observe(notebookContainer, {childList: true});\n",
              "}}\n",
              "\n",
              "// Listen for the clearing of the current output cell\n",
              "var outputEl = gd.closest('.output');\n",
              "if (outputEl) {{\n",
              "    x.observe(outputEl, {childList: true});\n",
              "}}\n",
              "\n",
              "                        })                };                            </script>        </div>\n",
              "</body>\n",
              "</html>"
            ]
          },
          "metadata": {}
        }
      ]
    },
    {
      "cell_type": "markdown",
      "source": [
        "William Shakespeare is the top rated author"
      ],
      "metadata": {
        "id": "zG73jKyuww_o"
      }
    },
    {
      "cell_type": "markdown",
      "source": [
        "Average rating of the books of the top 20 publishers:"
      ],
      "metadata": {
        "id": "dGG5DX2Sww_o"
      }
    },
    {
      "cell_type": "code",
      "source": [
        "publishers_top20 = books['Publisher'].value_counts().head(20)\n",
        "publishers_top20 = list(publishers_top20.index)\n",
        "\n",
        "top20_publishers = pd.DataFrame(columns = books_with_ratings.columns)\n",
        "\n",
        "for pub in publishers_top20:\n",
        "    \n",
        "    cond_df = books_with_ratings[books_with_ratings['Publisher'] == pub]\n",
        "    \n",
        "    top20_publishers =  pd.concat([top20_publishers, cond_df], axis=0)\n",
        "    \n",
        "    \n",
        "top20_publishers = top20_publishers[top20_publishers['Book-Rating'] != 0]\n",
        "top20_publishers = top20_publishers.groupby('Publisher')['Book-Rating'].agg('mean').reset_index().sort_values(by='Book-Rating', ascending=False)\n",
        "\n",
        "top20_publishers"
      ],
      "metadata": {
        "execution": {
          "iopub.status.busy": "2023-04-26T00:04:12.727597Z",
          "iopub.execute_input": "2023-04-26T00:04:12.727965Z",
          "iopub.status.idle": "2023-04-26T00:04:15.101763Z",
          "shell.execute_reply.started": "2023-04-26T00:04:12.727929Z",
          "shell.execute_reply": "2023-04-26T00:04:15.100441Z"
        },
        "trusted": true,
        "id": "0t_PEM40ww_o",
        "colab": {
          "base_uri": "https://localhost:8080/",
          "height": 0
        },
        "outputId": "ca2775d8-e7c9-4d4f-e87c-e59a27552d83"
      },
      "execution_count": 63,
      "outputs": [
        {
          "output_type": "execute_result",
          "data": {
            "text/plain": [
              "                   Publisher  Book-Rating\n",
              "11                Scholastic     7.818161\n",
              "7              Penguin Books     7.773789\n",
              "17                 Tor Books     7.686075\n",
              "0           Ballantine Books     7.610437\n",
              "16        St. Martin's Press     7.596059\n",
              "12               Signet Book     7.591292\n",
              "5   HarperCollins Publishers     7.584115\n",
              "9                     Pocket     7.564115\n",
              "18              Warner Books     7.543623\n",
              "14      Simon &amp; Schuster     7.522894\n",
              "1               Bantam Books     7.520811\n",
              "8                Penguin USA     7.481596\n",
              "3              Fawcett Books     7.477845\n",
              "6              Harpercollins     7.449576\n",
              "2   Berkley Publishing Group     7.443836\n",
              "10          Random House Inc     7.364574\n",
              "15             St Martins Pr     7.264090\n",
              "13                Silhouette     7.239616\n",
              "4                  Harlequin     7.170115\n",
              "19               Zebra Books     7.089198"
            ],
            "text/html": [
              "\n",
              "  <div id=\"df-fbb733d0-bee5-4c4a-b625-c10941e2cfc7\">\n",
              "    <div class=\"colab-df-container\">\n",
              "      <div>\n",
              "<style scoped>\n",
              "    .dataframe tbody tr th:only-of-type {\n",
              "        vertical-align: middle;\n",
              "    }\n",
              "\n",
              "    .dataframe tbody tr th {\n",
              "        vertical-align: top;\n",
              "    }\n",
              "\n",
              "    .dataframe thead th {\n",
              "        text-align: right;\n",
              "    }\n",
              "</style>\n",
              "<table border=\"1\" class=\"dataframe\">\n",
              "  <thead>\n",
              "    <tr style=\"text-align: right;\">\n",
              "      <th></th>\n",
              "      <th>Publisher</th>\n",
              "      <th>Book-Rating</th>\n",
              "    </tr>\n",
              "  </thead>\n",
              "  <tbody>\n",
              "    <tr>\n",
              "      <th>11</th>\n",
              "      <td>Scholastic</td>\n",
              "      <td>7.818161</td>\n",
              "    </tr>\n",
              "    <tr>\n",
              "      <th>7</th>\n",
              "      <td>Penguin Books</td>\n",
              "      <td>7.773789</td>\n",
              "    </tr>\n",
              "    <tr>\n",
              "      <th>17</th>\n",
              "      <td>Tor Books</td>\n",
              "      <td>7.686075</td>\n",
              "    </tr>\n",
              "    <tr>\n",
              "      <th>0</th>\n",
              "      <td>Ballantine Books</td>\n",
              "      <td>7.610437</td>\n",
              "    </tr>\n",
              "    <tr>\n",
              "      <th>16</th>\n",
              "      <td>St. Martin's Press</td>\n",
              "      <td>7.596059</td>\n",
              "    </tr>\n",
              "    <tr>\n",
              "      <th>12</th>\n",
              "      <td>Signet Book</td>\n",
              "      <td>7.591292</td>\n",
              "    </tr>\n",
              "    <tr>\n",
              "      <th>5</th>\n",
              "      <td>HarperCollins Publishers</td>\n",
              "      <td>7.584115</td>\n",
              "    </tr>\n",
              "    <tr>\n",
              "      <th>9</th>\n",
              "      <td>Pocket</td>\n",
              "      <td>7.564115</td>\n",
              "    </tr>\n",
              "    <tr>\n",
              "      <th>18</th>\n",
              "      <td>Warner Books</td>\n",
              "      <td>7.543623</td>\n",
              "    </tr>\n",
              "    <tr>\n",
              "      <th>14</th>\n",
              "      <td>Simon &amp;amp; Schuster</td>\n",
              "      <td>7.522894</td>\n",
              "    </tr>\n",
              "    <tr>\n",
              "      <th>1</th>\n",
              "      <td>Bantam Books</td>\n",
              "      <td>7.520811</td>\n",
              "    </tr>\n",
              "    <tr>\n",
              "      <th>8</th>\n",
              "      <td>Penguin USA</td>\n",
              "      <td>7.481596</td>\n",
              "    </tr>\n",
              "    <tr>\n",
              "      <th>3</th>\n",
              "      <td>Fawcett Books</td>\n",
              "      <td>7.477845</td>\n",
              "    </tr>\n",
              "    <tr>\n",
              "      <th>6</th>\n",
              "      <td>Harpercollins</td>\n",
              "      <td>7.449576</td>\n",
              "    </tr>\n",
              "    <tr>\n",
              "      <th>2</th>\n",
              "      <td>Berkley Publishing Group</td>\n",
              "      <td>7.443836</td>\n",
              "    </tr>\n",
              "    <tr>\n",
              "      <th>10</th>\n",
              "      <td>Random House Inc</td>\n",
              "      <td>7.364574</td>\n",
              "    </tr>\n",
              "    <tr>\n",
              "      <th>15</th>\n",
              "      <td>St Martins Pr</td>\n",
              "      <td>7.264090</td>\n",
              "    </tr>\n",
              "    <tr>\n",
              "      <th>13</th>\n",
              "      <td>Silhouette</td>\n",
              "      <td>7.239616</td>\n",
              "    </tr>\n",
              "    <tr>\n",
              "      <th>4</th>\n",
              "      <td>Harlequin</td>\n",
              "      <td>7.170115</td>\n",
              "    </tr>\n",
              "    <tr>\n",
              "      <th>19</th>\n",
              "      <td>Zebra Books</td>\n",
              "      <td>7.089198</td>\n",
              "    </tr>\n",
              "  </tbody>\n",
              "</table>\n",
              "</div>\n",
              "      <button class=\"colab-df-convert\" onclick=\"convertToInteractive('df-fbb733d0-bee5-4c4a-b625-c10941e2cfc7')\"\n",
              "              title=\"Convert this dataframe to an interactive table.\"\n",
              "              style=\"display:none;\">\n",
              "        \n",
              "  <svg xmlns=\"http://www.w3.org/2000/svg\" height=\"24px\"viewBox=\"0 0 24 24\"\n",
              "       width=\"24px\">\n",
              "    <path d=\"M0 0h24v24H0V0z\" fill=\"none\"/>\n",
              "    <path d=\"M18.56 5.44l.94 2.06.94-2.06 2.06-.94-2.06-.94-.94-2.06-.94 2.06-2.06.94zm-11 1L8.5 8.5l.94-2.06 2.06-.94-2.06-.94L8.5 2.5l-.94 2.06-2.06.94zm10 10l.94 2.06.94-2.06 2.06-.94-2.06-.94-.94-2.06-.94 2.06-2.06.94z\"/><path d=\"M17.41 7.96l-1.37-1.37c-.4-.4-.92-.59-1.43-.59-.52 0-1.04.2-1.43.59L10.3 9.45l-7.72 7.72c-.78.78-.78 2.05 0 2.83L4 21.41c.39.39.9.59 1.41.59.51 0 1.02-.2 1.41-.59l7.78-7.78 2.81-2.81c.8-.78.8-2.07 0-2.86zM5.41 20L4 18.59l7.72-7.72 1.47 1.35L5.41 20z\"/>\n",
              "  </svg>\n",
              "      </button>\n",
              "      \n",
              "  <style>\n",
              "    .colab-df-container {\n",
              "      display:flex;\n",
              "      flex-wrap:wrap;\n",
              "      gap: 12px;\n",
              "    }\n",
              "\n",
              "    .colab-df-convert {\n",
              "      background-color: #E8F0FE;\n",
              "      border: none;\n",
              "      border-radius: 50%;\n",
              "      cursor: pointer;\n",
              "      display: none;\n",
              "      fill: #1967D2;\n",
              "      height: 32px;\n",
              "      padding: 0 0 0 0;\n",
              "      width: 32px;\n",
              "    }\n",
              "\n",
              "    .colab-df-convert:hover {\n",
              "      background-color: #E2EBFA;\n",
              "      box-shadow: 0px 1px 2px rgba(60, 64, 67, 0.3), 0px 1px 3px 1px rgba(60, 64, 67, 0.15);\n",
              "      fill: #174EA6;\n",
              "    }\n",
              "\n",
              "    [theme=dark] .colab-df-convert {\n",
              "      background-color: #3B4455;\n",
              "      fill: #D2E3FC;\n",
              "    }\n",
              "\n",
              "    [theme=dark] .colab-df-convert:hover {\n",
              "      background-color: #434B5C;\n",
              "      box-shadow: 0px 1px 3px 1px rgba(0, 0, 0, 0.15);\n",
              "      filter: drop-shadow(0px 1px 2px rgba(0, 0, 0, 0.3));\n",
              "      fill: #FFFFFF;\n",
              "    }\n",
              "  </style>\n",
              "\n",
              "      <script>\n",
              "        const buttonEl =\n",
              "          document.querySelector('#df-fbb733d0-bee5-4c4a-b625-c10941e2cfc7 button.colab-df-convert');\n",
              "        buttonEl.style.display =\n",
              "          google.colab.kernel.accessAllowed ? 'block' : 'none';\n",
              "\n",
              "        async function convertToInteractive(key) {\n",
              "          const element = document.querySelector('#df-fbb733d0-bee5-4c4a-b625-c10941e2cfc7');\n",
              "          const dataTable =\n",
              "            await google.colab.kernel.invokeFunction('convertToInteractive',\n",
              "                                                     [key], {});\n",
              "          if (!dataTable) return;\n",
              "\n",
              "          const docLinkHtml = 'Like what you see? Visit the ' +\n",
              "            '<a target=\"_blank\" href=https://colab.research.google.com/notebooks/data_table.ipynb>data table notebook</a>'\n",
              "            + ' to learn more about interactive tables.';\n",
              "          element.innerHTML = '';\n",
              "          dataTable['output_type'] = 'display_data';\n",
              "          await google.colab.output.renderOutput(dataTable, element);\n",
              "          const docLink = document.createElement('div');\n",
              "          docLink.innerHTML = docLinkHtml;\n",
              "          element.appendChild(docLink);\n",
              "        }\n",
              "      </script>\n",
              "    </div>\n",
              "  </div>\n",
              "  "
            ]
          },
          "metadata": {},
          "execution_count": 63
        }
      ]
    },
    {
      "cell_type": "code",
      "source": [
        "fig = px.bar(y=top20_publishers['Book-Rating'], \n",
        "             x=top20_publishers['Publisher'], \n",
        "             color_discrete_sequence=px.colors.sequential.PuBuGn,\n",
        "             text=round(top20_publishers['Book-Rating'],2),\n",
        "             title= \"Average ratings of the books of the Top 20 Publishers\",\n",
        "             template= 'plotly_dark')\n",
        "fig.update_layout(\n",
        "    xaxis_title=\"Publisher name\",\n",
        "    yaxis_title=\"average rating\",\n",
        "    font = dict(size=15,family=\"Franklin Gothic\"))\n",
        "fig.show()"
      ],
      "metadata": {
        "execution": {
          "iopub.status.busy": "2023-04-26T00:04:15.103293Z",
          "iopub.execute_input": "2023-04-26T00:04:15.103634Z",
          "iopub.status.idle": "2023-04-26T00:04:15.171757Z",
          "shell.execute_reply.started": "2023-04-26T00:04:15.103588Z",
          "shell.execute_reply": "2023-04-26T00:04:15.170136Z"
        },
        "trusted": true,
        "id": "HJjy_n3Sww_p",
        "colab": {
          "base_uri": "https://localhost:8080/",
          "height": 0
        },
        "outputId": "b2262a6d-fb7b-45bb-eb39-a6a6bb8dfba6"
      },
      "execution_count": 64,
      "outputs": [
        {
          "output_type": "display_data",
          "data": {
            "text/html": [
              "<html>\n",
              "<head><meta charset=\"utf-8\" /></head>\n",
              "<body>\n",
              "    <div>            <script src=\"https://cdnjs.cloudflare.com/ajax/libs/mathjax/2.7.5/MathJax.js?config=TeX-AMS-MML_SVG\"></script><script type=\"text/javascript\">if (window.MathJax && window.MathJax.Hub && window.MathJax.Hub.Config) {window.MathJax.Hub.Config({SVG: {font: \"STIX-Web\"}});}</script>                <script type=\"text/javascript\">window.PlotlyConfig = {MathJaxConfig: 'local'};</script>\n",
              "        <script src=\"https://cdn.plot.ly/plotly-2.18.2.min.js\"></script>                <div id=\"8530204d-72ae-4c1b-a945-ba1c0102d430\" class=\"plotly-graph-div\" style=\"height:525px; width:100%;\"></div>            <script type=\"text/javascript\">                                    window.PLOTLYENV=window.PLOTLYENV || {};                                    if (document.getElementById(\"8530204d-72ae-4c1b-a945-ba1c0102d430\")) {                    Plotly.newPlot(                        \"8530204d-72ae-4c1b-a945-ba1c0102d430\",                        [{\"alignmentgroup\":\"True\",\"hovertemplate\":\"x=%{x}<br>y=%{y}<br>text=%{text}<extra></extra>\",\"legendgroup\":\"\",\"marker\":{\"color\":\"rgb(255,247,251)\",\"pattern\":{\"shape\":\"\"}},\"name\":\"\",\"offsetgroup\":\"\",\"orientation\":\"v\",\"showlegend\":false,\"text\":[7.82,7.77,7.69,7.61,7.6,7.59,7.58,7.56,7.54,7.52,7.52,7.48,7.48,7.45,7.44,7.36,7.26,7.24,7.17,7.09],\"textposition\":\"auto\",\"x\":[\"Scholastic\",\"Penguin Books\",\"Tor Books\",\"Ballantine Books\",\"St. Martin's Press\",\"Signet Book\",\"HarperCollins Publishers\",\"Pocket\",\"Warner Books\",\"Simon &amp; Schuster\",\"Bantam Books\",\"Penguin USA\",\"Fawcett Books\",\"Harpercollins\",\"Berkley Publishing Group\",\"Random House Inc\",\"St Martins Pr\",\"Silhouette\",\"Harlequin\",\"Zebra Books\"],\"xaxis\":\"x\",\"y\":[7.818160597572362,7.773789173789174,7.686075061381971,7.6104373679680775,7.596059113300493,7.591291512915129,7.58411472697187,7.564114696697265,7.5436226749335695,7.522894004553503,7.520810514786419,7.4815964523281595,7.477844638949672,7.449576271186441,7.443836498229803,7.36457437661221,7.264090177133656,7.239615623062616,7.170115399920414,7.089198036006547],\"yaxis\":\"y\",\"type\":\"bar\"}],                        {\"template\":{\"data\":{\"barpolar\":[{\"marker\":{\"line\":{\"color\":\"rgb(17,17,17)\",\"width\":0.5},\"pattern\":{\"fillmode\":\"overlay\",\"size\":10,\"solidity\":0.2}},\"type\":\"barpolar\"}],\"bar\":[{\"error_x\":{\"color\":\"#f2f5fa\"},\"error_y\":{\"color\":\"#f2f5fa\"},\"marker\":{\"line\":{\"color\":\"rgb(17,17,17)\",\"width\":0.5},\"pattern\":{\"fillmode\":\"overlay\",\"size\":10,\"solidity\":0.2}},\"type\":\"bar\"}],\"carpet\":[{\"aaxis\":{\"endlinecolor\":\"#A2B1C6\",\"gridcolor\":\"#506784\",\"linecolor\":\"#506784\",\"minorgridcolor\":\"#506784\",\"startlinecolor\":\"#A2B1C6\"},\"baxis\":{\"endlinecolor\":\"#A2B1C6\",\"gridcolor\":\"#506784\",\"linecolor\":\"#506784\",\"minorgridcolor\":\"#506784\",\"startlinecolor\":\"#A2B1C6\"},\"type\":\"carpet\"}],\"choropleth\":[{\"colorbar\":{\"outlinewidth\":0,\"ticks\":\"\"},\"type\":\"choropleth\"}],\"contourcarpet\":[{\"colorbar\":{\"outlinewidth\":0,\"ticks\":\"\"},\"type\":\"contourcarpet\"}],\"contour\":[{\"colorbar\":{\"outlinewidth\":0,\"ticks\":\"\"},\"colorscale\":[[0.0,\"#0d0887\"],[0.1111111111111111,\"#46039f\"],[0.2222222222222222,\"#7201a8\"],[0.3333333333333333,\"#9c179e\"],[0.4444444444444444,\"#bd3786\"],[0.5555555555555556,\"#d8576b\"],[0.6666666666666666,\"#ed7953\"],[0.7777777777777778,\"#fb9f3a\"],[0.8888888888888888,\"#fdca26\"],[1.0,\"#f0f921\"]],\"type\":\"contour\"}],\"heatmapgl\":[{\"colorbar\":{\"outlinewidth\":0,\"ticks\":\"\"},\"colorscale\":[[0.0,\"#0d0887\"],[0.1111111111111111,\"#46039f\"],[0.2222222222222222,\"#7201a8\"],[0.3333333333333333,\"#9c179e\"],[0.4444444444444444,\"#bd3786\"],[0.5555555555555556,\"#d8576b\"],[0.6666666666666666,\"#ed7953\"],[0.7777777777777778,\"#fb9f3a\"],[0.8888888888888888,\"#fdca26\"],[1.0,\"#f0f921\"]],\"type\":\"heatmapgl\"}],\"heatmap\":[{\"colorbar\":{\"outlinewidth\":0,\"ticks\":\"\"},\"colorscale\":[[0.0,\"#0d0887\"],[0.1111111111111111,\"#46039f\"],[0.2222222222222222,\"#7201a8\"],[0.3333333333333333,\"#9c179e\"],[0.4444444444444444,\"#bd3786\"],[0.5555555555555556,\"#d8576b\"],[0.6666666666666666,\"#ed7953\"],[0.7777777777777778,\"#fb9f3a\"],[0.8888888888888888,\"#fdca26\"],[1.0,\"#f0f921\"]],\"type\":\"heatmap\"}],\"histogram2dcontour\":[{\"colorbar\":{\"outlinewidth\":0,\"ticks\":\"\"},\"colorscale\":[[0.0,\"#0d0887\"],[0.1111111111111111,\"#46039f\"],[0.2222222222222222,\"#7201a8\"],[0.3333333333333333,\"#9c179e\"],[0.4444444444444444,\"#bd3786\"],[0.5555555555555556,\"#d8576b\"],[0.6666666666666666,\"#ed7953\"],[0.7777777777777778,\"#fb9f3a\"],[0.8888888888888888,\"#fdca26\"],[1.0,\"#f0f921\"]],\"type\":\"histogram2dcontour\"}],\"histogram2d\":[{\"colorbar\":{\"outlinewidth\":0,\"ticks\":\"\"},\"colorscale\":[[0.0,\"#0d0887\"],[0.1111111111111111,\"#46039f\"],[0.2222222222222222,\"#7201a8\"],[0.3333333333333333,\"#9c179e\"],[0.4444444444444444,\"#bd3786\"],[0.5555555555555556,\"#d8576b\"],[0.6666666666666666,\"#ed7953\"],[0.7777777777777778,\"#fb9f3a\"],[0.8888888888888888,\"#fdca26\"],[1.0,\"#f0f921\"]],\"type\":\"histogram2d\"}],\"histogram\":[{\"marker\":{\"pattern\":{\"fillmode\":\"overlay\",\"size\":10,\"solidity\":0.2}},\"type\":\"histogram\"}],\"mesh3d\":[{\"colorbar\":{\"outlinewidth\":0,\"ticks\":\"\"},\"type\":\"mesh3d\"}],\"parcoords\":[{\"line\":{\"colorbar\":{\"outlinewidth\":0,\"ticks\":\"\"}},\"type\":\"parcoords\"}],\"pie\":[{\"automargin\":true,\"type\":\"pie\"}],\"scatter3d\":[{\"line\":{\"colorbar\":{\"outlinewidth\":0,\"ticks\":\"\"}},\"marker\":{\"colorbar\":{\"outlinewidth\":0,\"ticks\":\"\"}},\"type\":\"scatter3d\"}],\"scattercarpet\":[{\"marker\":{\"colorbar\":{\"outlinewidth\":0,\"ticks\":\"\"}},\"type\":\"scattercarpet\"}],\"scattergeo\":[{\"marker\":{\"colorbar\":{\"outlinewidth\":0,\"ticks\":\"\"}},\"type\":\"scattergeo\"}],\"scattergl\":[{\"marker\":{\"line\":{\"color\":\"#283442\"}},\"type\":\"scattergl\"}],\"scattermapbox\":[{\"marker\":{\"colorbar\":{\"outlinewidth\":0,\"ticks\":\"\"}},\"type\":\"scattermapbox\"}],\"scatterpolargl\":[{\"marker\":{\"colorbar\":{\"outlinewidth\":0,\"ticks\":\"\"}},\"type\":\"scatterpolargl\"}],\"scatterpolar\":[{\"marker\":{\"colorbar\":{\"outlinewidth\":0,\"ticks\":\"\"}},\"type\":\"scatterpolar\"}],\"scatter\":[{\"marker\":{\"line\":{\"color\":\"#283442\"}},\"type\":\"scatter\"}],\"scatterternary\":[{\"marker\":{\"colorbar\":{\"outlinewidth\":0,\"ticks\":\"\"}},\"type\":\"scatterternary\"}],\"surface\":[{\"colorbar\":{\"outlinewidth\":0,\"ticks\":\"\"},\"colorscale\":[[0.0,\"#0d0887\"],[0.1111111111111111,\"#46039f\"],[0.2222222222222222,\"#7201a8\"],[0.3333333333333333,\"#9c179e\"],[0.4444444444444444,\"#bd3786\"],[0.5555555555555556,\"#d8576b\"],[0.6666666666666666,\"#ed7953\"],[0.7777777777777778,\"#fb9f3a\"],[0.8888888888888888,\"#fdca26\"],[1.0,\"#f0f921\"]],\"type\":\"surface\"}],\"table\":[{\"cells\":{\"fill\":{\"color\":\"#506784\"},\"line\":{\"color\":\"rgb(17,17,17)\"}},\"header\":{\"fill\":{\"color\":\"#2a3f5f\"},\"line\":{\"color\":\"rgb(17,17,17)\"}},\"type\":\"table\"}]},\"layout\":{\"annotationdefaults\":{\"arrowcolor\":\"#f2f5fa\",\"arrowhead\":0,\"arrowwidth\":1},\"autotypenumbers\":\"strict\",\"coloraxis\":{\"colorbar\":{\"outlinewidth\":0,\"ticks\":\"\"}},\"colorscale\":{\"diverging\":[[0,\"#8e0152\"],[0.1,\"#c51b7d\"],[0.2,\"#de77ae\"],[0.3,\"#f1b6da\"],[0.4,\"#fde0ef\"],[0.5,\"#f7f7f7\"],[0.6,\"#e6f5d0\"],[0.7,\"#b8e186\"],[0.8,\"#7fbc41\"],[0.9,\"#4d9221\"],[1,\"#276419\"]],\"sequential\":[[0.0,\"#0d0887\"],[0.1111111111111111,\"#46039f\"],[0.2222222222222222,\"#7201a8\"],[0.3333333333333333,\"#9c179e\"],[0.4444444444444444,\"#bd3786\"],[0.5555555555555556,\"#d8576b\"],[0.6666666666666666,\"#ed7953\"],[0.7777777777777778,\"#fb9f3a\"],[0.8888888888888888,\"#fdca26\"],[1.0,\"#f0f921\"]],\"sequentialminus\":[[0.0,\"#0d0887\"],[0.1111111111111111,\"#46039f\"],[0.2222222222222222,\"#7201a8\"],[0.3333333333333333,\"#9c179e\"],[0.4444444444444444,\"#bd3786\"],[0.5555555555555556,\"#d8576b\"],[0.6666666666666666,\"#ed7953\"],[0.7777777777777778,\"#fb9f3a\"],[0.8888888888888888,\"#fdca26\"],[1.0,\"#f0f921\"]]},\"colorway\":[\"#636efa\",\"#EF553B\",\"#00cc96\",\"#ab63fa\",\"#FFA15A\",\"#19d3f3\",\"#FF6692\",\"#B6E880\",\"#FF97FF\",\"#FECB52\"],\"font\":{\"color\":\"#f2f5fa\"},\"geo\":{\"bgcolor\":\"rgb(17,17,17)\",\"lakecolor\":\"rgb(17,17,17)\",\"landcolor\":\"rgb(17,17,17)\",\"showlakes\":true,\"showland\":true,\"subunitcolor\":\"#506784\"},\"hoverlabel\":{\"align\":\"left\"},\"hovermode\":\"closest\",\"mapbox\":{\"style\":\"dark\"},\"paper_bgcolor\":\"rgb(17,17,17)\",\"plot_bgcolor\":\"rgb(17,17,17)\",\"polar\":{\"angularaxis\":{\"gridcolor\":\"#506784\",\"linecolor\":\"#506784\",\"ticks\":\"\"},\"bgcolor\":\"rgb(17,17,17)\",\"radialaxis\":{\"gridcolor\":\"#506784\",\"linecolor\":\"#506784\",\"ticks\":\"\"}},\"scene\":{\"xaxis\":{\"backgroundcolor\":\"rgb(17,17,17)\",\"gridcolor\":\"#506784\",\"gridwidth\":2,\"linecolor\":\"#506784\",\"showbackground\":true,\"ticks\":\"\",\"zerolinecolor\":\"#C8D4E3\"},\"yaxis\":{\"backgroundcolor\":\"rgb(17,17,17)\",\"gridcolor\":\"#506784\",\"gridwidth\":2,\"linecolor\":\"#506784\",\"showbackground\":true,\"ticks\":\"\",\"zerolinecolor\":\"#C8D4E3\"},\"zaxis\":{\"backgroundcolor\":\"rgb(17,17,17)\",\"gridcolor\":\"#506784\",\"gridwidth\":2,\"linecolor\":\"#506784\",\"showbackground\":true,\"ticks\":\"\",\"zerolinecolor\":\"#C8D4E3\"}},\"shapedefaults\":{\"line\":{\"color\":\"#f2f5fa\"}},\"sliderdefaults\":{\"bgcolor\":\"#C8D4E3\",\"bordercolor\":\"rgb(17,17,17)\",\"borderwidth\":1,\"tickwidth\":0},\"ternary\":{\"aaxis\":{\"gridcolor\":\"#506784\",\"linecolor\":\"#506784\",\"ticks\":\"\"},\"baxis\":{\"gridcolor\":\"#506784\",\"linecolor\":\"#506784\",\"ticks\":\"\"},\"bgcolor\":\"rgb(17,17,17)\",\"caxis\":{\"gridcolor\":\"#506784\",\"linecolor\":\"#506784\",\"ticks\":\"\"}},\"title\":{\"x\":0.05},\"updatemenudefaults\":{\"bgcolor\":\"#506784\",\"borderwidth\":0},\"xaxis\":{\"automargin\":true,\"gridcolor\":\"#283442\",\"linecolor\":\"#506784\",\"ticks\":\"\",\"title\":{\"standoff\":15},\"zerolinecolor\":\"#283442\",\"zerolinewidth\":2},\"yaxis\":{\"automargin\":true,\"gridcolor\":\"#283442\",\"linecolor\":\"#506784\",\"ticks\":\"\",\"title\":{\"standoff\":15},\"zerolinecolor\":\"#283442\",\"zerolinewidth\":2}}},\"xaxis\":{\"anchor\":\"y\",\"domain\":[0.0,1.0],\"title\":{\"text\":\"Publisher name\"}},\"yaxis\":{\"anchor\":\"x\",\"domain\":[0.0,1.0],\"title\":{\"text\":\"average rating\"}},\"legend\":{\"tracegroupgap\":0},\"title\":{\"text\":\"Average ratings of the books of the Top 20 Publishers\"},\"barmode\":\"relative\",\"font\":{\"size\":15,\"family\":\"Franklin Gothic\"}},                        {\"responsive\": true}                    ).then(function(){\n",
              "                            \n",
              "var gd = document.getElementById('8530204d-72ae-4c1b-a945-ba1c0102d430');\n",
              "var x = new MutationObserver(function (mutations, observer) {{\n",
              "        var display = window.getComputedStyle(gd).display;\n",
              "        if (!display || display === 'none') {{\n",
              "            console.log([gd, 'removed!']);\n",
              "            Plotly.purge(gd);\n",
              "            observer.disconnect();\n",
              "        }}\n",
              "}});\n",
              "\n",
              "// Listen for the removal of the full notebook cells\n",
              "var notebookContainer = gd.closest('#notebook-container');\n",
              "if (notebookContainer) {{\n",
              "    x.observe(notebookContainer, {childList: true});\n",
              "}}\n",
              "\n",
              "// Listen for the clearing of the current output cell\n",
              "var outputEl = gd.closest('.output');\n",
              "if (outputEl) {{\n",
              "    x.observe(outputEl, {childList: true});\n",
              "}}\n",
              "\n",
              "                        })                };                            </script>        </div>\n",
              "</body>\n",
              "</html>"
            ]
          },
          "metadata": {}
        }
      ]
    },
    {
      "cell_type": "markdown",
      "source": [
        "The average rating of the books of the publishers are close to each other"
      ],
      "metadata": {
        "id": "Uc4jt08nww_p"
      }
    },
    {
      "cell_type": "markdown",
      "source": [
        "Most rated books by users"
      ],
      "metadata": {
        "id": "jvLB-qNSww_p"
      }
    },
    {
      "cell_type": "code",
      "source": [
        "df = pd.merge(books_with_ratings, users, on='User-ID')\n",
        "df = books_with_ratings[books_with_ratings['Book-Rating'] != 0]\n",
        "plot_top20(df, 'Book-Title', \"Most Rated Books by Users\", \"Book Title\", \"Number of ratings\")"
      ],
      "metadata": {
        "execution": {
          "iopub.status.busy": "2023-04-26T00:04:15.173683Z",
          "iopub.execute_input": "2023-04-26T00:04:15.174075Z",
          "iopub.status.idle": "2023-04-26T00:04:17.334768Z",
          "shell.execute_reply.started": "2023-04-26T00:04:15.174029Z",
          "shell.execute_reply": "2023-04-26T00:04:17.330926Z"
        },
        "trusted": true,
        "id": "2u_dASBQww_p",
        "colab": {
          "base_uri": "https://localhost:8080/",
          "height": 0
        },
        "outputId": "b6ff1769-4ee9-4d46-994f-958664d7b93e"
      },
      "execution_count": 65,
      "outputs": [
        {
          "output_type": "display_data",
          "data": {
            "text/html": [
              "<html>\n",
              "<head><meta charset=\"utf-8\" /></head>\n",
              "<body>\n",
              "    <div>            <script src=\"https://cdnjs.cloudflare.com/ajax/libs/mathjax/2.7.5/MathJax.js?config=TeX-AMS-MML_SVG\"></script><script type=\"text/javascript\">if (window.MathJax && window.MathJax.Hub && window.MathJax.Hub.Config) {window.MathJax.Hub.Config({SVG: {font: \"STIX-Web\"}});}</script>                <script type=\"text/javascript\">window.PlotlyConfig = {MathJaxConfig: 'local'};</script>\n",
              "        <script src=\"https://cdn.plot.ly/plotly-2.18.2.min.js\"></script>                <div id=\"5967b79a-9efb-4d3d-a17c-a4bba1340c9b\" class=\"plotly-graph-div\" style=\"height:525px; width:100%;\"></div>            <script type=\"text/javascript\">                                    window.PLOTLYENV=window.PLOTLYENV || {};                                    if (document.getElementById(\"5967b79a-9efb-4d3d-a17c-a4bba1340c9b\")) {                    Plotly.newPlot(                        \"5967b79a-9efb-4d3d-a17c-a4bba1340c9b\",                        [{\"alignmentgroup\":\"True\",\"hovertemplate\":\"x=%{x}<br>y=%{y}<br>text=%{text}<extra></extra>\",\"legendgroup\":\"\",\"marker\":{\"color\":\"rgb(255,247,251)\",\"pattern\":{\"shape\":\"\"}},\"name\":\"\",\"offsetgroup\":\"\",\"orientation\":\"v\",\"showlegend\":false,\"text\":[707.0,581.0,494.0,406.0,393.0,383.0,377.0,366.0,336.0,326.0,323.0,315.0,310.0,309.0,295.0,293.0,278.0,277.0,275.0,272.0],\"textposition\":\"auto\",\"x\":[\"The Lovely Bones: A Novel\",\"Wild Animus\",\"The Da Vinci Code\",\"The Secret Life of Bees\",\"The Nanny Diaries: A Novel\",\"The Red Tent (Bestselling Backlist)\",\"Bridget Jones's Diary\",\"A Painted House\",\"Life of Pi\",\"Harry Potter and the Chamber of Secrets (Book 2)\",\"Divine Secrets of the Ya-Ya Sisterhood: A Novel\",\"Harry Potter and the Sorcerer's Stone (Harry Potter (Paperback))\",\"Angels &amp; Demons\",\"The Summons\",\"Where the Heart Is (Oprah's Book Club (Paperback))\",\"The Notebook\",\"Girl with a Pearl Earring\",\"Harry Potter and the Prisoner of Azkaban (Book 3)\",\"Snow Falling on Cedars\",\"The Pilot's Wife : A Novel\"],\"xaxis\":\"x\",\"y\":[707,581,494,406,393,383,377,366,336,326,323,315,310,309,295,293,278,277,275,272],\"yaxis\":\"y\",\"type\":\"bar\"}],                        {\"template\":{\"data\":{\"barpolar\":[{\"marker\":{\"line\":{\"color\":\"rgb(17,17,17)\",\"width\":0.5},\"pattern\":{\"fillmode\":\"overlay\",\"size\":10,\"solidity\":0.2}},\"type\":\"barpolar\"}],\"bar\":[{\"error_x\":{\"color\":\"#f2f5fa\"},\"error_y\":{\"color\":\"#f2f5fa\"},\"marker\":{\"line\":{\"color\":\"rgb(17,17,17)\",\"width\":0.5},\"pattern\":{\"fillmode\":\"overlay\",\"size\":10,\"solidity\":0.2}},\"type\":\"bar\"}],\"carpet\":[{\"aaxis\":{\"endlinecolor\":\"#A2B1C6\",\"gridcolor\":\"#506784\",\"linecolor\":\"#506784\",\"minorgridcolor\":\"#506784\",\"startlinecolor\":\"#A2B1C6\"},\"baxis\":{\"endlinecolor\":\"#A2B1C6\",\"gridcolor\":\"#506784\",\"linecolor\":\"#506784\",\"minorgridcolor\":\"#506784\",\"startlinecolor\":\"#A2B1C6\"},\"type\":\"carpet\"}],\"choropleth\":[{\"colorbar\":{\"outlinewidth\":0,\"ticks\":\"\"},\"type\":\"choropleth\"}],\"contourcarpet\":[{\"colorbar\":{\"outlinewidth\":0,\"ticks\":\"\"},\"type\":\"contourcarpet\"}],\"contour\":[{\"colorbar\":{\"outlinewidth\":0,\"ticks\":\"\"},\"colorscale\":[[0.0,\"#0d0887\"],[0.1111111111111111,\"#46039f\"],[0.2222222222222222,\"#7201a8\"],[0.3333333333333333,\"#9c179e\"],[0.4444444444444444,\"#bd3786\"],[0.5555555555555556,\"#d8576b\"],[0.6666666666666666,\"#ed7953\"],[0.7777777777777778,\"#fb9f3a\"],[0.8888888888888888,\"#fdca26\"],[1.0,\"#f0f921\"]],\"type\":\"contour\"}],\"heatmapgl\":[{\"colorbar\":{\"outlinewidth\":0,\"ticks\":\"\"},\"colorscale\":[[0.0,\"#0d0887\"],[0.1111111111111111,\"#46039f\"],[0.2222222222222222,\"#7201a8\"],[0.3333333333333333,\"#9c179e\"],[0.4444444444444444,\"#bd3786\"],[0.5555555555555556,\"#d8576b\"],[0.6666666666666666,\"#ed7953\"],[0.7777777777777778,\"#fb9f3a\"],[0.8888888888888888,\"#fdca26\"],[1.0,\"#f0f921\"]],\"type\":\"heatmapgl\"}],\"heatmap\":[{\"colorbar\":{\"outlinewidth\":0,\"ticks\":\"\"},\"colorscale\":[[0.0,\"#0d0887\"],[0.1111111111111111,\"#46039f\"],[0.2222222222222222,\"#7201a8\"],[0.3333333333333333,\"#9c179e\"],[0.4444444444444444,\"#bd3786\"],[0.5555555555555556,\"#d8576b\"],[0.6666666666666666,\"#ed7953\"],[0.7777777777777778,\"#fb9f3a\"],[0.8888888888888888,\"#fdca26\"],[1.0,\"#f0f921\"]],\"type\":\"heatmap\"}],\"histogram2dcontour\":[{\"colorbar\":{\"outlinewidth\":0,\"ticks\":\"\"},\"colorscale\":[[0.0,\"#0d0887\"],[0.1111111111111111,\"#46039f\"],[0.2222222222222222,\"#7201a8\"],[0.3333333333333333,\"#9c179e\"],[0.4444444444444444,\"#bd3786\"],[0.5555555555555556,\"#d8576b\"],[0.6666666666666666,\"#ed7953\"],[0.7777777777777778,\"#fb9f3a\"],[0.8888888888888888,\"#fdca26\"],[1.0,\"#f0f921\"]],\"type\":\"histogram2dcontour\"}],\"histogram2d\":[{\"colorbar\":{\"outlinewidth\":0,\"ticks\":\"\"},\"colorscale\":[[0.0,\"#0d0887\"],[0.1111111111111111,\"#46039f\"],[0.2222222222222222,\"#7201a8\"],[0.3333333333333333,\"#9c179e\"],[0.4444444444444444,\"#bd3786\"],[0.5555555555555556,\"#d8576b\"],[0.6666666666666666,\"#ed7953\"],[0.7777777777777778,\"#fb9f3a\"],[0.8888888888888888,\"#fdca26\"],[1.0,\"#f0f921\"]],\"type\":\"histogram2d\"}],\"histogram\":[{\"marker\":{\"pattern\":{\"fillmode\":\"overlay\",\"size\":10,\"solidity\":0.2}},\"type\":\"histogram\"}],\"mesh3d\":[{\"colorbar\":{\"outlinewidth\":0,\"ticks\":\"\"},\"type\":\"mesh3d\"}],\"parcoords\":[{\"line\":{\"colorbar\":{\"outlinewidth\":0,\"ticks\":\"\"}},\"type\":\"parcoords\"}],\"pie\":[{\"automargin\":true,\"type\":\"pie\"}],\"scatter3d\":[{\"line\":{\"colorbar\":{\"outlinewidth\":0,\"ticks\":\"\"}},\"marker\":{\"colorbar\":{\"outlinewidth\":0,\"ticks\":\"\"}},\"type\":\"scatter3d\"}],\"scattercarpet\":[{\"marker\":{\"colorbar\":{\"outlinewidth\":0,\"ticks\":\"\"}},\"type\":\"scattercarpet\"}],\"scattergeo\":[{\"marker\":{\"colorbar\":{\"outlinewidth\":0,\"ticks\":\"\"}},\"type\":\"scattergeo\"}],\"scattergl\":[{\"marker\":{\"line\":{\"color\":\"#283442\"}},\"type\":\"scattergl\"}],\"scattermapbox\":[{\"marker\":{\"colorbar\":{\"outlinewidth\":0,\"ticks\":\"\"}},\"type\":\"scattermapbox\"}],\"scatterpolargl\":[{\"marker\":{\"colorbar\":{\"outlinewidth\":0,\"ticks\":\"\"}},\"type\":\"scatterpolargl\"}],\"scatterpolar\":[{\"marker\":{\"colorbar\":{\"outlinewidth\":0,\"ticks\":\"\"}},\"type\":\"scatterpolar\"}],\"scatter\":[{\"marker\":{\"line\":{\"color\":\"#283442\"}},\"type\":\"scatter\"}],\"scatterternary\":[{\"marker\":{\"colorbar\":{\"outlinewidth\":0,\"ticks\":\"\"}},\"type\":\"scatterternary\"}],\"surface\":[{\"colorbar\":{\"outlinewidth\":0,\"ticks\":\"\"},\"colorscale\":[[0.0,\"#0d0887\"],[0.1111111111111111,\"#46039f\"],[0.2222222222222222,\"#7201a8\"],[0.3333333333333333,\"#9c179e\"],[0.4444444444444444,\"#bd3786\"],[0.5555555555555556,\"#d8576b\"],[0.6666666666666666,\"#ed7953\"],[0.7777777777777778,\"#fb9f3a\"],[0.8888888888888888,\"#fdca26\"],[1.0,\"#f0f921\"]],\"type\":\"surface\"}],\"table\":[{\"cells\":{\"fill\":{\"color\":\"#506784\"},\"line\":{\"color\":\"rgb(17,17,17)\"}},\"header\":{\"fill\":{\"color\":\"#2a3f5f\"},\"line\":{\"color\":\"rgb(17,17,17)\"}},\"type\":\"table\"}]},\"layout\":{\"annotationdefaults\":{\"arrowcolor\":\"#f2f5fa\",\"arrowhead\":0,\"arrowwidth\":1},\"autotypenumbers\":\"strict\",\"coloraxis\":{\"colorbar\":{\"outlinewidth\":0,\"ticks\":\"\"}},\"colorscale\":{\"diverging\":[[0,\"#8e0152\"],[0.1,\"#c51b7d\"],[0.2,\"#de77ae\"],[0.3,\"#f1b6da\"],[0.4,\"#fde0ef\"],[0.5,\"#f7f7f7\"],[0.6,\"#e6f5d0\"],[0.7,\"#b8e186\"],[0.8,\"#7fbc41\"],[0.9,\"#4d9221\"],[1,\"#276419\"]],\"sequential\":[[0.0,\"#0d0887\"],[0.1111111111111111,\"#46039f\"],[0.2222222222222222,\"#7201a8\"],[0.3333333333333333,\"#9c179e\"],[0.4444444444444444,\"#bd3786\"],[0.5555555555555556,\"#d8576b\"],[0.6666666666666666,\"#ed7953\"],[0.7777777777777778,\"#fb9f3a\"],[0.8888888888888888,\"#fdca26\"],[1.0,\"#f0f921\"]],\"sequentialminus\":[[0.0,\"#0d0887\"],[0.1111111111111111,\"#46039f\"],[0.2222222222222222,\"#7201a8\"],[0.3333333333333333,\"#9c179e\"],[0.4444444444444444,\"#bd3786\"],[0.5555555555555556,\"#d8576b\"],[0.6666666666666666,\"#ed7953\"],[0.7777777777777778,\"#fb9f3a\"],[0.8888888888888888,\"#fdca26\"],[1.0,\"#f0f921\"]]},\"colorway\":[\"#636efa\",\"#EF553B\",\"#00cc96\",\"#ab63fa\",\"#FFA15A\",\"#19d3f3\",\"#FF6692\",\"#B6E880\",\"#FF97FF\",\"#FECB52\"],\"font\":{\"color\":\"#f2f5fa\"},\"geo\":{\"bgcolor\":\"rgb(17,17,17)\",\"lakecolor\":\"rgb(17,17,17)\",\"landcolor\":\"rgb(17,17,17)\",\"showlakes\":true,\"showland\":true,\"subunitcolor\":\"#506784\"},\"hoverlabel\":{\"align\":\"left\"},\"hovermode\":\"closest\",\"mapbox\":{\"style\":\"dark\"},\"paper_bgcolor\":\"rgb(17,17,17)\",\"plot_bgcolor\":\"rgb(17,17,17)\",\"polar\":{\"angularaxis\":{\"gridcolor\":\"#506784\",\"linecolor\":\"#506784\",\"ticks\":\"\"},\"bgcolor\":\"rgb(17,17,17)\",\"radialaxis\":{\"gridcolor\":\"#506784\",\"linecolor\":\"#506784\",\"ticks\":\"\"}},\"scene\":{\"xaxis\":{\"backgroundcolor\":\"rgb(17,17,17)\",\"gridcolor\":\"#506784\",\"gridwidth\":2,\"linecolor\":\"#506784\",\"showbackground\":true,\"ticks\":\"\",\"zerolinecolor\":\"#C8D4E3\"},\"yaxis\":{\"backgroundcolor\":\"rgb(17,17,17)\",\"gridcolor\":\"#506784\",\"gridwidth\":2,\"linecolor\":\"#506784\",\"showbackground\":true,\"ticks\":\"\",\"zerolinecolor\":\"#C8D4E3\"},\"zaxis\":{\"backgroundcolor\":\"rgb(17,17,17)\",\"gridcolor\":\"#506784\",\"gridwidth\":2,\"linecolor\":\"#506784\",\"showbackground\":true,\"ticks\":\"\",\"zerolinecolor\":\"#C8D4E3\"}},\"shapedefaults\":{\"line\":{\"color\":\"#f2f5fa\"}},\"sliderdefaults\":{\"bgcolor\":\"#C8D4E3\",\"bordercolor\":\"rgb(17,17,17)\",\"borderwidth\":1,\"tickwidth\":0},\"ternary\":{\"aaxis\":{\"gridcolor\":\"#506784\",\"linecolor\":\"#506784\",\"ticks\":\"\"},\"baxis\":{\"gridcolor\":\"#506784\",\"linecolor\":\"#506784\",\"ticks\":\"\"},\"bgcolor\":\"rgb(17,17,17)\",\"caxis\":{\"gridcolor\":\"#506784\",\"linecolor\":\"#506784\",\"ticks\":\"\"}},\"title\":{\"x\":0.05},\"updatemenudefaults\":{\"bgcolor\":\"#506784\",\"borderwidth\":0},\"xaxis\":{\"automargin\":true,\"gridcolor\":\"#283442\",\"linecolor\":\"#506784\",\"ticks\":\"\",\"title\":{\"standoff\":15},\"zerolinecolor\":\"#283442\",\"zerolinewidth\":2},\"yaxis\":{\"automargin\":true,\"gridcolor\":\"#283442\",\"linecolor\":\"#506784\",\"ticks\":\"\",\"title\":{\"standoff\":15},\"zerolinecolor\":\"#283442\",\"zerolinewidth\":2}}},\"xaxis\":{\"anchor\":\"y\",\"domain\":[0.0,1.0],\"title\":{\"text\":\"Book Title\"}},\"yaxis\":{\"anchor\":\"x\",\"domain\":[0.0,1.0],\"title\":{\"text\":\"Number of ratings\"}},\"legend\":{\"tracegroupgap\":0},\"title\":{\"text\":\"Most Rated Books by Users\"},\"barmode\":\"relative\",\"font\":{\"size\":15,\"family\":\"Franklin Gothic\"}},                        {\"responsive\": true}                    ).then(function(){\n",
              "                            \n",
              "var gd = document.getElementById('5967b79a-9efb-4d3d-a17c-a4bba1340c9b');\n",
              "var x = new MutationObserver(function (mutations, observer) {{\n",
              "        var display = window.getComputedStyle(gd).display;\n",
              "        if (!display || display === 'none') {{\n",
              "            console.log([gd, 'removed!']);\n",
              "            Plotly.purge(gd);\n",
              "            observer.disconnect();\n",
              "        }}\n",
              "}});\n",
              "\n",
              "// Listen for the removal of the full notebook cells\n",
              "var notebookContainer = gd.closest('#notebook-container');\n",
              "if (notebookContainer) {{\n",
              "    x.observe(notebookContainer, {childList: true});\n",
              "}}\n",
              "\n",
              "// Listen for the clearing of the current output cell\n",
              "var outputEl = gd.closest('.output');\n",
              "if (outputEl) {{\n",
              "    x.observe(outputEl, {childList: true});\n",
              "}}\n",
              "\n",
              "                        })                };                            </script>        </div>\n",
              "</body>\n",
              "</html>"
            ]
          },
          "metadata": {}
        }
      ]
    },
    {
      "cell_type": "markdown",
      "source": [
        "Top rated books:"
      ],
      "metadata": {
        "id": "_rvcRTMPww_p"
      }
    },
    {
      "cell_type": "code",
      "source": [
        "books_top20 = df['Book-Title'].value_counts().head(20)\n",
        "books_top20 = list(books_top20.index)\n",
        "\n",
        "top20_books = pd.DataFrame(columns = books_with_ratings.columns)\n",
        "\n",
        "for book in books_top20:\n",
        "    \n",
        "    cond_df = books_with_ratings[books_with_ratings['Book-Title'] == book]\n",
        "    \n",
        "    top20_books =  pd.concat([top20_books, cond_df], axis=0)\n",
        "    \n",
        "    \n",
        "top20_books = top20_books[top20_books['Book-Rating'] != 0]\n",
        "top20_books = top20_books.groupby('Book-Title')['Book-Rating'].agg('mean').reset_index().sort_values(by='Book-Rating', ascending=False)\n",
        "\n",
        "top10_books = top20_books.head(10)\n",
        "top10_books"
      ],
      "metadata": {
        "execution": {
          "iopub.status.busy": "2023-04-26T00:04:17.336265Z",
          "iopub.execute_input": "2023-04-26T00:04:17.336869Z",
          "iopub.status.idle": "2023-04-26T00:04:18.926195Z",
          "shell.execute_reply.started": "2023-04-26T00:04:17.336828Z",
          "shell.execute_reply": "2023-04-26T00:04:18.924977Z"
        },
        "trusted": true,
        "id": "fFtXYL07ww_p",
        "colab": {
          "base_uri": "https://localhost:8080/",
          "height": 0
        },
        "outputId": "98e6160f-ddbf-489a-ea99-1ed6ce073d86"
      },
      "execution_count": 66,
      "outputs": [
        {
          "output_type": "execute_result",
          "data": {
            "text/plain": [
              "                                           Book-Title  Book-Rating\n",
              "6   Harry Potter and the Prisoner of Azkaban (Book 3)     9.043321\n",
              "7   Harry Potter and the Sorcerer's Stone (Harry P...     8.936508\n",
              "5    Harry Potter and the Chamber of Secrets (Book 2)     8.840491\n",
              "16                            The Secret Life of Bees     8.477833\n",
              "10                                  The Da Vinci Code     8.439271\n",
              "11                          The Lovely Bones: A Novel     8.185290\n",
              "15                The Red Tent (Bestselling Backlist)     8.182768\n",
              "18  Where the Heart Is (Oprah's Book Club (Paperba...     8.142373\n",
              "8                                          Life of Pi     8.080357\n",
              "1                                 Angels &amp; Demons     8.016129"
            ],
            "text/html": [
              "\n",
              "  <div id=\"df-2be8ecbb-77e2-42de-a1d4-b662601f9a01\">\n",
              "    <div class=\"colab-df-container\">\n",
              "      <div>\n",
              "<style scoped>\n",
              "    .dataframe tbody tr th:only-of-type {\n",
              "        vertical-align: middle;\n",
              "    }\n",
              "\n",
              "    .dataframe tbody tr th {\n",
              "        vertical-align: top;\n",
              "    }\n",
              "\n",
              "    .dataframe thead th {\n",
              "        text-align: right;\n",
              "    }\n",
              "</style>\n",
              "<table border=\"1\" class=\"dataframe\">\n",
              "  <thead>\n",
              "    <tr style=\"text-align: right;\">\n",
              "      <th></th>\n",
              "      <th>Book-Title</th>\n",
              "      <th>Book-Rating</th>\n",
              "    </tr>\n",
              "  </thead>\n",
              "  <tbody>\n",
              "    <tr>\n",
              "      <th>6</th>\n",
              "      <td>Harry Potter and the Prisoner of Azkaban (Book 3)</td>\n",
              "      <td>9.043321</td>\n",
              "    </tr>\n",
              "    <tr>\n",
              "      <th>7</th>\n",
              "      <td>Harry Potter and the Sorcerer's Stone (Harry P...</td>\n",
              "      <td>8.936508</td>\n",
              "    </tr>\n",
              "    <tr>\n",
              "      <th>5</th>\n",
              "      <td>Harry Potter and the Chamber of Secrets (Book 2)</td>\n",
              "      <td>8.840491</td>\n",
              "    </tr>\n",
              "    <tr>\n",
              "      <th>16</th>\n",
              "      <td>The Secret Life of Bees</td>\n",
              "      <td>8.477833</td>\n",
              "    </tr>\n",
              "    <tr>\n",
              "      <th>10</th>\n",
              "      <td>The Da Vinci Code</td>\n",
              "      <td>8.439271</td>\n",
              "    </tr>\n",
              "    <tr>\n",
              "      <th>11</th>\n",
              "      <td>The Lovely Bones: A Novel</td>\n",
              "      <td>8.185290</td>\n",
              "    </tr>\n",
              "    <tr>\n",
              "      <th>15</th>\n",
              "      <td>The Red Tent (Bestselling Backlist)</td>\n",
              "      <td>8.182768</td>\n",
              "    </tr>\n",
              "    <tr>\n",
              "      <th>18</th>\n",
              "      <td>Where the Heart Is (Oprah's Book Club (Paperba...</td>\n",
              "      <td>8.142373</td>\n",
              "    </tr>\n",
              "    <tr>\n",
              "      <th>8</th>\n",
              "      <td>Life of Pi</td>\n",
              "      <td>8.080357</td>\n",
              "    </tr>\n",
              "    <tr>\n",
              "      <th>1</th>\n",
              "      <td>Angels &amp;amp; Demons</td>\n",
              "      <td>8.016129</td>\n",
              "    </tr>\n",
              "  </tbody>\n",
              "</table>\n",
              "</div>\n",
              "      <button class=\"colab-df-convert\" onclick=\"convertToInteractive('df-2be8ecbb-77e2-42de-a1d4-b662601f9a01')\"\n",
              "              title=\"Convert this dataframe to an interactive table.\"\n",
              "              style=\"display:none;\">\n",
              "        \n",
              "  <svg xmlns=\"http://www.w3.org/2000/svg\" height=\"24px\"viewBox=\"0 0 24 24\"\n",
              "       width=\"24px\">\n",
              "    <path d=\"M0 0h24v24H0V0z\" fill=\"none\"/>\n",
              "    <path d=\"M18.56 5.44l.94 2.06.94-2.06 2.06-.94-2.06-.94-.94-2.06-.94 2.06-2.06.94zm-11 1L8.5 8.5l.94-2.06 2.06-.94-2.06-.94L8.5 2.5l-.94 2.06-2.06.94zm10 10l.94 2.06.94-2.06 2.06-.94-2.06-.94-.94-2.06-.94 2.06-2.06.94z\"/><path d=\"M17.41 7.96l-1.37-1.37c-.4-.4-.92-.59-1.43-.59-.52 0-1.04.2-1.43.59L10.3 9.45l-7.72 7.72c-.78.78-.78 2.05 0 2.83L4 21.41c.39.39.9.59 1.41.59.51 0 1.02-.2 1.41-.59l7.78-7.78 2.81-2.81c.8-.78.8-2.07 0-2.86zM5.41 20L4 18.59l7.72-7.72 1.47 1.35L5.41 20z\"/>\n",
              "  </svg>\n",
              "      </button>\n",
              "      \n",
              "  <style>\n",
              "    .colab-df-container {\n",
              "      display:flex;\n",
              "      flex-wrap:wrap;\n",
              "      gap: 12px;\n",
              "    }\n",
              "\n",
              "    .colab-df-convert {\n",
              "      background-color: #E8F0FE;\n",
              "      border: none;\n",
              "      border-radius: 50%;\n",
              "      cursor: pointer;\n",
              "      display: none;\n",
              "      fill: #1967D2;\n",
              "      height: 32px;\n",
              "      padding: 0 0 0 0;\n",
              "      width: 32px;\n",
              "    }\n",
              "\n",
              "    .colab-df-convert:hover {\n",
              "      background-color: #E2EBFA;\n",
              "      box-shadow: 0px 1px 2px rgba(60, 64, 67, 0.3), 0px 1px 3px 1px rgba(60, 64, 67, 0.15);\n",
              "      fill: #174EA6;\n",
              "    }\n",
              "\n",
              "    [theme=dark] .colab-df-convert {\n",
              "      background-color: #3B4455;\n",
              "      fill: #D2E3FC;\n",
              "    }\n",
              "\n",
              "    [theme=dark] .colab-df-convert:hover {\n",
              "      background-color: #434B5C;\n",
              "      box-shadow: 0px 1px 3px 1px rgba(0, 0, 0, 0.15);\n",
              "      filter: drop-shadow(0px 1px 2px rgba(0, 0, 0, 0.3));\n",
              "      fill: #FFFFFF;\n",
              "    }\n",
              "  </style>\n",
              "\n",
              "      <script>\n",
              "        const buttonEl =\n",
              "          document.querySelector('#df-2be8ecbb-77e2-42de-a1d4-b662601f9a01 button.colab-df-convert');\n",
              "        buttonEl.style.display =\n",
              "          google.colab.kernel.accessAllowed ? 'block' : 'none';\n",
              "\n",
              "        async function convertToInteractive(key) {\n",
              "          const element = document.querySelector('#df-2be8ecbb-77e2-42de-a1d4-b662601f9a01');\n",
              "          const dataTable =\n",
              "            await google.colab.kernel.invokeFunction('convertToInteractive',\n",
              "                                                     [key], {});\n",
              "          if (!dataTable) return;\n",
              "\n",
              "          const docLinkHtml = 'Like what you see? Visit the ' +\n",
              "            '<a target=\"_blank\" href=https://colab.research.google.com/notebooks/data_table.ipynb>data table notebook</a>'\n",
              "            + ' to learn more about interactive tables.';\n",
              "          element.innerHTML = '';\n",
              "          dataTable['output_type'] = 'display_data';\n",
              "          await google.colab.output.renderOutput(dataTable, element);\n",
              "          const docLink = document.createElement('div');\n",
              "          docLink.innerHTML = docLinkHtml;\n",
              "          element.appendChild(docLink);\n",
              "        }\n",
              "      </script>\n",
              "    </div>\n",
              "  </div>\n",
              "  "
            ]
          },
          "metadata": {},
          "execution_count": 66
        }
      ]
    },
    {
      "cell_type": "code",
      "source": [
        "fig = px.bar(y=top10_books['Book-Rating'], \n",
        "             x=top10_books['Book-Title'], \n",
        "             color_discrete_sequence=px.colors.sequential.PuBuGn,\n",
        "             text=round(top10_books['Book-Rating'],2),\n",
        "             title= \"Top 10 rated books by the users\",\n",
        "             template= 'plotly_dark')\n",
        "fig.update_layout(\n",
        "    xaxis_title=\"Book title\",\n",
        "    yaxis_title=\"average rating\",\n",
        "    font = dict(size=15,family=\"Franklin Gothic\"))\n",
        "fig.show()"
      ],
      "metadata": {
        "execution": {
          "iopub.status.busy": "2023-04-26T00:04:18.927616Z",
          "iopub.execute_input": "2023-04-26T00:04:18.928333Z",
          "iopub.status.idle": "2023-04-26T00:04:18.990932Z",
          "shell.execute_reply.started": "2023-04-26T00:04:18.928292Z",
          "shell.execute_reply": "2023-04-26T00:04:18.989737Z"
        },
        "trusted": true,
        "id": "NwjkPJqHww_q",
        "colab": {
          "base_uri": "https://localhost:8080/",
          "height": 0
        },
        "outputId": "015ed822-f339-41b2-ec74-81da516fffc4"
      },
      "execution_count": 67,
      "outputs": [
        {
          "output_type": "display_data",
          "data": {
            "text/html": [
              "<html>\n",
              "<head><meta charset=\"utf-8\" /></head>\n",
              "<body>\n",
              "    <div>            <script src=\"https://cdnjs.cloudflare.com/ajax/libs/mathjax/2.7.5/MathJax.js?config=TeX-AMS-MML_SVG\"></script><script type=\"text/javascript\">if (window.MathJax && window.MathJax.Hub && window.MathJax.Hub.Config) {window.MathJax.Hub.Config({SVG: {font: \"STIX-Web\"}});}</script>                <script type=\"text/javascript\">window.PlotlyConfig = {MathJaxConfig: 'local'};</script>\n",
              "        <script src=\"https://cdn.plot.ly/plotly-2.18.2.min.js\"></script>                <div id=\"ba76d6a8-d64e-450a-8e7e-e129097867ac\" class=\"plotly-graph-div\" style=\"height:525px; width:100%;\"></div>            <script type=\"text/javascript\">                                    window.PLOTLYENV=window.PLOTLYENV || {};                                    if (document.getElementById(\"ba76d6a8-d64e-450a-8e7e-e129097867ac\")) {                    Plotly.newPlot(                        \"ba76d6a8-d64e-450a-8e7e-e129097867ac\",                        [{\"alignmentgroup\":\"True\",\"hovertemplate\":\"x=%{x}<br>y=%{y}<br>text=%{text}<extra></extra>\",\"legendgroup\":\"\",\"marker\":{\"color\":\"rgb(255,247,251)\",\"pattern\":{\"shape\":\"\"}},\"name\":\"\",\"offsetgroup\":\"\",\"orientation\":\"v\",\"showlegend\":false,\"text\":[9.04,8.94,8.84,8.48,8.44,8.19,8.18,8.14,8.08,8.02],\"textposition\":\"auto\",\"x\":[\"Harry Potter and the Prisoner of Azkaban (Book 3)\",\"Harry Potter and the Sorcerer's Stone (Harry Potter (Paperback))\",\"Harry Potter and the Chamber of Secrets (Book 2)\",\"The Secret Life of Bees\",\"The Da Vinci Code\",\"The Lovely Bones: A Novel\",\"The Red Tent (Bestselling Backlist)\",\"Where the Heart Is (Oprah's Book Club (Paperback))\",\"Life of Pi\",\"Angels &amp; Demons\"],\"xaxis\":\"x\",\"y\":[9.04332129963899,8.936507936507937,8.840490797546012,8.47783251231527,8.43927125506073,8.185289957567186,8.182767624020888,8.142372881355932,8.080357142857142,8.016129032258064],\"yaxis\":\"y\",\"type\":\"bar\"}],                        {\"template\":{\"data\":{\"barpolar\":[{\"marker\":{\"line\":{\"color\":\"rgb(17,17,17)\",\"width\":0.5},\"pattern\":{\"fillmode\":\"overlay\",\"size\":10,\"solidity\":0.2}},\"type\":\"barpolar\"}],\"bar\":[{\"error_x\":{\"color\":\"#f2f5fa\"},\"error_y\":{\"color\":\"#f2f5fa\"},\"marker\":{\"line\":{\"color\":\"rgb(17,17,17)\",\"width\":0.5},\"pattern\":{\"fillmode\":\"overlay\",\"size\":10,\"solidity\":0.2}},\"type\":\"bar\"}],\"carpet\":[{\"aaxis\":{\"endlinecolor\":\"#A2B1C6\",\"gridcolor\":\"#506784\",\"linecolor\":\"#506784\",\"minorgridcolor\":\"#506784\",\"startlinecolor\":\"#A2B1C6\"},\"baxis\":{\"endlinecolor\":\"#A2B1C6\",\"gridcolor\":\"#506784\",\"linecolor\":\"#506784\",\"minorgridcolor\":\"#506784\",\"startlinecolor\":\"#A2B1C6\"},\"type\":\"carpet\"}],\"choropleth\":[{\"colorbar\":{\"outlinewidth\":0,\"ticks\":\"\"},\"type\":\"choropleth\"}],\"contourcarpet\":[{\"colorbar\":{\"outlinewidth\":0,\"ticks\":\"\"},\"type\":\"contourcarpet\"}],\"contour\":[{\"colorbar\":{\"outlinewidth\":0,\"ticks\":\"\"},\"colorscale\":[[0.0,\"#0d0887\"],[0.1111111111111111,\"#46039f\"],[0.2222222222222222,\"#7201a8\"],[0.3333333333333333,\"#9c179e\"],[0.4444444444444444,\"#bd3786\"],[0.5555555555555556,\"#d8576b\"],[0.6666666666666666,\"#ed7953\"],[0.7777777777777778,\"#fb9f3a\"],[0.8888888888888888,\"#fdca26\"],[1.0,\"#f0f921\"]],\"type\":\"contour\"}],\"heatmapgl\":[{\"colorbar\":{\"outlinewidth\":0,\"ticks\":\"\"},\"colorscale\":[[0.0,\"#0d0887\"],[0.1111111111111111,\"#46039f\"],[0.2222222222222222,\"#7201a8\"],[0.3333333333333333,\"#9c179e\"],[0.4444444444444444,\"#bd3786\"],[0.5555555555555556,\"#d8576b\"],[0.6666666666666666,\"#ed7953\"],[0.7777777777777778,\"#fb9f3a\"],[0.8888888888888888,\"#fdca26\"],[1.0,\"#f0f921\"]],\"type\":\"heatmapgl\"}],\"heatmap\":[{\"colorbar\":{\"outlinewidth\":0,\"ticks\":\"\"},\"colorscale\":[[0.0,\"#0d0887\"],[0.1111111111111111,\"#46039f\"],[0.2222222222222222,\"#7201a8\"],[0.3333333333333333,\"#9c179e\"],[0.4444444444444444,\"#bd3786\"],[0.5555555555555556,\"#d8576b\"],[0.6666666666666666,\"#ed7953\"],[0.7777777777777778,\"#fb9f3a\"],[0.8888888888888888,\"#fdca26\"],[1.0,\"#f0f921\"]],\"type\":\"heatmap\"}],\"histogram2dcontour\":[{\"colorbar\":{\"outlinewidth\":0,\"ticks\":\"\"},\"colorscale\":[[0.0,\"#0d0887\"],[0.1111111111111111,\"#46039f\"],[0.2222222222222222,\"#7201a8\"],[0.3333333333333333,\"#9c179e\"],[0.4444444444444444,\"#bd3786\"],[0.5555555555555556,\"#d8576b\"],[0.6666666666666666,\"#ed7953\"],[0.7777777777777778,\"#fb9f3a\"],[0.8888888888888888,\"#fdca26\"],[1.0,\"#f0f921\"]],\"type\":\"histogram2dcontour\"}],\"histogram2d\":[{\"colorbar\":{\"outlinewidth\":0,\"ticks\":\"\"},\"colorscale\":[[0.0,\"#0d0887\"],[0.1111111111111111,\"#46039f\"],[0.2222222222222222,\"#7201a8\"],[0.3333333333333333,\"#9c179e\"],[0.4444444444444444,\"#bd3786\"],[0.5555555555555556,\"#d8576b\"],[0.6666666666666666,\"#ed7953\"],[0.7777777777777778,\"#fb9f3a\"],[0.8888888888888888,\"#fdca26\"],[1.0,\"#f0f921\"]],\"type\":\"histogram2d\"}],\"histogram\":[{\"marker\":{\"pattern\":{\"fillmode\":\"overlay\",\"size\":10,\"solidity\":0.2}},\"type\":\"histogram\"}],\"mesh3d\":[{\"colorbar\":{\"outlinewidth\":0,\"ticks\":\"\"},\"type\":\"mesh3d\"}],\"parcoords\":[{\"line\":{\"colorbar\":{\"outlinewidth\":0,\"ticks\":\"\"}},\"type\":\"parcoords\"}],\"pie\":[{\"automargin\":true,\"type\":\"pie\"}],\"scatter3d\":[{\"line\":{\"colorbar\":{\"outlinewidth\":0,\"ticks\":\"\"}},\"marker\":{\"colorbar\":{\"outlinewidth\":0,\"ticks\":\"\"}},\"type\":\"scatter3d\"}],\"scattercarpet\":[{\"marker\":{\"colorbar\":{\"outlinewidth\":0,\"ticks\":\"\"}},\"type\":\"scattercarpet\"}],\"scattergeo\":[{\"marker\":{\"colorbar\":{\"outlinewidth\":0,\"ticks\":\"\"}},\"type\":\"scattergeo\"}],\"scattergl\":[{\"marker\":{\"line\":{\"color\":\"#283442\"}},\"type\":\"scattergl\"}],\"scattermapbox\":[{\"marker\":{\"colorbar\":{\"outlinewidth\":0,\"ticks\":\"\"}},\"type\":\"scattermapbox\"}],\"scatterpolargl\":[{\"marker\":{\"colorbar\":{\"outlinewidth\":0,\"ticks\":\"\"}},\"type\":\"scatterpolargl\"}],\"scatterpolar\":[{\"marker\":{\"colorbar\":{\"outlinewidth\":0,\"ticks\":\"\"}},\"type\":\"scatterpolar\"}],\"scatter\":[{\"marker\":{\"line\":{\"color\":\"#283442\"}},\"type\":\"scatter\"}],\"scatterternary\":[{\"marker\":{\"colorbar\":{\"outlinewidth\":0,\"ticks\":\"\"}},\"type\":\"scatterternary\"}],\"surface\":[{\"colorbar\":{\"outlinewidth\":0,\"ticks\":\"\"},\"colorscale\":[[0.0,\"#0d0887\"],[0.1111111111111111,\"#46039f\"],[0.2222222222222222,\"#7201a8\"],[0.3333333333333333,\"#9c179e\"],[0.4444444444444444,\"#bd3786\"],[0.5555555555555556,\"#d8576b\"],[0.6666666666666666,\"#ed7953\"],[0.7777777777777778,\"#fb9f3a\"],[0.8888888888888888,\"#fdca26\"],[1.0,\"#f0f921\"]],\"type\":\"surface\"}],\"table\":[{\"cells\":{\"fill\":{\"color\":\"#506784\"},\"line\":{\"color\":\"rgb(17,17,17)\"}},\"header\":{\"fill\":{\"color\":\"#2a3f5f\"},\"line\":{\"color\":\"rgb(17,17,17)\"}},\"type\":\"table\"}]},\"layout\":{\"annotationdefaults\":{\"arrowcolor\":\"#f2f5fa\",\"arrowhead\":0,\"arrowwidth\":1},\"autotypenumbers\":\"strict\",\"coloraxis\":{\"colorbar\":{\"outlinewidth\":0,\"ticks\":\"\"}},\"colorscale\":{\"diverging\":[[0,\"#8e0152\"],[0.1,\"#c51b7d\"],[0.2,\"#de77ae\"],[0.3,\"#f1b6da\"],[0.4,\"#fde0ef\"],[0.5,\"#f7f7f7\"],[0.6,\"#e6f5d0\"],[0.7,\"#b8e186\"],[0.8,\"#7fbc41\"],[0.9,\"#4d9221\"],[1,\"#276419\"]],\"sequential\":[[0.0,\"#0d0887\"],[0.1111111111111111,\"#46039f\"],[0.2222222222222222,\"#7201a8\"],[0.3333333333333333,\"#9c179e\"],[0.4444444444444444,\"#bd3786\"],[0.5555555555555556,\"#d8576b\"],[0.6666666666666666,\"#ed7953\"],[0.7777777777777778,\"#fb9f3a\"],[0.8888888888888888,\"#fdca26\"],[1.0,\"#f0f921\"]],\"sequentialminus\":[[0.0,\"#0d0887\"],[0.1111111111111111,\"#46039f\"],[0.2222222222222222,\"#7201a8\"],[0.3333333333333333,\"#9c179e\"],[0.4444444444444444,\"#bd3786\"],[0.5555555555555556,\"#d8576b\"],[0.6666666666666666,\"#ed7953\"],[0.7777777777777778,\"#fb9f3a\"],[0.8888888888888888,\"#fdca26\"],[1.0,\"#f0f921\"]]},\"colorway\":[\"#636efa\",\"#EF553B\",\"#00cc96\",\"#ab63fa\",\"#FFA15A\",\"#19d3f3\",\"#FF6692\",\"#B6E880\",\"#FF97FF\",\"#FECB52\"],\"font\":{\"color\":\"#f2f5fa\"},\"geo\":{\"bgcolor\":\"rgb(17,17,17)\",\"lakecolor\":\"rgb(17,17,17)\",\"landcolor\":\"rgb(17,17,17)\",\"showlakes\":true,\"showland\":true,\"subunitcolor\":\"#506784\"},\"hoverlabel\":{\"align\":\"left\"},\"hovermode\":\"closest\",\"mapbox\":{\"style\":\"dark\"},\"paper_bgcolor\":\"rgb(17,17,17)\",\"plot_bgcolor\":\"rgb(17,17,17)\",\"polar\":{\"angularaxis\":{\"gridcolor\":\"#506784\",\"linecolor\":\"#506784\",\"ticks\":\"\"},\"bgcolor\":\"rgb(17,17,17)\",\"radialaxis\":{\"gridcolor\":\"#506784\",\"linecolor\":\"#506784\",\"ticks\":\"\"}},\"scene\":{\"xaxis\":{\"backgroundcolor\":\"rgb(17,17,17)\",\"gridcolor\":\"#506784\",\"gridwidth\":2,\"linecolor\":\"#506784\",\"showbackground\":true,\"ticks\":\"\",\"zerolinecolor\":\"#C8D4E3\"},\"yaxis\":{\"backgroundcolor\":\"rgb(17,17,17)\",\"gridcolor\":\"#506784\",\"gridwidth\":2,\"linecolor\":\"#506784\",\"showbackground\":true,\"ticks\":\"\",\"zerolinecolor\":\"#C8D4E3\"},\"zaxis\":{\"backgroundcolor\":\"rgb(17,17,17)\",\"gridcolor\":\"#506784\",\"gridwidth\":2,\"linecolor\":\"#506784\",\"showbackground\":true,\"ticks\":\"\",\"zerolinecolor\":\"#C8D4E3\"}},\"shapedefaults\":{\"line\":{\"color\":\"#f2f5fa\"}},\"sliderdefaults\":{\"bgcolor\":\"#C8D4E3\",\"bordercolor\":\"rgb(17,17,17)\",\"borderwidth\":1,\"tickwidth\":0},\"ternary\":{\"aaxis\":{\"gridcolor\":\"#506784\",\"linecolor\":\"#506784\",\"ticks\":\"\"},\"baxis\":{\"gridcolor\":\"#506784\",\"linecolor\":\"#506784\",\"ticks\":\"\"},\"bgcolor\":\"rgb(17,17,17)\",\"caxis\":{\"gridcolor\":\"#506784\",\"linecolor\":\"#506784\",\"ticks\":\"\"}},\"title\":{\"x\":0.05},\"updatemenudefaults\":{\"bgcolor\":\"#506784\",\"borderwidth\":0},\"xaxis\":{\"automargin\":true,\"gridcolor\":\"#283442\",\"linecolor\":\"#506784\",\"ticks\":\"\",\"title\":{\"standoff\":15},\"zerolinecolor\":\"#283442\",\"zerolinewidth\":2},\"yaxis\":{\"automargin\":true,\"gridcolor\":\"#283442\",\"linecolor\":\"#506784\",\"ticks\":\"\",\"title\":{\"standoff\":15},\"zerolinecolor\":\"#283442\",\"zerolinewidth\":2}}},\"xaxis\":{\"anchor\":\"y\",\"domain\":[0.0,1.0],\"title\":{\"text\":\"Book title\"}},\"yaxis\":{\"anchor\":\"x\",\"domain\":[0.0,1.0],\"title\":{\"text\":\"average rating\"}},\"legend\":{\"tracegroupgap\":0},\"title\":{\"text\":\"Top 10 rated books by the users\"},\"barmode\":\"relative\",\"font\":{\"size\":15,\"family\":\"Franklin Gothic\"}},                        {\"responsive\": true}                    ).then(function(){\n",
              "                            \n",
              "var gd = document.getElementById('ba76d6a8-d64e-450a-8e7e-e129097867ac');\n",
              "var x = new MutationObserver(function (mutations, observer) {{\n",
              "        var display = window.getComputedStyle(gd).display;\n",
              "        if (!display || display === 'none') {{\n",
              "            console.log([gd, 'removed!']);\n",
              "            Plotly.purge(gd);\n",
              "            observer.disconnect();\n",
              "        }}\n",
              "}});\n",
              "\n",
              "// Listen for the removal of the full notebook cells\n",
              "var notebookContainer = gd.closest('#notebook-container');\n",
              "if (notebookContainer) {{\n",
              "    x.observe(notebookContainer, {childList: true});\n",
              "}}\n",
              "\n",
              "// Listen for the clearing of the current output cell\n",
              "var outputEl = gd.closest('.output');\n",
              "if (outputEl) {{\n",
              "    x.observe(outputEl, {childList: true});\n",
              "}}\n",
              "\n",
              "                        })                };                            </script>        </div>\n",
              "</body>\n",
              "</html>"
            ]
          },
          "metadata": {}
        }
      ]
    },
    {
      "cell_type": "markdown",
      "source": [
        "Harry Potter are the most rated books"
      ],
      "metadata": {
        "id": "Fp7qL-Gaww_q"
      }
    },
    {
      "cell_type": "markdown",
      "source": [
        "\n",
        "# **3. Most Popular Books recommendation**"
      ],
      "metadata": {
        "id": "BAJup2_4ww_q"
      }
    },
    {
      "cell_type": "code",
      "source": [
        "def prGreen(skk): print(\"\\033[92m {}\\033[00m\" .format(skk))\n",
        "def prRed(skk): print(\"\\033[91m {}\\033[00m\" .format(skk))\n",
        "def prYellow(skk): print(\"\\033[93m {}\\033[00m\" .format(skk))\n",
        "\n",
        "    \n",
        "def popular_books():\n",
        "    \n",
        "    for (book, ratings) in zip(top10_books['Book-Title'], top10_books['Book-Rating']):\n",
        "        prGreen(book)\n",
        "        print(\"Rating\",end='->')\n",
        "        prRed(round(ratings,1))\n",
        "        print(\"-\"*50)\n",
        "        \n",
        "popular_books()"
      ],
      "metadata": {
        "execution": {
          "iopub.status.busy": "2023-04-26T00:04:18.992761Z",
          "iopub.execute_input": "2023-04-26T00:04:18.993866Z",
          "iopub.status.idle": "2023-04-26T00:04:19.003501Z",
          "shell.execute_reply.started": "2023-04-26T00:04:18.993816Z",
          "shell.execute_reply": "2023-04-26T00:04:19.002114Z"
        },
        "trusted": true,
        "id": "IpWzRgvyww_q",
        "outputId": "ea743b18-ac21-492f-90b4-333da3492d94",
        "colab": {
          "base_uri": "https://localhost:8080/"
        }
      },
      "execution_count": 68,
      "outputs": [
        {
          "output_type": "stream",
          "name": "stdout",
          "text": [
            "\u001b[92m Harry Potter and the Prisoner of Azkaban (Book 3)\u001b[00m\n",
            "Rating->\u001b[91m 9.0\u001b[00m\n",
            "--------------------------------------------------\n",
            "\u001b[92m Harry Potter and the Sorcerer's Stone (Harry Potter (Paperback))\u001b[00m\n",
            "Rating->\u001b[91m 8.9\u001b[00m\n",
            "--------------------------------------------------\n",
            "\u001b[92m Harry Potter and the Chamber of Secrets (Book 2)\u001b[00m\n",
            "Rating->\u001b[91m 8.8\u001b[00m\n",
            "--------------------------------------------------\n",
            "\u001b[92m The Secret Life of Bees\u001b[00m\n",
            "Rating->\u001b[91m 8.5\u001b[00m\n",
            "--------------------------------------------------\n",
            "\u001b[92m The Da Vinci Code\u001b[00m\n",
            "Rating->\u001b[91m 8.4\u001b[00m\n",
            "--------------------------------------------------\n",
            "\u001b[92m The Lovely Bones: A Novel\u001b[00m\n",
            "Rating->\u001b[91m 8.2\u001b[00m\n",
            "--------------------------------------------------\n",
            "\u001b[92m The Red Tent (Bestselling Backlist)\u001b[00m\n",
            "Rating->\u001b[91m 8.2\u001b[00m\n",
            "--------------------------------------------------\n",
            "\u001b[92m Where the Heart Is (Oprah's Book Club (Paperback))\u001b[00m\n",
            "Rating->\u001b[91m 8.1\u001b[00m\n",
            "--------------------------------------------------\n",
            "\u001b[92m Life of Pi\u001b[00m\n",
            "Rating->\u001b[91m 8.1\u001b[00m\n",
            "--------------------------------------------------\n",
            "\u001b[92m Angels &amp; Demons\u001b[00m\n",
            "Rating->\u001b[91m 8.0\u001b[00m\n",
            "--------------------------------------------------\n"
          ]
        }
      ]
    },
    {
      "cell_type": "markdown",
      "source": [
        "\n",
        "# **4. Collaborative Filtering**"
      ],
      "metadata": {
        "id": "lJNdEuc-ww_r"
      }
    },
    {
      "cell_type": "markdown",
      "source": [
        "Collaborative Filtering is a technique or a method to predict a user’s taste and find the items that a user might prefer on the basis of information collected from various other users having similar tastes or preferences. It takes into consideration the basic fact that if person X and person Y have a certain reaction for some items then they might have the same opinion for other items too. \n",
        "\n",
        "The two most popular forms of collaborative filtering are:\n",
        "\n",
        "User Based: Here, we look for the users who have rated various items in the same way and then find the rating of the missing item with the help of these users.<br><br>\n",
        "Item Based: Here, we explore the relationship between the pair of items (the user who bought Y, also bought Z). We find the missing rating with the help of the ratings given to the other items by the user."
      ],
      "metadata": {
        "id": "1EXDiaPHww_r"
      }
    },
    {
      "cell_type": "markdown",
      "source": [
        "\n",
        "### **4.1 Item Based Collaborative Filtering**"
      ],
      "metadata": {
        "id": "6m8wvLOMww_r"
      }
    },
    {
      "cell_type": "markdown",
      "source": [
        "Counting the rating books to classify the common and rare oneS"
      ],
      "metadata": {
        "id": "LWgWzDnbww_r"
      }
    },
    {
      "cell_type": "code",
      "source": [
        "count_rate = pd.DataFrame(df['Book-Title'].value_counts())\n",
        "count_rate.head()"
      ],
      "metadata": {
        "execution": {
          "iopub.status.busy": "2023-04-26T00:04:19.005459Z",
          "iopub.execute_input": "2023-04-26T00:04:19.005959Z",
          "iopub.status.idle": "2023-04-26T00:04:19.142153Z",
          "shell.execute_reply.started": "2023-04-26T00:04:19.005885Z",
          "shell.execute_reply": "2023-04-26T00:04:19.140778Z"
        },
        "trusted": true,
        "id": "W2SR_mSoww_r",
        "outputId": "b142d055-0cd7-40de-f922-b47e1acfbc57",
        "colab": {
          "base_uri": "https://localhost:8080/",
          "height": 0
        }
      },
      "execution_count": 69,
      "outputs": [
        {
          "output_type": "execute_result",
          "data": {
            "text/plain": [
              "                            Book-Title\n",
              "The Lovely Bones: A Novel          707\n",
              "Wild Animus                        581\n",
              "The Da Vinci Code                  494\n",
              "The Secret Life of Bees            406\n",
              "The Nanny Diaries: A Novel         393"
            ],
            "text/html": [
              "\n",
              "  <div id=\"df-9c158955-7e72-457a-b71e-a6c1564f29a2\">\n",
              "    <div class=\"colab-df-container\">\n",
              "      <div>\n",
              "<style scoped>\n",
              "    .dataframe tbody tr th:only-of-type {\n",
              "        vertical-align: middle;\n",
              "    }\n",
              "\n",
              "    .dataframe tbody tr th {\n",
              "        vertical-align: top;\n",
              "    }\n",
              "\n",
              "    .dataframe thead th {\n",
              "        text-align: right;\n",
              "    }\n",
              "</style>\n",
              "<table border=\"1\" class=\"dataframe\">\n",
              "  <thead>\n",
              "    <tr style=\"text-align: right;\">\n",
              "      <th></th>\n",
              "      <th>Book-Title</th>\n",
              "    </tr>\n",
              "  </thead>\n",
              "  <tbody>\n",
              "    <tr>\n",
              "      <th>The Lovely Bones: A Novel</th>\n",
              "      <td>707</td>\n",
              "    </tr>\n",
              "    <tr>\n",
              "      <th>Wild Animus</th>\n",
              "      <td>581</td>\n",
              "    </tr>\n",
              "    <tr>\n",
              "      <th>The Da Vinci Code</th>\n",
              "      <td>494</td>\n",
              "    </tr>\n",
              "    <tr>\n",
              "      <th>The Secret Life of Bees</th>\n",
              "      <td>406</td>\n",
              "    </tr>\n",
              "    <tr>\n",
              "      <th>The Nanny Diaries: A Novel</th>\n",
              "      <td>393</td>\n",
              "    </tr>\n",
              "  </tbody>\n",
              "</table>\n",
              "</div>\n",
              "      <button class=\"colab-df-convert\" onclick=\"convertToInteractive('df-9c158955-7e72-457a-b71e-a6c1564f29a2')\"\n",
              "              title=\"Convert this dataframe to an interactive table.\"\n",
              "              style=\"display:none;\">\n",
              "        \n",
              "  <svg xmlns=\"http://www.w3.org/2000/svg\" height=\"24px\"viewBox=\"0 0 24 24\"\n",
              "       width=\"24px\">\n",
              "    <path d=\"M0 0h24v24H0V0z\" fill=\"none\"/>\n",
              "    <path d=\"M18.56 5.44l.94 2.06.94-2.06 2.06-.94-2.06-.94-.94-2.06-.94 2.06-2.06.94zm-11 1L8.5 8.5l.94-2.06 2.06-.94-2.06-.94L8.5 2.5l-.94 2.06-2.06.94zm10 10l.94 2.06.94-2.06 2.06-.94-2.06-.94-.94-2.06-.94 2.06-2.06.94z\"/><path d=\"M17.41 7.96l-1.37-1.37c-.4-.4-.92-.59-1.43-.59-.52 0-1.04.2-1.43.59L10.3 9.45l-7.72 7.72c-.78.78-.78 2.05 0 2.83L4 21.41c.39.39.9.59 1.41.59.51 0 1.02-.2 1.41-.59l7.78-7.78 2.81-2.81c.8-.78.8-2.07 0-2.86zM5.41 20L4 18.59l7.72-7.72 1.47 1.35L5.41 20z\"/>\n",
              "  </svg>\n",
              "      </button>\n",
              "      \n",
              "  <style>\n",
              "    .colab-df-container {\n",
              "      display:flex;\n",
              "      flex-wrap:wrap;\n",
              "      gap: 12px;\n",
              "    }\n",
              "\n",
              "    .colab-df-convert {\n",
              "      background-color: #E8F0FE;\n",
              "      border: none;\n",
              "      border-radius: 50%;\n",
              "      cursor: pointer;\n",
              "      display: none;\n",
              "      fill: #1967D2;\n",
              "      height: 32px;\n",
              "      padding: 0 0 0 0;\n",
              "      width: 32px;\n",
              "    }\n",
              "\n",
              "    .colab-df-convert:hover {\n",
              "      background-color: #E2EBFA;\n",
              "      box-shadow: 0px 1px 2px rgba(60, 64, 67, 0.3), 0px 1px 3px 1px rgba(60, 64, 67, 0.15);\n",
              "      fill: #174EA6;\n",
              "    }\n",
              "\n",
              "    [theme=dark] .colab-df-convert {\n",
              "      background-color: #3B4455;\n",
              "      fill: #D2E3FC;\n",
              "    }\n",
              "\n",
              "    [theme=dark] .colab-df-convert:hover {\n",
              "      background-color: #434B5C;\n",
              "      box-shadow: 0px 1px 3px 1px rgba(0, 0, 0, 0.15);\n",
              "      filter: drop-shadow(0px 1px 2px rgba(0, 0, 0, 0.3));\n",
              "      fill: #FFFFFF;\n",
              "    }\n",
              "  </style>\n",
              "\n",
              "      <script>\n",
              "        const buttonEl =\n",
              "          document.querySelector('#df-9c158955-7e72-457a-b71e-a6c1564f29a2 button.colab-df-convert');\n",
              "        buttonEl.style.display =\n",
              "          google.colab.kernel.accessAllowed ? 'block' : 'none';\n",
              "\n",
              "        async function convertToInteractive(key) {\n",
              "          const element = document.querySelector('#df-9c158955-7e72-457a-b71e-a6c1564f29a2');\n",
              "          const dataTable =\n",
              "            await google.colab.kernel.invokeFunction('convertToInteractive',\n",
              "                                                     [key], {});\n",
              "          if (!dataTable) return;\n",
              "\n",
              "          const docLinkHtml = 'Like what you see? Visit the ' +\n",
              "            '<a target=\"_blank\" href=https://colab.research.google.com/notebooks/data_table.ipynb>data table notebook</a>'\n",
              "            + ' to learn more about interactive tables.';\n",
              "          element.innerHTML = '';\n",
              "          dataTable['output_type'] = 'display_data';\n",
              "          await google.colab.output.renderOutput(dataTable, element);\n",
              "          const docLink = document.createElement('div');\n",
              "          docLink.innerHTML = docLinkHtml;\n",
              "          element.appendChild(docLink);\n",
              "        }\n",
              "      </script>\n",
              "    </div>\n",
              "  </div>\n",
              "  "
            ]
          },
          "metadata": {},
          "execution_count": 69
        }
      ]
    },
    {
      "cell_type": "markdown",
      "source": [
        "Classifying the rare books as the books that got rated 100 or less times"
      ],
      "metadata": {
        "id": "d16ZTG9tww_s"
      }
    },
    {
      "cell_type": "code",
      "source": [
        "rare_books=count_rate[count_rate[\"Book-Title\"]<=100].index\n",
        "rare_books[:5]"
      ],
      "metadata": {
        "execution": {
          "iopub.status.busy": "2023-04-26T00:04:19.144300Z",
          "iopub.execute_input": "2023-04-26T00:04:19.144677Z",
          "iopub.status.idle": "2023-04-26T00:04:19.166732Z",
          "shell.execute_reply.started": "2023-04-26T00:04:19.144641Z",
          "shell.execute_reply": "2023-04-26T00:04:19.165426Z"
        },
        "trusted": true,
        "id": "Yf3gLpVvww_s",
        "outputId": "9d618d8a-cf58-4197-96cd-d35df081440f",
        "colab": {
          "base_uri": "https://localhost:8080/"
        }
      },
      "execution_count": 70,
      "outputs": [
        {
          "output_type": "execute_result",
          "data": {
            "text/plain": [
              "Index(['Don't Sweat the Small Stuff and It's All Small Stuff : Simple Ways to Keep the Little Things from Taking Over Your Life (Don't Sweat the Small Stuff Series)',\n",
              "       'Daddy's Little Girl', 'Disclosure',\n",
              "       'The Queen of the Damned (Vampire Chronicles (Paperback))',\n",
              "       'Cause of Death'],\n",
              "      dtype='object')"
            ]
          },
          "metadata": {},
          "execution_count": 70
        }
      ]
    },
    {
      "cell_type": "code",
      "source": [
        "len(rare_books)"
      ],
      "metadata": {
        "execution": {
          "iopub.status.busy": "2023-04-26T00:04:19.168371Z",
          "iopub.execute_input": "2023-04-26T00:04:19.168743Z",
          "iopub.status.idle": "2023-04-26T00:04:19.175754Z",
          "shell.execute_reply.started": "2023-04-26T00:04:19.168710Z",
          "shell.execute_reply": "2023-04-26T00:04:19.174929Z"
        },
        "trusted": true,
        "id": "PQ1GxB3uww_s",
        "outputId": "6cfc5155-c549-433f-bd45-428679fae478",
        "colab": {
          "base_uri": "https://localhost:8080/"
        }
      },
      "execution_count": 71,
      "outputs": [
        {
          "output_type": "execute_result",
          "data": {
            "text/plain": [
              "135373"
            ]
          },
          "metadata": {},
          "execution_count": 71
        }
      ]
    },
    {
      "cell_type": "markdown",
      "source": [
        "If the book is not included in the rare books then classify it as common one"
      ],
      "metadata": {
        "id": "EJ5utyPMww_s"
      }
    },
    {
      "cell_type": "code",
      "source": [
        "common_books=df[~df[\"Book-Title\"].isin(rare_books)]\n",
        "common_books.head()"
      ],
      "metadata": {
        "execution": {
          "iopub.status.busy": "2023-04-26T00:04:19.176768Z",
          "iopub.execute_input": "2023-04-26T00:04:19.177161Z",
          "iopub.status.idle": "2023-04-26T00:04:19.253050Z",
          "shell.execute_reply.started": "2023-04-26T00:04:19.177123Z",
          "shell.execute_reply": "2023-04-26T00:04:19.251691Z"
        },
        "trusted": true,
        "id": "yyDeTHXsww_s",
        "outputId": "4bd801d7-4ba4-4caa-b803-877e2b650bb1",
        "colab": {
          "base_uri": "https://localhost:8080/",
          "height": 0
        }
      },
      "execution_count": 72,
      "outputs": [
        {
          "output_type": "execute_result",
          "data": {
            "text/plain": [
              "          ISBN              Book-Title Book-Author  Year-Of-Publication  \\\n",
              "31  0399135782  The Kitchen God's Wife     Amy Tan                 1991   \n",
              "32  0399135782  The Kitchen God's Wife     Amy Tan                 1991   \n",
              "34  0399135782  The Kitchen God's Wife     Amy Tan                 1991   \n",
              "36  0399135782  The Kitchen God's Wife     Amy Tan                 1991   \n",
              "37  0399135782  The Kitchen God's Wife     Amy Tan                 1991   \n",
              "\n",
              "           Publisher                                        Image-URL-S  \\\n",
              "31  Putnam Pub Group  http://images.amazon.com/images/P/0399135782.0...   \n",
              "32  Putnam Pub Group  http://images.amazon.com/images/P/0399135782.0...   \n",
              "34  Putnam Pub Group  http://images.amazon.com/images/P/0399135782.0...   \n",
              "36  Putnam Pub Group  http://images.amazon.com/images/P/0399135782.0...   \n",
              "37  Putnam Pub Group  http://images.amazon.com/images/P/0399135782.0...   \n",
              "\n",
              "                                          Image-URL-M  \\\n",
              "31  http://images.amazon.com/images/P/0399135782.0...   \n",
              "32  http://images.amazon.com/images/P/0399135782.0...   \n",
              "34  http://images.amazon.com/images/P/0399135782.0...   \n",
              "36  http://images.amazon.com/images/P/0399135782.0...   \n",
              "37  http://images.amazon.com/images/P/0399135782.0...   \n",
              "\n",
              "                                          Image-URL-L  User-ID  Book-Rating  \n",
              "31  http://images.amazon.com/images/P/0399135782.0...    11676            9  \n",
              "32  http://images.amazon.com/images/P/0399135782.0...    29526            9  \n",
              "34  http://images.amazon.com/images/P/0399135782.0...    46398            9  \n",
              "36  http://images.amazon.com/images/P/0399135782.0...    49635            9  \n",
              "37  http://images.amazon.com/images/P/0399135782.0...    67958           10  "
            ],
            "text/html": [
              "\n",
              "  <div id=\"df-7233d720-f1fe-4905-9bbb-0bff091911bc\">\n",
              "    <div class=\"colab-df-container\">\n",
              "      <div>\n",
              "<style scoped>\n",
              "    .dataframe tbody tr th:only-of-type {\n",
              "        vertical-align: middle;\n",
              "    }\n",
              "\n",
              "    .dataframe tbody tr th {\n",
              "        vertical-align: top;\n",
              "    }\n",
              "\n",
              "    .dataframe thead th {\n",
              "        text-align: right;\n",
              "    }\n",
              "</style>\n",
              "<table border=\"1\" class=\"dataframe\">\n",
              "  <thead>\n",
              "    <tr style=\"text-align: right;\">\n",
              "      <th></th>\n",
              "      <th>ISBN</th>\n",
              "      <th>Book-Title</th>\n",
              "      <th>Book-Author</th>\n",
              "      <th>Year-Of-Publication</th>\n",
              "      <th>Publisher</th>\n",
              "      <th>Image-URL-S</th>\n",
              "      <th>Image-URL-M</th>\n",
              "      <th>Image-URL-L</th>\n",
              "      <th>User-ID</th>\n",
              "      <th>Book-Rating</th>\n",
              "    </tr>\n",
              "  </thead>\n",
              "  <tbody>\n",
              "    <tr>\n",
              "      <th>31</th>\n",
              "      <td>0399135782</td>\n",
              "      <td>The Kitchen God's Wife</td>\n",
              "      <td>Amy Tan</td>\n",
              "      <td>1991</td>\n",
              "      <td>Putnam Pub Group</td>\n",
              "      <td>http://images.amazon.com/images/P/0399135782.0...</td>\n",
              "      <td>http://images.amazon.com/images/P/0399135782.0...</td>\n",
              "      <td>http://images.amazon.com/images/P/0399135782.0...</td>\n",
              "      <td>11676</td>\n",
              "      <td>9</td>\n",
              "    </tr>\n",
              "    <tr>\n",
              "      <th>32</th>\n",
              "      <td>0399135782</td>\n",
              "      <td>The Kitchen God's Wife</td>\n",
              "      <td>Amy Tan</td>\n",
              "      <td>1991</td>\n",
              "      <td>Putnam Pub Group</td>\n",
              "      <td>http://images.amazon.com/images/P/0399135782.0...</td>\n",
              "      <td>http://images.amazon.com/images/P/0399135782.0...</td>\n",
              "      <td>http://images.amazon.com/images/P/0399135782.0...</td>\n",
              "      <td>29526</td>\n",
              "      <td>9</td>\n",
              "    </tr>\n",
              "    <tr>\n",
              "      <th>34</th>\n",
              "      <td>0399135782</td>\n",
              "      <td>The Kitchen God's Wife</td>\n",
              "      <td>Amy Tan</td>\n",
              "      <td>1991</td>\n",
              "      <td>Putnam Pub Group</td>\n",
              "      <td>http://images.amazon.com/images/P/0399135782.0...</td>\n",
              "      <td>http://images.amazon.com/images/P/0399135782.0...</td>\n",
              "      <td>http://images.amazon.com/images/P/0399135782.0...</td>\n",
              "      <td>46398</td>\n",
              "      <td>9</td>\n",
              "    </tr>\n",
              "    <tr>\n",
              "      <th>36</th>\n",
              "      <td>0399135782</td>\n",
              "      <td>The Kitchen God's Wife</td>\n",
              "      <td>Amy Tan</td>\n",
              "      <td>1991</td>\n",
              "      <td>Putnam Pub Group</td>\n",
              "      <td>http://images.amazon.com/images/P/0399135782.0...</td>\n",
              "      <td>http://images.amazon.com/images/P/0399135782.0...</td>\n",
              "      <td>http://images.amazon.com/images/P/0399135782.0...</td>\n",
              "      <td>49635</td>\n",
              "      <td>9</td>\n",
              "    </tr>\n",
              "    <tr>\n",
              "      <th>37</th>\n",
              "      <td>0399135782</td>\n",
              "      <td>The Kitchen God's Wife</td>\n",
              "      <td>Amy Tan</td>\n",
              "      <td>1991</td>\n",
              "      <td>Putnam Pub Group</td>\n",
              "      <td>http://images.amazon.com/images/P/0399135782.0...</td>\n",
              "      <td>http://images.amazon.com/images/P/0399135782.0...</td>\n",
              "      <td>http://images.amazon.com/images/P/0399135782.0...</td>\n",
              "      <td>67958</td>\n",
              "      <td>10</td>\n",
              "    </tr>\n",
              "  </tbody>\n",
              "</table>\n",
              "</div>\n",
              "      <button class=\"colab-df-convert\" onclick=\"convertToInteractive('df-7233d720-f1fe-4905-9bbb-0bff091911bc')\"\n",
              "              title=\"Convert this dataframe to an interactive table.\"\n",
              "              style=\"display:none;\">\n",
              "        \n",
              "  <svg xmlns=\"http://www.w3.org/2000/svg\" height=\"24px\"viewBox=\"0 0 24 24\"\n",
              "       width=\"24px\">\n",
              "    <path d=\"M0 0h24v24H0V0z\" fill=\"none\"/>\n",
              "    <path d=\"M18.56 5.44l.94 2.06.94-2.06 2.06-.94-2.06-.94-.94-2.06-.94 2.06-2.06.94zm-11 1L8.5 8.5l.94-2.06 2.06-.94-2.06-.94L8.5 2.5l-.94 2.06-2.06.94zm10 10l.94 2.06.94-2.06 2.06-.94-2.06-.94-.94-2.06-.94 2.06-2.06.94z\"/><path d=\"M17.41 7.96l-1.37-1.37c-.4-.4-.92-.59-1.43-.59-.52 0-1.04.2-1.43.59L10.3 9.45l-7.72 7.72c-.78.78-.78 2.05 0 2.83L4 21.41c.39.39.9.59 1.41.59.51 0 1.02-.2 1.41-.59l7.78-7.78 2.81-2.81c.8-.78.8-2.07 0-2.86zM5.41 20L4 18.59l7.72-7.72 1.47 1.35L5.41 20z\"/>\n",
              "  </svg>\n",
              "      </button>\n",
              "      \n",
              "  <style>\n",
              "    .colab-df-container {\n",
              "      display:flex;\n",
              "      flex-wrap:wrap;\n",
              "      gap: 12px;\n",
              "    }\n",
              "\n",
              "    .colab-df-convert {\n",
              "      background-color: #E8F0FE;\n",
              "      border: none;\n",
              "      border-radius: 50%;\n",
              "      cursor: pointer;\n",
              "      display: none;\n",
              "      fill: #1967D2;\n",
              "      height: 32px;\n",
              "      padding: 0 0 0 0;\n",
              "      width: 32px;\n",
              "    }\n",
              "\n",
              "    .colab-df-convert:hover {\n",
              "      background-color: #E2EBFA;\n",
              "      box-shadow: 0px 1px 2px rgba(60, 64, 67, 0.3), 0px 1px 3px 1px rgba(60, 64, 67, 0.15);\n",
              "      fill: #174EA6;\n",
              "    }\n",
              "\n",
              "    [theme=dark] .colab-df-convert {\n",
              "      background-color: #3B4455;\n",
              "      fill: #D2E3FC;\n",
              "    }\n",
              "\n",
              "    [theme=dark] .colab-df-convert:hover {\n",
              "      background-color: #434B5C;\n",
              "      box-shadow: 0px 1px 3px 1px rgba(0, 0, 0, 0.15);\n",
              "      filter: drop-shadow(0px 1px 2px rgba(0, 0, 0, 0.3));\n",
              "      fill: #FFFFFF;\n",
              "    }\n",
              "  </style>\n",
              "\n",
              "      <script>\n",
              "        const buttonEl =\n",
              "          document.querySelector('#df-7233d720-f1fe-4905-9bbb-0bff091911bc button.colab-df-convert');\n",
              "        buttonEl.style.display =\n",
              "          google.colab.kernel.accessAllowed ? 'block' : 'none';\n",
              "\n",
              "        async function convertToInteractive(key) {\n",
              "          const element = document.querySelector('#df-7233d720-f1fe-4905-9bbb-0bff091911bc');\n",
              "          const dataTable =\n",
              "            await google.colab.kernel.invokeFunction('convertToInteractive',\n",
              "                                                     [key], {});\n",
              "          if (!dataTable) return;\n",
              "\n",
              "          const docLinkHtml = 'Like what you see? Visit the ' +\n",
              "            '<a target=\"_blank\" href=https://colab.research.google.com/notebooks/data_table.ipynb>data table notebook</a>'\n",
              "            + ' to learn more about interactive tables.';\n",
              "          element.innerHTML = '';\n",
              "          dataTable['output_type'] = 'display_data';\n",
              "          await google.colab.output.renderOutput(dataTable, element);\n",
              "          const docLink = document.createElement('div');\n",
              "          docLink.innerHTML = docLinkHtml;\n",
              "          element.appendChild(docLink);\n",
              "        }\n",
              "      </script>\n",
              "    </div>\n",
              "  </div>\n",
              "  "
            ]
          },
          "metadata": {},
          "execution_count": 72
        }
      ]
    },
    {
      "cell_type": "code",
      "source": [
        "common_books.shape"
      ],
      "metadata": {
        "execution": {
          "iopub.status.busy": "2023-04-26T00:04:19.254693Z",
          "iopub.execute_input": "2023-04-26T00:04:19.255077Z",
          "iopub.status.idle": "2023-04-26T00:04:19.263950Z",
          "shell.execute_reply.started": "2023-04-26T00:04:19.255039Z",
          "shell.execute_reply": "2023-04-26T00:04:19.262174Z"
        },
        "trusted": true,
        "id": "t_AojfMAww_s",
        "outputId": "8f53843d-5a4d-46a1-bb94-5a3cd10d6b74",
        "colab": {
          "base_uri": "https://localhost:8080/"
        }
      },
      "execution_count": 73,
      "outputs": [
        {
          "output_type": "execute_result",
          "data": {
            "text/plain": [
              "(33641, 10)"
            ]
          },
          "metadata": {},
          "execution_count": 73
        }
      ]
    },
    {
      "cell_type": "markdown",
      "source": [
        "Making recommendation if the book is common"
      ],
      "metadata": {
        "id": "tstgVjwaww_t"
      }
    },
    {
      "cell_type": "markdown",
      "source": [
        "Creating dataframe where index is the Users IDs and the columns are the books titles and the values are the rating of the user to that book"
      ],
      "metadata": {
        "id": "lC5tk2EVww_t"
      }
    },
    {
      "cell_type": "code",
      "source": [
        "item_based_cb = common_books.pivot_table(index=[\"User-ID\"],columns=[\"Book-Title\"],values=\"Book-Rating\")"
      ],
      "metadata": {
        "execution": {
          "iopub.status.busy": "2023-04-26T00:04:19.265550Z",
          "iopub.execute_input": "2023-04-26T00:04:19.266091Z",
          "iopub.status.idle": "2023-04-26T00:04:19.378010Z",
          "shell.execute_reply.started": "2023-04-26T00:04:19.266036Z",
          "shell.execute_reply": "2023-04-26T00:04:19.376424Z"
        },
        "trusted": true,
        "id": "Sm7oPgohww_t"
      },
      "execution_count": 74,
      "outputs": []
    },
    {
      "cell_type": "markdown",
      "source": [
        "Assuming a book title and see what recommendations can be made"
      ],
      "metadata": {
        "id": "6WuVIsXMww_t"
      }
    },
    {
      "cell_type": "markdown",
      "source": [
        "Creating recommendation df with the corrwith function"
      ],
      "metadata": {
        "id": "8YUCX1PQww_t"
      }
    },
    {
      "cell_type": "code",
      "source": [
        "book_title = 'Me Talk Pretty One Day'\n",
        "sim = item_based_cb[book_title]\n",
        "recommendation_df=pd.DataFrame(item_based_cb.corrwith(sim).sort_values(ascending=False)).reset_index(drop=False)\n",
        "recommendation_df"
      ],
      "metadata": {
        "execution": {
          "iopub.status.busy": "2023-04-26T00:04:19.387339Z",
          "iopub.execute_input": "2023-04-26T00:04:19.388132Z",
          "iopub.status.idle": "2023-04-26T00:04:19.476598Z",
          "shell.execute_reply.started": "2023-04-26T00:04:19.388078Z",
          "shell.execute_reply": "2023-04-26T00:04:19.475325Z"
        },
        "trusted": true,
        "id": "4orYBo6kww_t",
        "outputId": "17e7f6d6-320c-4b85-f425-7b9febfb5a04",
        "colab": {
          "base_uri": "https://localhost:8080/",
          "height": 0
        }
      },
      "execution_count": 75,
      "outputs": [
        {
          "output_type": "execute_result",
          "data": {
            "text/plain": [
              "                                            Book-Title    0\n",
              "0                               Me Talk Pretty One Day  1.0\n",
              "1    Left Behind: A Novel of the Earth's Last Days ...  1.0\n",
              "2    A Child Called \\It\\\": One Child's Courage to S...  1.0\n",
              "3                                    Lord of the Flies  1.0\n",
              "4                                          The Chamber  1.0\n",
              "..                                                 ...  ...\n",
              "187                                         The Rescue  NaN\n",
              "188  The Return of the King (The Lord of the Rings,...  NaN\n",
              "189                                   The Smoke Jumper  NaN\n",
              "190                                When the Wind Blows  NaN\n",
              "191                                \\O\\\" Is for Outlaw\"  NaN\n",
              "\n",
              "[192 rows x 2 columns]"
            ],
            "text/html": [
              "\n",
              "  <div id=\"df-26652db4-6506-405b-9645-2c1f5071deff\">\n",
              "    <div class=\"colab-df-container\">\n",
              "      <div>\n",
              "<style scoped>\n",
              "    .dataframe tbody tr th:only-of-type {\n",
              "        vertical-align: middle;\n",
              "    }\n",
              "\n",
              "    .dataframe tbody tr th {\n",
              "        vertical-align: top;\n",
              "    }\n",
              "\n",
              "    .dataframe thead th {\n",
              "        text-align: right;\n",
              "    }\n",
              "</style>\n",
              "<table border=\"1\" class=\"dataframe\">\n",
              "  <thead>\n",
              "    <tr style=\"text-align: right;\">\n",
              "      <th></th>\n",
              "      <th>Book-Title</th>\n",
              "      <th>0</th>\n",
              "    </tr>\n",
              "  </thead>\n",
              "  <tbody>\n",
              "    <tr>\n",
              "      <th>0</th>\n",
              "      <td>Me Talk Pretty One Day</td>\n",
              "      <td>1.0</td>\n",
              "    </tr>\n",
              "    <tr>\n",
              "      <th>1</th>\n",
              "      <td>Left Behind: A Novel of the Earth's Last Days ...</td>\n",
              "      <td>1.0</td>\n",
              "    </tr>\n",
              "    <tr>\n",
              "      <th>2</th>\n",
              "      <td>A Child Called \\It\\\": One Child's Courage to S...</td>\n",
              "      <td>1.0</td>\n",
              "    </tr>\n",
              "    <tr>\n",
              "      <th>3</th>\n",
              "      <td>Lord of the Flies</td>\n",
              "      <td>1.0</td>\n",
              "    </tr>\n",
              "    <tr>\n",
              "      <th>4</th>\n",
              "      <td>The Chamber</td>\n",
              "      <td>1.0</td>\n",
              "    </tr>\n",
              "    <tr>\n",
              "      <th>...</th>\n",
              "      <td>...</td>\n",
              "      <td>...</td>\n",
              "    </tr>\n",
              "    <tr>\n",
              "      <th>187</th>\n",
              "      <td>The Rescue</td>\n",
              "      <td>NaN</td>\n",
              "    </tr>\n",
              "    <tr>\n",
              "      <th>188</th>\n",
              "      <td>The Return of the King (The Lord of the Rings,...</td>\n",
              "      <td>NaN</td>\n",
              "    </tr>\n",
              "    <tr>\n",
              "      <th>189</th>\n",
              "      <td>The Smoke Jumper</td>\n",
              "      <td>NaN</td>\n",
              "    </tr>\n",
              "    <tr>\n",
              "      <th>190</th>\n",
              "      <td>When the Wind Blows</td>\n",
              "      <td>NaN</td>\n",
              "    </tr>\n",
              "    <tr>\n",
              "      <th>191</th>\n",
              "      <td>\\O\\\" Is for Outlaw\"</td>\n",
              "      <td>NaN</td>\n",
              "    </tr>\n",
              "  </tbody>\n",
              "</table>\n",
              "<p>192 rows × 2 columns</p>\n",
              "</div>\n",
              "      <button class=\"colab-df-convert\" onclick=\"convertToInteractive('df-26652db4-6506-405b-9645-2c1f5071deff')\"\n",
              "              title=\"Convert this dataframe to an interactive table.\"\n",
              "              style=\"display:none;\">\n",
              "        \n",
              "  <svg xmlns=\"http://www.w3.org/2000/svg\" height=\"24px\"viewBox=\"0 0 24 24\"\n",
              "       width=\"24px\">\n",
              "    <path d=\"M0 0h24v24H0V0z\" fill=\"none\"/>\n",
              "    <path d=\"M18.56 5.44l.94 2.06.94-2.06 2.06-.94-2.06-.94-.94-2.06-.94 2.06-2.06.94zm-11 1L8.5 8.5l.94-2.06 2.06-.94-2.06-.94L8.5 2.5l-.94 2.06-2.06.94zm10 10l.94 2.06.94-2.06 2.06-.94-2.06-.94-.94-2.06-.94 2.06-2.06.94z\"/><path d=\"M17.41 7.96l-1.37-1.37c-.4-.4-.92-.59-1.43-.59-.52 0-1.04.2-1.43.59L10.3 9.45l-7.72 7.72c-.78.78-.78 2.05 0 2.83L4 21.41c.39.39.9.59 1.41.59.51 0 1.02-.2 1.41-.59l7.78-7.78 2.81-2.81c.8-.78.8-2.07 0-2.86zM5.41 20L4 18.59l7.72-7.72 1.47 1.35L5.41 20z\"/>\n",
              "  </svg>\n",
              "      </button>\n",
              "      \n",
              "  <style>\n",
              "    .colab-df-container {\n",
              "      display:flex;\n",
              "      flex-wrap:wrap;\n",
              "      gap: 12px;\n",
              "    }\n",
              "\n",
              "    .colab-df-convert {\n",
              "      background-color: #E8F0FE;\n",
              "      border: none;\n",
              "      border-radius: 50%;\n",
              "      cursor: pointer;\n",
              "      display: none;\n",
              "      fill: #1967D2;\n",
              "      height: 32px;\n",
              "      padding: 0 0 0 0;\n",
              "      width: 32px;\n",
              "    }\n",
              "\n",
              "    .colab-df-convert:hover {\n",
              "      background-color: #E2EBFA;\n",
              "      box-shadow: 0px 1px 2px rgba(60, 64, 67, 0.3), 0px 1px 3px 1px rgba(60, 64, 67, 0.15);\n",
              "      fill: #174EA6;\n",
              "    }\n",
              "\n",
              "    [theme=dark] .colab-df-convert {\n",
              "      background-color: #3B4455;\n",
              "      fill: #D2E3FC;\n",
              "    }\n",
              "\n",
              "    [theme=dark] .colab-df-convert:hover {\n",
              "      background-color: #434B5C;\n",
              "      box-shadow: 0px 1px 3px 1px rgba(0, 0, 0, 0.15);\n",
              "      filter: drop-shadow(0px 1px 2px rgba(0, 0, 0, 0.3));\n",
              "      fill: #FFFFFF;\n",
              "    }\n",
              "  </style>\n",
              "\n",
              "      <script>\n",
              "        const buttonEl =\n",
              "          document.querySelector('#df-26652db4-6506-405b-9645-2c1f5071deff button.colab-df-convert');\n",
              "        buttonEl.style.display =\n",
              "          google.colab.kernel.accessAllowed ? 'block' : 'none';\n",
              "\n",
              "        async function convertToInteractive(key) {\n",
              "          const element = document.querySelector('#df-26652db4-6506-405b-9645-2c1f5071deff');\n",
              "          const dataTable =\n",
              "            await google.colab.kernel.invokeFunction('convertToInteractive',\n",
              "                                                     [key], {});\n",
              "          if (!dataTable) return;\n",
              "\n",
              "          const docLinkHtml = 'Like what you see? Visit the ' +\n",
              "            '<a target=\"_blank\" href=https://colab.research.google.com/notebooks/data_table.ipynb>data table notebook</a>'\n",
              "            + ' to learn more about interactive tables.';\n",
              "          element.innerHTML = '';\n",
              "          dataTable['output_type'] = 'display_data';\n",
              "          await google.colab.output.renderOutput(dataTable, element);\n",
              "          const docLink = document.createElement('div');\n",
              "          docLink.innerHTML = docLinkHtml;\n",
              "          element.appendChild(docLink);\n",
              "        }\n",
              "      </script>\n",
              "    </div>\n",
              "  </div>\n",
              "  "
            ]
          },
          "metadata": {},
          "execution_count": 75
        }
      ]
    },
    {
      "cell_type": "markdown",
      "source": [
        "Checking if the book the user choosen is included in the recommendation df or not, because if it is included, we don't want to recommend it so we will  drop it"
      ],
      "metadata": {
        "id": "W2ogmgF2ww_t"
      }
    },
    {
      "cell_type": "code",
      "source": [
        "if not recommendation_df['Book-Title'][recommendation_df['Book-Title'] == book_title].empty:\n",
        "    recommendation_df=recommendation_df.drop(recommendation_df[recommendation_df[\"Book-Title\"]==book_title].index[0])"
      ],
      "metadata": {
        "execution": {
          "iopub.status.busy": "2023-04-26T00:04:19.478347Z",
          "iopub.execute_input": "2023-04-26T00:04:19.478811Z",
          "iopub.status.idle": "2023-04-26T00:04:19.487182Z",
          "shell.execute_reply.started": "2023-04-26T00:04:19.478750Z",
          "shell.execute_reply": "2023-04-26T00:04:19.485813Z"
        },
        "trusted": true,
        "id": "PIGeIt3gww_u"
      },
      "execution_count": 76,
      "outputs": []
    },
    {
      "cell_type": "markdown",
      "source": [
        "Collect the books with less ratings (average rating is less than 5)"
      ],
      "metadata": {
        "id": "CA9akVN8ww_u"
      }
    },
    {
      "cell_type": "code",
      "source": [
        "less_rating=[]\n",
        "for i in recommendation_df[\"Book-Title\"]:\n",
        "    if df[df[\"Book-Title\"]==i][\"Book-Rating\"].mean() < 5:\n",
        "        less_rating.append(i)\n",
        "        \n",
        "less_rating"
      ],
      "metadata": {
        "execution": {
          "iopub.status.busy": "2023-04-26T00:04:19.488788Z",
          "iopub.execute_input": "2023-04-26T00:04:19.489285Z",
          "iopub.status.idle": "2023-04-26T00:04:24.775399Z",
          "shell.execute_reply.started": "2023-04-26T00:04:19.489237Z",
          "shell.execute_reply": "2023-04-26T00:04:24.774185Z"
        },
        "trusted": true,
        "id": "ZS98-CGOww_u",
        "outputId": "26070dc5-b4ff-4275-d520-631d62a50344",
        "colab": {
          "base_uri": "https://localhost:8080/"
        }
      },
      "execution_count": 77,
      "outputs": [
        {
          "output_type": "execute_result",
          "data": {
            "text/plain": [
              "['Wild Animus']"
            ]
          },
          "metadata": {},
          "execution_count": 77
        }
      ]
    },
    {
      "cell_type": "markdown",
      "source": [
        "Rank the highly rated books"
      ],
      "metadata": {
        "id": "zegfcg5Vww_u"
      }
    },
    {
      "cell_type": "code",
      "source": [
        "if recommendation_df.shape[0] - len(less_rating) > 5:\n",
        "    \n",
        "    recommendation_df=recommendation_df[~recommendation_df[\"Book-Title\"].isin(less_rating)]            \n",
        "    recommendation_df.columns=[\"Book-Title\",\"Correlation\"]\n",
        "    \n",
        "    \n",
        "for (candidate_book, corr) in zip(recommendation_df['Book-Title'], recommendation_df['Correlation']):\n",
        "    corr_thershold = 0.7\n",
        "    if corr > corr_thershold:\n",
        "        ratings = df[df['Book-Title'] == candidate_book]['Book-Rating'].mean()\n",
        "        prGreen(candidate_book)\n",
        "        print(\"Rating \", end = '->')\n",
        "        prRed(round(ratings,1))\n",
        "        print(\"-\"*50)\n",
        "    else:\n",
        "        break"
      ],
      "metadata": {
        "execution": {
          "iopub.status.busy": "2023-04-26T00:04:24.777445Z",
          "iopub.execute_input": "2023-04-26T00:04:24.777943Z",
          "iopub.status.idle": "2023-04-26T00:04:25.782390Z",
          "shell.execute_reply.started": "2023-04-26T00:04:24.777872Z",
          "shell.execute_reply": "2023-04-26T00:04:25.780712Z"
        },
        "trusted": true,
        "id": "6CFFsNO2ww_u",
        "outputId": "1b1c3b85-c5bd-45e6-b81e-7ccbeab3918f",
        "colab": {
          "base_uri": "https://localhost:8080/"
        }
      },
      "execution_count": 78,
      "outputs": [
        {
          "output_type": "stream",
          "name": "stdout",
          "text": [
            "\u001b[92m Left Behind: A Novel of the Earth's Last Days (Left Behind No. 1)\u001b[00m\n",
            "Rating ->\u001b[91m 7.7\u001b[00m\n",
            "--------------------------------------------------\n",
            "\u001b[92m A Child Called \\It\\\": One Child's Courage to Survive\"\u001b[00m\n",
            "Rating ->\u001b[91m 8.0\u001b[00m\n",
            "--------------------------------------------------\n",
            "\u001b[92m Lord of the Flies\u001b[00m\n",
            "Rating ->\u001b[91m 8.0\u001b[00m\n",
            "--------------------------------------------------\n",
            "\u001b[92m The Chamber\u001b[00m\n",
            "Rating ->\u001b[91m 7.4\u001b[00m\n",
            "--------------------------------------------------\n",
            "\u001b[92m The Poisonwood Bible: A Novel\u001b[00m\n",
            "Rating ->\u001b[91m 8.2\u001b[00m\n",
            "--------------------------------------------------\n",
            "\u001b[92m The Lost World\u001b[00m\n",
            "Rating ->\u001b[91m 7.2\u001b[00m\n",
            "--------------------------------------------------\n",
            "\u001b[92m Four Blind Mice\u001b[00m\n",
            "Rating ->\u001b[91m 8.2\u001b[00m\n",
            "--------------------------------------------------\n",
            "\u001b[92m It\u001b[00m\n",
            "Rating ->\u001b[91m 8.1\u001b[00m\n",
            "--------------------------------------------------\n",
            "\u001b[92m She's Come Undone (Oprah's Book Club)\u001b[00m\n",
            "Rating ->\u001b[91m 7.7\u001b[00m\n",
            "--------------------------------------------------\n",
            "\u001b[92m While I Was Gone\u001b[00m\n",
            "Rating ->\u001b[91m 7.0\u001b[00m\n",
            "--------------------------------------------------\n",
            "\u001b[92m The Reader\u001b[00m\n",
            "Rating ->\u001b[91m 7.2\u001b[00m\n",
            "--------------------------------------------------\n",
            "\u001b[92m Seabiscuit: An American Legend\u001b[00m\n",
            "Rating ->\u001b[91m 8.5\u001b[00m\n",
            "--------------------------------------------------\n",
            "\u001b[92m Q Is for Quarry\u001b[00m\n",
            "Rating ->\u001b[91m 7.9\u001b[00m\n",
            "--------------------------------------------------\n",
            "\u001b[92m Timeline\u001b[00m\n",
            "Rating ->\u001b[91m 7.9\u001b[00m\n",
            "--------------------------------------------------\n",
            "\u001b[92m The Subtle Knife (His Dark Materials, Book 2)\u001b[00m\n",
            "Rating ->\u001b[91m 8.7\u001b[00m\n",
            "--------------------------------------------------\n",
            "\u001b[92m The Hitchhiker's Guide to the Galaxy\u001b[00m\n",
            "Rating ->\u001b[91m 8.5\u001b[00m\n",
            "--------------------------------------------------\n",
            "\u001b[92m Pigs in Heaven\u001b[00m\n",
            "Rating ->\u001b[91m 8.0\u001b[00m\n",
            "--------------------------------------------------\n",
            "\u001b[92m A Walk to Remember\u001b[00m\n",
            "Rating ->\u001b[91m 7.8\u001b[00m\n",
            "--------------------------------------------------\n",
            "\u001b[92m The Blind Assassin\u001b[00m\n",
            "Rating ->\u001b[91m 7.5\u001b[00m\n",
            "--------------------------------------------------\n",
            "\u001b[92m The Testament\u001b[00m\n",
            "Rating ->\u001b[91m 7.5\u001b[00m\n",
            "--------------------------------------------------\n",
            "\u001b[92m The Pilot's Wife : A Novel\u001b[00m\n",
            "Rating ->\u001b[91m 7.5\u001b[00m\n",
            "--------------------------------------------------\n",
            "\u001b[92m The Two Towers (The Lord of the Rings, Part 2)\u001b[00m\n",
            "Rating ->\u001b[91m 9.3\u001b[00m\n",
            "--------------------------------------------------\n",
            "\u001b[92m The Fellowship of the Ring (The Lord of the Rings, Part 1)\u001b[00m\n",
            "Rating ->\u001b[91m 8.9\u001b[00m\n",
            "--------------------------------------------------\n",
            "\u001b[92m The Hours: A Novel\u001b[00m\n",
            "Rating ->\u001b[91m 7.6\u001b[00m\n",
            "--------------------------------------------------\n",
            "\u001b[92m Animal Farm\u001b[00m\n",
            "Rating ->\u001b[91m 8.3\u001b[00m\n",
            "--------------------------------------------------\n",
            "\u001b[92m Two for the Dough\u001b[00m\n",
            "Rating ->\u001b[91m 8.3\u001b[00m\n",
            "--------------------------------------------------\n",
            "\u001b[92m A Bend in the Road\u001b[00m\n",
            "Rating ->\u001b[91m 7.5\u001b[00m\n",
            "--------------------------------------------------\n",
            "\u001b[92m The Catcher in the Rye\u001b[00m\n",
            "Rating ->\u001b[91m 7.7\u001b[00m\n",
            "--------------------------------------------------\n",
            "\u001b[92m Dolores Claiborne\u001b[00m\n",
            "Rating ->\u001b[91m 7.4\u001b[00m\n",
            "--------------------------------------------------\n",
            "\u001b[92m Silence of the Lambs\u001b[00m\n",
            "Rating ->\u001b[91m 8.4\u001b[00m\n",
            "--------------------------------------------------\n",
            "\u001b[92m Icy Sparks\u001b[00m\n",
            "Rating ->\u001b[91m 7.3\u001b[00m\n",
            "--------------------------------------------------\n",
            "\u001b[92m Neverwhere\u001b[00m\n",
            "Rating ->\u001b[91m 8.1\u001b[00m\n",
            "--------------------------------------------------\n",
            "\u001b[92m The Vampire Lestat (Vampire Chronicles, Book II)\u001b[00m\n",
            "Rating ->\u001b[91m 8.0\u001b[00m\n",
            "--------------------------------------------------\n",
            "\u001b[92m The Tao of Pooh\u001b[00m\n",
            "Rating ->\u001b[91m 8.0\u001b[00m\n",
            "--------------------------------------------------\n"
          ]
        }
      ]
    },
    {
      "cell_type": "markdown",
      "source": [
        "Item based collaborative recommendation system is ready, let's put it all together to build our Recommendation System"
      ],
      "metadata": {
        "id": "b5furlFBww_u"
      }
    },
    {
      "cell_type": "code",
      "source": [
        "def item_based_coll_rs(book_title):\n",
        "    \n",
        "    book_title = str(book_title)\n",
        "    if book_title in books_with_ratings['Book-Title'].values:\n",
        "        \n",
        "        count_rate = pd.DataFrame(df['Book-Title'].value_counts())\n",
        "        rare_books=count_rate[count_rate[\"Book-Title\"]<=100].index\n",
        "        \n",
        "        common_books=df[~df[\"Book-Title\"].isin(rare_books)]\n",
        "\n",
        "        if book_title in rare_books:\n",
        "            prYellow(\"A rare book, so u may try our popular books: \\n \")\n",
        "            popular_books()\n",
        "            \n",
        "        else:\n",
        "            \n",
        "            item_based_cb = common_books.pivot_table(index=[\"User-ID\"],columns=[\"Book-Title\"],values=\"Book-Rating\")\n",
        "            sim = item_based_cb[book_title]\n",
        "            recommendation_df=pd.DataFrame(item_based_cb.corrwith(sim).sort_values(ascending=False)).reset_index(drop=False)\n",
        "\n",
        "            if not recommendation_df['Book-Title'][recommendation_df['Book-Title'] == book_title].empty:\n",
        "                recommendation_df=recommendation_df.drop(recommendation_df[recommendation_df[\"Book-Title\"]==book_title].index[0])\n",
        "\n",
        "            less_rating=[]\n",
        "            for i in recommendation_df[\"Book-Title\"]:\n",
        "                if df[df[\"Book-Title\"]==i][\"Book-Rating\"].mean() < 5:\n",
        "                    less_rating.append(i)\n",
        "\n",
        "            if recommendation_df.shape[0] - len(less_rating) > 5:\n",
        "\n",
        "                recommendation_df=recommendation_df[~recommendation_df[\"Book-Title\"].isin(less_rating)]            \n",
        "                recommendation_df.columns=[\"Book-Title\",\"Correlation\"]\n",
        "\n",
        "\n",
        "            for (candidate_book, corr) in zip(recommendation_df['Book-Title'], recommendation_df['Correlation']):\n",
        "                corr_thershold = 0.7\n",
        "                if corr > corr_thershold:\n",
        "                    ratings = df[df['Book-Title'] == candidate_book]['Book-Rating'].mean()\n",
        "                    prGreen(candidate_book)\n",
        "                    print(\"Rating \", end = '->')\n",
        "                    prRed(round(ratings,1))\n",
        "                    print(\"-\"*50)\n",
        "                else:\n",
        "                    break\n",
        "                \n",
        "    else:\n",
        "        prYellow(\"This book is not in our library, check out our most popular books:\")\n",
        "        print()\n",
        "        popular_books()"
      ],
      "metadata": {
        "execution": {
          "iopub.status.busy": "2023-04-26T00:04:25.784155Z",
          "iopub.execute_input": "2023-04-26T00:04:25.784583Z",
          "iopub.status.idle": "2023-04-26T00:04:25.800159Z",
          "shell.execute_reply.started": "2023-04-26T00:04:25.784547Z",
          "shell.execute_reply": "2023-04-26T00:04:25.798578Z"
        },
        "trusted": true,
        "id": "KTwvxihcww_u"
      },
      "execution_count": 79,
      "outputs": []
    },
    {
      "cell_type": "code",
      "source": [
        "item_based_coll_rs('Me Talk Pretty One Day')"
      ],
      "metadata": {
        "execution": {
          "iopub.status.busy": "2023-04-26T00:04:25.802033Z",
          "iopub.execute_input": "2023-04-26T00:04:25.802565Z",
          "iopub.status.idle": "2023-04-26T00:04:32.444324Z",
          "shell.execute_reply.started": "2023-04-26T00:04:25.802480Z",
          "shell.execute_reply": "2023-04-26T00:04:32.443012Z"
        },
        "trusted": true,
        "id": "jNc-5DSkww_v",
        "outputId": "990c998a-2c33-4554-ac2c-82ff0333212f",
        "colab": {
          "base_uri": "https://localhost:8080/"
        }
      },
      "execution_count": 80,
      "outputs": [
        {
          "output_type": "stream",
          "name": "stdout",
          "text": [
            "\u001b[92m Left Behind: A Novel of the Earth's Last Days (Left Behind No. 1)\u001b[00m\n",
            "Rating ->\u001b[91m 7.7\u001b[00m\n",
            "--------------------------------------------------\n",
            "\u001b[92m A Child Called \\It\\\": One Child's Courage to Survive\"\u001b[00m\n",
            "Rating ->\u001b[91m 8.0\u001b[00m\n",
            "--------------------------------------------------\n",
            "\u001b[92m Lord of the Flies\u001b[00m\n",
            "Rating ->\u001b[91m 8.0\u001b[00m\n",
            "--------------------------------------------------\n",
            "\u001b[92m The Chamber\u001b[00m\n",
            "Rating ->\u001b[91m 7.4\u001b[00m\n",
            "--------------------------------------------------\n",
            "\u001b[92m The Poisonwood Bible: A Novel\u001b[00m\n",
            "Rating ->\u001b[91m 8.2\u001b[00m\n",
            "--------------------------------------------------\n",
            "\u001b[92m The Lost World\u001b[00m\n",
            "Rating ->\u001b[91m 7.2\u001b[00m\n",
            "--------------------------------------------------\n",
            "\u001b[92m Four Blind Mice\u001b[00m\n",
            "Rating ->\u001b[91m 8.2\u001b[00m\n",
            "--------------------------------------------------\n",
            "\u001b[92m It\u001b[00m\n",
            "Rating ->\u001b[91m 8.1\u001b[00m\n",
            "--------------------------------------------------\n",
            "\u001b[92m She's Come Undone (Oprah's Book Club)\u001b[00m\n",
            "Rating ->\u001b[91m 7.7\u001b[00m\n",
            "--------------------------------------------------\n",
            "\u001b[92m While I Was Gone\u001b[00m\n",
            "Rating ->\u001b[91m 7.0\u001b[00m\n",
            "--------------------------------------------------\n",
            "\u001b[92m The Reader\u001b[00m\n",
            "Rating ->\u001b[91m 7.2\u001b[00m\n",
            "--------------------------------------------------\n",
            "\u001b[92m Seabiscuit: An American Legend\u001b[00m\n",
            "Rating ->\u001b[91m 8.5\u001b[00m\n",
            "--------------------------------------------------\n",
            "\u001b[92m Q Is for Quarry\u001b[00m\n",
            "Rating ->\u001b[91m 7.9\u001b[00m\n",
            "--------------------------------------------------\n",
            "\u001b[92m Timeline\u001b[00m\n",
            "Rating ->\u001b[91m 7.9\u001b[00m\n",
            "--------------------------------------------------\n",
            "\u001b[92m The Subtle Knife (His Dark Materials, Book 2)\u001b[00m\n",
            "Rating ->\u001b[91m 8.7\u001b[00m\n",
            "--------------------------------------------------\n",
            "\u001b[92m The Hitchhiker's Guide to the Galaxy\u001b[00m\n",
            "Rating ->\u001b[91m 8.5\u001b[00m\n",
            "--------------------------------------------------\n",
            "\u001b[92m Pigs in Heaven\u001b[00m\n",
            "Rating ->\u001b[91m 8.0\u001b[00m\n",
            "--------------------------------------------------\n",
            "\u001b[92m A Walk to Remember\u001b[00m\n",
            "Rating ->\u001b[91m 7.8\u001b[00m\n",
            "--------------------------------------------------\n",
            "\u001b[92m The Blind Assassin\u001b[00m\n",
            "Rating ->\u001b[91m 7.5\u001b[00m\n",
            "--------------------------------------------------\n",
            "\u001b[92m The Testament\u001b[00m\n",
            "Rating ->\u001b[91m 7.5\u001b[00m\n",
            "--------------------------------------------------\n",
            "\u001b[92m The Pilot's Wife : A Novel\u001b[00m\n",
            "Rating ->\u001b[91m 7.5\u001b[00m\n",
            "--------------------------------------------------\n",
            "\u001b[92m The Two Towers (The Lord of the Rings, Part 2)\u001b[00m\n",
            "Rating ->\u001b[91m 9.3\u001b[00m\n",
            "--------------------------------------------------\n",
            "\u001b[92m The Fellowship of the Ring (The Lord of the Rings, Part 1)\u001b[00m\n",
            "Rating ->\u001b[91m 8.9\u001b[00m\n",
            "--------------------------------------------------\n",
            "\u001b[92m The Hours: A Novel\u001b[00m\n",
            "Rating ->\u001b[91m 7.6\u001b[00m\n",
            "--------------------------------------------------\n",
            "\u001b[92m Animal Farm\u001b[00m\n",
            "Rating ->\u001b[91m 8.3\u001b[00m\n",
            "--------------------------------------------------\n",
            "\u001b[92m Two for the Dough\u001b[00m\n",
            "Rating ->\u001b[91m 8.3\u001b[00m\n",
            "--------------------------------------------------\n",
            "\u001b[92m A Bend in the Road\u001b[00m\n",
            "Rating ->\u001b[91m 7.5\u001b[00m\n",
            "--------------------------------------------------\n",
            "\u001b[92m The Catcher in the Rye\u001b[00m\n",
            "Rating ->\u001b[91m 7.7\u001b[00m\n",
            "--------------------------------------------------\n",
            "\u001b[92m Dolores Claiborne\u001b[00m\n",
            "Rating ->\u001b[91m 7.4\u001b[00m\n",
            "--------------------------------------------------\n",
            "\u001b[92m Silence of the Lambs\u001b[00m\n",
            "Rating ->\u001b[91m 8.4\u001b[00m\n",
            "--------------------------------------------------\n",
            "\u001b[92m Icy Sparks\u001b[00m\n",
            "Rating ->\u001b[91m 7.3\u001b[00m\n",
            "--------------------------------------------------\n",
            "\u001b[92m Neverwhere\u001b[00m\n",
            "Rating ->\u001b[91m 8.1\u001b[00m\n",
            "--------------------------------------------------\n",
            "\u001b[92m The Vampire Lestat (Vampire Chronicles, Book II)\u001b[00m\n",
            "Rating ->\u001b[91m 8.0\u001b[00m\n",
            "--------------------------------------------------\n",
            "\u001b[92m The Tao of Pooh\u001b[00m\n",
            "Rating ->\u001b[91m 8.0\u001b[00m\n",
            "--------------------------------------------------\n"
          ]
        }
      ]
    },
    {
      "cell_type": "code",
      "source": [
        "item_based_coll_rs(\"The Da Vinci Code\")"
      ],
      "metadata": {
        "execution": {
          "iopub.status.busy": "2023-04-26T00:04:32.446130Z",
          "iopub.execute_input": "2023-04-26T00:04:32.446479Z",
          "iopub.status.idle": "2023-04-26T00:04:32.688675Z",
          "shell.execute_reply.started": "2023-04-26T00:04:32.446444Z",
          "shell.execute_reply": "2023-04-26T00:04:32.687351Z"
        },
        "trusted": true,
        "id": "7X8iwcd7ww_v",
        "outputId": "b91b361c-3ff0-4f04-8061-c9503984e633",
        "colab": {
          "base_uri": "https://localhost:8080/"
        }
      },
      "execution_count": 81,
      "outputs": [
        {
          "output_type": "stream",
          "name": "stdout",
          "text": [
            "\u001b[92m Silence of the Lambs\u001b[00m\n",
            "Rating ->\u001b[91m 8.4\u001b[00m\n",
            "--------------------------------------------------\n",
            "\u001b[92m Dance upon the Air (Three Sisters Island Trilogy)\u001b[00m\n",
            "Rating ->\u001b[91m 8.0\u001b[00m\n",
            "--------------------------------------------------\n",
            "\u001b[92m Unnatural Exposure\u001b[00m\n",
            "Rating ->\u001b[91m 7.8\u001b[00m\n",
            "--------------------------------------------------\n",
            "\u001b[92m The Divine Secrets of the Ya-Ya Sisterhood: A Novel\u001b[00m\n",
            "Rating ->\u001b[91m 7.8\u001b[00m\n",
            "--------------------------------------------------\n",
            "\u001b[92m The Smoke Jumper\u001b[00m\n",
            "Rating ->\u001b[91m 7.4\u001b[00m\n",
            "--------------------------------------------------\n",
            "\u001b[92m Four Blind Mice\u001b[00m\n",
            "Rating ->\u001b[91m 8.2\u001b[00m\n",
            "--------------------------------------------------\n",
            "\u001b[92m Back Roads\u001b[00m\n",
            "Rating ->\u001b[91m 7.3\u001b[00m\n",
            "--------------------------------------------------\n",
            "\u001b[92m Girl, Interrupted\u001b[00m\n",
            "Rating ->\u001b[91m 7.3\u001b[00m\n",
            "--------------------------------------------------\n",
            "\u001b[92m The Hitchhiker's Guide to the Galaxy\u001b[00m\n",
            "Rating ->\u001b[91m 8.5\u001b[00m\n",
            "--------------------------------------------------\n",
            "\u001b[92m Pop Goes the Weasel\u001b[00m\n",
            "Rating ->\u001b[91m 7.5\u001b[00m\n",
            "--------------------------------------------------\n",
            "\u001b[92m A Map of the World\u001b[00m\n",
            "Rating ->\u001b[91m 7.0\u001b[00m\n",
            "--------------------------------------------------\n",
            "\u001b[92m Where the Heart Is (Oprah's Book Club (Paperback))\u001b[00m\n",
            "Rating ->\u001b[91m 8.1\u001b[00m\n",
            "--------------------------------------------------\n",
            "\u001b[92m The Bean Trees\u001b[00m\n",
            "Rating ->\u001b[91m 8.3\u001b[00m\n",
            "--------------------------------------------------\n",
            "\u001b[92m Fahrenheit 451\u001b[00m\n",
            "Rating ->\u001b[91m 8.5\u001b[00m\n",
            "--------------------------------------------------\n",
            "\u001b[92m The Bad Beginning (A Series of Unfortunate Events, Book 1)\u001b[00m\n",
            "Rating ->\u001b[91m 7.5\u001b[00m\n",
            "--------------------------------------------------\n",
            "\u001b[92m Dolores Claiborne\u001b[00m\n",
            "Rating ->\u001b[91m 7.4\u001b[00m\n",
            "--------------------------------------------------\n",
            "\u001b[92m Full House (Janet Evanovich's Full Series)\u001b[00m\n",
            "Rating ->\u001b[91m 6.9\u001b[00m\n",
            "--------------------------------------------------\n"
          ]
        }
      ]
    },
    {
      "cell_type": "code",
      "source": [
        "item_based_coll_rs(\"The Alchemist: A Fable About Following Your Dream\")"
      ],
      "metadata": {
        "execution": {
          "iopub.status.busy": "2023-04-26T00:04:32.691371Z",
          "iopub.execute_input": "2023-04-26T00:04:32.691916Z",
          "iopub.status.idle": "2023-04-26T00:04:39.486740Z",
          "shell.execute_reply.started": "2023-04-26T00:04:32.691844Z",
          "shell.execute_reply": "2023-04-26T00:04:39.485895Z"
        },
        "trusted": true,
        "id": "wrCPqHb5ww_v",
        "outputId": "730d89bb-d813-45f1-ff26-806eea478908",
        "colab": {
          "base_uri": "https://localhost:8080/"
        }
      },
      "execution_count": 82,
      "outputs": [
        {
          "output_type": "stream",
          "name": "stdout",
          "text": [
            "\u001b[92m The Subtle Knife (His Dark Materials, Book 2)\u001b[00m\n",
            "Rating ->\u001b[91m 8.7\u001b[00m\n",
            "--------------------------------------------------\n",
            "\u001b[92m The Rescue\u001b[00m\n",
            "Rating ->\u001b[91m 7.6\u001b[00m\n",
            "--------------------------------------------------\n",
            "\u001b[92m The King of Torts\u001b[00m\n",
            "Rating ->\u001b[91m 7.5\u001b[00m\n",
            "--------------------------------------------------\n",
            "\u001b[92m The Pelican Brief\u001b[00m\n",
            "Rating ->\u001b[91m 7.7\u001b[00m\n",
            "--------------------------------------------------\n",
            "\u001b[92m Two for the Dough\u001b[00m\n",
            "Rating ->\u001b[91m 8.3\u001b[00m\n",
            "--------------------------------------------------\n",
            "\u001b[92m A Heartbreaking Work of Staggering Genius\u001b[00m\n",
            "Rating ->\u001b[91m 7.2\u001b[00m\n",
            "--------------------------------------------------\n",
            "\u001b[92m A Is for Alibi (Kinsey Millhone Mysteries (Paperback))\u001b[00m\n",
            "Rating ->\u001b[91m 7.6\u001b[00m\n",
            "--------------------------------------------------\n",
            "\u001b[92m Harry Potter and the Chamber of Secrets (Book 2)\u001b[00m\n",
            "Rating ->\u001b[91m 8.8\u001b[00m\n",
            "--------------------------------------------------\n",
            "\u001b[92m I Know This Much Is True\u001b[00m\n",
            "Rating ->\u001b[91m 8.3\u001b[00m\n",
            "--------------------------------------------------\n",
            "\u001b[92m The Tao of Pooh\u001b[00m\n",
            "Rating ->\u001b[91m 8.0\u001b[00m\n",
            "--------------------------------------------------\n",
            "\u001b[92m Back Roads\u001b[00m\n",
            "Rating ->\u001b[91m 7.3\u001b[00m\n",
            "--------------------------------------------------\n",
            "\u001b[92m The Reader\u001b[00m\n",
            "Rating ->\u001b[91m 7.2\u001b[00m\n",
            "--------------------------------------------------\n",
            "\u001b[92m The Bonesetter's Daughter\u001b[00m\n",
            "Rating ->\u001b[91m 8.0\u001b[00m\n",
            "--------------------------------------------------\n",
            "\u001b[92m The Runaway Jury\u001b[00m\n",
            "Rating ->\u001b[91m 7.7\u001b[00m\n",
            "--------------------------------------------------\n",
            "\u001b[92m The Pilot's Wife : A Novel\u001b[00m\n",
            "Rating ->\u001b[91m 7.5\u001b[00m\n",
            "--------------------------------------------------\n",
            "\u001b[92m Angela's Ashes (MMP) : A Memoir\u001b[00m\n",
            "Rating ->\u001b[91m 8.0\u001b[00m\n",
            "--------------------------------------------------\n",
            "\u001b[92m Ender's Game (Ender Wiggins Saga (Paperback))\u001b[00m\n",
            "Rating ->\u001b[91m 8.9\u001b[00m\n",
            "--------------------------------------------------\n",
            "\u001b[92m The Color Purple\u001b[00m\n",
            "Rating ->\u001b[91m 8.6\u001b[00m\n",
            "--------------------------------------------------\n",
            "\u001b[92m Tell No One\u001b[00m\n",
            "Rating ->\u001b[91m 8.1\u001b[00m\n",
            "--------------------------------------------------\n",
            "\u001b[92m Harry Potter and the Sorcerer's Stone (Book 1)\u001b[00m\n",
            "Rating ->\u001b[91m 9.1\u001b[00m\n",
            "--------------------------------------------------\n",
            "\u001b[92m The Rainmaker\u001b[00m\n",
            "Rating ->\u001b[91m 7.5\u001b[00m\n",
            "--------------------------------------------------\n",
            "\u001b[92m The Cider House Rules\u001b[00m\n",
            "Rating ->\u001b[91m 7.8\u001b[00m\n",
            "--------------------------------------------------\n",
            "\u001b[92m Animal Farm\u001b[00m\n",
            "Rating ->\u001b[91m 8.3\u001b[00m\n",
            "--------------------------------------------------\n",
            "\u001b[92m While I Was Gone\u001b[00m\n",
            "Rating ->\u001b[91m 7.0\u001b[00m\n",
            "--------------------------------------------------\n",
            "\u001b[92m A Walk to Remember\u001b[00m\n",
            "Rating ->\u001b[91m 7.8\u001b[00m\n",
            "--------------------------------------------------\n",
            "\u001b[92m Little Altars Everywhere: A Novel\u001b[00m\n",
            "Rating ->\u001b[91m 7.6\u001b[00m\n",
            "--------------------------------------------------\n",
            "\u001b[92m The Poisonwood Bible: A Novel\u001b[00m\n",
            "Rating ->\u001b[91m 8.2\u001b[00m\n",
            "--------------------------------------------------\n",
            "\u001b[92m The Summons\u001b[00m\n",
            "Rating ->\u001b[91m 7.3\u001b[00m\n",
            "--------------------------------------------------\n",
            "\u001b[92m Balzac and the Little Chinese Seamstress : A Novel\u001b[00m\n",
            "Rating ->\u001b[91m 8.0\u001b[00m\n",
            "--------------------------------------------------\n",
            "\u001b[92m Harry Potter and the Prisoner of Azkaban (Book 3)\u001b[00m\n",
            "Rating ->\u001b[91m 9.0\u001b[00m\n",
            "--------------------------------------------------\n",
            "\u001b[92m Timeline\u001b[00m\n",
            "Rating ->\u001b[91m 7.9\u001b[00m\n",
            "--------------------------------------------------\n",
            "\u001b[92m The Catcher in the Rye\u001b[00m\n",
            "Rating ->\u001b[91m 7.7\u001b[00m\n",
            "--------------------------------------------------\n",
            "\u001b[92m Hannibal\u001b[00m\n",
            "Rating ->\u001b[91m 7.1\u001b[00m\n",
            "--------------------------------------------------\n",
            "\u001b[92m To Kill a Mockingbird\u001b[00m\n",
            "Rating ->\u001b[91m 9.0\u001b[00m\n",
            "--------------------------------------------------\n",
            "\u001b[92m Insomnia\u001b[00m\n",
            "Rating ->\u001b[91m 7.9\u001b[00m\n",
            "--------------------------------------------------\n",
            "\u001b[92m When the Wind Blows\u001b[00m\n",
            "Rating ->\u001b[91m 7.5\u001b[00m\n",
            "--------------------------------------------------\n",
            "\u001b[92m Naked\u001b[00m\n",
            "Rating ->\u001b[91m 8.0\u001b[00m\n",
            "--------------------------------------------------\n",
            "\u001b[92m The God of Small Things\u001b[00m\n",
            "Rating ->\u001b[91m 7.7\u001b[00m\n",
            "--------------------------------------------------\n"
          ]
        }
      ]
    },
    {
      "cell_type": "code",
      "source": [
        "item_based_coll_rs(\"The Hitchhiker's Guide to the Galaxy\")"
      ],
      "metadata": {
        "execution": {
          "iopub.status.busy": "2023-04-26T00:04:39.488270Z",
          "iopub.execute_input": "2023-04-26T00:04:39.488616Z",
          "iopub.status.idle": "2023-04-26T00:04:45.696160Z",
          "shell.execute_reply.started": "2023-04-26T00:04:39.488583Z",
          "shell.execute_reply": "2023-04-26T00:04:45.694976Z"
        },
        "trusted": true,
        "id": "RUwuh2ueww_v",
        "outputId": "0599a10f-abf9-46ec-e9ae-aa37a5e2a538",
        "colab": {
          "base_uri": "https://localhost:8080/"
        }
      },
      "execution_count": 83,
      "outputs": [
        {
          "output_type": "stream",
          "name": "stdout",
          "text": [
            "\u001b[92m Black House\u001b[00m\n",
            "Rating ->\u001b[91m 7.6\u001b[00m\n",
            "--------------------------------------------------\n",
            "\u001b[92m Violets Are Blue\u001b[00m\n",
            "Rating ->\u001b[91m 7.6\u001b[00m\n",
            "--------------------------------------------------\n",
            "\u001b[92m STONES FROM THE RIVER\u001b[00m\n",
            "Rating ->\u001b[91m 8.0\u001b[00m\n",
            "--------------------------------------------------\n",
            "\u001b[92m The Client\u001b[00m\n",
            "Rating ->\u001b[91m 7.9\u001b[00m\n",
            "--------------------------------------------------\n",
            "\u001b[92m Pop Goes the Weasel\u001b[00m\n",
            "Rating ->\u001b[91m 7.5\u001b[00m\n",
            "--------------------------------------------------\n",
            "\u001b[92m A Heartbreaking Work of Staggering Genius\u001b[00m\n",
            "Rating ->\u001b[91m 7.2\u001b[00m\n",
            "--------------------------------------------------\n",
            "\u001b[92m The Pilot's Wife : A Novel\u001b[00m\n",
            "Rating ->\u001b[91m 7.5\u001b[00m\n",
            "--------------------------------------------------\n",
            "\u001b[92m The Smoke Jumper\u001b[00m\n",
            "Rating ->\u001b[91m 7.4\u001b[00m\n",
            "--------------------------------------------------\n",
            "\u001b[92m 2nd Chance\u001b[00m\n",
            "Rating ->\u001b[91m 7.8\u001b[00m\n",
            "--------------------------------------------------\n",
            "\u001b[92m The Bridges of Madison County\u001b[00m\n",
            "Rating ->\u001b[91m 7.5\u001b[00m\n",
            "--------------------------------------------------\n",
            "\u001b[92m I Know This Much Is True\u001b[00m\n",
            "Rating ->\u001b[91m 8.3\u001b[00m\n",
            "--------------------------------------------------\n",
            "\u001b[92m The Cider House Rules\u001b[00m\n",
            "Rating ->\u001b[91m 7.8\u001b[00m\n",
            "--------------------------------------------------\n",
            "\u001b[92m Along Came a Spider (Alex Cross Novels)\u001b[00m\n",
            "Rating ->\u001b[91m 8.0\u001b[00m\n",
            "--------------------------------------------------\n",
            "\u001b[92m Angela's Ashes (MMP) : A Memoir\u001b[00m\n",
            "Rating ->\u001b[91m 8.0\u001b[00m\n",
            "--------------------------------------------------\n",
            "\u001b[92m Cold Mountain : A Novel\u001b[00m\n",
            "Rating ->\u001b[91m 7.8\u001b[00m\n",
            "--------------------------------------------------\n",
            "\u001b[92m Dance upon the Air (Three Sisters Island Trilogy)\u001b[00m\n",
            "Rating ->\u001b[91m 8.0\u001b[00m\n",
            "--------------------------------------------------\n",
            "\u001b[92m Mystic River\u001b[00m\n",
            "Rating ->\u001b[91m 7.9\u001b[00m\n",
            "--------------------------------------------------\n",
            "\u001b[92m The Horse Whisperer\u001b[00m\n",
            "Rating ->\u001b[91m 7.5\u001b[00m\n",
            "--------------------------------------------------\n",
            "\u001b[92m Point of Origin\u001b[00m\n",
            "Rating ->\u001b[91m 7.7\u001b[00m\n",
            "--------------------------------------------------\n",
            "\u001b[92m About a Boy\u001b[00m\n",
            "Rating ->\u001b[91m 7.9\u001b[00m\n",
            "--------------------------------------------------\n",
            "\u001b[92m The Beach House\u001b[00m\n",
            "Rating ->\u001b[91m 7.7\u001b[00m\n",
            "--------------------------------------------------\n",
            "\u001b[92m Midwives: A Novel\u001b[00m\n",
            "Rating ->\u001b[91m 7.7\u001b[00m\n",
            "--------------------------------------------------\n",
            "\u001b[92m The Hours: A Novel\u001b[00m\n",
            "Rating ->\u001b[91m 7.6\u001b[00m\n",
            "--------------------------------------------------\n",
            "\u001b[92m The Vampire Lestat (Vampire Chronicles, Book II)\u001b[00m\n",
            "Rating ->\u001b[91m 8.0\u001b[00m\n",
            "--------------------------------------------------\n",
            "\u001b[92m Me Talk Pretty One Day\u001b[00m\n",
            "Rating ->\u001b[91m 7.9\u001b[00m\n",
            "--------------------------------------------------\n",
            "\u001b[92m Divine Secrets of the Ya-Ya Sisterhood: A Novel\u001b[00m\n",
            "Rating ->\u001b[91m 7.9\u001b[00m\n",
            "--------------------------------------------------\n",
            "\u001b[92m The Nanny Diaries: A Novel\u001b[00m\n",
            "Rating ->\u001b[91m 7.4\u001b[00m\n",
            "--------------------------------------------------\n",
            "\u001b[92m Snow Falling on Cedars\u001b[00m\n",
            "Rating ->\u001b[91m 7.8\u001b[00m\n",
            "--------------------------------------------------\n",
            "\u001b[92m The Alienist\u001b[00m\n",
            "Rating ->\u001b[91m 7.7\u001b[00m\n",
            "--------------------------------------------------\n",
            "\u001b[92m Ender's Game (Ender Wiggins Saga (Paperback))\u001b[00m\n",
            "Rating ->\u001b[91m 8.9\u001b[00m\n",
            "--------------------------------------------------\n",
            "\u001b[92m The Da Vinci Code\u001b[00m\n",
            "Rating ->\u001b[91m 8.4\u001b[00m\n",
            "--------------------------------------------------\n",
            "\u001b[92m Sphere\u001b[00m\n",
            "Rating ->\u001b[91m 7.4\u001b[00m\n",
            "--------------------------------------------------\n",
            "\u001b[92m She's Come Undone (Oprah's Book Club (Paperback))\u001b[00m\n",
            "Rating ->\u001b[91m 7.5\u001b[00m\n",
            "--------------------------------------------------\n",
            "\u001b[92m ANGELA'S ASHES\u001b[00m\n",
            "Rating ->\u001b[91m 8.4\u001b[00m\n",
            "--------------------------------------------------\n",
            "\u001b[92m The Witching Hour (Lives of the Mayfair Witches)\u001b[00m\n",
            "Rating ->\u001b[91m 8.0\u001b[00m\n",
            "--------------------------------------------------\n",
            "\u001b[92m The Fellowship of the Ring (The Lord of the Rings, Part 1)\u001b[00m\n",
            "Rating ->\u001b[91m 8.9\u001b[00m\n",
            "--------------------------------------------------\n",
            "\u001b[92m The Divine Secrets of the Ya-Ya Sisterhood: A Novel\u001b[00m\n",
            "Rating ->\u001b[91m 7.8\u001b[00m\n",
            "--------------------------------------------------\n",
            "\u001b[92m Fried Green Tomatoes at the Whistle Stop Cafe\u001b[00m\n",
            "Rating ->\u001b[91m 8.5\u001b[00m\n",
            "--------------------------------------------------\n",
            "\u001b[92m Four To Score (A Stephanie Plum Novel)\u001b[00m\n",
            "Rating ->\u001b[91m 8.1\u001b[00m\n",
            "--------------------------------------------------\n",
            "\u001b[92m Sophie's World: A Novel About the History of Philosophy\u001b[00m\n",
            "Rating ->\u001b[91m 7.8\u001b[00m\n",
            "--------------------------------------------------\n"
          ]
        }
      ]
    },
    {
      "cell_type": "code",
      "source": [
        "item_based_coll_rs(\"The Subtle Art of Not Giving a F*ck\")"
      ],
      "metadata": {
        "execution": {
          "iopub.status.busy": "2023-04-26T00:04:45.697638Z",
          "iopub.execute_input": "2023-04-26T00:04:45.697963Z",
          "iopub.status.idle": "2023-04-26T00:04:45.721024Z",
          "shell.execute_reply.started": "2023-04-26T00:04:45.697931Z",
          "shell.execute_reply": "2023-04-26T00:04:45.719606Z"
        },
        "trusted": true,
        "id": "eu2ogXBjww_v",
        "outputId": "7f791f04-a304-4758-a454-3aa1e3bea4b8",
        "colab": {
          "base_uri": "https://localhost:8080/"
        }
      },
      "execution_count": 84,
      "outputs": [
        {
          "output_type": "stream",
          "name": "stdout",
          "text": [
            "\u001b[93m This book is not in our library, check out our most popular books:\u001b[00m\n",
            "\n",
            "\u001b[92m Harry Potter and the Prisoner of Azkaban (Book 3)\u001b[00m\n",
            "Rating->\u001b[91m 9.0\u001b[00m\n",
            "--------------------------------------------------\n",
            "\u001b[92m Harry Potter and the Sorcerer's Stone (Harry Potter (Paperback))\u001b[00m\n",
            "Rating->\u001b[91m 8.9\u001b[00m\n",
            "--------------------------------------------------\n",
            "\u001b[92m Harry Potter and the Chamber of Secrets (Book 2)\u001b[00m\n",
            "Rating->\u001b[91m 8.8\u001b[00m\n",
            "--------------------------------------------------\n",
            "\u001b[92m The Secret Life of Bees\u001b[00m\n",
            "Rating->\u001b[91m 8.5\u001b[00m\n",
            "--------------------------------------------------\n",
            "\u001b[92m The Da Vinci Code\u001b[00m\n",
            "Rating->\u001b[91m 8.4\u001b[00m\n",
            "--------------------------------------------------\n",
            "\u001b[92m The Lovely Bones: A Novel\u001b[00m\n",
            "Rating->\u001b[91m 8.2\u001b[00m\n",
            "--------------------------------------------------\n",
            "\u001b[92m The Red Tent (Bestselling Backlist)\u001b[00m\n",
            "Rating->\u001b[91m 8.2\u001b[00m\n",
            "--------------------------------------------------\n",
            "\u001b[92m Where the Heart Is (Oprah's Book Club (Paperback))\u001b[00m\n",
            "Rating->\u001b[91m 8.1\u001b[00m\n",
            "--------------------------------------------------\n",
            "\u001b[92m Life of Pi\u001b[00m\n",
            "Rating->\u001b[91m 8.1\u001b[00m\n",
            "--------------------------------------------------\n",
            "\u001b[92m Angels &amp; Demons\u001b[00m\n",
            "Rating->\u001b[91m 8.0\u001b[00m\n",
            "--------------------------------------------------\n"
          ]
        }
      ]
    },
    {
      "cell_type": "code",
      "source": [
        "item_based_coll_rs(\"Tuesdays with Morrie An Old Man a Young Man and Life s Greatest Lesson\")\n"
      ],
      "metadata": {
        "execution": {
          "iopub.status.busy": "2023-04-26T00:04:52.464319Z",
          "iopub.execute_input": "2023-04-26T00:04:52.464664Z",
          "iopub.status.idle": "2023-04-26T00:04:52.489498Z",
          "shell.execute_reply.started": "2023-04-26T00:04:52.464628Z",
          "shell.execute_reply": "2023-04-26T00:04:52.487805Z"
        },
        "trusted": true,
        "id": "1dMZ4xxEww_v",
        "outputId": "17df3cbf-8013-40b9-f2b4-86a2858d7ef1",
        "colab": {
          "base_uri": "https://localhost:8080/"
        }
      },
      "execution_count": 85,
      "outputs": [
        {
          "output_type": "stream",
          "name": "stdout",
          "text": [
            "\u001b[93m This book is not in our library, check out our most popular books:\u001b[00m\n",
            "\n",
            "\u001b[92m Harry Potter and the Prisoner of Azkaban (Book 3)\u001b[00m\n",
            "Rating->\u001b[91m 9.0\u001b[00m\n",
            "--------------------------------------------------\n",
            "\u001b[92m Harry Potter and the Sorcerer's Stone (Harry Potter (Paperback))\u001b[00m\n",
            "Rating->\u001b[91m 8.9\u001b[00m\n",
            "--------------------------------------------------\n",
            "\u001b[92m Harry Potter and the Chamber of Secrets (Book 2)\u001b[00m\n",
            "Rating->\u001b[91m 8.8\u001b[00m\n",
            "--------------------------------------------------\n",
            "\u001b[92m The Secret Life of Bees\u001b[00m\n",
            "Rating->\u001b[91m 8.5\u001b[00m\n",
            "--------------------------------------------------\n",
            "\u001b[92m The Da Vinci Code\u001b[00m\n",
            "Rating->\u001b[91m 8.4\u001b[00m\n",
            "--------------------------------------------------\n",
            "\u001b[92m The Lovely Bones: A Novel\u001b[00m\n",
            "Rating->\u001b[91m 8.2\u001b[00m\n",
            "--------------------------------------------------\n",
            "\u001b[92m The Red Tent (Bestselling Backlist)\u001b[00m\n",
            "Rating->\u001b[91m 8.2\u001b[00m\n",
            "--------------------------------------------------\n",
            "\u001b[92m Where the Heart Is (Oprah's Book Club (Paperback))\u001b[00m\n",
            "Rating->\u001b[91m 8.1\u001b[00m\n",
            "--------------------------------------------------\n",
            "\u001b[92m Life of Pi\u001b[00m\n",
            "Rating->\u001b[91m 8.1\u001b[00m\n",
            "--------------------------------------------------\n",
            "\u001b[92m Angels &amp; Demons\u001b[00m\n",
            "Rating->\u001b[91m 8.0\u001b[00m\n",
            "--------------------------------------------------\n"
          ]
        }
      ]
    },
    {
      "cell_type": "markdown",
      "source": [
        "\n",
        "### **4.2 User Based Collaborative Filtering**"
      ],
      "metadata": {
        "id": "mzy908T1ww_w"
      }
    },
    {
      "cell_type": "markdown",
      "source": [
        "Return the active users who have presented in the dataset more than 100 times"
      ],
      "metadata": {
        "id": "PPK8vQFIww_w"
      }
    },
    {
      "cell_type": "code",
      "source": [
        "new_df=df[df['User-ID'].map(df['User-ID'].value_counts()) > 100] "
      ],
      "metadata": {
        "execution": {
          "iopub.status.busy": "2023-04-26T00:04:58.736769Z",
          "iopub.execute_input": "2023-04-26T00:04:58.737290Z",
          "iopub.status.idle": "2023-04-26T00:04:58.784647Z",
          "shell.execute_reply.started": "2023-04-26T00:04:58.737235Z",
          "shell.execute_reply": "2023-04-26T00:04:58.783609Z"
        },
        "trusted": true,
        "id": "erPdXR4Rww_w"
      },
      "execution_count": 86,
      "outputs": []
    },
    {
      "cell_type": "code",
      "source": [
        "new_df.shape"
      ],
      "metadata": {
        "execution": {
          "iopub.status.busy": "2023-04-26T00:04:58.785867Z",
          "iopub.execute_input": "2023-04-26T00:04:58.786973Z",
          "iopub.status.idle": "2023-04-26T00:04:58.794806Z",
          "shell.execute_reply.started": "2023-04-26T00:04:58.786895Z",
          "shell.execute_reply": "2023-04-26T00:04:58.793163Z"
        },
        "trusted": true,
        "id": "Zkij1WrDww_w",
        "outputId": "85b38b0f-f14b-4f44-916a-eb625d52b323",
        "colab": {
          "base_uri": "https://localhost:8080/"
        }
      },
      "execution_count": 87,
      "outputs": [
        {
          "output_type": "execute_result",
          "data": {
            "text/plain": [
              "(102369, 10)"
            ]
          },
          "metadata": {},
          "execution_count": 87
        }
      ]
    },
    {
      "cell_type": "markdown",
      "source": [
        "Make the matrix, User as indices, Books as columns and finally ratings as values"
      ],
      "metadata": {
        "id": "lG-05Xgzww_w"
      }
    },
    {
      "cell_type": "code",
      "source": [
        "users_matrix=new_df.pivot_table(index=[\"User-ID\"],columns=[\"Book-Title\"],values=\"Book-Rating\")\n",
        "users_matrix.head()"
      ],
      "metadata": {
        "execution": {
          "iopub.status.busy": "2023-04-26T00:04:58.796582Z",
          "iopub.execute_input": "2023-04-26T00:04:58.797101Z",
          "iopub.status.idle": "2023-04-26T00:04:59.718124Z",
          "shell.execute_reply.started": "2023-04-26T00:04:58.797045Z",
          "shell.execute_reply": "2023-04-26T00:04:59.716731Z"
        },
        "trusted": true,
        "id": "Mc_rsZwQww_w",
        "outputId": "542a9cfe-7a7c-4682-db53-610c0e6cd5bd",
        "colab": {
          "base_uri": "https://localhost:8080/",
          "height": 0
        }
      },
      "execution_count": 88,
      "outputs": [
        {
          "output_type": "execute_result",
          "data": {
            "text/plain": [
              "Book-Title   A Light in the Storm: The Civil War Diary of Amelia Martin, Fenwick Island, Delaware, 1861 (Dear America)  \\\n",
              "User-ID                                                                                                                  \n",
              "2033                                                      NaN                                                            \n",
              "2110                                                      NaN                                                            \n",
              "2276                                                      NaN                                                            \n",
              "4017                                                      NaN                                                            \n",
              "4385                                                      NaN                                                            \n",
              "\n",
              "Book-Title   Dark Justice  \\\n",
              "User-ID                     \n",
              "2033                  NaN   \n",
              "2110                  NaN   \n",
              "2276                  NaN   \n",
              "4017                  NaN   \n",
              "4385                  NaN   \n",
              "\n",
              "Book-Title   Final Fantasy Anthology: Official Strategy Guide (Brady Games)  \\\n",
              "User-ID                                                                       \n",
              "2033                                                      NaN                 \n",
              "2110                                                      NaN                 \n",
              "2276                                                      NaN                 \n",
              "4017                                                      NaN                 \n",
              "4385                                                      NaN                 \n",
              "\n",
              "Book-Title   Good Wives: Image and Reality in the Lives of Women in Northern New England, 1650-1750  \\\n",
              "User-ID                                                                                               \n",
              "2033                                                      NaN                                         \n",
              "2110                                                      NaN                                         \n",
              "2276                                                      NaN                                         \n",
              "4017                                                      NaN                                         \n",
              "4385                                                      NaN                                         \n",
              "\n",
              "Book-Title   Highland Desire (Zebra Splendor Historical Romances)  \\\n",
              "User-ID                                                             \n",
              "2033                                                      NaN       \n",
              "2110                                                      NaN       \n",
              "2276                                                      NaN       \n",
              "4017                                                      NaN       \n",
              "4385                                                      NaN       \n",
              "\n",
              "Book-Title   Little Comic Shop of Horrors (Give Yourself Goosebumps, Book 17)  \\\n",
              "User-ID                                                                         \n",
              "2033                                                      NaN                   \n",
              "2110                                                      NaN                   \n",
              "2276                                                      NaN                   \n",
              "4017                                                      NaN                   \n",
              "4385                                                      NaN                   \n",
              "\n",
              "Book-Title   Murder of a Sleeping Beauty (Scumble River Mysteries (Paperback))  \\\n",
              "User-ID                                                                          \n",
              "2033                                                      NaN                    \n",
              "2110                                                      NaN                    \n",
              "2276                                                      NaN                    \n",
              "4017                                                      NaN                    \n",
              "4385                                                      NaN                    \n",
              "\n",
              "Book-Title   Nonbook Materials: The Organization of Integrated Collections  \\\n",
              "User-ID                                                                      \n",
              "2033                                                      NaN                \n",
              "2110                                                      NaN                \n",
              "2276                                                      NaN                \n",
              "4017                                                      NaN                \n",
              "4385                                                      NaN                \n",
              "\n",
              "Book-Title   Q-Space (Star Trek The Next Generation, Book 47)  \\\n",
              "User-ID                                                         \n",
              "2033                                                      NaN   \n",
              "2110                                                      NaN   \n",
              "2276                                                      NaN   \n",
              "4017                                                      NaN   \n",
              "4385                                                      NaN   \n",
              "\n",
              "Book-Title   Q-Zone (Star Trek The Next Generation, Book 48)  ...  \\\n",
              "User-ID                                                       ...   \n",
              "2033                                                     NaN  ...   \n",
              "2110                                                     NaN  ...   \n",
              "2276                                                     NaN  ...   \n",
              "4017                                                     NaN  ...   \n",
              "4385                                                     NaN  ...   \n",
              "\n",
              "Book-Title  termcap &amp; terminfo (O'Reilly Nutshell)  the Dark Light Years  \\\n",
              "User-ID                                                                        \n",
              "2033                                               NaN                   NaN   \n",
              "2110                                               NaN                   NaN   \n",
              "2276                                               NaN                   NaN   \n",
              "4017                                               NaN                   NaN   \n",
              "4385                                               NaN                   NaN   \n",
              "\n",
              "Book-Title  them (Modern Library)  together by christmas  \\\n",
              "User-ID                                                    \n",
              "2033                          NaN                    NaN   \n",
              "2110                          NaN                    NaN   \n",
              "2276                          NaN                    NaN   \n",
              "4017                          NaN                    NaN   \n",
              "4385                          NaN                    NaN   \n",
              "\n",
              "Book-Title  wet sand, raven tracks  \\\n",
              "User-ID                              \n",
              "2033                           NaN   \n",
              "2110                           NaN   \n",
              "2276                           NaN   \n",
              "4017                           NaN   \n",
              "4385                           NaN   \n",
              "\n",
              "Book-Title  whataboutrick.com: a poetic tribute to Richard A. Ricci  \\\n",
              "User-ID                                                               \n",
              "2033                                                      NaN         \n",
              "2110                                                      NaN         \n",
              "2276                                                      NaN         \n",
              "4017                                                      NaN         \n",
              "4385                                                      NaN         \n",
              "\n",
              "Book-Title  Â¡Corre, perro, corre!  Â¿Eres tu mi mamÃ¡?/Are You My Mother?  \\\n",
              "User-ID                                                                      \n",
              "2033                           NaN                                     NaN   \n",
              "2110                           NaN                                     NaN   \n",
              "2276                           NaN                                     NaN   \n",
              "4017                           NaN                                     NaN   \n",
              "4385                           NaN                                     NaN   \n",
              "\n",
              "Book-Title  Ã?ngeles fugaces (Falling Angels)  Ã?Â?ber das Fernsehen.  \n",
              "User-ID                                                                \n",
              "2033                                      NaN                     NaN  \n",
              "2110                                      NaN                     NaN  \n",
              "2276                                      NaN                     NaN  \n",
              "4017                                      NaN                     NaN  \n",
              "4385                                      NaN                     NaN  \n",
              "\n",
              "[5 rows x 61192 columns]"
            ],
            "text/html": [
              "\n",
              "  <div id=\"df-1e34597a-45d9-47f8-8726-b16fb4b07f89\">\n",
              "    <div class=\"colab-df-container\">\n",
              "      <div>\n",
              "<style scoped>\n",
              "    .dataframe tbody tr th:only-of-type {\n",
              "        vertical-align: middle;\n",
              "    }\n",
              "\n",
              "    .dataframe tbody tr th {\n",
              "        vertical-align: top;\n",
              "    }\n",
              "\n",
              "    .dataframe thead th {\n",
              "        text-align: right;\n",
              "    }\n",
              "</style>\n",
              "<table border=\"1\" class=\"dataframe\">\n",
              "  <thead>\n",
              "    <tr style=\"text-align: right;\">\n",
              "      <th>Book-Title</th>\n",
              "      <th>A Light in the Storm: The Civil War Diary of Amelia Martin, Fenwick Island, Delaware, 1861 (Dear America)</th>\n",
              "      <th>Dark Justice</th>\n",
              "      <th>Final Fantasy Anthology: Official Strategy Guide (Brady Games)</th>\n",
              "      <th>Good Wives: Image and Reality in the Lives of Women in Northern New England, 1650-1750</th>\n",
              "      <th>Highland Desire (Zebra Splendor Historical Romances)</th>\n",
              "      <th>Little Comic Shop of Horrors (Give Yourself Goosebumps, Book 17)</th>\n",
              "      <th>Murder of a Sleeping Beauty (Scumble River Mysteries (Paperback))</th>\n",
              "      <th>Nonbook Materials: The Organization of Integrated Collections</th>\n",
              "      <th>Q-Space (Star Trek The Next Generation, Book 47)</th>\n",
              "      <th>Q-Zone (Star Trek The Next Generation, Book 48)</th>\n",
              "      <th>...</th>\n",
              "      <th>termcap &amp;amp; terminfo (O'Reilly Nutshell)</th>\n",
              "      <th>the Dark Light Years</th>\n",
              "      <th>them (Modern Library)</th>\n",
              "      <th>together by christmas</th>\n",
              "      <th>wet sand, raven tracks</th>\n",
              "      <th>whataboutrick.com: a poetic tribute to Richard A. Ricci</th>\n",
              "      <th>Â¡Corre, perro, corre!</th>\n",
              "      <th>Â¿Eres tu mi mamÃ¡?/Are You My Mother?</th>\n",
              "      <th>Ã?ngeles fugaces (Falling Angels)</th>\n",
              "      <th>Ã?Â?ber das Fernsehen.</th>\n",
              "    </tr>\n",
              "    <tr>\n",
              "      <th>User-ID</th>\n",
              "      <th></th>\n",
              "      <th></th>\n",
              "      <th></th>\n",
              "      <th></th>\n",
              "      <th></th>\n",
              "      <th></th>\n",
              "      <th></th>\n",
              "      <th></th>\n",
              "      <th></th>\n",
              "      <th></th>\n",
              "      <th></th>\n",
              "      <th></th>\n",
              "      <th></th>\n",
              "      <th></th>\n",
              "      <th></th>\n",
              "      <th></th>\n",
              "      <th></th>\n",
              "      <th></th>\n",
              "      <th></th>\n",
              "      <th></th>\n",
              "      <th></th>\n",
              "    </tr>\n",
              "  </thead>\n",
              "  <tbody>\n",
              "    <tr>\n",
              "      <th>2033</th>\n",
              "      <td>NaN</td>\n",
              "      <td>NaN</td>\n",
              "      <td>NaN</td>\n",
              "      <td>NaN</td>\n",
              "      <td>NaN</td>\n",
              "      <td>NaN</td>\n",
              "      <td>NaN</td>\n",
              "      <td>NaN</td>\n",
              "      <td>NaN</td>\n",
              "      <td>NaN</td>\n",
              "      <td>...</td>\n",
              "      <td>NaN</td>\n",
              "      <td>NaN</td>\n",
              "      <td>NaN</td>\n",
              "      <td>NaN</td>\n",
              "      <td>NaN</td>\n",
              "      <td>NaN</td>\n",
              "      <td>NaN</td>\n",
              "      <td>NaN</td>\n",
              "      <td>NaN</td>\n",
              "      <td>NaN</td>\n",
              "    </tr>\n",
              "    <tr>\n",
              "      <th>2110</th>\n",
              "      <td>NaN</td>\n",
              "      <td>NaN</td>\n",
              "      <td>NaN</td>\n",
              "      <td>NaN</td>\n",
              "      <td>NaN</td>\n",
              "      <td>NaN</td>\n",
              "      <td>NaN</td>\n",
              "      <td>NaN</td>\n",
              "      <td>NaN</td>\n",
              "      <td>NaN</td>\n",
              "      <td>...</td>\n",
              "      <td>NaN</td>\n",
              "      <td>NaN</td>\n",
              "      <td>NaN</td>\n",
              "      <td>NaN</td>\n",
              "      <td>NaN</td>\n",
              "      <td>NaN</td>\n",
              "      <td>NaN</td>\n",
              "      <td>NaN</td>\n",
              "      <td>NaN</td>\n",
              "      <td>NaN</td>\n",
              "    </tr>\n",
              "    <tr>\n",
              "      <th>2276</th>\n",
              "      <td>NaN</td>\n",
              "      <td>NaN</td>\n",
              "      <td>NaN</td>\n",
              "      <td>NaN</td>\n",
              "      <td>NaN</td>\n",
              "      <td>NaN</td>\n",
              "      <td>NaN</td>\n",
              "      <td>NaN</td>\n",
              "      <td>NaN</td>\n",
              "      <td>NaN</td>\n",
              "      <td>...</td>\n",
              "      <td>NaN</td>\n",
              "      <td>NaN</td>\n",
              "      <td>NaN</td>\n",
              "      <td>NaN</td>\n",
              "      <td>NaN</td>\n",
              "      <td>NaN</td>\n",
              "      <td>NaN</td>\n",
              "      <td>NaN</td>\n",
              "      <td>NaN</td>\n",
              "      <td>NaN</td>\n",
              "    </tr>\n",
              "    <tr>\n",
              "      <th>4017</th>\n",
              "      <td>NaN</td>\n",
              "      <td>NaN</td>\n",
              "      <td>NaN</td>\n",
              "      <td>NaN</td>\n",
              "      <td>NaN</td>\n",
              "      <td>NaN</td>\n",
              "      <td>NaN</td>\n",
              "      <td>NaN</td>\n",
              "      <td>NaN</td>\n",
              "      <td>NaN</td>\n",
              "      <td>...</td>\n",
              "      <td>NaN</td>\n",
              "      <td>NaN</td>\n",
              "      <td>NaN</td>\n",
              "      <td>NaN</td>\n",
              "      <td>NaN</td>\n",
              "      <td>NaN</td>\n",
              "      <td>NaN</td>\n",
              "      <td>NaN</td>\n",
              "      <td>NaN</td>\n",
              "      <td>NaN</td>\n",
              "    </tr>\n",
              "    <tr>\n",
              "      <th>4385</th>\n",
              "      <td>NaN</td>\n",
              "      <td>NaN</td>\n",
              "      <td>NaN</td>\n",
              "      <td>NaN</td>\n",
              "      <td>NaN</td>\n",
              "      <td>NaN</td>\n",
              "      <td>NaN</td>\n",
              "      <td>NaN</td>\n",
              "      <td>NaN</td>\n",
              "      <td>NaN</td>\n",
              "      <td>...</td>\n",
              "      <td>NaN</td>\n",
              "      <td>NaN</td>\n",
              "      <td>NaN</td>\n",
              "      <td>NaN</td>\n",
              "      <td>NaN</td>\n",
              "      <td>NaN</td>\n",
              "      <td>NaN</td>\n",
              "      <td>NaN</td>\n",
              "      <td>NaN</td>\n",
              "      <td>NaN</td>\n",
              "    </tr>\n",
              "  </tbody>\n",
              "</table>\n",
              "<p>5 rows × 61192 columns</p>\n",
              "</div>\n",
              "      <button class=\"colab-df-convert\" onclick=\"convertToInteractive('df-1e34597a-45d9-47f8-8726-b16fb4b07f89')\"\n",
              "              title=\"Convert this dataframe to an interactive table.\"\n",
              "              style=\"display:none;\">\n",
              "        \n",
              "  <svg xmlns=\"http://www.w3.org/2000/svg\" height=\"24px\"viewBox=\"0 0 24 24\"\n",
              "       width=\"24px\">\n",
              "    <path d=\"M0 0h24v24H0V0z\" fill=\"none\"/>\n",
              "    <path d=\"M18.56 5.44l.94 2.06.94-2.06 2.06-.94-2.06-.94-.94-2.06-.94 2.06-2.06.94zm-11 1L8.5 8.5l.94-2.06 2.06-.94-2.06-.94L8.5 2.5l-.94 2.06-2.06.94zm10 10l.94 2.06.94-2.06 2.06-.94-2.06-.94-.94-2.06-.94 2.06-2.06.94z\"/><path d=\"M17.41 7.96l-1.37-1.37c-.4-.4-.92-.59-1.43-.59-.52 0-1.04.2-1.43.59L10.3 9.45l-7.72 7.72c-.78.78-.78 2.05 0 2.83L4 21.41c.39.39.9.59 1.41.59.51 0 1.02-.2 1.41-.59l7.78-7.78 2.81-2.81c.8-.78.8-2.07 0-2.86zM5.41 20L4 18.59l7.72-7.72 1.47 1.35L5.41 20z\"/>\n",
              "  </svg>\n",
              "      </button>\n",
              "      \n",
              "  <style>\n",
              "    .colab-df-container {\n",
              "      display:flex;\n",
              "      flex-wrap:wrap;\n",
              "      gap: 12px;\n",
              "    }\n",
              "\n",
              "    .colab-df-convert {\n",
              "      background-color: #E8F0FE;\n",
              "      border: none;\n",
              "      border-radius: 50%;\n",
              "      cursor: pointer;\n",
              "      display: none;\n",
              "      fill: #1967D2;\n",
              "      height: 32px;\n",
              "      padding: 0 0 0 0;\n",
              "      width: 32px;\n",
              "    }\n",
              "\n",
              "    .colab-df-convert:hover {\n",
              "      background-color: #E2EBFA;\n",
              "      box-shadow: 0px 1px 2px rgba(60, 64, 67, 0.3), 0px 1px 3px 1px rgba(60, 64, 67, 0.15);\n",
              "      fill: #174EA6;\n",
              "    }\n",
              "\n",
              "    [theme=dark] .colab-df-convert {\n",
              "      background-color: #3B4455;\n",
              "      fill: #D2E3FC;\n",
              "    }\n",
              "\n",
              "    [theme=dark] .colab-df-convert:hover {\n",
              "      background-color: #434B5C;\n",
              "      box-shadow: 0px 1px 3px 1px rgba(0, 0, 0, 0.15);\n",
              "      filter: drop-shadow(0px 1px 2px rgba(0, 0, 0, 0.3));\n",
              "      fill: #FFFFFF;\n",
              "    }\n",
              "  </style>\n",
              "\n",
              "      <script>\n",
              "        const buttonEl =\n",
              "          document.querySelector('#df-1e34597a-45d9-47f8-8726-b16fb4b07f89 button.colab-df-convert');\n",
              "        buttonEl.style.display =\n",
              "          google.colab.kernel.accessAllowed ? 'block' : 'none';\n",
              "\n",
              "        async function convertToInteractive(key) {\n",
              "          const element = document.querySelector('#df-1e34597a-45d9-47f8-8726-b16fb4b07f89');\n",
              "          const dataTable =\n",
              "            await google.colab.kernel.invokeFunction('convertToInteractive',\n",
              "                                                     [key], {});\n",
              "          if (!dataTable) return;\n",
              "\n",
              "          const docLinkHtml = 'Like what you see? Visit the ' +\n",
              "            '<a target=\"_blank\" href=https://colab.research.google.com/notebooks/data_table.ipynb>data table notebook</a>'\n",
              "            + ' to learn more about interactive tables.';\n",
              "          element.innerHTML = '';\n",
              "          dataTable['output_type'] = 'display_data';\n",
              "          await google.colab.output.renderOutput(dataTable, element);\n",
              "          const docLink = document.createElement('div');\n",
              "          docLink.innerHTML = docLinkHtml;\n",
              "          element.appendChild(docLink);\n",
              "        }\n",
              "      </script>\n",
              "    </div>\n",
              "  </div>\n",
              "  "
            ]
          },
          "metadata": {},
          "execution_count": 88
        }
      ]
    },
    {
      "cell_type": "markdown",
      "source": [
        "Return user's favorite books"
      ],
      "metadata": {
        "id": "ExyhfGrYww_x"
      }
    },
    {
      "cell_type": "code",
      "source": [
        "user_id = 2033 # we assume we want to recommend for that user\n",
        "users_fav=new_df[new_df[\"User-ID\"]==user_id].sort_values([\"Book-Rating\"],ascending=False)[0:5]\n",
        "users_fav.head()"
      ],
      "metadata": {
        "execution": {
          "iopub.status.busy": "2023-04-26T00:04:59.719874Z",
          "iopub.execute_input": "2023-04-26T00:04:59.720254Z",
          "iopub.status.idle": "2023-04-26T00:04:59.739716Z",
          "shell.execute_reply.started": "2023-04-26T00:04:59.720219Z",
          "shell.execute_reply": "2023-04-26T00:04:59.738395Z"
        },
        "trusted": true,
        "id": "C4XZ3JRFww_x",
        "outputId": "ad087f0a-da85-459f-b87d-8a83556e3e35",
        "colab": {
          "base_uri": "https://localhost:8080/",
          "height": 0
        }
      },
      "execution_count": 89,
      "outputs": [
        {
          "output_type": "execute_result",
          "data": {
            "text/plain": [
              "              ISBN                                         Book-Title  \\\n",
              "66420   0142000663  The Grapes of Wrath: John Steinbeck Centennial...   \n",
              "345591  0451458990                                  Shadows and Light   \n",
              "345438  0812523679                                     Monkey Sonatas   \n",
              "212216  0345340426               The Hobbit and The Lord of the Rings   \n",
              "345576  0451458028                                 The Invisible Ring   \n",
              "\n",
              "             Book-Author  Year-Of-Publication       Publisher  \\\n",
              "66420     John Steinbeck                 2002   Penguin Books   \n",
              "345591       Anne Bishop                 2002             Roc   \n",
              "345438  Orson Scott Card                 1993  Tor Books (Mm)   \n",
              "212216    J.R.R. TOLKIEN                 1986         Del Rey   \n",
              "345576       Anne Bishop                 2000             Roc   \n",
              "\n",
              "                                              Image-URL-S  \\\n",
              "66420   http://images.amazon.com/images/P/0142000663.0...   \n",
              "345591  http://images.amazon.com/images/P/0451458990.0...   \n",
              "345438  http://images.amazon.com/images/P/0812523679.0...   \n",
              "212216  http://images.amazon.com/images/P/0345340426.0...   \n",
              "345576  http://images.amazon.com/images/P/0451458028.0...   \n",
              "\n",
              "                                              Image-URL-M  \\\n",
              "66420   http://images.amazon.com/images/P/0142000663.0...   \n",
              "345591  http://images.amazon.com/images/P/0451458990.0...   \n",
              "345438  http://images.amazon.com/images/P/0812523679.0...   \n",
              "212216  http://images.amazon.com/images/P/0345340426.0...   \n",
              "345576  http://images.amazon.com/images/P/0451458028.0...   \n",
              "\n",
              "                                              Image-URL-L  User-ID  \\\n",
              "66420   http://images.amazon.com/images/P/0142000663.0...     2033   \n",
              "345591  http://images.amazon.com/images/P/0451458990.0...     2033   \n",
              "345438  http://images.amazon.com/images/P/0812523679.0...     2033   \n",
              "212216  http://images.amazon.com/images/P/0345340426.0...     2033   \n",
              "345576  http://images.amazon.com/images/P/0451458028.0...     2033   \n",
              "\n",
              "        Book-Rating  \n",
              "66420            10  \n",
              "345591           10  \n",
              "345438           10  \n",
              "212216           10  \n",
              "345576           10  "
            ],
            "text/html": [
              "\n",
              "  <div id=\"df-4a23e5b5-5fe6-49dc-b342-a998b969ab6d\">\n",
              "    <div class=\"colab-df-container\">\n",
              "      <div>\n",
              "<style scoped>\n",
              "    .dataframe tbody tr th:only-of-type {\n",
              "        vertical-align: middle;\n",
              "    }\n",
              "\n",
              "    .dataframe tbody tr th {\n",
              "        vertical-align: top;\n",
              "    }\n",
              "\n",
              "    .dataframe thead th {\n",
              "        text-align: right;\n",
              "    }\n",
              "</style>\n",
              "<table border=\"1\" class=\"dataframe\">\n",
              "  <thead>\n",
              "    <tr style=\"text-align: right;\">\n",
              "      <th></th>\n",
              "      <th>ISBN</th>\n",
              "      <th>Book-Title</th>\n",
              "      <th>Book-Author</th>\n",
              "      <th>Year-Of-Publication</th>\n",
              "      <th>Publisher</th>\n",
              "      <th>Image-URL-S</th>\n",
              "      <th>Image-URL-M</th>\n",
              "      <th>Image-URL-L</th>\n",
              "      <th>User-ID</th>\n",
              "      <th>Book-Rating</th>\n",
              "    </tr>\n",
              "  </thead>\n",
              "  <tbody>\n",
              "    <tr>\n",
              "      <th>66420</th>\n",
              "      <td>0142000663</td>\n",
              "      <td>The Grapes of Wrath: John Steinbeck Centennial...</td>\n",
              "      <td>John Steinbeck</td>\n",
              "      <td>2002</td>\n",
              "      <td>Penguin Books</td>\n",
              "      <td>http://images.amazon.com/images/P/0142000663.0...</td>\n",
              "      <td>http://images.amazon.com/images/P/0142000663.0...</td>\n",
              "      <td>http://images.amazon.com/images/P/0142000663.0...</td>\n",
              "      <td>2033</td>\n",
              "      <td>10</td>\n",
              "    </tr>\n",
              "    <tr>\n",
              "      <th>345591</th>\n",
              "      <td>0451458990</td>\n",
              "      <td>Shadows and Light</td>\n",
              "      <td>Anne Bishop</td>\n",
              "      <td>2002</td>\n",
              "      <td>Roc</td>\n",
              "      <td>http://images.amazon.com/images/P/0451458990.0...</td>\n",
              "      <td>http://images.amazon.com/images/P/0451458990.0...</td>\n",
              "      <td>http://images.amazon.com/images/P/0451458990.0...</td>\n",
              "      <td>2033</td>\n",
              "      <td>10</td>\n",
              "    </tr>\n",
              "    <tr>\n",
              "      <th>345438</th>\n",
              "      <td>0812523679</td>\n",
              "      <td>Monkey Sonatas</td>\n",
              "      <td>Orson Scott Card</td>\n",
              "      <td>1993</td>\n",
              "      <td>Tor Books (Mm)</td>\n",
              "      <td>http://images.amazon.com/images/P/0812523679.0...</td>\n",
              "      <td>http://images.amazon.com/images/P/0812523679.0...</td>\n",
              "      <td>http://images.amazon.com/images/P/0812523679.0...</td>\n",
              "      <td>2033</td>\n",
              "      <td>10</td>\n",
              "    </tr>\n",
              "    <tr>\n",
              "      <th>212216</th>\n",
              "      <td>0345340426</td>\n",
              "      <td>The Hobbit and The Lord of the Rings</td>\n",
              "      <td>J.R.R. TOLKIEN</td>\n",
              "      <td>1986</td>\n",
              "      <td>Del Rey</td>\n",
              "      <td>http://images.amazon.com/images/P/0345340426.0...</td>\n",
              "      <td>http://images.amazon.com/images/P/0345340426.0...</td>\n",
              "      <td>http://images.amazon.com/images/P/0345340426.0...</td>\n",
              "      <td>2033</td>\n",
              "      <td>10</td>\n",
              "    </tr>\n",
              "    <tr>\n",
              "      <th>345576</th>\n",
              "      <td>0451458028</td>\n",
              "      <td>The Invisible Ring</td>\n",
              "      <td>Anne Bishop</td>\n",
              "      <td>2000</td>\n",
              "      <td>Roc</td>\n",
              "      <td>http://images.amazon.com/images/P/0451458028.0...</td>\n",
              "      <td>http://images.amazon.com/images/P/0451458028.0...</td>\n",
              "      <td>http://images.amazon.com/images/P/0451458028.0...</td>\n",
              "      <td>2033</td>\n",
              "      <td>10</td>\n",
              "    </tr>\n",
              "  </tbody>\n",
              "</table>\n",
              "</div>\n",
              "      <button class=\"colab-df-convert\" onclick=\"convertToInteractive('df-4a23e5b5-5fe6-49dc-b342-a998b969ab6d')\"\n",
              "              title=\"Convert this dataframe to an interactive table.\"\n",
              "              style=\"display:none;\">\n",
              "        \n",
              "  <svg xmlns=\"http://www.w3.org/2000/svg\" height=\"24px\"viewBox=\"0 0 24 24\"\n",
              "       width=\"24px\">\n",
              "    <path d=\"M0 0h24v24H0V0z\" fill=\"none\"/>\n",
              "    <path d=\"M18.56 5.44l.94 2.06.94-2.06 2.06-.94-2.06-.94-.94-2.06-.94 2.06-2.06.94zm-11 1L8.5 8.5l.94-2.06 2.06-.94-2.06-.94L8.5 2.5l-.94 2.06-2.06.94zm10 10l.94 2.06.94-2.06 2.06-.94-2.06-.94-.94-2.06-.94 2.06-2.06.94z\"/><path d=\"M17.41 7.96l-1.37-1.37c-.4-.4-.92-.59-1.43-.59-.52 0-1.04.2-1.43.59L10.3 9.45l-7.72 7.72c-.78.78-.78 2.05 0 2.83L4 21.41c.39.39.9.59 1.41.59.51 0 1.02-.2 1.41-.59l7.78-7.78 2.81-2.81c.8-.78.8-2.07 0-2.86zM5.41 20L4 18.59l7.72-7.72 1.47 1.35L5.41 20z\"/>\n",
              "  </svg>\n",
              "      </button>\n",
              "      \n",
              "  <style>\n",
              "    .colab-df-container {\n",
              "      display:flex;\n",
              "      flex-wrap:wrap;\n",
              "      gap: 12px;\n",
              "    }\n",
              "\n",
              "    .colab-df-convert {\n",
              "      background-color: #E8F0FE;\n",
              "      border: none;\n",
              "      border-radius: 50%;\n",
              "      cursor: pointer;\n",
              "      display: none;\n",
              "      fill: #1967D2;\n",
              "      height: 32px;\n",
              "      padding: 0 0 0 0;\n",
              "      width: 32px;\n",
              "    }\n",
              "\n",
              "    .colab-df-convert:hover {\n",
              "      background-color: #E2EBFA;\n",
              "      box-shadow: 0px 1px 2px rgba(60, 64, 67, 0.3), 0px 1px 3px 1px rgba(60, 64, 67, 0.15);\n",
              "      fill: #174EA6;\n",
              "    }\n",
              "\n",
              "    [theme=dark] .colab-df-convert {\n",
              "      background-color: #3B4455;\n",
              "      fill: #D2E3FC;\n",
              "    }\n",
              "\n",
              "    [theme=dark] .colab-df-convert:hover {\n",
              "      background-color: #434B5C;\n",
              "      box-shadow: 0px 1px 3px 1px rgba(0, 0, 0, 0.15);\n",
              "      filter: drop-shadow(0px 1px 2px rgba(0, 0, 0, 0.3));\n",
              "      fill: #FFFFFF;\n",
              "    }\n",
              "  </style>\n",
              "\n",
              "      <script>\n",
              "        const buttonEl =\n",
              "          document.querySelector('#df-4a23e5b5-5fe6-49dc-b342-a998b969ab6d button.colab-df-convert');\n",
              "        buttonEl.style.display =\n",
              "          google.colab.kernel.accessAllowed ? 'block' : 'none';\n",
              "\n",
              "        async function convertToInteractive(key) {\n",
              "          const element = document.querySelector('#df-4a23e5b5-5fe6-49dc-b342-a998b969ab6d');\n",
              "          const dataTable =\n",
              "            await google.colab.kernel.invokeFunction('convertToInteractive',\n",
              "                                                     [key], {});\n",
              "          if (!dataTable) return;\n",
              "\n",
              "          const docLinkHtml = 'Like what you see? Visit the ' +\n",
              "            '<a target=\"_blank\" href=https://colab.research.google.com/notebooks/data_table.ipynb>data table notebook</a>'\n",
              "            + ' to learn more about interactive tables.';\n",
              "          element.innerHTML = '';\n",
              "          dataTable['output_type'] = 'display_data';\n",
              "          await google.colab.output.renderOutput(dataTable, element);\n",
              "          const docLink = document.createElement('div');\n",
              "          docLink.innerHTML = docLinkHtml;\n",
              "          element.appendChild(docLink);\n",
              "        }\n",
              "      </script>\n",
              "    </div>\n",
              "  </div>\n",
              "  "
            ]
          },
          "metadata": {},
          "execution_count": 89
        }
      ]
    },
    {
      "cell_type": "code",
      "source": [
        "index=np.where(users_matrix.index==2033)[0][0]\n",
        "index"
      ],
      "metadata": {
        "execution": {
          "iopub.status.busy": "2023-04-26T00:04:59.741591Z",
          "iopub.execute_input": "2023-04-26T00:04:59.742062Z",
          "iopub.status.idle": "2023-04-26T00:04:59.750964Z",
          "shell.execute_reply.started": "2023-04-26T00:04:59.742016Z",
          "shell.execute_reply": "2023-04-26T00:04:59.749543Z"
        },
        "trusted": true,
        "id": "Nfj1pdU4ww_x",
        "outputId": "02900a6c-6345-4555-a7fa-cb086ed21b5a",
        "colab": {
          "base_uri": "https://localhost:8080/"
        }
      },
      "execution_count": 90,
      "outputs": [
        {
          "output_type": "execute_result",
          "data": {
            "text/plain": [
              "0"
            ]
          },
          "metadata": {},
          "execution_count": 90
        }
      ]
    },
    {
      "cell_type": "markdown",
      "source": [
        "Calculate the similarity between the active user and other users"
      ],
      "metadata": {
        "id": "dlvNugqPww_x"
      }
    },
    {
      "cell_type": "code",
      "source": [
        "users_matrix.fillna(0, inplace=True)"
      ],
      "metadata": {
        "execution": {
          "iopub.status.busy": "2023-04-26T00:04:59.753395Z",
          "iopub.execute_input": "2023-04-26T00:04:59.753882Z",
          "iopub.status.idle": "2023-04-26T00:04:59.814885Z",
          "shell.execute_reply.started": "2023-04-26T00:04:59.753838Z",
          "shell.execute_reply": "2023-04-26T00:04:59.813130Z"
        },
        "trusted": true,
        "id": "LmODSWhRww_x"
      },
      "execution_count": 91,
      "outputs": []
    },
    {
      "cell_type": "markdown",
      "source": [
        "Replacing nan values with zero to calculate the similarity"
      ],
      "metadata": {
        "id": "88L0Apbiww_x"
      }
    },
    {
      "cell_type": "code",
      "source": [
        "similarity=cosine_similarity(users_matrix)\n",
        "similarity[0]"
      ],
      "metadata": {
        "execution": {
          "iopub.status.busy": "2023-04-26T00:04:59.817216Z",
          "iopub.execute_input": "2023-04-26T00:04:59.817645Z",
          "iopub.status.idle": "2023-04-26T00:05:00.295889Z",
          "shell.execute_reply.started": "2023-04-26T00:04:59.817601Z",
          "shell.execute_reply": "2023-04-26T00:05:00.294060Z"
        },
        "trusted": true,
        "id": "UfiMN5UNww_y",
        "outputId": "155b392d-ddf6-4652-f362-ed63263d1e92",
        "colab": {
          "base_uri": "https://localhost:8080/"
        }
      },
      "execution_count": 92,
      "outputs": [
        {
          "output_type": "execute_result",
          "data": {
            "text/plain": [
              "array([1.        , 0.        , 0.04900176, 0.        , 0.        ,\n",
              "       0.        , 0.        , 0.03936096, 0.        , 0.        ,\n",
              "       0.00801549, 0.01072026, 0.        , 0.00836158, 0.01598899,\n",
              "       0.        , 0.05059689, 0.01450614, 0.        , 0.01363636,\n",
              "       0.01792129, 0.        , 0.00409943, 0.01468785, 0.        ,\n",
              "       0.        , 0.        , 0.00349717, 0.0060283 , 0.01120746,\n",
              "       0.00835357, 0.        , 0.01631097, 0.        , 0.02289906,\n",
              "       0.00300746, 0.01415305, 0.        , 0.        , 0.        ,\n",
              "       0.        , 0.        , 0.        , 0.01613501, 0.        ,\n",
              "       0.        , 0.02571924, 0.04847224, 0.        , 0.        ,\n",
              "       0.        , 0.00806266, 0.010087  , 0.        , 0.01805005,\n",
              "       0.        , 0.00460807, 0.        , 0.01787316, 0.        ,\n",
              "       0.0181024 , 0.00918986, 0.01099526, 0.00817227, 0.01551062,\n",
              "       0.03442246, 0.10420824, 0.        , 0.        , 0.        ,\n",
              "       0.0184237 , 0.        , 0.        , 0.01098732, 0.01060863,\n",
              "       0.        , 0.        , 0.        , 0.        , 0.        ,\n",
              "       0.        , 0.05842399, 0.        , 0.        , 0.        ,\n",
              "       0.        , 0.00945077, 0.01651298, 0.04681943, 0.        ,\n",
              "       0.        , 0.0073804 , 0.        , 0.00889937, 0.00829754,\n",
              "       0.02104141, 0.        , 0.02344456, 0.        , 0.01104811,\n",
              "       0.00707492, 0.03808137, 0.        , 0.        , 0.02278749,\n",
              "       0.0457394 , 0.0187209 , 0.        , 0.        , 0.        ,\n",
              "       0.        , 0.03821323, 0.0066124 , 0.04361698, 0.        ,\n",
              "       0.03387902, 0.        , 0.00348344, 0.03034035, 0.        ,\n",
              "       0.02686087, 0.02813623, 0.01149229, 0.01894244, 0.03320886,\n",
              "       0.        , 0.00952294, 0.        , 0.        , 0.        ,\n",
              "       0.        , 0.        , 0.00443868, 0.01133784, 0.        ,\n",
              "       0.        , 0.00462338, 0.02702746, 0.00815074, 0.01948839,\n",
              "       0.        , 0.        , 0.01461983, 0.        , 0.        ,\n",
              "       0.01158635, 0.        , 0.        , 0.01011912, 0.01123166,\n",
              "       0.        , 0.        , 0.        , 0.        , 0.00515803,\n",
              "       0.00700133, 0.        , 0.02123565, 0.02543935, 0.00432729,\n",
              "       0.0042019 , 0.02130153, 0.        , 0.02876939, 0.01998068,\n",
              "       0.        , 0.01934168, 0.01945937, 0.00805821, 0.05562195,\n",
              "       0.01463311, 0.00699447, 0.        , 0.0117873 , 0.        ,\n",
              "       0.        , 0.        , 0.03989858, 0.01907689, 0.02408751,\n",
              "       0.00499822, 0.00349952, 0.        , 0.        , 0.00917369,\n",
              "       0.        , 0.00846538, 0.        , 0.        , 0.        ,\n",
              "       0.        , 0.        , 0.        , 0.        , 0.00463107,\n",
              "       0.04712475, 0.00608071, 0.        , 0.        , 0.        ,\n",
              "       0.00547765, 0.01681722, 0.00985234, 0.        , 0.        ,\n",
              "       0.0087744 , 0.02447102, 0.00423991, 0.03480309, 0.        ,\n",
              "       0.        , 0.        , 0.        , 0.01054368, 0.00892458,\n",
              "       0.        , 0.04093646, 0.        , 0.        , 0.01376578,\n",
              "       0.        , 0.        , 0.        , 0.01524625, 0.00735911,\n",
              "       0.        , 0.        , 0.00939343, 0.01024073, 0.02758725,\n",
              "       0.        , 0.0244639 , 0.00226664, 0.0069655 , 0.        ,\n",
              "       0.        , 0.        , 0.        , 0.        , 0.00649926,\n",
              "       0.02049086, 0.02443147, 0.01188871, 0.        , 0.        ,\n",
              "       0.01650335, 0.        , 0.        , 0.        , 0.03736887,\n",
              "       0.        , 0.        , 0.02243568, 0.        , 0.        ,\n",
              "       0.        , 0.01069088, 0.        , 0.        , 0.        ,\n",
              "       0.        , 0.        , 0.        , 0.02724072, 0.03943525,\n",
              "       0.00858353, 0.01040781, 0.        , 0.02183002, 0.        ,\n",
              "       0.03204598, 0.05735981, 0.01536852, 0.        , 0.        ,\n",
              "       0.        , 0.        , 0.00566345, 0.01780184, 0.        ,\n",
              "       0.        , 0.02647059, 0.00475626, 0.        , 0.        ,\n",
              "       0.05653208, 0.01035779, 0.00903005, 0.03469045, 0.00399796,\n",
              "       0.        , 0.        , 0.        , 0.        , 0.01007715,\n",
              "       0.04315287, 0.01189817, 0.00985332, 0.        , 0.0111054 ,\n",
              "       0.        , 0.        , 0.        , 0.0066378 , 0.        ,\n",
              "       0.01082385, 0.        , 0.        , 0.        , 0.        ,\n",
              "       0.        , 0.        , 0.        , 0.        , 0.03006114,\n",
              "       0.        , 0.        , 0.02246234, 0.01793325, 0.00502335,\n",
              "       0.03551829, 0.        , 0.        , 0.00916395, 0.02517626,\n",
              "       0.        , 0.00955659, 0.04493111, 0.        , 0.01255662,\n",
              "       0.00282316, 0.00904729, 0.01275535, 0.        , 0.        ,\n",
              "       0.01568871, 0.00726821, 0.00941327, 0.        , 0.02083826,\n",
              "       0.016939  , 0.        , 0.        , 0.01487729, 0.        ,\n",
              "       0.01827342, 0.00485212, 0.00397095, 0.        , 0.        ,\n",
              "       0.        , 0.        , 0.        , 0.05109562, 0.        ,\n",
              "       0.00878468, 0.00560295, 0.0042558 , 0.        , 0.        ,\n",
              "       0.        , 0.0456788 , 0.00299472, 0.        , 0.01755826,\n",
              "       0.        , 0.00993161, 0.00427157, 0.0111807 , 0.00311661,\n",
              "       0.        , 0.        , 0.        , 0.00682695, 0.        ,\n",
              "       0.        , 0.        , 0.        , 0.        , 0.03332802,\n",
              "       0.00908691, 0.        , 0.00908216, 0.        , 0.        ,\n",
              "       0.00378472, 0.        , 0.        , 0.03137372, 0.00910484,\n",
              "       0.        , 0.        , 0.        , 0.01841398, 0.00485421,\n",
              "       0.        , 0.        , 0.00787502, 0.01063995, 0.0363676 ,\n",
              "       0.        , 0.        , 0.01056622, 0.        , 0.00316632,\n",
              "       0.        , 0.01632277, 0.        , 0.        , 0.01052611,\n",
              "       0.00631335, 0.07885273, 0.01098147, 0.        , 0.00746883,\n",
              "       0.00424543, 0.0057962 , 0.        , 0.        , 0.        ,\n",
              "       0.00681921, 0.018187  , 0.        , 0.04035254, 0.01175772,\n",
              "       0.00574619, 0.        , 0.        , 0.        , 0.00867931,\n",
              "       0.01500893, 0.01754829, 0.0194031 , 0.00975   , 0.00476657,\n",
              "       0.        , 0.00876   , 0.01579103, 0.        , 0.        ])"
            ]
          },
          "metadata": {},
          "execution_count": 92
        }
      ]
    },
    {
      "cell_type": "markdown",
      "source": [
        "Getting users similar to the active user"
      ],
      "metadata": {
        "id": "z1a_EuaDww_y"
      }
    },
    {
      "cell_type": "code",
      "source": [
        "similar_users = list(enumerate(similarity[index]))\n",
        "similar_users[:5]"
      ],
      "metadata": {
        "execution": {
          "iopub.status.busy": "2023-04-26T00:05:00.298328Z",
          "iopub.execute_input": "2023-04-26T00:05:00.299557Z",
          "iopub.status.idle": "2023-04-26T00:05:00.317084Z",
          "shell.execute_reply.started": "2023-04-26T00:05:00.299466Z",
          "shell.execute_reply": "2023-04-26T00:05:00.314821Z"
        },
        "trusted": true,
        "id": "O3b4mhvaww_y",
        "outputId": "8574b0f0-aa18-458f-ed04-414fe5733eb7",
        "colab": {
          "base_uri": "https://localhost:8080/"
        }
      },
      "execution_count": 93,
      "outputs": [
        {
          "output_type": "execute_result",
          "data": {
            "text/plain": [
              "[(0, 0.9999999999999988),\n",
              " (1, 0.0),\n",
              " (2, 0.049001757023845995),\n",
              " (3, 0.0),\n",
              " (4, 0.0)]"
            ]
          },
          "metadata": {},
          "execution_count": 93
        }
      ]
    },
    {
      "cell_type": "markdown",
      "source": [
        "Users with high similarity will come first so we can recommend their interest to the active user"
      ],
      "metadata": {
        "id": "fZ9BIqEhww_y"
      }
    },
    {
      "cell_type": "code",
      "source": [
        "similar_users = sorted(similar_users,key = lambda x:x[1],reverse=True)[1:6]\n",
        "similar_users"
      ],
      "metadata": {
        "execution": {
          "iopub.status.busy": "2023-04-26T00:05:00.320346Z",
          "iopub.execute_input": "2023-04-26T00:05:00.321788Z",
          "iopub.status.idle": "2023-04-26T00:05:00.335007Z",
          "shell.execute_reply.started": "2023-04-26T00:05:00.321711Z",
          "shell.execute_reply": "2023-04-26T00:05:00.333645Z"
        },
        "trusted": true,
        "id": "v8BHhfkzww_y",
        "outputId": "6a2f6e8e-101a-416c-ebfd-b800e0320dea",
        "colab": {
          "base_uri": "https://localhost:8080/"
        }
      },
      "execution_count": 94,
      "outputs": [
        {
          "output_type": "execute_result",
          "data": {
            "text/plain": [
              "[(66, 0.10420823876635536),\n",
              " (411, 0.0788527316457873),\n",
              " (81, 0.05842398791127992),\n",
              " (271, 0.057359808221223066),\n",
              " (285, 0.05653208277085142)]"
            ]
          },
          "metadata": {},
          "execution_count": 94
        }
      ]
    },
    {
      "cell_type": "markdown",
      "source": [
        "Return the user Id for the similair users"
      ],
      "metadata": {
        "id": "hhjFpBwqww_y"
      }
    },
    {
      "cell_type": "code",
      "source": [
        " user_rec=[]\n",
        "    \n",
        "for i in similar_users:\n",
        "        data=df[df[\"User-ID\"]==users_matrix.index[i[0]]]\n",
        "        user_rec.extend(list(data.drop_duplicates(\"User-ID\")[\"User-ID\"].values))\n",
        "\n",
        "user_rec"
      ],
      "metadata": {
        "execution": {
          "iopub.status.busy": "2023-04-26T00:05:00.337299Z",
          "iopub.execute_input": "2023-04-26T00:05:00.338638Z",
          "iopub.status.idle": "2023-04-26T00:05:00.382274Z",
          "shell.execute_reply.started": "2023-04-26T00:05:00.338327Z",
          "shell.execute_reply": "2023-04-26T00:05:00.380889Z"
        },
        "trusted": true,
        "id": "kcdA0qnwww_y",
        "outputId": "982f402c-22ec-4cc0-bdfd-723812dbe7b2",
        "colab": {
          "base_uri": "https://localhost:8080/"
        }
      },
      "execution_count": 95,
      "outputs": [
        {
          "output_type": "execute_result",
          "data": {
            "text/plain": [
              "[38281, 257204, 52350, 170634, 179978]"
            ]
          },
          "metadata": {},
          "execution_count": 95
        }
      ]
    },
    {
      "cell_type": "code",
      "source": [
        "x=new_df[new_df[\"User-ID\"]==user_id]\n",
        "recommend_books=[]\n",
        "user=list(user_rec)\n",
        "for i in user:\n",
        "    y=new_df[(new_df[\"User-ID\"]==i)]\n",
        "    sim_books=y.loc[~y[\"Book-Title\"].isin(x[\"Book-Title\"]),:]\n",
        "    sim_books=sim_books.sort_values([\"Book-Rating\"],ascending=False)[0:5]\n",
        "    recommend_books.extend(sim_books[\"Book-Title\"].values)\n",
        "    \n",
        "recommend_books"
      ],
      "metadata": {
        "execution": {
          "iopub.status.busy": "2023-04-26T00:05:00.384668Z",
          "iopub.execute_input": "2023-04-26T00:05:00.385661Z",
          "iopub.status.idle": "2023-04-26T00:05:00.416385Z",
          "shell.execute_reply.started": "2023-04-26T00:05:00.385594Z",
          "shell.execute_reply": "2023-04-26T00:05:00.414966Z"
        },
        "trusted": true,
        "id": "0rU7Zhusww_z",
        "outputId": "00e78101-725b-4005-eb7c-bff406e35eaf",
        "colab": {
          "base_uri": "https://localhost:8080/"
        }
      },
      "execution_count": 96,
      "outputs": [
        {
          "output_type": "execute_result",
          "data": {
            "text/plain": [
              "['The Stories of Hans Christian Andersen: A New Translation from the Danish',\n",
              " 'Chillida: 1948-1998',\n",
              " 'Middlesex: A Novel',\n",
              " 'Greek Grammar',\n",
              " 'Maps in a Mirror (Maps in a Mirror)',\n",
              " 'Night Mare (Xanth Novels (Paperback))',\n",
              " 'The Quest for Saint Camber (Quest for Saint Camber)',\n",
              " 'Fifth Quarter (Daw Book Collectors)',\n",
              " 'No Quarter (Daw Book Collectors)',\n",
              " 'The White Gryphon',\n",
              " 'Krazy Kat',\n",
              " 'Tintin in Tibet (The Adventures of Tintin)',\n",
              " '300',\n",
              " 'Sin City: Booze, Broads, &amp; Bullets',\n",
              " 'Yukon Ho',\n",
              " 'The Smiling Pets Recipe Book: 101 Easy Make Treats..Five Minutes or Less Prep Time',\n",
              " 'Merriam-Webster Dictionary',\n",
              " 'The Art Of Rubber Stamping',\n",
              " 'The Last Goodie: A Novel',\n",
              " 'The Continuing Mission (Star Trek: The Next Generation)',\n",
              " 'The Tao of Pooh',\n",
              " 'The Pooh Book of Quotations: In Which Will Be Found Some Useful Information and Sustaining Thoughts by Winnie-The-Pooh and His Friends',\n",
              " 'The Mitten: A Ukrainian Folktale',\n",
              " 'Junior Girl Scout Badgebook',\n",
              " 'The Joy of Fatherhood: The First Twelve Months']"
            ]
          },
          "metadata": {},
          "execution_count": 96
        }
      ]
    },
    {
      "cell_type": "markdown",
      "source": [
        "Putting it all together"
      ],
      "metadata": {
        "id": "pan9kV0qww_z"
      }
    },
    {
      "cell_type": "code",
      "source": [
        "new_df=df[df['User-ID'].map(df['User-ID'].value_counts()) > 100] \n",
        "users_matrix=new_df.pivot_table(index=[\"User-ID\"],columns=[\"Book-Title\"],values=\"Book-Rating\")\n",
        "users_matrix.fillna(0, inplace=True)"
      ],
      "metadata": {
        "execution": {
          "iopub.status.busy": "2023-04-26T00:05:00.418114Z",
          "iopub.execute_input": "2023-04-26T00:05:00.419287Z",
          "iopub.status.idle": "2023-04-26T00:05:01.369366Z",
          "shell.execute_reply.started": "2023-04-26T00:05:00.419227Z",
          "shell.execute_reply": "2023-04-26T00:05:01.367950Z"
        },
        "trusted": true,
        "id": "sCsypkMfww_z"
      },
      "execution_count": 97,
      "outputs": []
    },
    {
      "cell_type": "code",
      "source": [
        "def user_based_coll_rs(user_id):\n",
        "    \n",
        "    users_fav=new_df[new_df[\"User-ID\"]==user_id].sort_values([\"Book-Rating\"],ascending=False)[0:5]\n",
        "    \n",
        "    prYellow(\"Your Top Favorite books: \\n\")\n",
        "\n",
        "    for book in users_fav['Book-Title']:\n",
        "        \n",
        "        prGreen(book)\n",
        "        print(\"Rating\", end='->')\n",
        "        prRed(round(df[df['Book-Title'] == book]['Book-Rating'].mean(), 2))\n",
        "        print(\"-\"*50)\n",
        "        \n",
        "    print(\"\\n\\n\")\n",
        "    \n",
        "    index=np.where(users_matrix.index==2033)[0][0]\n",
        "    \n",
        "    similarity=cosine_similarity(users_matrix)\n",
        "    similar_users = list(enumerate(similarity[index]))\n",
        "    similar_users = sorted(similar_users,key = lambda x:x[1],reverse=True)[0:5]\n",
        "    \n",
        "    users_id=[]\n",
        "    \n",
        "    for i in similar_users:\n",
        "        \n",
        "            data=df[df[\"User-ID\"]==users_matrix.index[i[0]]]\n",
        "            users_id.extend(list(data.drop_duplicates(\"User-ID\")[\"User-ID\"].values))\n",
        "\n",
        "\n",
        "    x=new_df[new_df[\"User-ID\"]==user_id]\n",
        "    recommend_books=[]\n",
        "    user=list(users_id)\n",
        "    \n",
        "    for i in user:\n",
        "        \n",
        "        y=new_df[(new_df[\"User-ID\"]==i)]\n",
        "        sim_books=y.loc[~y[\"Book-Title\"].isin(x[\"Book-Title\"]),:]\n",
        "        sim_books=sim_books.sort_values([\"Book-Rating\"],ascending=False)[0:5]\n",
        "        recommend_books.extend(sim_books[\"Book-Title\"].values)\n",
        "    \n",
        "    \n",
        "    prYellow(\"Recommended for you: \\n\")\n",
        "        \n",
        "    for book in recommend_books:\n",
        "        prGreen(book)\n",
        "        print(\"Rating\",end='->')\n",
        "        prRed(round(df[df['Book-Title'] == book]['Book-Rating'].mean(),2))\n",
        "        print(\"-\"*50)"
      ],
      "metadata": {
        "execution": {
          "iopub.status.busy": "2023-04-26T00:05:01.370784Z",
          "iopub.execute_input": "2023-04-26T00:05:01.371140Z",
          "iopub.status.idle": "2023-04-26T00:05:01.386158Z",
          "shell.execute_reply.started": "2023-04-26T00:05:01.371105Z",
          "shell.execute_reply": "2023-04-26T00:05:01.385089Z"
        },
        "trusted": true,
        "id": "IVqyV6KLww_z"
      },
      "execution_count": 98,
      "outputs": []
    },
    {
      "cell_type": "code",
      "source": [
        "user_based_coll_rs(2033)"
      ],
      "metadata": {
        "execution": {
          "iopub.status.busy": "2023-04-26T00:05:01.387800Z",
          "iopub.execute_input": "2023-04-26T00:05:01.388891Z",
          "iopub.status.idle": "2023-04-26T00:05:02.688670Z",
          "shell.execute_reply.started": "2023-04-26T00:05:01.388839Z",
          "shell.execute_reply": "2023-04-26T00:05:02.687002Z"
        },
        "trusted": true,
        "id": "drFSMCdIww_z",
        "outputId": "7c8830de-250e-4d32-d562-fff547db7433",
        "colab": {
          "base_uri": "https://localhost:8080/"
        }
      },
      "execution_count": 99,
      "outputs": [
        {
          "output_type": "stream",
          "name": "stdout",
          "text": [
            "\u001b[93m Your Top Favorite books: \n",
            "\u001b[00m\n",
            "\u001b[92m The Grapes of Wrath: John Steinbeck Centennial Edition (1902-2002)\u001b[00m\n",
            "Rating->\u001b[91m 8.46\u001b[00m\n",
            "--------------------------------------------------\n",
            "\u001b[92m Shadows and Light\u001b[00m\n",
            "Rating->\u001b[91m 8.71\u001b[00m\n",
            "--------------------------------------------------\n",
            "\u001b[92m Monkey Sonatas\u001b[00m\n",
            "Rating->\u001b[91m 10.0\u001b[00m\n",
            "--------------------------------------------------\n",
            "\u001b[92m The Hobbit and The Lord of the Rings\u001b[00m\n",
            "Rating->\u001b[91m 8.5\u001b[00m\n",
            "--------------------------------------------------\n",
            "\u001b[92m The Invisible Ring\u001b[00m\n",
            "Rating->\u001b[91m 8.14\u001b[00m\n",
            "--------------------------------------------------\n",
            "\n",
            "\n",
            "\n",
            "\u001b[93m Recommended for you: \n",
            "\u001b[00m\n",
            "\u001b[92m The Stories of Hans Christian Andersen: A New Translation from the Danish\u001b[00m\n",
            "Rating->\u001b[91m 10.0\u001b[00m\n",
            "--------------------------------------------------\n",
            "\u001b[92m Chillida: 1948-1998\u001b[00m\n",
            "Rating->\u001b[91m 9.0\u001b[00m\n",
            "--------------------------------------------------\n",
            "\u001b[92m Middlesex: A Novel\u001b[00m\n",
            "Rating->\u001b[91m 8.22\u001b[00m\n",
            "--------------------------------------------------\n",
            "\u001b[92m Greek Grammar\u001b[00m\n",
            "Rating->\u001b[91m 9.33\u001b[00m\n",
            "--------------------------------------------------\n",
            "\u001b[92m Maps in a Mirror (Maps in a Mirror)\u001b[00m\n",
            "Rating->\u001b[91m 7.0\u001b[00m\n",
            "--------------------------------------------------\n",
            "\u001b[92m Night Mare (Xanth Novels (Paperback))\u001b[00m\n",
            "Rating->\u001b[91m 7.75\u001b[00m\n",
            "--------------------------------------------------\n",
            "\u001b[92m The Quest for Saint Camber (Quest for Saint Camber)\u001b[00m\n",
            "Rating->\u001b[91m 8.0\u001b[00m\n",
            "--------------------------------------------------\n",
            "\u001b[92m Fifth Quarter (Daw Book Collectors)\u001b[00m\n",
            "Rating->\u001b[91m 7.43\u001b[00m\n",
            "--------------------------------------------------\n",
            "\u001b[92m No Quarter (Daw Book Collectors)\u001b[00m\n",
            "Rating->\u001b[91m 7.8\u001b[00m\n",
            "--------------------------------------------------\n",
            "\u001b[92m The White Gryphon\u001b[00m\n",
            "Rating->\u001b[91m 7.67\u001b[00m\n",
            "--------------------------------------------------\n",
            "\u001b[92m Krazy Kat\u001b[00m\n",
            "Rating->\u001b[91m 10.0\u001b[00m\n",
            "--------------------------------------------------\n",
            "\u001b[92m Tintin in Tibet (The Adventures of Tintin)\u001b[00m\n",
            "Rating->\u001b[91m 9.67\u001b[00m\n",
            "--------------------------------------------------\n",
            "\u001b[92m 300\u001b[00m\n",
            "Rating->\u001b[91m 10.0\u001b[00m\n",
            "--------------------------------------------------\n",
            "\u001b[92m Sin City: Booze, Broads, &amp; Bullets\u001b[00m\n",
            "Rating->\u001b[91m 10.0\u001b[00m\n",
            "--------------------------------------------------\n",
            "\u001b[92m Yukon Ho\u001b[00m\n",
            "Rating->\u001b[91m 10.0\u001b[00m\n",
            "--------------------------------------------------\n",
            "\u001b[92m The Smiling Pets Recipe Book: 101 Easy Make Treats..Five Minutes or Less Prep Time\u001b[00m\n",
            "Rating->\u001b[91m 10.0\u001b[00m\n",
            "--------------------------------------------------\n",
            "\u001b[92m Merriam-Webster Dictionary\u001b[00m\n",
            "Rating->\u001b[91m 10.0\u001b[00m\n",
            "--------------------------------------------------\n",
            "\u001b[92m The Art Of Rubber Stamping\u001b[00m\n",
            "Rating->\u001b[91m 10.0\u001b[00m\n",
            "--------------------------------------------------\n",
            "\u001b[92m The Last Goodie: A Novel\u001b[00m\n",
            "Rating->\u001b[91m 10.0\u001b[00m\n",
            "--------------------------------------------------\n",
            "\u001b[92m The Continuing Mission (Star Trek: The Next Generation)\u001b[00m\n",
            "Rating->\u001b[91m 9.5\u001b[00m\n",
            "--------------------------------------------------\n"
          ]
        }
      ]
    },
    {
      "cell_type": "code",
      "source": [
        "user_based_coll_rs(4333)"
      ],
      "metadata": {
        "execution": {
          "iopub.status.busy": "2023-04-26T00:05:02.690653Z",
          "iopub.execute_input": "2023-04-26T00:05:02.691182Z",
          "iopub.status.idle": "2023-04-26T00:05:04.111640Z",
          "shell.execute_reply.started": "2023-04-26T00:05:02.691133Z",
          "shell.execute_reply": "2023-04-26T00:05:04.110674Z"
        },
        "trusted": true,
        "id": "alptv2-Kww_z",
        "outputId": "230f685a-4972-4332-ec18-ab1285d5ff1b",
        "colab": {
          "base_uri": "https://localhost:8080/"
        }
      },
      "execution_count": 100,
      "outputs": [
        {
          "output_type": "stream",
          "name": "stdout",
          "text": [
            "\u001b[93m Your Top Favorite books: \n",
            "\u001b[00m\n",
            "\n",
            "\n",
            "\n",
            "\u001b[93m Recommended for you: \n",
            "\u001b[00m\n",
            "\u001b[92m The Grapes of Wrath: John Steinbeck Centennial Edition (1902-2002)\u001b[00m\n",
            "Rating->\u001b[91m 8.46\u001b[00m\n",
            "--------------------------------------------------\n",
            "\u001b[92m Shadows and Light\u001b[00m\n",
            "Rating->\u001b[91m 8.71\u001b[00m\n",
            "--------------------------------------------------\n",
            "\u001b[92m Monkey Sonatas\u001b[00m\n",
            "Rating->\u001b[91m 10.0\u001b[00m\n",
            "--------------------------------------------------\n",
            "\u001b[92m The Hobbit and The Lord of the Rings\u001b[00m\n",
            "Rating->\u001b[91m 8.5\u001b[00m\n",
            "--------------------------------------------------\n",
            "\u001b[92m The Invisible Ring\u001b[00m\n",
            "Rating->\u001b[91m 8.14\u001b[00m\n",
            "--------------------------------------------------\n",
            "\u001b[92m Ender's Game (Ender Wiggins Saga (Paperback))\u001b[00m\n",
            "Rating->\u001b[91m 8.92\u001b[00m\n",
            "--------------------------------------------------\n",
            "\u001b[92m The Stories of Hans Christian Andersen: A New Translation from the Danish\u001b[00m\n",
            "Rating->\u001b[91m 10.0\u001b[00m\n",
            "--------------------------------------------------\n",
            "\u001b[92m Fahrenheit 451\u001b[00m\n",
            "Rating->\u001b[91m 8.55\u001b[00m\n",
            "--------------------------------------------------\n",
            "\u001b[92m Ender's Shadow\u001b[00m\n",
            "Rating->\u001b[91m 8.62\u001b[00m\n",
            "--------------------------------------------------\n",
            "\u001b[92m The Canterville Ghost\u001b[00m\n",
            "Rating->\u001b[91m 9.5\u001b[00m\n",
            "--------------------------------------------------\n",
            "\u001b[92m Night Mare (Xanth Novels (Paperback))\u001b[00m\n",
            "Rating->\u001b[91m 7.75\u001b[00m\n",
            "--------------------------------------------------\n",
            "\u001b[92m The Silent Tower (Windrose Chronicles, Book 1)\u001b[00m\n",
            "Rating->\u001b[91m 8.75\u001b[00m\n",
            "--------------------------------------------------\n",
            "\u001b[92m The Doubleday Roget's Thesaurus in Dictionary Form\u001b[00m\n",
            "Rating->\u001b[91m 10.0\u001b[00m\n",
            "--------------------------------------------------\n",
            "\u001b[92m Servant of the Empire\u001b[00m\n",
            "Rating->\u001b[91m 9.25\u001b[00m\n",
            "--------------------------------------------------\n",
            "\u001b[92m Out of Phaze (Apprentice Adept (Paperback))\u001b[00m\n",
            "Rating->\u001b[91m 7.8\u001b[00m\n",
            "--------------------------------------------------\n",
            "\u001b[92m It's A Magical World: A Calvin and Hobbes Collection\u001b[00m\n",
            "Rating->\u001b[91m 9.3\u001b[00m\n",
            "--------------------------------------------------\n",
            "\u001b[92m 300\u001b[00m\n",
            "Rating->\u001b[91m 10.0\u001b[00m\n",
            "--------------------------------------------------\n",
            "\u001b[92m Sin City: That Yellow Bastard (Sin City Series , No 4)\u001b[00m\n",
            "Rating->\u001b[91m 10.0\u001b[00m\n",
            "--------------------------------------------------\n",
            "\u001b[92m The Calvin &amp; Hobbes Lazy Sunday Book\u001b[00m\n",
            "Rating->\u001b[91m 8.85\u001b[00m\n",
            "--------------------------------------------------\n",
            "\u001b[92m Scientific Progress Goes 'Boink':  A Calvin and Hobbes Collection\u001b[00m\n",
            "Rating->\u001b[91m 9.12\u001b[00m\n",
            "--------------------------------------------------\n",
            "\u001b[92m The Myth of Laziness\u001b[00m\n",
            "Rating->\u001b[91m 10.0\u001b[00m\n",
            "--------------------------------------------------\n",
            "\u001b[92m Boundaries with Kids\u001b[00m\n",
            "Rating->\u001b[91m 10.0\u001b[00m\n",
            "--------------------------------------------------\n",
            "\u001b[92m Little House on the Prairie (Little House)\u001b[00m\n",
            "Rating->\u001b[91m 9.75\u001b[00m\n",
            "--------------------------------------------------\n",
            "\u001b[92m Aspca Complete Cat Care Manual\u001b[00m\n",
            "Rating->\u001b[91m 10.0\u001b[00m\n",
            "--------------------------------------------------\n",
            "\u001b[92m The Smiling Pets Recipe Book: 101 Easy Make Treats..Five Minutes or Less Prep Time\u001b[00m\n",
            "Rating->\u001b[91m 10.0\u001b[00m\n",
            "--------------------------------------------------\n"
          ]
        }
      ]
    },
    {
      "cell_type": "code",
      "source": [
        "user_based_coll_rs(31556)"
      ],
      "metadata": {
        "execution": {
          "iopub.status.busy": "2023-04-26T00:05:04.112986Z",
          "iopub.execute_input": "2023-04-26T00:05:04.113530Z",
          "iopub.status.idle": "2023-04-26T00:05:05.548712Z",
          "shell.execute_reply.started": "2023-04-26T00:05:04.113495Z",
          "shell.execute_reply": "2023-04-26T00:05:05.547108Z"
        },
        "trusted": true,
        "id": "ZBipPz4www_0",
        "outputId": "f1e78d6b-05fa-459c-f0fd-daa44a97a4af",
        "colab": {
          "base_uri": "https://localhost:8080/"
        }
      },
      "execution_count": 101,
      "outputs": [
        {
          "output_type": "stream",
          "name": "stdout",
          "text": [
            "\u001b[93m Your Top Favorite books: \n",
            "\u001b[00m\n",
            "\u001b[92m To Kill a Mockingbird\u001b[00m\n",
            "Rating->\u001b[91m 8.98\u001b[00m\n",
            "--------------------------------------------------\n",
            "\u001b[92m My Evil Twin (An Avon Camelot Book)\u001b[00m\n",
            "Rating->\u001b[91m 10.0\u001b[00m\n",
            "--------------------------------------------------\n",
            "\u001b[92m A Wrinkle in Time\u001b[00m\n",
            "Rating->\u001b[91m 8.61\u001b[00m\n",
            "--------------------------------------------------\n",
            "\u001b[92m Endurance: Shackleton's Incredible Voyage\u001b[00m\n",
            "Rating->\u001b[91m 8.47\u001b[00m\n",
            "--------------------------------------------------\n",
            "\u001b[92m We Live in Ireland (Living Here)\u001b[00m\n",
            "Rating->\u001b[91m 10.0\u001b[00m\n",
            "--------------------------------------------------\n",
            "\n",
            "\n",
            "\n",
            "\u001b[93m Recommended for you: \n",
            "\u001b[00m\n",
            "\u001b[92m The Grapes of Wrath: John Steinbeck Centennial Edition (1902-2002)\u001b[00m\n",
            "Rating->\u001b[91m 8.46\u001b[00m\n",
            "--------------------------------------------------\n",
            "\u001b[92m Shadows and Light\u001b[00m\n",
            "Rating->\u001b[91m 8.71\u001b[00m\n",
            "--------------------------------------------------\n",
            "\u001b[92m Monkey Sonatas\u001b[00m\n",
            "Rating->\u001b[91m 10.0\u001b[00m\n",
            "--------------------------------------------------\n",
            "\u001b[92m The Hobbit and The Lord of the Rings\u001b[00m\n",
            "Rating->\u001b[91m 8.5\u001b[00m\n",
            "--------------------------------------------------\n",
            "\u001b[92m The Invisible Ring\u001b[00m\n",
            "Rating->\u001b[91m 8.14\u001b[00m\n",
            "--------------------------------------------------\n",
            "\u001b[92m Ender's Game (Ender Wiggins Saga (Paperback))\u001b[00m\n",
            "Rating->\u001b[91m 8.92\u001b[00m\n",
            "--------------------------------------------------\n",
            "\u001b[92m The Stories of Hans Christian Andersen: A New Translation from the Danish\u001b[00m\n",
            "Rating->\u001b[91m 10.0\u001b[00m\n",
            "--------------------------------------------------\n",
            "\u001b[92m Fahrenheit 451\u001b[00m\n",
            "Rating->\u001b[91m 8.55\u001b[00m\n",
            "--------------------------------------------------\n",
            "\u001b[92m Ender's Shadow\u001b[00m\n",
            "Rating->\u001b[91m 8.62\u001b[00m\n",
            "--------------------------------------------------\n",
            "\u001b[92m The Canterville Ghost\u001b[00m\n",
            "Rating->\u001b[91m 9.5\u001b[00m\n",
            "--------------------------------------------------\n",
            "\u001b[92m Night Mare (Xanth Novels (Paperback))\u001b[00m\n",
            "Rating->\u001b[91m 7.75\u001b[00m\n",
            "--------------------------------------------------\n",
            "\u001b[92m The Silent Tower (Windrose Chronicles, Book 1)\u001b[00m\n",
            "Rating->\u001b[91m 8.75\u001b[00m\n",
            "--------------------------------------------------\n",
            "\u001b[92m The Doubleday Roget's Thesaurus in Dictionary Form\u001b[00m\n",
            "Rating->\u001b[91m 10.0\u001b[00m\n",
            "--------------------------------------------------\n",
            "\u001b[92m Servant of the Empire\u001b[00m\n",
            "Rating->\u001b[91m 9.25\u001b[00m\n",
            "--------------------------------------------------\n",
            "\u001b[92m Out of Phaze (Apprentice Adept (Paperback))\u001b[00m\n",
            "Rating->\u001b[91m 7.8\u001b[00m\n",
            "--------------------------------------------------\n",
            "\u001b[92m Batman: The Dark Knight Returns (Batman (DC Comics Paperback))\u001b[00m\n",
            "Rating->\u001b[91m 8.6\u001b[00m\n",
            "--------------------------------------------------\n",
            "\u001b[92m Elektra Lives Again\u001b[00m\n",
            "Rating->\u001b[91m 10.0\u001b[00m\n",
            "--------------------------------------------------\n",
            "\u001b[92m Sin City: That Yellow Bastard (Sin City Series , No 4)\u001b[00m\n",
            "Rating->\u001b[91m 10.0\u001b[00m\n",
            "--------------------------------------------------\n",
            "\u001b[92m Scientific Progress Goes 'Boink':  A Calvin and Hobbes Collection\u001b[00m\n",
            "Rating->\u001b[91m 9.12\u001b[00m\n",
            "--------------------------------------------------\n",
            "\u001b[92m Spirou et Fantasio, tome 15 : Z comme Zorglub\u001b[00m\n",
            "Rating->\u001b[91m 8.5\u001b[00m\n",
            "--------------------------------------------------\n",
            "\u001b[92m Kids are Punny : Jokes Sent by Kids to the Rosie O'Donnell Show\u001b[00m\n",
            "Rating->\u001b[91m 8.0\u001b[00m\n",
            "--------------------------------------------------\n",
            "\u001b[92m Cookie Book\u001b[00m\n",
            "Rating->\u001b[91m 10.0\u001b[00m\n",
            "--------------------------------------------------\n",
            "\u001b[92m Aspca Complete Cat Care Manual\u001b[00m\n",
            "Rating->\u001b[91m 10.0\u001b[00m\n",
            "--------------------------------------------------\n",
            "\u001b[92m The Art Of Rubber Stamping\u001b[00m\n",
            "Rating->\u001b[91m 10.0\u001b[00m\n",
            "--------------------------------------------------\n",
            "\u001b[92m The Smiling Pets Recipe Book: 101 Easy Make Treats..Five Minutes or Less Prep Time\u001b[00m\n",
            "Rating->\u001b[91m 10.0\u001b[00m\n",
            "--------------------------------------------------\n"
          ]
        }
      ]
    },
    {
      "cell_type": "markdown",
      "source": [
        "\n",
        "# **5. Content Based Filtering Recommender System**"
      ],
      "metadata": {
        "id": "9VcM51Rqww_0"
      }
    },
    {
      "cell_type": "code",
      "source": [
        "count_rate = pd.DataFrame(df['Book-Title'].value_counts())\n",
        "rare_books=count_rate[count_rate[\"Book-Title\"]<=200].index\n",
        "common_books=df[~df[\"Book-Title\"].isin(rare_books)]\n",
        "\n",
        "common_books.head()"
      ],
      "metadata": {
        "execution": {
          "iopub.status.busy": "2023-04-26T00:05:05.550440Z",
          "iopub.execute_input": "2023-04-26T00:05:05.550962Z",
          "iopub.status.idle": "2023-04-26T00:05:05.751115Z",
          "shell.execute_reply.started": "2023-04-26T00:05:05.550886Z",
          "shell.execute_reply": "2023-04-26T00:05:05.749781Z"
        },
        "trusted": true,
        "id": "nFyC5nrcww_0",
        "outputId": "e787327c-074d-4a18-f6cc-f0c259f2f4de",
        "colab": {
          "base_uri": "https://localhost:8080/",
          "height": 0
        }
      },
      "execution_count": 102,
      "outputs": [
        {
          "output_type": "execute_result",
          "data": {
            "text/plain": [
              "           ISBN     Book-Title   Book-Author  Year-Of-Publication Publisher  \\\n",
              "104  0440234743  The Testament  John Grisham                 1999      Dell   \n",
              "108  0440234743  The Testament  John Grisham                 1999      Dell   \n",
              "109  0440234743  The Testament  John Grisham                 1999      Dell   \n",
              "110  0440234743  The Testament  John Grisham                 1999      Dell   \n",
              "113  0440234743  The Testament  John Grisham                 1999      Dell   \n",
              "\n",
              "                                           Image-URL-S  \\\n",
              "104  http://images.amazon.com/images/P/0440234743.0...   \n",
              "108  http://images.amazon.com/images/P/0440234743.0...   \n",
              "109  http://images.amazon.com/images/P/0440234743.0...   \n",
              "110  http://images.amazon.com/images/P/0440234743.0...   \n",
              "113  http://images.amazon.com/images/P/0440234743.0...   \n",
              "\n",
              "                                           Image-URL-M  \\\n",
              "104  http://images.amazon.com/images/P/0440234743.0...   \n",
              "108  http://images.amazon.com/images/P/0440234743.0...   \n",
              "109  http://images.amazon.com/images/P/0440234743.0...   \n",
              "110  http://images.amazon.com/images/P/0440234743.0...   \n",
              "113  http://images.amazon.com/images/P/0440234743.0...   \n",
              "\n",
              "                                           Image-URL-L  User-ID  Book-Rating  \n",
              "104  http://images.amazon.com/images/P/0440234743.0...     3329            8  \n",
              "108  http://images.amazon.com/images/P/0440234743.0...     7346            9  \n",
              "109  http://images.amazon.com/images/P/0440234743.0...     7352            8  \n",
              "110  http://images.amazon.com/images/P/0440234743.0...     9419            5  \n",
              "113  http://images.amazon.com/images/P/0440234743.0...    11224            6  "
            ],
            "text/html": [
              "\n",
              "  <div id=\"df-e5cce8ef-355f-4a90-9bc4-e831dcce008d\">\n",
              "    <div class=\"colab-df-container\">\n",
              "      <div>\n",
              "<style scoped>\n",
              "    .dataframe tbody tr th:only-of-type {\n",
              "        vertical-align: middle;\n",
              "    }\n",
              "\n",
              "    .dataframe tbody tr th {\n",
              "        vertical-align: top;\n",
              "    }\n",
              "\n",
              "    .dataframe thead th {\n",
              "        text-align: right;\n",
              "    }\n",
              "</style>\n",
              "<table border=\"1\" class=\"dataframe\">\n",
              "  <thead>\n",
              "    <tr style=\"text-align: right;\">\n",
              "      <th></th>\n",
              "      <th>ISBN</th>\n",
              "      <th>Book-Title</th>\n",
              "      <th>Book-Author</th>\n",
              "      <th>Year-Of-Publication</th>\n",
              "      <th>Publisher</th>\n",
              "      <th>Image-URL-S</th>\n",
              "      <th>Image-URL-M</th>\n",
              "      <th>Image-URL-L</th>\n",
              "      <th>User-ID</th>\n",
              "      <th>Book-Rating</th>\n",
              "    </tr>\n",
              "  </thead>\n",
              "  <tbody>\n",
              "    <tr>\n",
              "      <th>104</th>\n",
              "      <td>0440234743</td>\n",
              "      <td>The Testament</td>\n",
              "      <td>John Grisham</td>\n",
              "      <td>1999</td>\n",
              "      <td>Dell</td>\n",
              "      <td>http://images.amazon.com/images/P/0440234743.0...</td>\n",
              "      <td>http://images.amazon.com/images/P/0440234743.0...</td>\n",
              "      <td>http://images.amazon.com/images/P/0440234743.0...</td>\n",
              "      <td>3329</td>\n",
              "      <td>8</td>\n",
              "    </tr>\n",
              "    <tr>\n",
              "      <th>108</th>\n",
              "      <td>0440234743</td>\n",
              "      <td>The Testament</td>\n",
              "      <td>John Grisham</td>\n",
              "      <td>1999</td>\n",
              "      <td>Dell</td>\n",
              "      <td>http://images.amazon.com/images/P/0440234743.0...</td>\n",
              "      <td>http://images.amazon.com/images/P/0440234743.0...</td>\n",
              "      <td>http://images.amazon.com/images/P/0440234743.0...</td>\n",
              "      <td>7346</td>\n",
              "      <td>9</td>\n",
              "    </tr>\n",
              "    <tr>\n",
              "      <th>109</th>\n",
              "      <td>0440234743</td>\n",
              "      <td>The Testament</td>\n",
              "      <td>John Grisham</td>\n",
              "      <td>1999</td>\n",
              "      <td>Dell</td>\n",
              "      <td>http://images.amazon.com/images/P/0440234743.0...</td>\n",
              "      <td>http://images.amazon.com/images/P/0440234743.0...</td>\n",
              "      <td>http://images.amazon.com/images/P/0440234743.0...</td>\n",
              "      <td>7352</td>\n",
              "      <td>8</td>\n",
              "    </tr>\n",
              "    <tr>\n",
              "      <th>110</th>\n",
              "      <td>0440234743</td>\n",
              "      <td>The Testament</td>\n",
              "      <td>John Grisham</td>\n",
              "      <td>1999</td>\n",
              "      <td>Dell</td>\n",
              "      <td>http://images.amazon.com/images/P/0440234743.0...</td>\n",
              "      <td>http://images.amazon.com/images/P/0440234743.0...</td>\n",
              "      <td>http://images.amazon.com/images/P/0440234743.0...</td>\n",
              "      <td>9419</td>\n",
              "      <td>5</td>\n",
              "    </tr>\n",
              "    <tr>\n",
              "      <th>113</th>\n",
              "      <td>0440234743</td>\n",
              "      <td>The Testament</td>\n",
              "      <td>John Grisham</td>\n",
              "      <td>1999</td>\n",
              "      <td>Dell</td>\n",
              "      <td>http://images.amazon.com/images/P/0440234743.0...</td>\n",
              "      <td>http://images.amazon.com/images/P/0440234743.0...</td>\n",
              "      <td>http://images.amazon.com/images/P/0440234743.0...</td>\n",
              "      <td>11224</td>\n",
              "      <td>6</td>\n",
              "    </tr>\n",
              "  </tbody>\n",
              "</table>\n",
              "</div>\n",
              "      <button class=\"colab-df-convert\" onclick=\"convertToInteractive('df-e5cce8ef-355f-4a90-9bc4-e831dcce008d')\"\n",
              "              title=\"Convert this dataframe to an interactive table.\"\n",
              "              style=\"display:none;\">\n",
              "        \n",
              "  <svg xmlns=\"http://www.w3.org/2000/svg\" height=\"24px\"viewBox=\"0 0 24 24\"\n",
              "       width=\"24px\">\n",
              "    <path d=\"M0 0h24v24H0V0z\" fill=\"none\"/>\n",
              "    <path d=\"M18.56 5.44l.94 2.06.94-2.06 2.06-.94-2.06-.94-.94-2.06-.94 2.06-2.06.94zm-11 1L8.5 8.5l.94-2.06 2.06-.94-2.06-.94L8.5 2.5l-.94 2.06-2.06.94zm10 10l.94 2.06.94-2.06 2.06-.94-2.06-.94-.94-2.06-.94 2.06-2.06.94z\"/><path d=\"M17.41 7.96l-1.37-1.37c-.4-.4-.92-.59-1.43-.59-.52 0-1.04.2-1.43.59L10.3 9.45l-7.72 7.72c-.78.78-.78 2.05 0 2.83L4 21.41c.39.39.9.59 1.41.59.51 0 1.02-.2 1.41-.59l7.78-7.78 2.81-2.81c.8-.78.8-2.07 0-2.86zM5.41 20L4 18.59l7.72-7.72 1.47 1.35L5.41 20z\"/>\n",
              "  </svg>\n",
              "      </button>\n",
              "      \n",
              "  <style>\n",
              "    .colab-df-container {\n",
              "      display:flex;\n",
              "      flex-wrap:wrap;\n",
              "      gap: 12px;\n",
              "    }\n",
              "\n",
              "    .colab-df-convert {\n",
              "      background-color: #E8F0FE;\n",
              "      border: none;\n",
              "      border-radius: 50%;\n",
              "      cursor: pointer;\n",
              "      display: none;\n",
              "      fill: #1967D2;\n",
              "      height: 32px;\n",
              "      padding: 0 0 0 0;\n",
              "      width: 32px;\n",
              "    }\n",
              "\n",
              "    .colab-df-convert:hover {\n",
              "      background-color: #E2EBFA;\n",
              "      box-shadow: 0px 1px 2px rgba(60, 64, 67, 0.3), 0px 1px 3px 1px rgba(60, 64, 67, 0.15);\n",
              "      fill: #174EA6;\n",
              "    }\n",
              "\n",
              "    [theme=dark] .colab-df-convert {\n",
              "      background-color: #3B4455;\n",
              "      fill: #D2E3FC;\n",
              "    }\n",
              "\n",
              "    [theme=dark] .colab-df-convert:hover {\n",
              "      background-color: #434B5C;\n",
              "      box-shadow: 0px 1px 3px 1px rgba(0, 0, 0, 0.15);\n",
              "      filter: drop-shadow(0px 1px 2px rgba(0, 0, 0, 0.3));\n",
              "      fill: #FFFFFF;\n",
              "    }\n",
              "  </style>\n",
              "\n",
              "      <script>\n",
              "        const buttonEl =\n",
              "          document.querySelector('#df-e5cce8ef-355f-4a90-9bc4-e831dcce008d button.colab-df-convert');\n",
              "        buttonEl.style.display =\n",
              "          google.colab.kernel.accessAllowed ? 'block' : 'none';\n",
              "\n",
              "        async function convertToInteractive(key) {\n",
              "          const element = document.querySelector('#df-e5cce8ef-355f-4a90-9bc4-e831dcce008d');\n",
              "          const dataTable =\n",
              "            await google.colab.kernel.invokeFunction('convertToInteractive',\n",
              "                                                     [key], {});\n",
              "          if (!dataTable) return;\n",
              "\n",
              "          const docLinkHtml = 'Like what you see? Visit the ' +\n",
              "            '<a target=\"_blank\" href=https://colab.research.google.com/notebooks/data_table.ipynb>data table notebook</a>'\n",
              "            + ' to learn more about interactive tables.';\n",
              "          element.innerHTML = '';\n",
              "          dataTable['output_type'] = 'display_data';\n",
              "          await google.colab.output.renderOutput(dataTable, element);\n",
              "          const docLink = document.createElement('div');\n",
              "          docLink.innerHTML = docLinkHtml;\n",
              "          element.appendChild(docLink);\n",
              "        }\n",
              "      </script>\n",
              "    </div>\n",
              "  </div>\n",
              "  "
            ]
          },
          "metadata": {},
          "execution_count": 102
        }
      ]
    },
    {
      "cell_type": "code",
      "source": [
        "common_books.shape"
      ],
      "metadata": {
        "execution": {
          "iopub.status.busy": "2023-04-26T00:05:05.752718Z",
          "iopub.execute_input": "2023-04-26T00:05:05.753866Z",
          "iopub.status.idle": "2023-04-26T00:05:05.761024Z",
          "shell.execute_reply.started": "2023-04-26T00:05:05.753822Z",
          "shell.execute_reply": "2023-04-26T00:05:05.759940Z"
        },
        "trusted": true,
        "id": "geox94vNww_1",
        "outputId": "17878be0-f39b-412a-a424-fe06c7b8ba3f",
        "colab": {
          "base_uri": "https://localhost:8080/"
        }
      },
      "execution_count": 103,
      "outputs": [
        {
          "output_type": "execute_result",
          "data": {
            "text/plain": [
              "(14197, 10)"
            ]
          },
          "metadata": {},
          "execution_count": 103
        }
      ]
    },
    {
      "cell_type": "code",
      "source": [
        "common_books=common_books.drop_duplicates(subset=[\"Book-Title\"])\n",
        "common_books.head()"
      ],
      "metadata": {
        "execution": {
          "iopub.status.busy": "2023-04-26T00:05:05.762919Z",
          "iopub.execute_input": "2023-04-26T00:05:05.763948Z",
          "iopub.status.idle": "2023-04-26T00:05:05.788891Z",
          "shell.execute_reply.started": "2023-04-26T00:05:05.763869Z",
          "shell.execute_reply": "2023-04-26T00:05:05.787995Z"
        },
        "trusted": true,
        "id": "JthY16mbww_1",
        "outputId": "d50eefbe-4558-42ae-bd05-c00b4a86b4ac",
        "colab": {
          "base_uri": "https://localhost:8080/",
          "height": 0
        }
      },
      "execution_count": 104,
      "outputs": [
        {
          "output_type": "execute_result",
          "data": {
            "text/plain": [
              "            ISBN             Book-Title       Book-Author  \\\n",
              "104   0440234743          The Testament      John Grisham   \n",
              "772   0971880107            Wild Animus      Rich Shapero   \n",
              "3481  0345417623               Timeline  MICHAEL CRICHTON   \n",
              "3956  0446310786  To Kill a Mockingbird        Harper Lee   \n",
              "5533  0440225701      The Street Lawyer      JOHN GRISHAM   \n",
              "\n",
              "      Year-Of-Publication                   Publisher  \\\n",
              "104                  1999                        Dell   \n",
              "772                  2004                     Too Far   \n",
              "3481                 2000            Ballantine Books   \n",
              "3956                 1988  Little Brown &amp; Company   \n",
              "5533                 1999                        Dell   \n",
              "\n",
              "                                            Image-URL-S  \\\n",
              "104   http://images.amazon.com/images/P/0440234743.0...   \n",
              "772   http://images.amazon.com/images/P/0971880107.0...   \n",
              "3481  http://images.amazon.com/images/P/0345417623.0...   \n",
              "3956  http://images.amazon.com/images/P/0446310786.0...   \n",
              "5533  http://images.amazon.com/images/P/0440225701.0...   \n",
              "\n",
              "                                            Image-URL-M  \\\n",
              "104   http://images.amazon.com/images/P/0440234743.0...   \n",
              "772   http://images.amazon.com/images/P/0971880107.0...   \n",
              "3481  http://images.amazon.com/images/P/0345417623.0...   \n",
              "3956  http://images.amazon.com/images/P/0446310786.0...   \n",
              "5533  http://images.amazon.com/images/P/0440225701.0...   \n",
              "\n",
              "                                            Image-URL-L  User-ID  Book-Rating  \n",
              "104   http://images.amazon.com/images/P/0440234743.0...     3329            8  \n",
              "772   http://images.amazon.com/images/P/0971880107.0...   277042            2  \n",
              "3481  http://images.amazon.com/images/P/0345417623.0...     1376            8  \n",
              "3956  http://images.amazon.com/images/P/0446310786.0...   276953           10  \n",
              "5533  http://images.amazon.com/images/P/0440225701.0...   277922            6  "
            ],
            "text/html": [
              "\n",
              "  <div id=\"df-e180e23c-5d04-4a69-93a6-5bda868b2198\">\n",
              "    <div class=\"colab-df-container\">\n",
              "      <div>\n",
              "<style scoped>\n",
              "    .dataframe tbody tr th:only-of-type {\n",
              "        vertical-align: middle;\n",
              "    }\n",
              "\n",
              "    .dataframe tbody tr th {\n",
              "        vertical-align: top;\n",
              "    }\n",
              "\n",
              "    .dataframe thead th {\n",
              "        text-align: right;\n",
              "    }\n",
              "</style>\n",
              "<table border=\"1\" class=\"dataframe\">\n",
              "  <thead>\n",
              "    <tr style=\"text-align: right;\">\n",
              "      <th></th>\n",
              "      <th>ISBN</th>\n",
              "      <th>Book-Title</th>\n",
              "      <th>Book-Author</th>\n",
              "      <th>Year-Of-Publication</th>\n",
              "      <th>Publisher</th>\n",
              "      <th>Image-URL-S</th>\n",
              "      <th>Image-URL-M</th>\n",
              "      <th>Image-URL-L</th>\n",
              "      <th>User-ID</th>\n",
              "      <th>Book-Rating</th>\n",
              "    </tr>\n",
              "  </thead>\n",
              "  <tbody>\n",
              "    <tr>\n",
              "      <th>104</th>\n",
              "      <td>0440234743</td>\n",
              "      <td>The Testament</td>\n",
              "      <td>John Grisham</td>\n",
              "      <td>1999</td>\n",
              "      <td>Dell</td>\n",
              "      <td>http://images.amazon.com/images/P/0440234743.0...</td>\n",
              "      <td>http://images.amazon.com/images/P/0440234743.0...</td>\n",
              "      <td>http://images.amazon.com/images/P/0440234743.0...</td>\n",
              "      <td>3329</td>\n",
              "      <td>8</td>\n",
              "    </tr>\n",
              "    <tr>\n",
              "      <th>772</th>\n",
              "      <td>0971880107</td>\n",
              "      <td>Wild Animus</td>\n",
              "      <td>Rich Shapero</td>\n",
              "      <td>2004</td>\n",
              "      <td>Too Far</td>\n",
              "      <td>http://images.amazon.com/images/P/0971880107.0...</td>\n",
              "      <td>http://images.amazon.com/images/P/0971880107.0...</td>\n",
              "      <td>http://images.amazon.com/images/P/0971880107.0...</td>\n",
              "      <td>277042</td>\n",
              "      <td>2</td>\n",
              "    </tr>\n",
              "    <tr>\n",
              "      <th>3481</th>\n",
              "      <td>0345417623</td>\n",
              "      <td>Timeline</td>\n",
              "      <td>MICHAEL CRICHTON</td>\n",
              "      <td>2000</td>\n",
              "      <td>Ballantine Books</td>\n",
              "      <td>http://images.amazon.com/images/P/0345417623.0...</td>\n",
              "      <td>http://images.amazon.com/images/P/0345417623.0...</td>\n",
              "      <td>http://images.amazon.com/images/P/0345417623.0...</td>\n",
              "      <td>1376</td>\n",
              "      <td>8</td>\n",
              "    </tr>\n",
              "    <tr>\n",
              "      <th>3956</th>\n",
              "      <td>0446310786</td>\n",
              "      <td>To Kill a Mockingbird</td>\n",
              "      <td>Harper Lee</td>\n",
              "      <td>1988</td>\n",
              "      <td>Little Brown &amp;amp; Company</td>\n",
              "      <td>http://images.amazon.com/images/P/0446310786.0...</td>\n",
              "      <td>http://images.amazon.com/images/P/0446310786.0...</td>\n",
              "      <td>http://images.amazon.com/images/P/0446310786.0...</td>\n",
              "      <td>276953</td>\n",
              "      <td>10</td>\n",
              "    </tr>\n",
              "    <tr>\n",
              "      <th>5533</th>\n",
              "      <td>0440225701</td>\n",
              "      <td>The Street Lawyer</td>\n",
              "      <td>JOHN GRISHAM</td>\n",
              "      <td>1999</td>\n",
              "      <td>Dell</td>\n",
              "      <td>http://images.amazon.com/images/P/0440225701.0...</td>\n",
              "      <td>http://images.amazon.com/images/P/0440225701.0...</td>\n",
              "      <td>http://images.amazon.com/images/P/0440225701.0...</td>\n",
              "      <td>277922</td>\n",
              "      <td>6</td>\n",
              "    </tr>\n",
              "  </tbody>\n",
              "</table>\n",
              "</div>\n",
              "      <button class=\"colab-df-convert\" onclick=\"convertToInteractive('df-e180e23c-5d04-4a69-93a6-5bda868b2198')\"\n",
              "              title=\"Convert this dataframe to an interactive table.\"\n",
              "              style=\"display:none;\">\n",
              "        \n",
              "  <svg xmlns=\"http://www.w3.org/2000/svg\" height=\"24px\"viewBox=\"0 0 24 24\"\n",
              "       width=\"24px\">\n",
              "    <path d=\"M0 0h24v24H0V0z\" fill=\"none\"/>\n",
              "    <path d=\"M18.56 5.44l.94 2.06.94-2.06 2.06-.94-2.06-.94-.94-2.06-.94 2.06-2.06.94zm-11 1L8.5 8.5l.94-2.06 2.06-.94-2.06-.94L8.5 2.5l-.94 2.06-2.06.94zm10 10l.94 2.06.94-2.06 2.06-.94-2.06-.94-.94-2.06-.94 2.06-2.06.94z\"/><path d=\"M17.41 7.96l-1.37-1.37c-.4-.4-.92-.59-1.43-.59-.52 0-1.04.2-1.43.59L10.3 9.45l-7.72 7.72c-.78.78-.78 2.05 0 2.83L4 21.41c.39.39.9.59 1.41.59.51 0 1.02-.2 1.41-.59l7.78-7.78 2.81-2.81c.8-.78.8-2.07 0-2.86zM5.41 20L4 18.59l7.72-7.72 1.47 1.35L5.41 20z\"/>\n",
              "  </svg>\n",
              "      </button>\n",
              "      \n",
              "  <style>\n",
              "    .colab-df-container {\n",
              "      display:flex;\n",
              "      flex-wrap:wrap;\n",
              "      gap: 12px;\n",
              "    }\n",
              "\n",
              "    .colab-df-convert {\n",
              "      background-color: #E8F0FE;\n",
              "      border: none;\n",
              "      border-radius: 50%;\n",
              "      cursor: pointer;\n",
              "      display: none;\n",
              "      fill: #1967D2;\n",
              "      height: 32px;\n",
              "      padding: 0 0 0 0;\n",
              "      width: 32px;\n",
              "    }\n",
              "\n",
              "    .colab-df-convert:hover {\n",
              "      background-color: #E2EBFA;\n",
              "      box-shadow: 0px 1px 2px rgba(60, 64, 67, 0.3), 0px 1px 3px 1px rgba(60, 64, 67, 0.15);\n",
              "      fill: #174EA6;\n",
              "    }\n",
              "\n",
              "    [theme=dark] .colab-df-convert {\n",
              "      background-color: #3B4455;\n",
              "      fill: #D2E3FC;\n",
              "    }\n",
              "\n",
              "    [theme=dark] .colab-df-convert:hover {\n",
              "      background-color: #434B5C;\n",
              "      box-shadow: 0px 1px 3px 1px rgba(0, 0, 0, 0.15);\n",
              "      filter: drop-shadow(0px 1px 2px rgba(0, 0, 0, 0.3));\n",
              "      fill: #FFFFFF;\n",
              "    }\n",
              "  </style>\n",
              "\n",
              "      <script>\n",
              "        const buttonEl =\n",
              "          document.querySelector('#df-e180e23c-5d04-4a69-93a6-5bda868b2198 button.colab-df-convert');\n",
              "        buttonEl.style.display =\n",
              "          google.colab.kernel.accessAllowed ? 'block' : 'none';\n",
              "\n",
              "        async function convertToInteractive(key) {\n",
              "          const element = document.querySelector('#df-e180e23c-5d04-4a69-93a6-5bda868b2198');\n",
              "          const dataTable =\n",
              "            await google.colab.kernel.invokeFunction('convertToInteractive',\n",
              "                                                     [key], {});\n",
              "          if (!dataTable) return;\n",
              "\n",
              "          const docLinkHtml = 'Like what you see? Visit the ' +\n",
              "            '<a target=\"_blank\" href=https://colab.research.google.com/notebooks/data_table.ipynb>data table notebook</a>'\n",
              "            + ' to learn more about interactive tables.';\n",
              "          element.innerHTML = '';\n",
              "          dataTable['output_type'] = 'display_data';\n",
              "          await google.colab.output.renderOutput(dataTable, element);\n",
              "          const docLink = document.createElement('div');\n",
              "          docLink.innerHTML = docLinkHtml;\n",
              "          element.appendChild(docLink);\n",
              "        }\n",
              "      </script>\n",
              "    </div>\n",
              "  </div>\n",
              "  "
            ]
          },
          "metadata": {},
          "execution_count": 104
        }
      ]
    },
    {
      "cell_type": "code",
      "source": [
        "common_books.shape"
      ],
      "metadata": {
        "execution": {
          "iopub.status.busy": "2023-04-26T00:05:05.790963Z",
          "iopub.execute_input": "2023-04-26T00:05:05.791386Z",
          "iopub.status.idle": "2023-04-26T00:05:05.800662Z",
          "shell.execute_reply.started": "2023-04-26T00:05:05.791347Z",
          "shell.execute_reply": "2023-04-26T00:05:05.799244Z"
        },
        "trusted": true,
        "id": "586Zt3_2ww_2",
        "outputId": "ba600a0e-383f-4a41-b7b7-4aa71df8b59f",
        "colab": {
          "base_uri": "https://localhost:8080/"
        }
      },
      "execution_count": 105,
      "outputs": [
        {
          "output_type": "execute_result",
          "data": {
            "text/plain": [
              "(50, 10)"
            ]
          },
          "metadata": {},
          "execution_count": 105
        }
      ]
    },
    {
      "cell_type": "code",
      "source": [
        "common_books.reset_index(inplace=True)\n",
        "common_books.head()"
      ],
      "metadata": {
        "execution": {
          "iopub.status.busy": "2023-04-26T00:05:05.803024Z",
          "iopub.execute_input": "2023-04-26T00:05:05.803502Z",
          "iopub.status.idle": "2023-04-26T00:05:05.824160Z",
          "shell.execute_reply.started": "2023-04-26T00:05:05.803451Z",
          "shell.execute_reply": "2023-04-26T00:05:05.822653Z"
        },
        "trusted": true,
        "id": "KLNnyeA0ww_2",
        "outputId": "1b306298-2466-4be2-e3ad-0487dd04ba5c",
        "colab": {
          "base_uri": "https://localhost:8080/",
          "height": 0
        }
      },
      "execution_count": 106,
      "outputs": [
        {
          "output_type": "execute_result",
          "data": {
            "text/plain": [
              "   index        ISBN             Book-Title       Book-Author  \\\n",
              "0    104  0440234743          The Testament      John Grisham   \n",
              "1    772  0971880107            Wild Animus      Rich Shapero   \n",
              "2   3481  0345417623               Timeline  MICHAEL CRICHTON   \n",
              "3   3956  0446310786  To Kill a Mockingbird        Harper Lee   \n",
              "4   5533  0440225701      The Street Lawyer      JOHN GRISHAM   \n",
              "\n",
              "   Year-Of-Publication                   Publisher  \\\n",
              "0                 1999                        Dell   \n",
              "1                 2004                     Too Far   \n",
              "2                 2000            Ballantine Books   \n",
              "3                 1988  Little Brown &amp; Company   \n",
              "4                 1999                        Dell   \n",
              "\n",
              "                                         Image-URL-S  \\\n",
              "0  http://images.amazon.com/images/P/0440234743.0...   \n",
              "1  http://images.amazon.com/images/P/0971880107.0...   \n",
              "2  http://images.amazon.com/images/P/0345417623.0...   \n",
              "3  http://images.amazon.com/images/P/0446310786.0...   \n",
              "4  http://images.amazon.com/images/P/0440225701.0...   \n",
              "\n",
              "                                         Image-URL-M  \\\n",
              "0  http://images.amazon.com/images/P/0440234743.0...   \n",
              "1  http://images.amazon.com/images/P/0971880107.0...   \n",
              "2  http://images.amazon.com/images/P/0345417623.0...   \n",
              "3  http://images.amazon.com/images/P/0446310786.0...   \n",
              "4  http://images.amazon.com/images/P/0440225701.0...   \n",
              "\n",
              "                                         Image-URL-L  User-ID  Book-Rating  \n",
              "0  http://images.amazon.com/images/P/0440234743.0...     3329            8  \n",
              "1  http://images.amazon.com/images/P/0971880107.0...   277042            2  \n",
              "2  http://images.amazon.com/images/P/0345417623.0...     1376            8  \n",
              "3  http://images.amazon.com/images/P/0446310786.0...   276953           10  \n",
              "4  http://images.amazon.com/images/P/0440225701.0...   277922            6  "
            ],
            "text/html": [
              "\n",
              "  <div id=\"df-7b49de29-7d08-41bc-b26a-8eb233c99002\">\n",
              "    <div class=\"colab-df-container\">\n",
              "      <div>\n",
              "<style scoped>\n",
              "    .dataframe tbody tr th:only-of-type {\n",
              "        vertical-align: middle;\n",
              "    }\n",
              "\n",
              "    .dataframe tbody tr th {\n",
              "        vertical-align: top;\n",
              "    }\n",
              "\n",
              "    .dataframe thead th {\n",
              "        text-align: right;\n",
              "    }\n",
              "</style>\n",
              "<table border=\"1\" class=\"dataframe\">\n",
              "  <thead>\n",
              "    <tr style=\"text-align: right;\">\n",
              "      <th></th>\n",
              "      <th>index</th>\n",
              "      <th>ISBN</th>\n",
              "      <th>Book-Title</th>\n",
              "      <th>Book-Author</th>\n",
              "      <th>Year-Of-Publication</th>\n",
              "      <th>Publisher</th>\n",
              "      <th>Image-URL-S</th>\n",
              "      <th>Image-URL-M</th>\n",
              "      <th>Image-URL-L</th>\n",
              "      <th>User-ID</th>\n",
              "      <th>Book-Rating</th>\n",
              "    </tr>\n",
              "  </thead>\n",
              "  <tbody>\n",
              "    <tr>\n",
              "      <th>0</th>\n",
              "      <td>104</td>\n",
              "      <td>0440234743</td>\n",
              "      <td>The Testament</td>\n",
              "      <td>John Grisham</td>\n",
              "      <td>1999</td>\n",
              "      <td>Dell</td>\n",
              "      <td>http://images.amazon.com/images/P/0440234743.0...</td>\n",
              "      <td>http://images.amazon.com/images/P/0440234743.0...</td>\n",
              "      <td>http://images.amazon.com/images/P/0440234743.0...</td>\n",
              "      <td>3329</td>\n",
              "      <td>8</td>\n",
              "    </tr>\n",
              "    <tr>\n",
              "      <th>1</th>\n",
              "      <td>772</td>\n",
              "      <td>0971880107</td>\n",
              "      <td>Wild Animus</td>\n",
              "      <td>Rich Shapero</td>\n",
              "      <td>2004</td>\n",
              "      <td>Too Far</td>\n",
              "      <td>http://images.amazon.com/images/P/0971880107.0...</td>\n",
              "      <td>http://images.amazon.com/images/P/0971880107.0...</td>\n",
              "      <td>http://images.amazon.com/images/P/0971880107.0...</td>\n",
              "      <td>277042</td>\n",
              "      <td>2</td>\n",
              "    </tr>\n",
              "    <tr>\n",
              "      <th>2</th>\n",
              "      <td>3481</td>\n",
              "      <td>0345417623</td>\n",
              "      <td>Timeline</td>\n",
              "      <td>MICHAEL CRICHTON</td>\n",
              "      <td>2000</td>\n",
              "      <td>Ballantine Books</td>\n",
              "      <td>http://images.amazon.com/images/P/0345417623.0...</td>\n",
              "      <td>http://images.amazon.com/images/P/0345417623.0...</td>\n",
              "      <td>http://images.amazon.com/images/P/0345417623.0...</td>\n",
              "      <td>1376</td>\n",
              "      <td>8</td>\n",
              "    </tr>\n",
              "    <tr>\n",
              "      <th>3</th>\n",
              "      <td>3956</td>\n",
              "      <td>0446310786</td>\n",
              "      <td>To Kill a Mockingbird</td>\n",
              "      <td>Harper Lee</td>\n",
              "      <td>1988</td>\n",
              "      <td>Little Brown &amp;amp; Company</td>\n",
              "      <td>http://images.amazon.com/images/P/0446310786.0...</td>\n",
              "      <td>http://images.amazon.com/images/P/0446310786.0...</td>\n",
              "      <td>http://images.amazon.com/images/P/0446310786.0...</td>\n",
              "      <td>276953</td>\n",
              "      <td>10</td>\n",
              "    </tr>\n",
              "    <tr>\n",
              "      <th>4</th>\n",
              "      <td>5533</td>\n",
              "      <td>0440225701</td>\n",
              "      <td>The Street Lawyer</td>\n",
              "      <td>JOHN GRISHAM</td>\n",
              "      <td>1999</td>\n",
              "      <td>Dell</td>\n",
              "      <td>http://images.amazon.com/images/P/0440225701.0...</td>\n",
              "      <td>http://images.amazon.com/images/P/0440225701.0...</td>\n",
              "      <td>http://images.amazon.com/images/P/0440225701.0...</td>\n",
              "      <td>277922</td>\n",
              "      <td>6</td>\n",
              "    </tr>\n",
              "  </tbody>\n",
              "</table>\n",
              "</div>\n",
              "      <button class=\"colab-df-convert\" onclick=\"convertToInteractive('df-7b49de29-7d08-41bc-b26a-8eb233c99002')\"\n",
              "              title=\"Convert this dataframe to an interactive table.\"\n",
              "              style=\"display:none;\">\n",
              "        \n",
              "  <svg xmlns=\"http://www.w3.org/2000/svg\" height=\"24px\"viewBox=\"0 0 24 24\"\n",
              "       width=\"24px\">\n",
              "    <path d=\"M0 0h24v24H0V0z\" fill=\"none\"/>\n",
              "    <path d=\"M18.56 5.44l.94 2.06.94-2.06 2.06-.94-2.06-.94-.94-2.06-.94 2.06-2.06.94zm-11 1L8.5 8.5l.94-2.06 2.06-.94-2.06-.94L8.5 2.5l-.94 2.06-2.06.94zm10 10l.94 2.06.94-2.06 2.06-.94-2.06-.94-.94-2.06-.94 2.06-2.06.94z\"/><path d=\"M17.41 7.96l-1.37-1.37c-.4-.4-.92-.59-1.43-.59-.52 0-1.04.2-1.43.59L10.3 9.45l-7.72 7.72c-.78.78-.78 2.05 0 2.83L4 21.41c.39.39.9.59 1.41.59.51 0 1.02-.2 1.41-.59l7.78-7.78 2.81-2.81c.8-.78.8-2.07 0-2.86zM5.41 20L4 18.59l7.72-7.72 1.47 1.35L5.41 20z\"/>\n",
              "  </svg>\n",
              "      </button>\n",
              "      \n",
              "  <style>\n",
              "    .colab-df-container {\n",
              "      display:flex;\n",
              "      flex-wrap:wrap;\n",
              "      gap: 12px;\n",
              "    }\n",
              "\n",
              "    .colab-df-convert {\n",
              "      background-color: #E8F0FE;\n",
              "      border: none;\n",
              "      border-radius: 50%;\n",
              "      cursor: pointer;\n",
              "      display: none;\n",
              "      fill: #1967D2;\n",
              "      height: 32px;\n",
              "      padding: 0 0 0 0;\n",
              "      width: 32px;\n",
              "    }\n",
              "\n",
              "    .colab-df-convert:hover {\n",
              "      background-color: #E2EBFA;\n",
              "      box-shadow: 0px 1px 2px rgba(60, 64, 67, 0.3), 0px 1px 3px 1px rgba(60, 64, 67, 0.15);\n",
              "      fill: #174EA6;\n",
              "    }\n",
              "\n",
              "    [theme=dark] .colab-df-convert {\n",
              "      background-color: #3B4455;\n",
              "      fill: #D2E3FC;\n",
              "    }\n",
              "\n",
              "    [theme=dark] .colab-df-convert:hover {\n",
              "      background-color: #434B5C;\n",
              "      box-shadow: 0px 1px 3px 1px rgba(0, 0, 0, 0.15);\n",
              "      filter: drop-shadow(0px 1px 2px rgba(0, 0, 0, 0.3));\n",
              "      fill: #FFFFFF;\n",
              "    }\n",
              "  </style>\n",
              "\n",
              "      <script>\n",
              "        const buttonEl =\n",
              "          document.querySelector('#df-7b49de29-7d08-41bc-b26a-8eb233c99002 button.colab-df-convert');\n",
              "        buttonEl.style.display =\n",
              "          google.colab.kernel.accessAllowed ? 'block' : 'none';\n",
              "\n",
              "        async function convertToInteractive(key) {\n",
              "          const element = document.querySelector('#df-7b49de29-7d08-41bc-b26a-8eb233c99002');\n",
              "          const dataTable =\n",
              "            await google.colab.kernel.invokeFunction('convertToInteractive',\n",
              "                                                     [key], {});\n",
              "          if (!dataTable) return;\n",
              "\n",
              "          const docLinkHtml = 'Like what you see? Visit the ' +\n",
              "            '<a target=\"_blank\" href=https://colab.research.google.com/notebooks/data_table.ipynb>data table notebook</a>'\n",
              "            + ' to learn more about interactive tables.';\n",
              "          element.innerHTML = '';\n",
              "          dataTable['output_type'] = 'display_data';\n",
              "          await google.colab.output.renderOutput(dataTable, element);\n",
              "          const docLink = document.createElement('div');\n",
              "          docLink.innerHTML = docLinkHtml;\n",
              "          element.appendChild(docLink);\n",
              "        }\n",
              "      </script>\n",
              "    </div>\n",
              "  </div>\n",
              "  "
            ]
          },
          "metadata": {},
          "execution_count": 106
        }
      ]
    },
    {
      "cell_type": "code",
      "source": [
        "common_books[\"index\"]=[i for i in range(common_books.shape[0])]\n",
        "common_books.head()"
      ],
      "metadata": {
        "execution": {
          "iopub.status.busy": "2023-04-26T00:05:05.826338Z",
          "iopub.execute_input": "2023-04-26T00:05:05.827105Z",
          "iopub.status.idle": "2023-04-26T00:05:05.852636Z",
          "shell.execute_reply.started": "2023-04-26T00:05:05.827061Z",
          "shell.execute_reply": "2023-04-26T00:05:05.851440Z"
        },
        "trusted": true,
        "id": "OPgP7Mdpww_3",
        "outputId": "c90edf6b-2a2b-483e-8800-14f335c0d668",
        "colab": {
          "base_uri": "https://localhost:8080/",
          "height": 0
        }
      },
      "execution_count": 107,
      "outputs": [
        {
          "output_type": "execute_result",
          "data": {
            "text/plain": [
              "   index        ISBN             Book-Title       Book-Author  \\\n",
              "0      0  0440234743          The Testament      John Grisham   \n",
              "1      1  0971880107            Wild Animus      Rich Shapero   \n",
              "2      2  0345417623               Timeline  MICHAEL CRICHTON   \n",
              "3      3  0446310786  To Kill a Mockingbird        Harper Lee   \n",
              "4      4  0440225701      The Street Lawyer      JOHN GRISHAM   \n",
              "\n",
              "   Year-Of-Publication                   Publisher  \\\n",
              "0                 1999                        Dell   \n",
              "1                 2004                     Too Far   \n",
              "2                 2000            Ballantine Books   \n",
              "3                 1988  Little Brown &amp; Company   \n",
              "4                 1999                        Dell   \n",
              "\n",
              "                                         Image-URL-S  \\\n",
              "0  http://images.amazon.com/images/P/0440234743.0...   \n",
              "1  http://images.amazon.com/images/P/0971880107.0...   \n",
              "2  http://images.amazon.com/images/P/0345417623.0...   \n",
              "3  http://images.amazon.com/images/P/0446310786.0...   \n",
              "4  http://images.amazon.com/images/P/0440225701.0...   \n",
              "\n",
              "                                         Image-URL-M  \\\n",
              "0  http://images.amazon.com/images/P/0440234743.0...   \n",
              "1  http://images.amazon.com/images/P/0971880107.0...   \n",
              "2  http://images.amazon.com/images/P/0345417623.0...   \n",
              "3  http://images.amazon.com/images/P/0446310786.0...   \n",
              "4  http://images.amazon.com/images/P/0440225701.0...   \n",
              "\n",
              "                                         Image-URL-L  User-ID  Book-Rating  \n",
              "0  http://images.amazon.com/images/P/0440234743.0...     3329            8  \n",
              "1  http://images.amazon.com/images/P/0971880107.0...   277042            2  \n",
              "2  http://images.amazon.com/images/P/0345417623.0...     1376            8  \n",
              "3  http://images.amazon.com/images/P/0446310786.0...   276953           10  \n",
              "4  http://images.amazon.com/images/P/0440225701.0...   277922            6  "
            ],
            "text/html": [
              "\n",
              "  <div id=\"df-19864016-45b6-4c31-9e82-2fc791db67c4\">\n",
              "    <div class=\"colab-df-container\">\n",
              "      <div>\n",
              "<style scoped>\n",
              "    .dataframe tbody tr th:only-of-type {\n",
              "        vertical-align: middle;\n",
              "    }\n",
              "\n",
              "    .dataframe tbody tr th {\n",
              "        vertical-align: top;\n",
              "    }\n",
              "\n",
              "    .dataframe thead th {\n",
              "        text-align: right;\n",
              "    }\n",
              "</style>\n",
              "<table border=\"1\" class=\"dataframe\">\n",
              "  <thead>\n",
              "    <tr style=\"text-align: right;\">\n",
              "      <th></th>\n",
              "      <th>index</th>\n",
              "      <th>ISBN</th>\n",
              "      <th>Book-Title</th>\n",
              "      <th>Book-Author</th>\n",
              "      <th>Year-Of-Publication</th>\n",
              "      <th>Publisher</th>\n",
              "      <th>Image-URL-S</th>\n",
              "      <th>Image-URL-M</th>\n",
              "      <th>Image-URL-L</th>\n",
              "      <th>User-ID</th>\n",
              "      <th>Book-Rating</th>\n",
              "    </tr>\n",
              "  </thead>\n",
              "  <tbody>\n",
              "    <tr>\n",
              "      <th>0</th>\n",
              "      <td>0</td>\n",
              "      <td>0440234743</td>\n",
              "      <td>The Testament</td>\n",
              "      <td>John Grisham</td>\n",
              "      <td>1999</td>\n",
              "      <td>Dell</td>\n",
              "      <td>http://images.amazon.com/images/P/0440234743.0...</td>\n",
              "      <td>http://images.amazon.com/images/P/0440234743.0...</td>\n",
              "      <td>http://images.amazon.com/images/P/0440234743.0...</td>\n",
              "      <td>3329</td>\n",
              "      <td>8</td>\n",
              "    </tr>\n",
              "    <tr>\n",
              "      <th>1</th>\n",
              "      <td>1</td>\n",
              "      <td>0971880107</td>\n",
              "      <td>Wild Animus</td>\n",
              "      <td>Rich Shapero</td>\n",
              "      <td>2004</td>\n",
              "      <td>Too Far</td>\n",
              "      <td>http://images.amazon.com/images/P/0971880107.0...</td>\n",
              "      <td>http://images.amazon.com/images/P/0971880107.0...</td>\n",
              "      <td>http://images.amazon.com/images/P/0971880107.0...</td>\n",
              "      <td>277042</td>\n",
              "      <td>2</td>\n",
              "    </tr>\n",
              "    <tr>\n",
              "      <th>2</th>\n",
              "      <td>2</td>\n",
              "      <td>0345417623</td>\n",
              "      <td>Timeline</td>\n",
              "      <td>MICHAEL CRICHTON</td>\n",
              "      <td>2000</td>\n",
              "      <td>Ballantine Books</td>\n",
              "      <td>http://images.amazon.com/images/P/0345417623.0...</td>\n",
              "      <td>http://images.amazon.com/images/P/0345417623.0...</td>\n",
              "      <td>http://images.amazon.com/images/P/0345417623.0...</td>\n",
              "      <td>1376</td>\n",
              "      <td>8</td>\n",
              "    </tr>\n",
              "    <tr>\n",
              "      <th>3</th>\n",
              "      <td>3</td>\n",
              "      <td>0446310786</td>\n",
              "      <td>To Kill a Mockingbird</td>\n",
              "      <td>Harper Lee</td>\n",
              "      <td>1988</td>\n",
              "      <td>Little Brown &amp;amp; Company</td>\n",
              "      <td>http://images.amazon.com/images/P/0446310786.0...</td>\n",
              "      <td>http://images.amazon.com/images/P/0446310786.0...</td>\n",
              "      <td>http://images.amazon.com/images/P/0446310786.0...</td>\n",
              "      <td>276953</td>\n",
              "      <td>10</td>\n",
              "    </tr>\n",
              "    <tr>\n",
              "      <th>4</th>\n",
              "      <td>4</td>\n",
              "      <td>0440225701</td>\n",
              "      <td>The Street Lawyer</td>\n",
              "      <td>JOHN GRISHAM</td>\n",
              "      <td>1999</td>\n",
              "      <td>Dell</td>\n",
              "      <td>http://images.amazon.com/images/P/0440225701.0...</td>\n",
              "      <td>http://images.amazon.com/images/P/0440225701.0...</td>\n",
              "      <td>http://images.amazon.com/images/P/0440225701.0...</td>\n",
              "      <td>277922</td>\n",
              "      <td>6</td>\n",
              "    </tr>\n",
              "  </tbody>\n",
              "</table>\n",
              "</div>\n",
              "      <button class=\"colab-df-convert\" onclick=\"convertToInteractive('df-19864016-45b6-4c31-9e82-2fc791db67c4')\"\n",
              "              title=\"Convert this dataframe to an interactive table.\"\n",
              "              style=\"display:none;\">\n",
              "        \n",
              "  <svg xmlns=\"http://www.w3.org/2000/svg\" height=\"24px\"viewBox=\"0 0 24 24\"\n",
              "       width=\"24px\">\n",
              "    <path d=\"M0 0h24v24H0V0z\" fill=\"none\"/>\n",
              "    <path d=\"M18.56 5.44l.94 2.06.94-2.06 2.06-.94-2.06-.94-.94-2.06-.94 2.06-2.06.94zm-11 1L8.5 8.5l.94-2.06 2.06-.94-2.06-.94L8.5 2.5l-.94 2.06-2.06.94zm10 10l.94 2.06.94-2.06 2.06-.94-2.06-.94-.94-2.06-.94 2.06-2.06.94z\"/><path d=\"M17.41 7.96l-1.37-1.37c-.4-.4-.92-.59-1.43-.59-.52 0-1.04.2-1.43.59L10.3 9.45l-7.72 7.72c-.78.78-.78 2.05 0 2.83L4 21.41c.39.39.9.59 1.41.59.51 0 1.02-.2 1.41-.59l7.78-7.78 2.81-2.81c.8-.78.8-2.07 0-2.86zM5.41 20L4 18.59l7.72-7.72 1.47 1.35L5.41 20z\"/>\n",
              "  </svg>\n",
              "      </button>\n",
              "      \n",
              "  <style>\n",
              "    .colab-df-container {\n",
              "      display:flex;\n",
              "      flex-wrap:wrap;\n",
              "      gap: 12px;\n",
              "    }\n",
              "\n",
              "    .colab-df-convert {\n",
              "      background-color: #E8F0FE;\n",
              "      border: none;\n",
              "      border-radius: 50%;\n",
              "      cursor: pointer;\n",
              "      display: none;\n",
              "      fill: #1967D2;\n",
              "      height: 32px;\n",
              "      padding: 0 0 0 0;\n",
              "      width: 32px;\n",
              "    }\n",
              "\n",
              "    .colab-df-convert:hover {\n",
              "      background-color: #E2EBFA;\n",
              "      box-shadow: 0px 1px 2px rgba(60, 64, 67, 0.3), 0px 1px 3px 1px rgba(60, 64, 67, 0.15);\n",
              "      fill: #174EA6;\n",
              "    }\n",
              "\n",
              "    [theme=dark] .colab-df-convert {\n",
              "      background-color: #3B4455;\n",
              "      fill: #D2E3FC;\n",
              "    }\n",
              "\n",
              "    [theme=dark] .colab-df-convert:hover {\n",
              "      background-color: #434B5C;\n",
              "      box-shadow: 0px 1px 3px 1px rgba(0, 0, 0, 0.15);\n",
              "      filter: drop-shadow(0px 1px 2px rgba(0, 0, 0, 0.3));\n",
              "      fill: #FFFFFF;\n",
              "    }\n",
              "  </style>\n",
              "\n",
              "      <script>\n",
              "        const buttonEl =\n",
              "          document.querySelector('#df-19864016-45b6-4c31-9e82-2fc791db67c4 button.colab-df-convert');\n",
              "        buttonEl.style.display =\n",
              "          google.colab.kernel.accessAllowed ? 'block' : 'none';\n",
              "\n",
              "        async function convertToInteractive(key) {\n",
              "          const element = document.querySelector('#df-19864016-45b6-4c31-9e82-2fc791db67c4');\n",
              "          const dataTable =\n",
              "            await google.colab.kernel.invokeFunction('convertToInteractive',\n",
              "                                                     [key], {});\n",
              "          if (!dataTable) return;\n",
              "\n",
              "          const docLinkHtml = 'Like what you see? Visit the ' +\n",
              "            '<a target=\"_blank\" href=https://colab.research.google.com/notebooks/data_table.ipynb>data table notebook</a>'\n",
              "            + ' to learn more about interactive tables.';\n",
              "          element.innerHTML = '';\n",
              "          dataTable['output_type'] = 'display_data';\n",
              "          await google.colab.output.renderOutput(dataTable, element);\n",
              "          const docLink = document.createElement('div');\n",
              "          docLink.innerHTML = docLinkHtml;\n",
              "          element.appendChild(docLink);\n",
              "        }\n",
              "      </script>\n",
              "    </div>\n",
              "  </div>\n",
              "  "
            ]
          },
          "metadata": {},
          "execution_count": 107
        }
      ]
    },
    {
      "cell_type": "code",
      "source": [
        "common_books.shape"
      ],
      "metadata": {
        "execution": {
          "iopub.status.busy": "2023-04-26T00:05:05.854673Z",
          "iopub.execute_input": "2023-04-26T00:05:05.855103Z",
          "iopub.status.idle": "2023-04-26T00:05:05.875779Z",
          "shell.execute_reply.started": "2023-04-26T00:05:05.855059Z",
          "shell.execute_reply": "2023-04-26T00:05:05.874328Z"
        },
        "trusted": true,
        "id": "pKQj8MV4ww_3",
        "outputId": "35ac8c1f-1e91-45d7-e347-dcac3fbcd96f",
        "colab": {
          "base_uri": "https://localhost:8080/"
        }
      },
      "execution_count": 108,
      "outputs": [
        {
          "output_type": "execute_result",
          "data": {
            "text/plain": [
              "(50, 11)"
            ]
          },
          "metadata": {},
          "execution_count": 108
        }
      ]
    },
    {
      "cell_type": "code",
      "source": [
        "common_books['Book-Title'] = common_books['Book-Title'].astype('object')\n",
        "common_books['Book-Author'] = common_books['Book-Author'].astype('object')\n",
        "common_books['Publisher'] = common_books['Publisher'].astype('object')"
      ],
      "metadata": {
        "execution": {
          "iopub.status.busy": "2023-04-26T00:05:05.877403Z",
          "iopub.execute_input": "2023-04-26T00:05:05.877809Z",
          "iopub.status.idle": "2023-04-26T00:05:05.890477Z",
          "shell.execute_reply.started": "2023-04-26T00:05:05.877769Z",
          "shell.execute_reply": "2023-04-26T00:05:05.889123Z"
        },
        "trusted": true,
        "id": "leb7btyqww_3"
      },
      "execution_count": 109,
      "outputs": []
    },
    {
      "cell_type": "code",
      "source": [
        "targets=[\"Book-Title\",\"Book-Author\",\"Publisher\"]\n",
        "common_books[\"all_features\"] = [\" \".join(common_books[targets].iloc[i,].values) for i in range(common_books[targets].shape[0])]\n",
        "common_books.head()"
      ],
      "metadata": {
        "execution": {
          "iopub.status.busy": "2023-04-26T00:05:05.892143Z",
          "iopub.execute_input": "2023-04-26T00:05:05.892497Z",
          "iopub.status.idle": "2023-04-26T00:05:05.951911Z",
          "shell.execute_reply.started": "2023-04-26T00:05:05.892463Z",
          "shell.execute_reply": "2023-04-26T00:05:05.950563Z"
        },
        "trusted": true,
        "id": "loofurF1ww_3",
        "outputId": "52e05538-69b9-4631-9c7b-142b611945db",
        "colab": {
          "base_uri": "https://localhost:8080/",
          "height": 0
        }
      },
      "execution_count": 110,
      "outputs": [
        {
          "output_type": "execute_result",
          "data": {
            "text/plain": [
              "   index        ISBN             Book-Title       Book-Author  \\\n",
              "0      0  0440234743          The Testament      John Grisham   \n",
              "1      1  0971880107            Wild Animus      Rich Shapero   \n",
              "2      2  0345417623               Timeline  MICHAEL CRICHTON   \n",
              "3      3  0446310786  To Kill a Mockingbird        Harper Lee   \n",
              "4      4  0440225701      The Street Lawyer      JOHN GRISHAM   \n",
              "\n",
              "   Year-Of-Publication                   Publisher  \\\n",
              "0                 1999                        Dell   \n",
              "1                 2004                     Too Far   \n",
              "2                 2000            Ballantine Books   \n",
              "3                 1988  Little Brown &amp; Company   \n",
              "4                 1999                        Dell   \n",
              "\n",
              "                                         Image-URL-S  \\\n",
              "0  http://images.amazon.com/images/P/0440234743.0...   \n",
              "1  http://images.amazon.com/images/P/0971880107.0...   \n",
              "2  http://images.amazon.com/images/P/0345417623.0...   \n",
              "3  http://images.amazon.com/images/P/0446310786.0...   \n",
              "4  http://images.amazon.com/images/P/0440225701.0...   \n",
              "\n",
              "                                         Image-URL-M  \\\n",
              "0  http://images.amazon.com/images/P/0440234743.0...   \n",
              "1  http://images.amazon.com/images/P/0971880107.0...   \n",
              "2  http://images.amazon.com/images/P/0345417623.0...   \n",
              "3  http://images.amazon.com/images/P/0446310786.0...   \n",
              "4  http://images.amazon.com/images/P/0440225701.0...   \n",
              "\n",
              "                                         Image-URL-L  User-ID  Book-Rating  \\\n",
              "0  http://images.amazon.com/images/P/0440234743.0...     3329            8   \n",
              "1  http://images.amazon.com/images/P/0971880107.0...   277042            2   \n",
              "2  http://images.amazon.com/images/P/0345417623.0...     1376            8   \n",
              "3  http://images.amazon.com/images/P/0446310786.0...   276953           10   \n",
              "4  http://images.amazon.com/images/P/0440225701.0...   277922            6   \n",
              "\n",
              "                                        all_features  \n",
              "0                    The Testament John Grisham Dell  \n",
              "1                   Wild Animus Rich Shapero Too Far  \n",
              "2         Timeline MICHAEL CRICHTON Ballantine Books  \n",
              "3  To Kill a Mockingbird Harper Lee Little Brown ...  \n",
              "4                The Street Lawyer JOHN GRISHAM Dell  "
            ],
            "text/html": [
              "\n",
              "  <div id=\"df-9a066075-dac6-420a-9fa5-d41d9b491313\">\n",
              "    <div class=\"colab-df-container\">\n",
              "      <div>\n",
              "<style scoped>\n",
              "    .dataframe tbody tr th:only-of-type {\n",
              "        vertical-align: middle;\n",
              "    }\n",
              "\n",
              "    .dataframe tbody tr th {\n",
              "        vertical-align: top;\n",
              "    }\n",
              "\n",
              "    .dataframe thead th {\n",
              "        text-align: right;\n",
              "    }\n",
              "</style>\n",
              "<table border=\"1\" class=\"dataframe\">\n",
              "  <thead>\n",
              "    <tr style=\"text-align: right;\">\n",
              "      <th></th>\n",
              "      <th>index</th>\n",
              "      <th>ISBN</th>\n",
              "      <th>Book-Title</th>\n",
              "      <th>Book-Author</th>\n",
              "      <th>Year-Of-Publication</th>\n",
              "      <th>Publisher</th>\n",
              "      <th>Image-URL-S</th>\n",
              "      <th>Image-URL-M</th>\n",
              "      <th>Image-URL-L</th>\n",
              "      <th>User-ID</th>\n",
              "      <th>Book-Rating</th>\n",
              "      <th>all_features</th>\n",
              "    </tr>\n",
              "  </thead>\n",
              "  <tbody>\n",
              "    <tr>\n",
              "      <th>0</th>\n",
              "      <td>0</td>\n",
              "      <td>0440234743</td>\n",
              "      <td>The Testament</td>\n",
              "      <td>John Grisham</td>\n",
              "      <td>1999</td>\n",
              "      <td>Dell</td>\n",
              "      <td>http://images.amazon.com/images/P/0440234743.0...</td>\n",
              "      <td>http://images.amazon.com/images/P/0440234743.0...</td>\n",
              "      <td>http://images.amazon.com/images/P/0440234743.0...</td>\n",
              "      <td>3329</td>\n",
              "      <td>8</td>\n",
              "      <td>The Testament John Grisham Dell</td>\n",
              "    </tr>\n",
              "    <tr>\n",
              "      <th>1</th>\n",
              "      <td>1</td>\n",
              "      <td>0971880107</td>\n",
              "      <td>Wild Animus</td>\n",
              "      <td>Rich Shapero</td>\n",
              "      <td>2004</td>\n",
              "      <td>Too Far</td>\n",
              "      <td>http://images.amazon.com/images/P/0971880107.0...</td>\n",
              "      <td>http://images.amazon.com/images/P/0971880107.0...</td>\n",
              "      <td>http://images.amazon.com/images/P/0971880107.0...</td>\n",
              "      <td>277042</td>\n",
              "      <td>2</td>\n",
              "      <td>Wild Animus Rich Shapero Too Far</td>\n",
              "    </tr>\n",
              "    <tr>\n",
              "      <th>2</th>\n",
              "      <td>2</td>\n",
              "      <td>0345417623</td>\n",
              "      <td>Timeline</td>\n",
              "      <td>MICHAEL CRICHTON</td>\n",
              "      <td>2000</td>\n",
              "      <td>Ballantine Books</td>\n",
              "      <td>http://images.amazon.com/images/P/0345417623.0...</td>\n",
              "      <td>http://images.amazon.com/images/P/0345417623.0...</td>\n",
              "      <td>http://images.amazon.com/images/P/0345417623.0...</td>\n",
              "      <td>1376</td>\n",
              "      <td>8</td>\n",
              "      <td>Timeline MICHAEL CRICHTON Ballantine Books</td>\n",
              "    </tr>\n",
              "    <tr>\n",
              "      <th>3</th>\n",
              "      <td>3</td>\n",
              "      <td>0446310786</td>\n",
              "      <td>To Kill a Mockingbird</td>\n",
              "      <td>Harper Lee</td>\n",
              "      <td>1988</td>\n",
              "      <td>Little Brown &amp;amp; Company</td>\n",
              "      <td>http://images.amazon.com/images/P/0446310786.0...</td>\n",
              "      <td>http://images.amazon.com/images/P/0446310786.0...</td>\n",
              "      <td>http://images.amazon.com/images/P/0446310786.0...</td>\n",
              "      <td>276953</td>\n",
              "      <td>10</td>\n",
              "      <td>To Kill a Mockingbird Harper Lee Little Brown ...</td>\n",
              "    </tr>\n",
              "    <tr>\n",
              "      <th>4</th>\n",
              "      <td>4</td>\n",
              "      <td>0440225701</td>\n",
              "      <td>The Street Lawyer</td>\n",
              "      <td>JOHN GRISHAM</td>\n",
              "      <td>1999</td>\n",
              "      <td>Dell</td>\n",
              "      <td>http://images.amazon.com/images/P/0440225701.0...</td>\n",
              "      <td>http://images.amazon.com/images/P/0440225701.0...</td>\n",
              "      <td>http://images.amazon.com/images/P/0440225701.0...</td>\n",
              "      <td>277922</td>\n",
              "      <td>6</td>\n",
              "      <td>The Street Lawyer JOHN GRISHAM Dell</td>\n",
              "    </tr>\n",
              "  </tbody>\n",
              "</table>\n",
              "</div>\n",
              "      <button class=\"colab-df-convert\" onclick=\"convertToInteractive('df-9a066075-dac6-420a-9fa5-d41d9b491313')\"\n",
              "              title=\"Convert this dataframe to an interactive table.\"\n",
              "              style=\"display:none;\">\n",
              "        \n",
              "  <svg xmlns=\"http://www.w3.org/2000/svg\" height=\"24px\"viewBox=\"0 0 24 24\"\n",
              "       width=\"24px\">\n",
              "    <path d=\"M0 0h24v24H0V0z\" fill=\"none\"/>\n",
              "    <path d=\"M18.56 5.44l.94 2.06.94-2.06 2.06-.94-2.06-.94-.94-2.06-.94 2.06-2.06.94zm-11 1L8.5 8.5l.94-2.06 2.06-.94-2.06-.94L8.5 2.5l-.94 2.06-2.06.94zm10 10l.94 2.06.94-2.06 2.06-.94-2.06-.94-.94-2.06-.94 2.06-2.06.94z\"/><path d=\"M17.41 7.96l-1.37-1.37c-.4-.4-.92-.59-1.43-.59-.52 0-1.04.2-1.43.59L10.3 9.45l-7.72 7.72c-.78.78-.78 2.05 0 2.83L4 21.41c.39.39.9.59 1.41.59.51 0 1.02-.2 1.41-.59l7.78-7.78 2.81-2.81c.8-.78.8-2.07 0-2.86zM5.41 20L4 18.59l7.72-7.72 1.47 1.35L5.41 20z\"/>\n",
              "  </svg>\n",
              "      </button>\n",
              "      \n",
              "  <style>\n",
              "    .colab-df-container {\n",
              "      display:flex;\n",
              "      flex-wrap:wrap;\n",
              "      gap: 12px;\n",
              "    }\n",
              "\n",
              "    .colab-df-convert {\n",
              "      background-color: #E8F0FE;\n",
              "      border: none;\n",
              "      border-radius: 50%;\n",
              "      cursor: pointer;\n",
              "      display: none;\n",
              "      fill: #1967D2;\n",
              "      height: 32px;\n",
              "      padding: 0 0 0 0;\n",
              "      width: 32px;\n",
              "    }\n",
              "\n",
              "    .colab-df-convert:hover {\n",
              "      background-color: #E2EBFA;\n",
              "      box-shadow: 0px 1px 2px rgba(60, 64, 67, 0.3), 0px 1px 3px 1px rgba(60, 64, 67, 0.15);\n",
              "      fill: #174EA6;\n",
              "    }\n",
              "\n",
              "    [theme=dark] .colab-df-convert {\n",
              "      background-color: #3B4455;\n",
              "      fill: #D2E3FC;\n",
              "    }\n",
              "\n",
              "    [theme=dark] .colab-df-convert:hover {\n",
              "      background-color: #434B5C;\n",
              "      box-shadow: 0px 1px 3px 1px rgba(0, 0, 0, 0.15);\n",
              "      filter: drop-shadow(0px 1px 2px rgba(0, 0, 0, 0.3));\n",
              "      fill: #FFFFFF;\n",
              "    }\n",
              "  </style>\n",
              "\n",
              "      <script>\n",
              "        const buttonEl =\n",
              "          document.querySelector('#df-9a066075-dac6-420a-9fa5-d41d9b491313 button.colab-df-convert');\n",
              "        buttonEl.style.display =\n",
              "          google.colab.kernel.accessAllowed ? 'block' : 'none';\n",
              "\n",
              "        async function convertToInteractive(key) {\n",
              "          const element = document.querySelector('#df-9a066075-dac6-420a-9fa5-d41d9b491313');\n",
              "          const dataTable =\n",
              "            await google.colab.kernel.invokeFunction('convertToInteractive',\n",
              "                                                     [key], {});\n",
              "          if (!dataTable) return;\n",
              "\n",
              "          const docLinkHtml = 'Like what you see? Visit the ' +\n",
              "            '<a target=\"_blank\" href=https://colab.research.google.com/notebooks/data_table.ipynb>data table notebook</a>'\n",
              "            + ' to learn more about interactive tables.';\n",
              "          element.innerHTML = '';\n",
              "          dataTable['output_type'] = 'display_data';\n",
              "          await google.colab.output.renderOutput(dataTable, element);\n",
              "          const docLink = document.createElement('div');\n",
              "          docLink.innerHTML = docLinkHtml;\n",
              "          element.appendChild(docLink);\n",
              "        }\n",
              "      </script>\n",
              "    </div>\n",
              "  </div>\n",
              "  "
            ]
          },
          "metadata": {},
          "execution_count": 110
        }
      ]
    },
    {
      "cell_type": "code",
      "source": [
        "vectorizer=CountVectorizer()\n",
        "common_booksVector=vectorizer.fit_transform(common_books[\"all_features\"])\n",
        "common_booksVector"
      ],
      "metadata": {
        "execution": {
          "iopub.status.busy": "2023-04-26T00:05:05.953622Z",
          "iopub.execute_input": "2023-04-26T00:05:05.954087Z",
          "iopub.status.idle": "2023-04-26T00:05:05.967392Z",
          "shell.execute_reply.started": "2023-04-26T00:05:05.954046Z",
          "shell.execute_reply": "2023-04-26T00:05:05.966376Z"
        },
        "trusted": true,
        "id": "M9xWKBGoww_4",
        "outputId": "51aad799-354c-4696-81ef-4f440b7366b6",
        "colab": {
          "base_uri": "https://localhost:8080/"
        }
      },
      "execution_count": 111,
      "outputs": [
        {
          "output_type": "execute_result",
          "data": {
            "text/plain": [
              "<50x232 sparse matrix of type '<class 'numpy.int64'>'\n",
              "\twith 403 stored elements in Compressed Sparse Row format>"
            ]
          },
          "metadata": {},
          "execution_count": 111
        }
      ]
    },
    {
      "cell_type": "code",
      "source": [
        "similarity=cosine_similarity(common_booksVector)\n",
        "similarity"
      ],
      "metadata": {
        "execution": {
          "iopub.status.busy": "2023-04-26T00:05:05.968776Z",
          "iopub.execute_input": "2023-04-26T00:05:05.969188Z",
          "iopub.status.idle": "2023-04-26T00:05:05.981822Z",
          "shell.execute_reply.started": "2023-04-26T00:05:05.969148Z",
          "shell.execute_reply": "2023-04-26T00:05:05.980336Z"
        },
        "trusted": true,
        "id": "m_z_gvAWww_4",
        "outputId": "6aca0da0-ae3e-46bb-e179-51d2d2994917",
        "colab": {
          "base_uri": "https://localhost:8080/"
        }
      },
      "execution_count": 112,
      "outputs": [
        {
          "output_type": "execute_result",
          "data": {
            "text/plain": [
              "array([[1.        , 0.        , 0.        , ..., 0.14142136, 0.24806947,\n",
              "        0.6761234 ],\n",
              "       [0.        , 1.        , 0.        , ..., 0.        , 0.        ,\n",
              "        0.        ],\n",
              "       [0.        , 0.        , 1.        , ..., 0.        , 0.        ,\n",
              "        0.        ],\n",
              "       ...,\n",
              "       [0.14142136, 0.        , 0.        , ..., 1.        , 0.78935222,\n",
              "        0.11952286],\n",
              "       [0.24806947, 0.        , 0.        , ..., 0.78935222, 1.        ,\n",
              "        0.20965697],\n",
              "       [0.6761234 , 0.        , 0.        , ..., 0.11952286, 0.20965697,\n",
              "        1.        ]])"
            ]
          },
          "metadata": {},
          "execution_count": 112
        }
      ]
    },
    {
      "cell_type": "code",
      "source": [
        "index=common_books[common_books[\"Book-Title\"]==book_title][\"index\"].values[0]\n",
        "index"
      ],
      "metadata": {
        "execution": {
          "iopub.status.busy": "2023-04-26T00:05:05.983555Z",
          "iopub.execute_input": "2023-04-26T00:05:05.984928Z",
          "iopub.status.idle": "2023-04-26T00:05:05.996876Z",
          "shell.execute_reply.started": "2023-04-26T00:05:05.984851Z",
          "shell.execute_reply": "2023-04-26T00:05:05.995466Z"
        },
        "trusted": true,
        "id": "jtP6Ta94ww_4",
        "outputId": "d5c298e9-fff1-4bba-9b09-b8655f23fc78",
        "colab": {
          "base_uri": "https://localhost:8080/"
        }
      },
      "execution_count": 113,
      "outputs": [
        {
          "output_type": "execute_result",
          "data": {
            "text/plain": [
              "28"
            ]
          },
          "metadata": {},
          "execution_count": 113
        }
      ]
    },
    {
      "cell_type": "code",
      "source": [
        "similar_books=list(enumerate(similarity[index]))\n",
        "similar_books[0]"
      ],
      "metadata": {
        "execution": {
          "iopub.status.busy": "2023-04-26T00:05:05.998530Z",
          "iopub.execute_input": "2023-04-26T00:05:05.999833Z",
          "iopub.status.idle": "2023-04-26T00:05:06.010397Z",
          "shell.execute_reply.started": "2023-04-26T00:05:05.999773Z",
          "shell.execute_reply": "2023-04-26T00:05:06.008410Z"
        },
        "trusted": true,
        "id": "pfewP-rwww_4",
        "outputId": "30a0cb69-3efe-4d00-85b6-edd7b7067a12",
        "colab": {
          "base_uri": "https://localhost:8080/"
        }
      },
      "execution_count": 114,
      "outputs": [
        {
          "output_type": "execute_result",
          "data": {
            "text/plain": [
              "(0, 0.0)"
            ]
          },
          "metadata": {},
          "execution_count": 114
        }
      ]
    },
    {
      "cell_type": "code",
      "source": [
        "similar_books=sorted(similar_books,key=lambda x:x[1],reverse=True)[1:6]\n",
        "similar_books[:]"
      ],
      "metadata": {
        "execution": {
          "iopub.status.busy": "2023-04-26T00:05:06.012625Z",
          "iopub.execute_input": "2023-04-26T00:05:06.013376Z",
          "iopub.status.idle": "2023-04-26T00:05:06.029261Z",
          "shell.execute_reply.started": "2023-04-26T00:05:06.013318Z",
          "shell.execute_reply": "2023-04-26T00:05:06.027795Z"
        },
        "trusted": true,
        "id": "uKW2MdHoww_4",
        "outputId": "5aac23aa-9fa8-4020-d545-28f9e6835f62",
        "colab": {
          "base_uri": "https://localhost:8080/"
        }
      },
      "execution_count": 115,
      "outputs": [
        {
          "output_type": "execute_result",
          "data": {
            "text/plain": [
              "[(46, 0.31622776601683794),\n",
              " (2, 0.1414213562373095),\n",
              " (16, 0.12909944487358058),\n",
              " (21, 0.12909944487358058),\n",
              " (22, 0.12909944487358058)]"
            ]
          },
          "metadata": {},
          "execution_count": 115
        }
      ]
    },
    {
      "cell_type": "code",
      "source": [
        "r_books=[]\n",
        "\n",
        "for i in range(len(similar_books)):\n",
        "    r_books.append(common_books[common_books[\"index\"]==similar_books[i][0]][\"Book-Title\"].item())\n",
        " \n",
        "prYellow(f\"Recommend Books similar to {book_title}:\\n\")\n",
        "for book in r_books:\n",
        "    prGreen(book)\n",
        "    print(\"Rating\",end='->')\n",
        "    prRed(round(df[df['Book-Title'] == book]['Book-Rating'].mean(), 2))"
      ],
      "metadata": {
        "execution": {
          "iopub.status.busy": "2023-04-26T00:05:06.031168Z",
          "iopub.execute_input": "2023-04-26T00:05:06.031617Z",
          "iopub.status.idle": "2023-04-26T00:05:06.192565Z",
          "shell.execute_reply.started": "2023-04-26T00:05:06.031577Z",
          "shell.execute_reply": "2023-04-26T00:05:06.191257Z"
        },
        "trusted": true,
        "id": "1o2d7fuRww_5",
        "outputId": "ac4d7a30-da7a-4e24-b154-f97a0038ffbb",
        "colab": {
          "base_uri": "https://localhost:8080/"
        }
      },
      "execution_count": 116,
      "outputs": [
        {
          "output_type": "stream",
          "name": "stdout",
          "text": [
            "\u001b[93m Recommend Books similar to Me Talk Pretty One Day:\n",
            "\u001b[00m\n",
            "\u001b[92m The Pilot's Wife : A Novel\u001b[00m\n",
            "Rating->\u001b[91m 7.5\u001b[00m\n",
            "\u001b[92m Timeline\u001b[00m\n",
            "Rating->\u001b[91m 7.87\u001b[00m\n",
            "\u001b[92m The Firm\u001b[00m\n",
            "Rating->\u001b[91m 7.83\u001b[00m\n",
            "\u001b[92m The Chamber\u001b[00m\n",
            "Rating->\u001b[91m 7.42\u001b[00m\n",
            "\u001b[92m The Partner\u001b[00m\n",
            "Rating->\u001b[91m 7.67\u001b[00m\n"
          ]
        }
      ]
    },
    {
      "cell_type": "markdown",
      "source": [
        "Putting it all together"
      ],
      "metadata": {
        "id": "uGtCGBk1ww_5"
      }
    },
    {
      "cell_type": "code",
      "source": [
        "def content_based(book_title):\n",
        "    \n",
        "    book_title = str(book_title)\n",
        "    \n",
        "    if book_title in books_with_ratings['Book-Title'].values:\n",
        "        count_rate = pd.DataFrame(books_with_ratings['Book-Title'].value_counts())\n",
        "        rare_books=count_rate[count_rate[\"Book-Title\"]<=200].index\n",
        "        common_books=books_with_ratings[~books_with_ratings[\"Book-Title\"].isin(rare_books)]\n",
        "\n",
        "        if book_title in rare_books:\n",
        "            prYellow(\"A rare book, so u may try our popular books: \\n \")\n",
        "            popular_books()\n",
        "\n",
        "        else:\n",
        "\n",
        "            common_books=common_books.drop_duplicates(subset=[\"Book-Title\"])\n",
        "            common_books.reset_index(inplace=True)\n",
        "            \n",
        "            common_books[\"index\"]=[i for i in range(common_books.shape[0])]\n",
        "            common_books['Book-Title'] = common_books['Book-Title'].astype('object')\n",
        "            common_books['Book-Author'] = common_books['Book-Author'].astype('object')\n",
        "            common_books['Publisher'] = common_books['Publisher'].astype('object')\n",
        "\n",
        "            targets=[\"Book-Title\",\"Book-Author\",\"Publisher\"]\n",
        "            common_books[\"all_features\"] = [\" \".join(common_books[targets].iloc[i,].values) for i in range(common_books[targets].shape[0])]\n",
        "\n",
        "            vectorizer=CountVectorizer()\n",
        "            common_booksVector=vectorizer.fit_transform(common_books[\"all_features\"])\n",
        "\n",
        "            similarity=cosine_similarity(common_booksVector)\n",
        "            index=common_books[common_books[\"Book-Title\"]==book_title][\"index\"].values[0]\n",
        "            similar_books=list(enumerate(similarity[index]))\n",
        "            similar_booksSorted=sorted(similar_books,key=lambda x:x[1],reverse=True)[1:6]\n",
        "            r_books=[]\n",
        "\n",
        "            for i in range(len(similar_booksSorted)):\n",
        "                r_books.append(common_books[common_books[\"index\"]==similar_booksSorted[i][0]][\"Book-Title\"].item())\n",
        "\n",
        "            prYellow(f\"Recommend Books similar to {book_title}:\\n\")\n",
        "            for book in r_books:\n",
        "                prGreen(book)\n",
        "                print(\"Rating\",end='->')\n",
        "                prRed(round(df[df['Book-Title'] == book]['Book-Rating'].mean(), 2))\n",
        "                \n",
        "    else:\n",
        "        prYellow(\"This book is not in our library, check out our most popular books:\")\n",
        "        print()\n",
        "        popular_books()"
      ],
      "metadata": {
        "execution": {
          "iopub.status.busy": "2023-04-26T00:05:06.194506Z",
          "iopub.execute_input": "2023-04-26T00:05:06.195022Z",
          "iopub.status.idle": "2023-04-26T00:05:06.209854Z",
          "shell.execute_reply.started": "2023-04-26T00:05:06.194975Z",
          "shell.execute_reply": "2023-04-26T00:05:06.208843Z"
        },
        "trusted": true,
        "id": "0GpW9uCZww_6"
      },
      "execution_count": 117,
      "outputs": []
    },
    {
      "cell_type": "code",
      "source": [
        "books[books['Book-Title'] == book_title]"
      ],
      "metadata": {
        "execution": {
          "iopub.status.busy": "2023-04-26T00:05:06.211007Z",
          "iopub.execute_input": "2023-04-26T00:05:06.211388Z",
          "iopub.status.idle": "2023-04-26T00:05:06.263383Z",
          "shell.execute_reply.started": "2023-04-26T00:05:06.211349Z",
          "shell.execute_reply": "2023-04-26T00:05:06.261796Z"
        },
        "trusted": true,
        "id": "U-tF5Rxaww_6",
        "outputId": "7b38c09f-c95f-460a-cf27-a83c7f072b1a",
        "colab": {
          "base_uri": "https://localhost:8080/",
          "height": 0
        }
      },
      "execution_count": 118,
      "outputs": [
        {
          "output_type": "execute_result",
          "data": {
            "text/plain": [
              "             ISBN              Book-Title    Book-Author  Year-Of-Publication  \\\n",
              "833    0316776963  Me Talk Pretty One Day  David Sedaris                 2001   \n",
              "18516  0316777722  Me Talk Pretty One Day  David Sedaris                 2000   \n",
              "54389  1586210661  Me Talk Pretty One Day  David Sedaris                 2001   \n",
              "61572  1570428654  Me Talk Pretty One Day  David Sedaris                 2000   \n",
              "\n",
              "                     Publisher  \\\n",
              "833             Back Bay Books   \n",
              "18516            Little, Brown   \n",
              "54389  Time Warner Audio Major   \n",
              "61572  Time Warner Audio Major   \n",
              "\n",
              "                                             Image-URL-S  \\\n",
              "833    http://images.amazon.com/images/P/0316776963.0...   \n",
              "18516  http://images.amazon.com/images/P/0316777722.0...   \n",
              "54389  http://images.amazon.com/images/P/1586210661.0...   \n",
              "61572  http://images.amazon.com/images/P/1570428654.0...   \n",
              "\n",
              "                                             Image-URL-M  \\\n",
              "833    http://images.amazon.com/images/P/0316776963.0...   \n",
              "18516  http://images.amazon.com/images/P/0316777722.0...   \n",
              "54389  http://images.amazon.com/images/P/1586210661.0...   \n",
              "61572  http://images.amazon.com/images/P/1570428654.0...   \n",
              "\n",
              "                                             Image-URL-L  \n",
              "833    http://images.amazon.com/images/P/0316776963.0...  \n",
              "18516  http://images.amazon.com/images/P/0316777722.0...  \n",
              "54389  http://images.amazon.com/images/P/1586210661.0...  \n",
              "61572  http://images.amazon.com/images/P/1570428654.0...  "
            ],
            "text/html": [
              "\n",
              "  <div id=\"df-27e44381-835b-4d30-ba90-c34b7d559f21\">\n",
              "    <div class=\"colab-df-container\">\n",
              "      <div>\n",
              "<style scoped>\n",
              "    .dataframe tbody tr th:only-of-type {\n",
              "        vertical-align: middle;\n",
              "    }\n",
              "\n",
              "    .dataframe tbody tr th {\n",
              "        vertical-align: top;\n",
              "    }\n",
              "\n",
              "    .dataframe thead th {\n",
              "        text-align: right;\n",
              "    }\n",
              "</style>\n",
              "<table border=\"1\" class=\"dataframe\">\n",
              "  <thead>\n",
              "    <tr style=\"text-align: right;\">\n",
              "      <th></th>\n",
              "      <th>ISBN</th>\n",
              "      <th>Book-Title</th>\n",
              "      <th>Book-Author</th>\n",
              "      <th>Year-Of-Publication</th>\n",
              "      <th>Publisher</th>\n",
              "      <th>Image-URL-S</th>\n",
              "      <th>Image-URL-M</th>\n",
              "      <th>Image-URL-L</th>\n",
              "    </tr>\n",
              "  </thead>\n",
              "  <tbody>\n",
              "    <tr>\n",
              "      <th>833</th>\n",
              "      <td>0316776963</td>\n",
              "      <td>Me Talk Pretty One Day</td>\n",
              "      <td>David Sedaris</td>\n",
              "      <td>2001</td>\n",
              "      <td>Back Bay Books</td>\n",
              "      <td>http://images.amazon.com/images/P/0316776963.0...</td>\n",
              "      <td>http://images.amazon.com/images/P/0316776963.0...</td>\n",
              "      <td>http://images.amazon.com/images/P/0316776963.0...</td>\n",
              "    </tr>\n",
              "    <tr>\n",
              "      <th>18516</th>\n",
              "      <td>0316777722</td>\n",
              "      <td>Me Talk Pretty One Day</td>\n",
              "      <td>David Sedaris</td>\n",
              "      <td>2000</td>\n",
              "      <td>Little, Brown</td>\n",
              "      <td>http://images.amazon.com/images/P/0316777722.0...</td>\n",
              "      <td>http://images.amazon.com/images/P/0316777722.0...</td>\n",
              "      <td>http://images.amazon.com/images/P/0316777722.0...</td>\n",
              "    </tr>\n",
              "    <tr>\n",
              "      <th>54389</th>\n",
              "      <td>1586210661</td>\n",
              "      <td>Me Talk Pretty One Day</td>\n",
              "      <td>David Sedaris</td>\n",
              "      <td>2001</td>\n",
              "      <td>Time Warner Audio Major</td>\n",
              "      <td>http://images.amazon.com/images/P/1586210661.0...</td>\n",
              "      <td>http://images.amazon.com/images/P/1586210661.0...</td>\n",
              "      <td>http://images.amazon.com/images/P/1586210661.0...</td>\n",
              "    </tr>\n",
              "    <tr>\n",
              "      <th>61572</th>\n",
              "      <td>1570428654</td>\n",
              "      <td>Me Talk Pretty One Day</td>\n",
              "      <td>David Sedaris</td>\n",
              "      <td>2000</td>\n",
              "      <td>Time Warner Audio Major</td>\n",
              "      <td>http://images.amazon.com/images/P/1570428654.0...</td>\n",
              "      <td>http://images.amazon.com/images/P/1570428654.0...</td>\n",
              "      <td>http://images.amazon.com/images/P/1570428654.0...</td>\n",
              "    </tr>\n",
              "  </tbody>\n",
              "</table>\n",
              "</div>\n",
              "      <button class=\"colab-df-convert\" onclick=\"convertToInteractive('df-27e44381-835b-4d30-ba90-c34b7d559f21')\"\n",
              "              title=\"Convert this dataframe to an interactive table.\"\n",
              "              style=\"display:none;\">\n",
              "        \n",
              "  <svg xmlns=\"http://www.w3.org/2000/svg\" height=\"24px\"viewBox=\"0 0 24 24\"\n",
              "       width=\"24px\">\n",
              "    <path d=\"M0 0h24v24H0V0z\" fill=\"none\"/>\n",
              "    <path d=\"M18.56 5.44l.94 2.06.94-2.06 2.06-.94-2.06-.94-.94-2.06-.94 2.06-2.06.94zm-11 1L8.5 8.5l.94-2.06 2.06-.94-2.06-.94L8.5 2.5l-.94 2.06-2.06.94zm10 10l.94 2.06.94-2.06 2.06-.94-2.06-.94-.94-2.06-.94 2.06-2.06.94z\"/><path d=\"M17.41 7.96l-1.37-1.37c-.4-.4-.92-.59-1.43-.59-.52 0-1.04.2-1.43.59L10.3 9.45l-7.72 7.72c-.78.78-.78 2.05 0 2.83L4 21.41c.39.39.9.59 1.41.59.51 0 1.02-.2 1.41-.59l7.78-7.78 2.81-2.81c.8-.78.8-2.07 0-2.86zM5.41 20L4 18.59l7.72-7.72 1.47 1.35L5.41 20z\"/>\n",
              "  </svg>\n",
              "      </button>\n",
              "      \n",
              "  <style>\n",
              "    .colab-df-container {\n",
              "      display:flex;\n",
              "      flex-wrap:wrap;\n",
              "      gap: 12px;\n",
              "    }\n",
              "\n",
              "    .colab-df-convert {\n",
              "      background-color: #E8F0FE;\n",
              "      border: none;\n",
              "      border-radius: 50%;\n",
              "      cursor: pointer;\n",
              "      display: none;\n",
              "      fill: #1967D2;\n",
              "      height: 32px;\n",
              "      padding: 0 0 0 0;\n",
              "      width: 32px;\n",
              "    }\n",
              "\n",
              "    .colab-df-convert:hover {\n",
              "      background-color: #E2EBFA;\n",
              "      box-shadow: 0px 1px 2px rgba(60, 64, 67, 0.3), 0px 1px 3px 1px rgba(60, 64, 67, 0.15);\n",
              "      fill: #174EA6;\n",
              "    }\n",
              "\n",
              "    [theme=dark] .colab-df-convert {\n",
              "      background-color: #3B4455;\n",
              "      fill: #D2E3FC;\n",
              "    }\n",
              "\n",
              "    [theme=dark] .colab-df-convert:hover {\n",
              "      background-color: #434B5C;\n",
              "      box-shadow: 0px 1px 3px 1px rgba(0, 0, 0, 0.15);\n",
              "      filter: drop-shadow(0px 1px 2px rgba(0, 0, 0, 0.3));\n",
              "      fill: #FFFFFF;\n",
              "    }\n",
              "  </style>\n",
              "\n",
              "      <script>\n",
              "        const buttonEl =\n",
              "          document.querySelector('#df-27e44381-835b-4d30-ba90-c34b7d559f21 button.colab-df-convert');\n",
              "        buttonEl.style.display =\n",
              "          google.colab.kernel.accessAllowed ? 'block' : 'none';\n",
              "\n",
              "        async function convertToInteractive(key) {\n",
              "          const element = document.querySelector('#df-27e44381-835b-4d30-ba90-c34b7d559f21');\n",
              "          const dataTable =\n",
              "            await google.colab.kernel.invokeFunction('convertToInteractive',\n",
              "                                                     [key], {});\n",
              "          if (!dataTable) return;\n",
              "\n",
              "          const docLinkHtml = 'Like what you see? Visit the ' +\n",
              "            '<a target=\"_blank\" href=https://colab.research.google.com/notebooks/data_table.ipynb>data table notebook</a>'\n",
              "            + ' to learn more about interactive tables.';\n",
              "          element.innerHTML = '';\n",
              "          dataTable['output_type'] = 'display_data';\n",
              "          await google.colab.output.renderOutput(dataTable, element);\n",
              "          const docLink = document.createElement('div');\n",
              "          docLink.innerHTML = docLinkHtml;\n",
              "          element.appendChild(docLink);\n",
              "        }\n",
              "      </script>\n",
              "    </div>\n",
              "  </div>\n",
              "  "
            ]
          },
          "metadata": {},
          "execution_count": 118
        }
      ]
    },
    {
      "cell_type": "code",
      "source": [
        "content_based(book_title)"
      ],
      "metadata": {
        "execution": {
          "iopub.status.busy": "2023-04-26T00:05:06.265268Z",
          "iopub.execute_input": "2023-04-26T00:05:06.265629Z",
          "iopub.status.idle": "2023-04-26T00:05:07.153626Z",
          "shell.execute_reply.started": "2023-04-26T00:05:06.265596Z",
          "shell.execute_reply": "2023-04-26T00:05:07.152486Z"
        },
        "trusted": true,
        "id": "eiqjXrHaww_6",
        "outputId": "0913e89c-448a-4d39-bc60-fcd7402672b7",
        "colab": {
          "base_uri": "https://localhost:8080/"
        }
      },
      "execution_count": 119,
      "outputs": [
        {
          "output_type": "stream",
          "name": "stdout",
          "text": [
            "\u001b[93m Recommend Books similar to Me Talk Pretty One Day:\n",
            "\u001b[00m\n",
            "\u001b[92m Lucky : A Memoir\u001b[00m\n",
            "Rating->\u001b[91m 8.2\u001b[00m\n",
            "\u001b[92m The Pilot's Wife : A Novel\u001b[00m\n",
            "Rating->\u001b[91m 7.5\u001b[00m\n",
            "\u001b[92m The Last Time They Met : A Novel\u001b[00m\n",
            "Rating->\u001b[91m 6.86\u001b[00m\n",
            "\u001b[92m White Oleander : A Novel (Oprah's Book Club)\u001b[00m\n",
            "Rating->\u001b[91m 7.85\u001b[00m\n",
            "\u001b[92m Wish You Well\u001b[00m\n",
            "Rating->\u001b[91m 7.92\u001b[00m\n"
          ]
        }
      ]
    },
    {
      "cell_type": "code",
      "source": [
        "content_based(\"The Da Vinci Code\")"
      ],
      "metadata": {
        "execution": {
          "iopub.status.busy": "2023-04-26T00:05:07.154670Z",
          "iopub.execute_input": "2023-04-26T00:05:07.155050Z",
          "iopub.status.idle": "2023-04-26T00:05:08.026931Z",
          "shell.execute_reply.started": "2023-04-26T00:05:07.155003Z",
          "shell.execute_reply": "2023-04-26T00:05:08.025472Z"
        },
        "trusted": true,
        "id": "8Fd-Xvxiww_6",
        "outputId": "d1a67619-c040-4638-88fa-a116925ca8fa",
        "colab": {
          "base_uri": "https://localhost:8080/"
        }
      },
      "execution_count": 120,
      "outputs": [
        {
          "output_type": "stream",
          "name": "stdout",
          "text": [
            "\u001b[93m Recommend Books similar to The Da Vinci Code:\n",
            "\u001b[00m\n",
            "\u001b[92m The Catcher in the Rye\u001b[00m\n",
            "Rating->\u001b[91m 7.7\u001b[00m\n",
            "\u001b[92m The Brethren\u001b[00m\n",
            "Rating->\u001b[91m 7.44\u001b[00m\n",
            "\u001b[92m Deception Point\u001b[00m\n",
            "Rating->\u001b[91m 7.68\u001b[00m\n",
            "\u001b[92m The Firm\u001b[00m\n",
            "Rating->\u001b[91m 7.83\u001b[00m\n",
            "\u001b[92m The Client\u001b[00m\n",
            "Rating->\u001b[91m 7.88\u001b[00m\n"
          ]
        }
      ]
    },
    {
      "cell_type": "code",
      "source": [
        "content_based(\"Clara Callan\")"
      ],
      "metadata": {
        "execution": {
          "iopub.status.busy": "2023-04-26T00:05:08.028916Z",
          "iopub.execute_input": "2023-04-26T00:05:08.029394Z",
          "iopub.status.idle": "2023-04-26T00:05:08.560972Z",
          "shell.execute_reply.started": "2023-04-26T00:05:08.029346Z",
          "shell.execute_reply": "2023-04-26T00:05:08.559620Z"
        },
        "trusted": true,
        "id": "iN1c2Mt2ww_6",
        "outputId": "9e1f573e-67e4-4d91-9393-6eec965b40c4",
        "colab": {
          "base_uri": "https://localhost:8080/"
        }
      },
      "execution_count": 121,
      "outputs": [
        {
          "output_type": "stream",
          "name": "stdout",
          "text": [
            "\u001b[93m A rare book, so u may try our popular books: \n",
            " \u001b[00m\n",
            "\u001b[92m Harry Potter and the Prisoner of Azkaban (Book 3)\u001b[00m\n",
            "Rating->\u001b[91m 9.0\u001b[00m\n",
            "--------------------------------------------------\n",
            "\u001b[92m Harry Potter and the Sorcerer's Stone (Harry Potter (Paperback))\u001b[00m\n",
            "Rating->\u001b[91m 8.9\u001b[00m\n",
            "--------------------------------------------------\n",
            "\u001b[92m Harry Potter and the Chamber of Secrets (Book 2)\u001b[00m\n",
            "Rating->\u001b[91m 8.8\u001b[00m\n",
            "--------------------------------------------------\n",
            "\u001b[92m The Secret Life of Bees\u001b[00m\n",
            "Rating->\u001b[91m 8.5\u001b[00m\n",
            "--------------------------------------------------\n",
            "\u001b[92m The Da Vinci Code\u001b[00m\n",
            "Rating->\u001b[91m 8.4\u001b[00m\n",
            "--------------------------------------------------\n",
            "\u001b[92m The Lovely Bones: A Novel\u001b[00m\n",
            "Rating->\u001b[91m 8.2\u001b[00m\n",
            "--------------------------------------------------\n",
            "\u001b[92m The Red Tent (Bestselling Backlist)\u001b[00m\n",
            "Rating->\u001b[91m 8.2\u001b[00m\n",
            "--------------------------------------------------\n",
            "\u001b[92m Where the Heart Is (Oprah's Book Club (Paperback))\u001b[00m\n",
            "Rating->\u001b[91m 8.1\u001b[00m\n",
            "--------------------------------------------------\n",
            "\u001b[92m Life of Pi\u001b[00m\n",
            "Rating->\u001b[91m 8.1\u001b[00m\n",
            "--------------------------------------------------\n",
            "\u001b[92m Angels &amp; Demons\u001b[00m\n",
            "Rating->\u001b[91m 8.0\u001b[00m\n",
            "--------------------------------------------------\n"
          ]
        }
      ]
    },
    {
      "cell_type": "code",
      "source": [
        "books[books['Book-Title'] == 'Wild Animus']"
      ],
      "metadata": {
        "execution": {
          "iopub.status.busy": "2023-04-26T00:05:09.062956Z",
          "iopub.execute_input": "2023-04-26T00:05:09.063436Z",
          "iopub.status.idle": "2023-04-26T00:05:09.101982Z",
          "shell.execute_reply.started": "2023-04-26T00:05:09.063384Z",
          "shell.execute_reply": "2023-04-26T00:05:09.099986Z"
        },
        "trusted": true,
        "id": "UQrtKBp1ww_7",
        "outputId": "f9e4e913-6294-4b66-b40b-9ef95ccf7801",
        "colab": {
          "base_uri": "https://localhost:8080/",
          "height": 0
        }
      },
      "execution_count": 122,
      "outputs": [
        {
          "output_type": "execute_result",
          "data": {
            "text/plain": [
              "          ISBN   Book-Title   Book-Author  Year-Of-Publication Publisher  \\\n",
              "26  0971880107  Wild Animus  Rich Shapero                 2004   Too Far   \n",
              "\n",
              "                                          Image-URL-S  \\\n",
              "26  http://images.amazon.com/images/P/0971880107.0...   \n",
              "\n",
              "                                          Image-URL-M  \\\n",
              "26  http://images.amazon.com/images/P/0971880107.0...   \n",
              "\n",
              "                                          Image-URL-L  \n",
              "26  http://images.amazon.com/images/P/0971880107.0...  "
            ],
            "text/html": [
              "\n",
              "  <div id=\"df-f588ebae-ba45-470c-b728-deeb4b4025c3\">\n",
              "    <div class=\"colab-df-container\">\n",
              "      <div>\n",
              "<style scoped>\n",
              "    .dataframe tbody tr th:only-of-type {\n",
              "        vertical-align: middle;\n",
              "    }\n",
              "\n",
              "    .dataframe tbody tr th {\n",
              "        vertical-align: top;\n",
              "    }\n",
              "\n",
              "    .dataframe thead th {\n",
              "        text-align: right;\n",
              "    }\n",
              "</style>\n",
              "<table border=\"1\" class=\"dataframe\">\n",
              "  <thead>\n",
              "    <tr style=\"text-align: right;\">\n",
              "      <th></th>\n",
              "      <th>ISBN</th>\n",
              "      <th>Book-Title</th>\n",
              "      <th>Book-Author</th>\n",
              "      <th>Year-Of-Publication</th>\n",
              "      <th>Publisher</th>\n",
              "      <th>Image-URL-S</th>\n",
              "      <th>Image-URL-M</th>\n",
              "      <th>Image-URL-L</th>\n",
              "    </tr>\n",
              "  </thead>\n",
              "  <tbody>\n",
              "    <tr>\n",
              "      <th>26</th>\n",
              "      <td>0971880107</td>\n",
              "      <td>Wild Animus</td>\n",
              "      <td>Rich Shapero</td>\n",
              "      <td>2004</td>\n",
              "      <td>Too Far</td>\n",
              "      <td>http://images.amazon.com/images/P/0971880107.0...</td>\n",
              "      <td>http://images.amazon.com/images/P/0971880107.0...</td>\n",
              "      <td>http://images.amazon.com/images/P/0971880107.0...</td>\n",
              "    </tr>\n",
              "  </tbody>\n",
              "</table>\n",
              "</div>\n",
              "      <button class=\"colab-df-convert\" onclick=\"convertToInteractive('df-f588ebae-ba45-470c-b728-deeb4b4025c3')\"\n",
              "              title=\"Convert this dataframe to an interactive table.\"\n",
              "              style=\"display:none;\">\n",
              "        \n",
              "  <svg xmlns=\"http://www.w3.org/2000/svg\" height=\"24px\"viewBox=\"0 0 24 24\"\n",
              "       width=\"24px\">\n",
              "    <path d=\"M0 0h24v24H0V0z\" fill=\"none\"/>\n",
              "    <path d=\"M18.56 5.44l.94 2.06.94-2.06 2.06-.94-2.06-.94-.94-2.06-.94 2.06-2.06.94zm-11 1L8.5 8.5l.94-2.06 2.06-.94-2.06-.94L8.5 2.5l-.94 2.06-2.06.94zm10 10l.94 2.06.94-2.06 2.06-.94-2.06-.94-.94-2.06-.94 2.06-2.06.94z\"/><path d=\"M17.41 7.96l-1.37-1.37c-.4-.4-.92-.59-1.43-.59-.52 0-1.04.2-1.43.59L10.3 9.45l-7.72 7.72c-.78.78-.78 2.05 0 2.83L4 21.41c.39.39.9.59 1.41.59.51 0 1.02-.2 1.41-.59l7.78-7.78 2.81-2.81c.8-.78.8-2.07 0-2.86zM5.41 20L4 18.59l7.72-7.72 1.47 1.35L5.41 20z\"/>\n",
              "  </svg>\n",
              "      </button>\n",
              "      \n",
              "  <style>\n",
              "    .colab-df-container {\n",
              "      display:flex;\n",
              "      flex-wrap:wrap;\n",
              "      gap: 12px;\n",
              "    }\n",
              "\n",
              "    .colab-df-convert {\n",
              "      background-color: #E8F0FE;\n",
              "      border: none;\n",
              "      border-radius: 50%;\n",
              "      cursor: pointer;\n",
              "      display: none;\n",
              "      fill: #1967D2;\n",
              "      height: 32px;\n",
              "      padding: 0 0 0 0;\n",
              "      width: 32px;\n",
              "    }\n",
              "\n",
              "    .colab-df-convert:hover {\n",
              "      background-color: #E2EBFA;\n",
              "      box-shadow: 0px 1px 2px rgba(60, 64, 67, 0.3), 0px 1px 3px 1px rgba(60, 64, 67, 0.15);\n",
              "      fill: #174EA6;\n",
              "    }\n",
              "\n",
              "    [theme=dark] .colab-df-convert {\n",
              "      background-color: #3B4455;\n",
              "      fill: #D2E3FC;\n",
              "    }\n",
              "\n",
              "    [theme=dark] .colab-df-convert:hover {\n",
              "      background-color: #434B5C;\n",
              "      box-shadow: 0px 1px 3px 1px rgba(0, 0, 0, 0.15);\n",
              "      filter: drop-shadow(0px 1px 2px rgba(0, 0, 0, 0.3));\n",
              "      fill: #FFFFFF;\n",
              "    }\n",
              "  </style>\n",
              "\n",
              "      <script>\n",
              "        const buttonEl =\n",
              "          document.querySelector('#df-f588ebae-ba45-470c-b728-deeb4b4025c3 button.colab-df-convert');\n",
              "        buttonEl.style.display =\n",
              "          google.colab.kernel.accessAllowed ? 'block' : 'none';\n",
              "\n",
              "        async function convertToInteractive(key) {\n",
              "          const element = document.querySelector('#df-f588ebae-ba45-470c-b728-deeb4b4025c3');\n",
              "          const dataTable =\n",
              "            await google.colab.kernel.invokeFunction('convertToInteractive',\n",
              "                                                     [key], {});\n",
              "          if (!dataTable) return;\n",
              "\n",
              "          const docLinkHtml = 'Like what you see? Visit the ' +\n",
              "            '<a target=\"_blank\" href=https://colab.research.google.com/notebooks/data_table.ipynb>data table notebook</a>'\n",
              "            + ' to learn more about interactive tables.';\n",
              "          element.innerHTML = '';\n",
              "          dataTable['output_type'] = 'display_data';\n",
              "          await google.colab.output.renderOutput(dataTable, element);\n",
              "          const docLink = document.createElement('div');\n",
              "          docLink.innerHTML = docLinkHtml;\n",
              "          element.appendChild(docLink);\n",
              "        }\n",
              "      </script>\n",
              "    </div>\n",
              "  </div>\n",
              "  "
            ]
          },
          "metadata": {},
          "execution_count": 122
        }
      ]
    },
    {
      "cell_type": "code",
      "source": [
        "content_based('The Lovely Bones: A Novel')"
      ],
      "metadata": {
        "execution": {
          "iopub.status.busy": "2023-04-26T00:05:09.104095Z",
          "iopub.execute_input": "2023-04-26T00:05:09.104738Z",
          "iopub.status.idle": "2023-04-26T00:05:09.990810Z",
          "shell.execute_reply.started": "2023-04-26T00:05:09.104678Z",
          "shell.execute_reply": "2023-04-26T00:05:09.989582Z"
        },
        "trusted": true,
        "id": "5LFAJcU2ww_7",
        "outputId": "fe1f213a-5fa0-46f5-f21a-14ae20a9dcd0",
        "colab": {
          "base_uri": "https://localhost:8080/"
        }
      },
      "execution_count": 123,
      "outputs": [
        {
          "output_type": "stream",
          "name": "stdout",
          "text": [
            "\u001b[93m Recommend Books similar to The Lovely Bones: A Novel:\n",
            "\u001b[00m\n",
            "\u001b[92m The Catcher in the Rye\u001b[00m\n",
            "Rating->\u001b[91m 7.7\u001b[00m\n",
            "\u001b[92m White Oleander : A Novel\u001b[00m\n",
            "Rating->\u001b[91m 7.67\u001b[00m\n",
            "\u001b[92m Balzac and the Little Chinese Seamstress : A Novel\u001b[00m\n",
            "Rating->\u001b[91m 8.03\u001b[00m\n",
            "\u001b[92m 2nd Chance\u001b[00m\n",
            "Rating->\u001b[91m 7.76\u001b[00m\n",
            "\u001b[92m The Hours : A Novel\u001b[00m\n",
            "Rating->\u001b[91m 7.59\u001b[00m\n"
          ]
        }
      ]
    }
  ]
}